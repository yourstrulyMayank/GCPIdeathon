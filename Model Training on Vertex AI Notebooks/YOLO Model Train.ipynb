{
 "cells": [
  {
   "cell_type": "code",
   "execution_count": 1,
   "id": "3c1eb021-802f-4a34-bb26-429b227165fa",
   "metadata": {},
   "outputs": [
    {
     "name": "stdout",
     "output_type": "stream",
     "text": [
      "Requirement already satisfied: ultralytics in /opt/conda/lib/python3.10/site-packages (8.0.136)\n",
      "Requirement already satisfied: matplotlib>=3.2.2 in /opt/conda/lib/python3.10/site-packages (from ultralytics) (3.7.1)\n",
      "Requirement already satisfied: opencv-python>=4.6.0 in /opt/conda/lib/python3.10/site-packages (from ultralytics) (4.8.0.74)\n",
      "Requirement already satisfied: Pillow>=7.1.2 in /opt/conda/lib/python3.10/site-packages (from ultralytics) (9.5.0)\n",
      "Requirement already satisfied: PyYAML>=5.3.1 in /opt/conda/lib/python3.10/site-packages (from ultralytics) (6.0)\n",
      "Requirement already satisfied: requests>=2.23.0 in /opt/conda/lib/python3.10/site-packages (from ultralytics) (2.31.0)\n",
      "Requirement already satisfied: scipy>=1.4.1 in /opt/conda/lib/python3.10/site-packages (from ultralytics) (1.10.1)\n",
      "Requirement already satisfied: torch>=1.7.0 in /opt/conda/lib/python3.10/site-packages (from ultralytics) (2.0.1)\n",
      "Requirement already satisfied: torchvision>=0.8.1 in /opt/conda/lib/python3.10/site-packages (from ultralytics) (0.15.2)\n",
      "Requirement already satisfied: tqdm>=4.64.0 in /opt/conda/lib/python3.10/site-packages (from ultralytics) (4.65.0)\n",
      "Requirement already satisfied: pandas>=1.1.4 in /opt/conda/lib/python3.10/site-packages (from ultralytics) (1.5.3)\n",
      "Requirement already satisfied: seaborn>=0.11.0 in /opt/conda/lib/python3.10/site-packages (from ultralytics) (0.12.2)\n",
      "Requirement already satisfied: psutil in /opt/conda/lib/python3.10/site-packages (from ultralytics) (5.9.3)\n",
      "Requirement already satisfied: contourpy>=1.0.1 in /opt/conda/lib/python3.10/site-packages (from matplotlib>=3.2.2->ultralytics) (1.1.0)\n",
      "Requirement already satisfied: cycler>=0.10 in /opt/conda/lib/python3.10/site-packages (from matplotlib>=3.2.2->ultralytics) (0.11.0)\n",
      "Requirement already satisfied: fonttools>=4.22.0 in /opt/conda/lib/python3.10/site-packages (from matplotlib>=3.2.2->ultralytics) (4.40.0)\n",
      "Requirement already satisfied: kiwisolver>=1.0.1 in /opt/conda/lib/python3.10/site-packages (from matplotlib>=3.2.2->ultralytics) (1.4.4)\n",
      "Requirement already satisfied: numpy>=1.20 in /opt/conda/lib/python3.10/site-packages (from matplotlib>=3.2.2->ultralytics) (1.23.5)\n",
      "Requirement already satisfied: packaging>=20.0 in /opt/conda/lib/python3.10/site-packages (from matplotlib>=3.2.2->ultralytics) (23.1)\n",
      "Requirement already satisfied: pyparsing>=2.3.1 in /opt/conda/lib/python3.10/site-packages (from matplotlib>=3.2.2->ultralytics) (3.0.9)\n",
      "Requirement already satisfied: python-dateutil>=2.7 in /opt/conda/lib/python3.10/site-packages (from matplotlib>=3.2.2->ultralytics) (2.8.2)\n",
      "Requirement already satisfied: pytz>=2020.1 in /opt/conda/lib/python3.10/site-packages (from pandas>=1.1.4->ultralytics) (2023.3)\n",
      "Requirement already satisfied: charset-normalizer<4,>=2 in /opt/conda/lib/python3.10/site-packages (from requests>=2.23.0->ultralytics) (3.1.0)\n",
      "Requirement already satisfied: idna<4,>=2.5 in /opt/conda/lib/python3.10/site-packages (from requests>=2.23.0->ultralytics) (3.4)\n",
      "Requirement already satisfied: urllib3<3,>=1.21.1 in /opt/conda/lib/python3.10/site-packages (from requests>=2.23.0->ultralytics) (1.26.15)\n",
      "Requirement already satisfied: certifi>=2017.4.17 in /opt/conda/lib/python3.10/site-packages (from requests>=2.23.0->ultralytics) (2023.5.7)\n",
      "Requirement already satisfied: filelock in /opt/conda/lib/python3.10/site-packages (from torch>=1.7.0->ultralytics) (3.12.2)\n",
      "Requirement already satisfied: typing-extensions in /opt/conda/lib/python3.10/site-packages (from torch>=1.7.0->ultralytics) (4.6.3)\n",
      "Requirement already satisfied: sympy in /opt/conda/lib/python3.10/site-packages (from torch>=1.7.0->ultralytics) (1.12)\n",
      "Requirement already satisfied: networkx in /opt/conda/lib/python3.10/site-packages (from torch>=1.7.0->ultralytics) (3.1)\n",
      "Requirement already satisfied: jinja2 in /opt/conda/lib/python3.10/site-packages (from torch>=1.7.0->ultralytics) (3.1.2)\n",
      "Requirement already satisfied: nvidia-cuda-nvrtc-cu11==11.7.99 in /opt/conda/lib/python3.10/site-packages (from torch>=1.7.0->ultralytics) (11.7.99)\n",
      "Requirement already satisfied: nvidia-cuda-runtime-cu11==11.7.99 in /opt/conda/lib/python3.10/site-packages (from torch>=1.7.0->ultralytics) (11.7.99)\n",
      "Requirement already satisfied: nvidia-cuda-cupti-cu11==11.7.101 in /opt/conda/lib/python3.10/site-packages (from torch>=1.7.0->ultralytics) (11.7.101)\n",
      "Requirement already satisfied: nvidia-cudnn-cu11==8.5.0.96 in /opt/conda/lib/python3.10/site-packages (from torch>=1.7.0->ultralytics) (8.5.0.96)\n",
      "Requirement already satisfied: nvidia-cublas-cu11==11.10.3.66 in /opt/conda/lib/python3.10/site-packages (from torch>=1.7.0->ultralytics) (11.10.3.66)\n",
      "Requirement already satisfied: nvidia-cufft-cu11==10.9.0.58 in /opt/conda/lib/python3.10/site-packages (from torch>=1.7.0->ultralytics) (10.9.0.58)\n",
      "Requirement already satisfied: nvidia-curand-cu11==10.2.10.91 in /opt/conda/lib/python3.10/site-packages (from torch>=1.7.0->ultralytics) (10.2.10.91)\n",
      "Requirement already satisfied: nvidia-cusolver-cu11==11.4.0.1 in /opt/conda/lib/python3.10/site-packages (from torch>=1.7.0->ultralytics) (11.4.0.1)\n",
      "Requirement already satisfied: nvidia-cusparse-cu11==11.7.4.91 in /opt/conda/lib/python3.10/site-packages (from torch>=1.7.0->ultralytics) (11.7.4.91)\n",
      "Requirement already satisfied: nvidia-nccl-cu11==2.14.3 in /opt/conda/lib/python3.10/site-packages (from torch>=1.7.0->ultralytics) (2.14.3)\n",
      "Requirement already satisfied: nvidia-nvtx-cu11==11.7.91 in /opt/conda/lib/python3.10/site-packages (from torch>=1.7.0->ultralytics) (11.7.91)\n",
      "Requirement already satisfied: triton==2.0.0 in /opt/conda/lib/python3.10/site-packages (from torch>=1.7.0->ultralytics) (2.0.0)\n",
      "Requirement already satisfied: setuptools in /opt/conda/lib/python3.10/site-packages (from nvidia-cublas-cu11==11.10.3.66->torch>=1.7.0->ultralytics) (67.7.2)\n",
      "Requirement already satisfied: wheel in /opt/conda/lib/python3.10/site-packages (from nvidia-cublas-cu11==11.10.3.66->torch>=1.7.0->ultralytics) (0.40.0)\n",
      "Requirement already satisfied: cmake in /opt/conda/lib/python3.10/site-packages (from triton==2.0.0->torch>=1.7.0->ultralytics) (3.26.4)\n",
      "Requirement already satisfied: lit in /opt/conda/lib/python3.10/site-packages (from triton==2.0.0->torch>=1.7.0->ultralytics) (16.0.6)\n",
      "Requirement already satisfied: six>=1.5 in /opt/conda/lib/python3.10/site-packages (from python-dateutil>=2.7->matplotlib>=3.2.2->ultralytics) (1.16.0)\n",
      "Requirement already satisfied: MarkupSafe>=2.0 in /opt/conda/lib/python3.10/site-packages (from jinja2->torch>=1.7.0->ultralytics) (2.0.1)\n",
      "Requirement already satisfied: mpmath>=0.19 in /opt/conda/lib/python3.10/site-packages (from sympy->torch>=1.7.0->ultralytics) (1.3.0)\n"
     ]
    }
   ],
   "source": [
    "!pip install -U ultralytics"
   ]
  },
  {
   "cell_type": "code",
   "execution_count": 2,
   "id": "34dd1850-87c6-4010-ae1d-acf520d63f3a",
   "metadata": {},
   "outputs": [
    {
     "name": "stdout",
     "output_type": "stream",
     "text": [
      "Sun Jul 16 18:24:13 2023       \n",
      "+-----------------------------------------------------------------------------+\n",
      "| NVIDIA-SMI 510.47.03    Driver Version: 510.47.03    CUDA Version: 11.6     |\n",
      "|-------------------------------+----------------------+----------------------+\n",
      "| GPU  Name        Persistence-M| Bus-Id        Disp.A | Volatile Uncorr. ECC |\n",
      "| Fan  Temp  Perf  Pwr:Usage/Cap|         Memory-Usage | GPU-Util  Compute M. |\n",
      "|                               |                      |               MIG M. |\n",
      "|===============================+======================+======================|\n",
      "|   0  Tesla V100-SXM2...  Off  | 00000000:00:04.0 Off |                    0 |\n",
      "| N/A   38C    P0    51W / 300W |      0MiB / 16384MiB |      0%      Default |\n",
      "|                               |                      |                  N/A |\n",
      "+-------------------------------+----------------------+----------------------+\n",
      "|   1  Tesla V100-SXM2...  Off  | 00000000:00:05.0 Off |                    0 |\n",
      "| N/A   41C    P0    48W / 300W |      0MiB / 16384MiB |      2%      Default |\n",
      "|                               |                      |                  N/A |\n",
      "+-------------------------------+----------------------+----------------------+\n",
      "                                                                               \n",
      "+-----------------------------------------------------------------------------+\n",
      "| Processes:                                                                  |\n",
      "|  GPU   GI   CI        PID   Type   Process name                  GPU Memory |\n",
      "|        ID   ID                                                   Usage      |\n",
      "|=============================================================================|\n",
      "|  No running processes found                                                 |\n",
      "+-----------------------------------------------------------------------------+\n"
     ]
    }
   ],
   "source": [
    "!nvidia-smi"
   ]
  },
  {
   "cell_type": "code",
   "execution_count": 1,
   "id": "691a1680-2473-4f11-8978-2f36fcbaa9e2",
   "metadata": {},
   "outputs": [
    {
     "data": {
      "text/plain": [
       "[]"
      ]
     },
     "execution_count": 1,
     "metadata": {},
     "output_type": "execute_result"
    }
   ],
   "source": [
    "from ultralytics import YOLO\n",
    "import locale\n",
    "locale.getpreferredencoding = lambda: \"UTF-8\"\n",
    "import tensorflow as tf\n",
    "#Avoid OOM errors by setting GPU Memory Consumption Growth\n",
    "gpus = tf.config.experimental.list_physical_devices('GPU')\n",
    "gpus\n",
    "# for gpu in gpus:\n",
    "#     tf.config.experimental.set_memory_growth(gpu, True)\n",
    "# tf.config.list_physical_devices('GPU')"
   ]
  },
  {
   "cell_type": "code",
   "execution_count": 3,
   "id": "a6968ee9-e771-4442-aef8-28cb8880d093",
   "metadata": {},
   "outputs": [],
   "source": [
    "model = YOLO(\"yolov8x.pt\")"
   ]
  },
  {
   "cell_type": "code",
   "execution_count": 4,
   "id": "3a5b9009-462e-4c7e-8d6a-446ac8438e12",
   "metadata": {},
   "outputs": [],
   "source": [
    "from google.cloud import storage\n",
    "import os"
   ]
  },
  {
   "cell_type": "code",
   "execution_count": 5,
   "id": "76fd9df6-b7b4-456b-960e-aa3debb85c28",
   "metadata": {},
   "outputs": [],
   "source": [
    "storage_client = storage.Client(project='gcds-oht33765u9-2023')"
   ]
  },
  {
   "cell_type": "code",
   "execution_count": 10,
   "id": "101147a3-e131-4cc3-b0b5-b0e6daf05992",
   "metadata": {
    "collapsed": true,
    "jupyter": {
     "outputs_hidden": true
    },
    "tags": []
   },
   "outputs": [
    {
     "ename": "FileNotFoundError",
     "evalue": "[Errno 2] No such file or directory: 'tmp'",
     "output_type": "error",
     "traceback": [
      "\u001b[0;31m---------------------------------------------------------------------------\u001b[0m",
      "\u001b[0;31mFileNotFoundError\u001b[0m                         Traceback (most recent call last)",
      "Cell \u001b[0;32mIn[10], line 2\u001b[0m\n\u001b[1;32m      1\u001b[0m \u001b[38;5;28;01mimport\u001b[39;00m \u001b[38;5;21;01mshutil\u001b[39;00m\n\u001b[0;32m----> 2\u001b[0m \u001b[43mshutil\u001b[49m\u001b[38;5;241;43m.\u001b[39;49m\u001b[43mrmtree\u001b[49m\u001b[43m(\u001b[49m\u001b[38;5;124;43m'\u001b[39;49m\u001b[38;5;124;43mtmp\u001b[39;49m\u001b[38;5;124;43m'\u001b[39;49m\u001b[43m)\u001b[49m\n",
      "File \u001b[0;32m/opt/conda/lib/python3.10/shutil.py:715\u001b[0m, in \u001b[0;36mrmtree\u001b[0;34m(path, ignore_errors, onerror)\u001b[0m\n\u001b[1;32m    713\u001b[0m     orig_st \u001b[38;5;241m=\u001b[39m os\u001b[38;5;241m.\u001b[39mlstat(path)\n\u001b[1;32m    714\u001b[0m \u001b[38;5;28;01mexcept\u001b[39;00m \u001b[38;5;167;01mException\u001b[39;00m:\n\u001b[0;32m--> 715\u001b[0m     \u001b[43monerror\u001b[49m\u001b[43m(\u001b[49m\u001b[43mos\u001b[49m\u001b[38;5;241;43m.\u001b[39;49m\u001b[43mlstat\u001b[49m\u001b[43m,\u001b[49m\u001b[43m \u001b[49m\u001b[43mpath\u001b[49m\u001b[43m,\u001b[49m\u001b[43m \u001b[49m\u001b[43msys\u001b[49m\u001b[38;5;241;43m.\u001b[39;49m\u001b[43mexc_info\u001b[49m\u001b[43m(\u001b[49m\u001b[43m)\u001b[49m\u001b[43m)\u001b[49m\n\u001b[1;32m    716\u001b[0m     \u001b[38;5;28;01mreturn\u001b[39;00m\n\u001b[1;32m    717\u001b[0m \u001b[38;5;28;01mtry\u001b[39;00m:\n",
      "File \u001b[0;32m/opt/conda/lib/python3.10/shutil.py:713\u001b[0m, in \u001b[0;36mrmtree\u001b[0;34m(path, ignore_errors, onerror)\u001b[0m\n\u001b[1;32m    710\u001b[0m \u001b[38;5;66;03m# Note: To guard against symlink races, we use the standard\u001b[39;00m\n\u001b[1;32m    711\u001b[0m \u001b[38;5;66;03m# lstat()/open()/fstat() trick.\u001b[39;00m\n\u001b[1;32m    712\u001b[0m \u001b[38;5;28;01mtry\u001b[39;00m:\n\u001b[0;32m--> 713\u001b[0m     orig_st \u001b[38;5;241m=\u001b[39m \u001b[43mos\u001b[49m\u001b[38;5;241;43m.\u001b[39;49m\u001b[43mlstat\u001b[49m\u001b[43m(\u001b[49m\u001b[43mpath\u001b[49m\u001b[43m)\u001b[49m\n\u001b[1;32m    714\u001b[0m \u001b[38;5;28;01mexcept\u001b[39;00m \u001b[38;5;167;01mException\u001b[39;00m:\n\u001b[1;32m    715\u001b[0m     onerror(os\u001b[38;5;241m.\u001b[39mlstat, path, sys\u001b[38;5;241m.\u001b[39mexc_info())\n",
      "\u001b[0;31mFileNotFoundError\u001b[0m: [Errno 2] No such file or directory: 'tmp'"
     ]
    }
   ],
   "source": [
    "import shutil\n",
    "shutil.rmtree('tmp')"
   ]
  },
  {
   "cell_type": "code",
   "execution_count": 11,
   "id": "c5a5a22c-568b-44a1-a4c9-8914f55a9f56",
   "metadata": {},
   "outputs": [
    {
     "name": "stdout",
     "output_type": "stream",
     "text": [
      "/home/jupyter\n"
     ]
    }
   ],
   "source": [
    "!pwd"
   ]
  },
  {
   "cell_type": "code",
   "execution_count": 13,
   "id": "2a674dde-6f3e-489a-971c-38214c5ac478",
   "metadata": {
    "collapsed": true,
    "jupyter": {
     "outputs_hidden": true
    },
    "tags": []
   },
   "outputs": [
    {
     "name": "stdout",
     "output_type": "stream",
     "text": [
      "Copied model/bestn.pt to /tmp/model/bestn.pt\n",
      "Copied model/dataset_0/dataset.yaml to /tmp/model/dataset_0/dataset.yaml\n",
      "Copied model/dataset_0/images/train/-tailed-macaque-macaca-nemestrina-in-nature-of-tropical-forest-in-1817885570.png to /tmp/model/dataset_0/images/train/-tailed-macaque-macaca-nemestrina-in-nature-of-tropical-forest-in-1817885570.png\n",
      "Copied model/dataset_0/images/train/00000161-7af0-d279-ad6f-fffd5baf0000_4x3.png to /tmp/model/dataset_0/images/train/00000161-7af0-d279-ad6f-fffd5baf0000_4x3.png\n",
      "Copied model/dataset_0/images/train/01468685.png to /tmp/model/dataset_0/images/train/01468685.png\n",
      "Copied model/dataset_0/images/train/01508980.png to /tmp/model/dataset_0/images/train/01508980.png\n",
      "Copied model/dataset_0/images/train/0729_JRPool_Cats_Tiger1.png to /tmp/model/dataset_0/images/train/0729_JRPool_Cats_Tiger1.png\n",
      "Copied model/dataset_0/images/train/1.png to /tmp/model/dataset_0/images/train/1.png\n",
      "Copied model/dataset_0/images/train/1004_rhino_hornbill_web.png to /tmp/model/dataset_0/images/train/1004_rhino_hornbill_web.png\n",
      "Copied model/dataset_0/images/train/1036945.png to /tmp/model/dataset_0/images/train/1036945.png\n",
      "Copied model/dataset_0/images/train/10_rhinohornbill1.png to /tmp/model/dataset_0/images/train/10_rhinohornbill1.png\n",
      "Copied model/dataset_0/images/train/1280px-Northern_Pig-tailed_Macaques_28Macaca_leonina29_28785773436829.png to /tmp/model/dataset_0/images/train/1280px-Northern_Pig-tailed_Macaques_28Macaca_leonina29_28785773436829.png\n",
      "Copied model/dataset_0/images/train/155474-awpinxxhru-1614346011.png to /tmp/model/dataset_0/images/train/155474-awpinxxhru-1614346011.png\n",
      "Copied model/dataset_0/images/train/18154664.png to /tmp/model/dataset_0/images/train/18154664.png\n",
      "Copied model/dataset_0/images/train/18831.png to /tmp/model/dataset_0/images/train/18831.png\n",
      "Copied model/dataset_0/images/train/20080213-tiger-sumatra-1800.-767w.png to /tmp/model/dataset_0/images/train/20080213-tiger-sumatra-1800.-767w.png\n",
      "Copied model/dataset_0/images/train/2020_07_25_100945_1595646234._large.png to /tmp/model/dataset_0/images/train/2020_07_25_100945_1595646234._large.png\n",
      "Copied model/dataset_0/images/train/20540022-1.png to /tmp/model/dataset_0/images/train/20540022-1.png\n",
      "Copied model/dataset_0/images/train/2120558.png to /tmp/model/dataset_0/images/train/2120558.png\n",
      "Copied model/dataset_0/images/train/221201125814-01-sumatran-tiger.png to /tmp/model/dataset_0/images/train/221201125814-01-sumatran-tiger.png\n",
      "Copied model/dataset_0/images/train/230426220318-elephant-habitat-loss-asia-072021.png to /tmp/model/dataset_0/images/train/230426220318-elephant-habitat-loss-asia-072021.png\n",
      "Copied model/dataset_0/images/train/235.png to /tmp/model/dataset_0/images/train/235.png\n",
      "Copied model/dataset_0/images/train/240px-Cercopithecidae_-_Macaca_nemastrina.png to /tmp/model/dataset_0/images/train/240px-Cercopithecidae_-_Macaca_nemastrina.png\n",
      "Copied model/dataset_0/images/train/25kypxjpoj_Wild_Asian_Elephants_on_Path_WW1395.png to /tmp/model/dataset_0/images/train/25kypxjpoj_Wild_Asian_Elephants_on_Path_WW1395.png\n",
      "Copied model/dataset_0/images/train/2PUFewaDgu38Byuz2ZZCw3-1200-80.png to /tmp/model/dataset_0/images/train/2PUFewaDgu38Byuz2ZZCw3-1200-80.png\n",
      "Copied model/dataset_0/images/train/2e549f64-6a62-488c-8c6e-8ceba3684f7f-Asian_Elephant_Twins_kc003.JPG.png to /tmp/model/dataset_0/images/train/2e549f64-6a62-488c-8c6e-8ceba3684f7f-Asian_Elephant_Twins_kc003.JPG.png\n",
      "Copied model/dataset_0/images/train/2sbfxiugfk_BORNEO_Christy_Williams_WWF_113471.png to /tmp/model/dataset_0/images/train/2sbfxiugfk_BORNEO_Christy_Williams_WWF_113471.png\n",
      "Copied model/dataset_0/images/train/2tlod51659_Sumatran_Tiger_Hero.png to /tmp/model/dataset_0/images/train/2tlod51659_Sumatran_Tiger_Hero.png\n",
      "Copied model/dataset_0/images/train/325df792b1c0d11abe4b1b5a4f2c83e7.png to /tmp/model/dataset_0/images/train/325df792b1c0d11abe4b1b5a4f2c83e7.png\n",
      "Copied model/dataset_0/images/train/3260449ef30e884139aba7ae2e678f0e.png to /tmp/model/dataset_0/images/train/3260449ef30e884139aba7ae2e678f0e.png\n",
      "Copied model/dataset_0/images/train/360_F_435939046_6y5zOqlNPCTc2vOq5cAi9IBehYdGUerQ.png to /tmp/model/dataset_0/images/train/360_F_435939046_6y5zOqlNPCTc2vOq5cAi9IBehYdGUerQ.png\n",
      "Copied model/dataset_0/images/train/3910062_4x3.png to /tmp/model/dataset_0/images/train/3910062_4x3.png\n",
      "Copied model/dataset_0/images/train/3brsv7voo0_Asian_elephant_Kuiburi_Thailand.png to /tmp/model/dataset_0/images/train/3brsv7voo0_Asian_elephant_Kuiburi_Thailand.png\n",
      "Copied model/dataset_0/images/train/41598_2023_30650_Fig1_HTML.png to /tmp/model/dataset_0/images/train/41598_2023_30650_Fig1_HTML.png\n",
      "Copied model/dataset_0/images/train/4c5bfc5b841ab4679aba997856de57ec.png to /tmp/model/dataset_0/images/train/4c5bfc5b841ab4679aba997856de57ec.png\n",
      "Copied model/dataset_0/images/train/4w3v6wg9x1_Medium_WW226367.png to /tmp/model/dataset_0/images/train/4w3v6wg9x1_Medium_WW226367.png\n",
      "Copied model/dataset_0/images/train/50081570097_f3d4e15cfe_b.png to /tmp/model/dataset_0/images/train/50081570097_f3d4e15cfe_b.png\n",
      "Copied model/dataset_0/images/train/51681720629_9c6e072efd_h.png to /tmp/model/dataset_0/images/train/51681720629_9c6e072efd_h.png\n",
      "Copied model/dataset_0/images/train/542.f87a0203676be53aa507fc02b954cd36.png to /tmp/model/dataset_0/images/train/542.f87a0203676be53aa507fc02b954cd36.png\n",
      "Copied model/dataset_0/images/train/5c784d00ddd638e76dbf8cdef84d9bdf2104a598.png to /tmp/model/dataset_0/images/train/5c784d00ddd638e76dbf8cdef84d9bdf2104a598.png\n",
      "Copied model/dataset_0/images/train/5dcb1d67.png to /tmp/model/dataset_0/images/train/5dcb1d67.png\n",
      "Copied model/dataset_0/images/train/60308692_1275691565916150_285907095197319168_o.png to /tmp/model/dataset_0/images/train/60308692_1275691565916150_285907095197319168_o.png\n",
      "Copied model/dataset_0/images/train/6140ddc041e160ce0e83b5ce_sun-bear-inset-1.png to /tmp/model/dataset_0/images/train/6140ddc041e160ce0e83b5ce_sun-bear-inset-1.png\n",
      "Copied model/dataset_0/images/train/63868cijym_3TigerPhoto.png to /tmp/model/dataset_0/images/train/63868cijym_3TigerPhoto.png\n",
      "Copied model/dataset_0/images/train/640px-2014_borneo_luyten-de-hauwere-southern_pig-tailed_macaque8073129672102943022.png to /tmp/model/dataset_0/images/train/640px-2014_borneo_luyten-de-hauwere-southern_pig-tailed_macaque8073129672102943022.png\n",
      "Copied model/dataset_0/images/train/667031214df1425bb4479c562783adfc.png to /tmp/model/dataset_0/images/train/667031214df1425bb4479c562783adfc.png\n",
      "Copied model/dataset_0/images/train/686989.png to /tmp/model/dataset_0/images/train/686989.png\n",
      "Copied model/dataset_0/images/train/71zgklhHlsL.png to /tmp/model/dataset_0/images/train/71zgklhHlsL.png\n",
      "Copied model/dataset_0/images/train/78fp9rt9f7_Julie_Larsen_Maher_4392_African_elephant_in_wild_UGA_06_20_10.png to /tmp/model/dataset_0/images/train/78fp9rt9f7_Julie_Larsen_Maher_4392_African_elephant_in_wild_UGA_06_20_10.png\n",
      "Copied model/dataset_0/images/train/7vJB6gzCdF0aKswBNyvR.png to /tmp/model/dataset_0/images/train/7vJB6gzCdF0aKswBNyvR.png\n",
      "Copied model/dataset_0/images/train/800px-Sun_bear_medan_old_zoo.JPG.png to /tmp/model/dataset_0/images/train/800px-Sun_bear_medan_old_zoo.JPG.png\n",
      "Copied model/dataset_0/images/train/81308982cbffab845b2f8bdf6d8a77c2.png to /tmp/model/dataset_0/images/train/81308982cbffab845b2f8bdf6d8a77c2.png\n",
      "Copied model/dataset_0/images/train/8265623373_bac98ec8a5_b.png to /tmp/model/dataset_0/images/train/8265623373_bac98ec8a5_b.png\n",
      "Copied model/dataset_0/images/train/8294ebf4-243c-11ec-bb55-2fb9e639f35f_1633260957108.png to /tmp/model/dataset_0/images/train/8294ebf4-243c-11ec-bb55-2fb9e639f35f_1633260957108.png\n",
      "Copied model/dataset_0/images/train/841533131384_3.png to /tmp/model/dataset_0/images/train/841533131384_3.png\n",
      "Copied model/dataset_0/images/train/87761859_XS.png to /tmp/model/dataset_0/images/train/87761859_XS.png\n",
      "Copied model/dataset_0/images/train/91820788.png to /tmp/model/dataset_0/images/train/91820788.png\n",
      "Copied model/dataset_0/images/train/9473558_orig.png to /tmp/model/dataset_0/images/train/9473558_orig.png\n",
      "Copied model/dataset_0/images/train/990329-asian-african-elephant.png to /tmp/model/dataset_0/images/train/990329-asian-african-elephant.png\n",
      "Copied model/dataset_0/images/train/99dsjm2iaw_Medium_WW2122503.png to /tmp/model/dataset_0/images/train/99dsjm2iaw_Medium_WW2122503.png\n",
      "Copied model/dataset_0/images/train/9be1ce1c79994a37b6c7872b90cfdc5e.png to /tmp/model/dataset_0/images/train/9be1ce1c79994a37b6c7872b90cfdc5e.png\n",
      "Copied model/dataset_0/images/train/9zy93an7gxs81.png to /tmp/model/dataset_0/images/train/9zy93an7gxs81.png\n",
      "Copied model/dataset_0/images/train/AB-Apana_1.png to /tmp/model/dataset_0/images/train/AB-Apana_1.png\n",
      "Copied model/dataset_0/images/train/AB-Elephant-Bull-Mara-Oct-111.png to /tmp/model/dataset_0/images/train/AB-Elephant-Bull-Mara-Oct-111.png\n",
      "Copied model/dataset_0/images/train/AdobeStock_127085045_l.png to /tmp/model/dataset_0/images/train/AdobeStock_127085045_l.png\n",
      "Copied model/dataset_0/images/train/AdobeStock_129134705_p.png to /tmp/model/dataset_0/images/train/AdobeStock_129134705_p.png\n",
      "Copied model/dataset_0/images/train/AdobeStock_168092282.png to /tmp/model/dataset_0/images/train/AdobeStock_168092282.png\n",
      "Copied model/dataset_0/images/train/African2Belephant2Bvs2BIndian2Belephant.png to /tmp/model/dataset_0/images/train/African2Belephant2Bvs2BIndian2Belephant.png\n",
      "Copied model/dataset_0/images/train/Alys-Granados-Malayan-Sun-Bear_0676.png to /tmp/model/dataset_0/images/train/Alys-Granados-Malayan-Sun-Bear_0676.png\n",
      "Copied model/dataset_0/images/train/Amaze_Wing_Facts_About_The_Rhinoceros_Hornbill_For_Kids_66bee2a03a.png to /tmp/model/dataset_0/images/train/Amaze_Wing_Facts_About_The_Rhinoceros_Hornbill_For_Kids_66bee2a03a.png\n",
      "Copied model/dataset_0/images/train/Asian-Elephant-0491-2624.png to /tmp/model/dataset_0/images/train/Asian-Elephant-0491-2624.png\n",
      "Copied model/dataset_0/images/train/Asian-elephant-1.png to /tmp/model/dataset_0/images/train/Asian-elephant-1.png\n",
      "Copied model/dataset_0/images/train/Asian-elephant-calf-Sir-Lanka-GettyImages-1329711312-8712121.png to /tmp/model/dataset_0/images/train/Asian-elephant-calf-Sir-Lanka-GettyImages-1329711312-8712121.png\n",
      "Copied model/dataset_0/images/train/Asian-elephant-with-tusks-GettyImages-1357504051-aa5b0f9.png to /tmp/model/dataset_0/images/train/Asian-elephant-with-tusks-GettyImages-1357504051-aa5b0f9.png\n",
      "Copied model/dataset_0/images/train/Asian20elephant20at20WZ.png to /tmp/model/dataset_0/images/train/Asian20elephant20at20WZ.png\n",
      "Copied model/dataset_0/images/train/Asian20elephant20by20Sanjiv20Fernando.png to /tmp/model/dataset_0/images/train/Asian20elephant20by20Sanjiv20Fernando.png\n",
      "Copied model/dataset_0/images/train/BIR071-00054.png to /tmp/model/dataset_0/images/train/BIR071-00054.png\n",
      "Copied model/dataset_0/images/train/Beautiful_Sumatran_Tiger_Cub_28971134958829.png to /tmp/model/dataset_0/images/train/Beautiful_Sumatran_Tiger_Cub_28971134958829.png\n",
      "Copied model/dataset_0/images/train/Beruang-Madu-e1647743179229-1200x1200-cropped.png to /tmp/model/dataset_0/images/train/Beruang-Madu-e1647743179229-1200x1200-cropped.png\n",
      "Copied model/dataset_0/images/train/Borneo-BradJosephs-5-fin_Web.png to /tmp/model/dataset_0/images/train/Borneo-BradJosephs-5-fin_Web.png\n",
      "Copied model/dataset_0/images/train/Buceros_rhinoceros_-Kuala_Lumpur_Bird_Park_Malaysia-8a_1.png to /tmp/model/dataset_0/images/train/Buceros_rhinoceros_-Kuala_Lumpur_Bird_Park_Malaysia-8a_1.png\n",
      "Copied model/dataset_0/images/train/Buceros_rhinoceros_-Singapore_Zoo_-pair-8a.png to /tmp/model/dataset_0/images/train/Buceros_rhinoceros_-Singapore_Zoo_-pair-8a.png\n",
      "Copied model/dataset_0/images/train/Can-elephants-jump-Indian-elephant.png to /tmp/model/dataset_0/images/train/Can-elephants-jump-Indian-elephant.png\n",
      "Copied model/dataset_0/images/train/D03ca0e0403f33e2e8e6b397869c3041.png to /tmp/model/dataset_0/images/train/D03ca0e0403f33e2e8e6b397869c3041.png\n",
      "Copied model/dataset_0/images/train/DSC_0173.png to /tmp/model/dataset_0/images/train/DSC_0173.png\n",
      "Copied model/dataset_0/images/train/DSC_8682.png to /tmp/model/dataset_0/images/train/DSC_8682.png\n",
      "Copied model/dataset_0/images/train/DSC_9565-pig-tailed-macaque-thoughtful-ed1-1500px16x9CR.png to /tmp/model/dataset_0/images/train/DSC_9565-pig-tailed-macaque-thoughtful-ed1-1500px16x9CR.png\n",
      "Copied model/dataset_0/images/train/Elephants-3-species.png to /tmp/model/dataset_0/images/train/Elephants-3-species.png\n",
      "Copied model/dataset_0/images/train/ElpFF4XW0AMtoaB.png to /tmp/model/dataset_0/images/train/ElpFF4XW0AMtoaB.png\n",
      "Copied model/dataset_0/images/train/Highway-near-Corbett-Tiger-Reserve-India-1--A-G-Ansari-scaled-1.png to /tmp/model/dataset_0/images/train/Highway-near-Corbett-Tiger-Reserve-India-1--A-G-Ansari-scaled-1.png\n",
      "Copied model/dataset_0/images/train/I0000ffjlo.7O8iw.png to /tmp/model/dataset_0/images/train/I0000ffjlo.7O8iw.png\n",
      "Copied model/dataset_0/images/train/I0000vV5UW1yI6BI.png to /tmp/model/dataset_0/images/train/I0000vV5UW1yI6BI.png\n",
      "Copied model/dataset_0/images/train/IMG-6699-copy.png to /tmp/model/dataset_0/images/train/IMG-6699-copy.png\n",
      "Copied model/dataset_0/images/train/IMG_0476-1024x683.png to /tmp/model/dataset_0/images/train/IMG_0476-1024x683.png\n",
      "Copied model/dataset_0/images/train/IMG_2504.png to /tmp/model/dataset_0/images/train/IMG_2504.png\n",
      "Copied model/dataset_0/images/train/IMG_2599.png to /tmp/model/dataset_0/images/train/IMG_2599.png\n",
      "Copied model/dataset_0/images/train/IMG_5221_01-1.png to /tmp/model/dataset_0/images/train/IMG_5221_01-1.png\n",
      "Copied model/dataset_0/images/train/Imah5.7.JPG.png to /tmp/model/dataset_0/images/train/Imah5.7.JPG.png\n",
      "Copied model/dataset_0/images/train/L65QNG3OZU4G34M3WYTTBVMGOI.png to /tmp/model/dataset_0/images/train/L65QNG3OZU4G34M3WYTTBVMGOI.png\n",
      "Copied model/dataset_0/images/train/LEN-or-pucker-facial-expression-female-pigtailed-macaque-photo-by-Martin-Maurer.png to /tmp/model/dataset_0/images/train/LEN-or-pucker-facial-expression-female-pigtailed-macaque-photo-by-Martin-Maurer.png\n",
      "Copied model/dataset_0/images/train/Large_WW140085.png to /tmp/model/dataset_0/images/train/Large_WW140085.png\n",
      "Copied model/dataset_0/images/train/MA_00571007_gwipuj.png to /tmp/model/dataset_0/images/train/MA_00571007_gwipuj.png\n",
      "Copied model/dataset_0/images/train/Macaca_leonina.png to /tmp/model/dataset_0/images/train/Macaca_leonina.png\n",
      "Copied model/dataset_0/images/train/Macaca_leonina_mother_with_baby_-_Khao_Yai.png to /tmp/model/dataset_0/images/train/Macaca_leonina_mother_with_baby_-_Khao_Yai.png\n",
      "Copied model/dataset_0/images/train/Macaca_nemestrina2C_Southern_Pig-tailed_Macaque2CI_JSA5451.png to /tmp/model/dataset_0/images/train/Macaca_nemestrina2C_Southern_Pig-tailed_Macaque2CI_JSA5451.png\n",
      "Copied model/dataset_0/images/train/Malaysian_Sun_Bear.png to /tmp/model/dataset_0/images/train/Malaysian_Sun_Bear.png\n",
      "Copied model/dataset_0/images/train/Medium_WW225836.png to /tmp/model/dataset_0/images/train/Medium_WW225836.png\n",
      "Copied model/dataset_0/images/train/Morphological-characters-of-released-male-pig-tailed-macaque-A-an-adult-female-rhesus.png to /tmp/model/dataset_0/images/train/Morphological-characters-of-released-male-pig-tailed-macaque-A-an-adult-female-rhesus.png\n",
      "Copied model/dataset_0/images/train/NESS-VIRUS-ZOOLOGY-8_1659079009413_1659079009413_1660282943427_1660282943427.png to /tmp/model/dataset_0/images/train/NESS-VIRUS-ZOOLOGY-8_1659079009413_1659079009413_1660282943427_1660282943427.png\n",
      "Copied model/dataset_0/images/train/NGM199704_41-1-1024x683.png to /tmp/model/dataset_0/images/train/NGM199704_41-1-1024x683.png\n",
      "Copied model/dataset_0/images/train/Nandi-scaled.png to /tmp/model/dataset_0/images/train/Nandi-scaled.png\n",
      "Copied model/dataset_0/images/train/NationalGeographic_2353198_16x9.png to /tmp/model/dataset_0/images/train/NationalGeographic_2353198_16x9.png\n",
      "Copied model/dataset_0/images/train/NationalGeographic_2748973_2x1.png to /tmp/model/dataset_0/images/train/NationalGeographic_2748973_2x1.png\n",
      "Copied model/dataset_0/images/train/Northern-Pig-Tailed-Macaque.png to /tmp/model/dataset_0/images/train/Northern-Pig-Tailed-Macaque.png\n",
      "Copied model/dataset_0/images/train/Northern-Pig-tailed-Macaque-c.png to /tmp/model/dataset_0/images/train/Northern-Pig-tailed-Macaque-c.png\n",
      "Copied model/dataset_0/images/train/Northern-Pig-tailed-Macaque-f.png to /tmp/model/dataset_0/images/train/Northern-Pig-tailed-Macaque-f.png\n",
      "Copied model/dataset_0/images/train/Northern_pig-tailed_macaque.JPG.png to /tmp/model/dataset_0/images/train/Northern_pig-tailed_macaque.JPG.png\n",
      "Copied model/dataset_0/images/train/Old-female_Sanjeeta_b9751a5495d73ddd9861716ec757d727.png to /tmp/model/dataset_0/images/train/Old-female_Sanjeeta_b9751a5495d73ddd9861716ec757d727.png\n",
      "Copied model/dataset_0/images/train/Palu-the-bear-Via-Virginia-Zoo.png to /tmp/model/dataset_0/images/train/Palu-the-bear-Via-Virginia-Zoo.png\n",
      "Copied model/dataset_0/images/train/Pigtail-Macaque_Borneo03861.png to /tmp/model/dataset_0/images/train/Pigtail-Macaque_Borneo03861.png\n",
      "Copied model/dataset_0/images/train/RHINOCEROUS-HORNBILL-scaled.png to /tmp/model/dataset_0/images/train/RHINOCEROUS-HORNBILL-scaled.png\n",
      "Copied model/dataset_0/images/train/Rhino-Hornbill-w-Caption.png to /tmp/model/dataset_0/images/train/Rhino-Hornbill-w-Caption.png\n",
      "Copied model/dataset_0/images/train/Rhinoceros-Hornbill-3-1.png to /tmp/model/dataset_0/images/train/Rhinoceros-Hornbill-3-1.png\n",
      "Copied model/dataset_0/images/train/Rhinoceros-Hornbill-800x634.png to /tmp/model/dataset_0/images/train/Rhinoceros-Hornbill-800x634.png\n",
      "Copied model/dataset_0/images/train/Rhinoceros-Hornbill-featured.png to /tmp/model/dataset_0/images/train/Rhinoceros-Hornbill-featured.png\n",
      "Copied model/dataset_0/images/train/Rhinoceros-Hornbill-male-at-nest-Thailand-Morten-Strange.png to /tmp/model/dataset_0/images/train/Rhinoceros-Hornbill-male-at-nest-Thailand-Morten-Strange.png\n",
      "Copied model/dataset_0/images/train/Rhinoceros-Hornbill-pair-subspecies-B.-r.-borneoensis_Con-Foley_Borneo.png to /tmp/model/dataset_0/images/train/Rhinoceros-Hornbill-pair-subspecies-B.-r.-borneoensis_Con-Foley_Borneo.png\n",
      "Copied model/dataset_0/images/train/Rhinoceros-Hornbill-picture-malaysia.JPG.png to /tmp/model/dataset_0/images/train/Rhinoceros-Hornbill-picture-malaysia.JPG.png\n",
      "Copied model/dataset_0/images/train/Rhinoceros-hornbill2.png to /tmp/model/dataset_0/images/train/Rhinoceros-hornbill2.png\n",
      "Copied model/dataset_0/images/train/Rhinoceros_Hornbill_28Buceros_rhinoceros29_female_28781601742429.png to /tmp/model/dataset_0/images/train/Rhinoceros_Hornbill_28Buceros_rhinoceros29_female_28781601742429.png\n",
      "Copied model/dataset_0/images/train/Rhinoceros_Hornbill_28samuel29.png to /tmp/model/dataset_0/images/train/Rhinoceros_Hornbill_28samuel29.png\n",
      "Copied model/dataset_0/images/train/Rhinoceros_hornbill_national_aviary.png to /tmp/model/dataset_0/images/train/Rhinoceros_hornbill_national_aviary.png\n",
      "Copied model/dataset_0/images/train/SURYODAY_ELEPHANT_SURAJ.png to /tmp/model/dataset_0/images/train/SURYODAY_ELEPHANT_SURAJ.png\n",
      "Copied model/dataset_0/images/train/SingaporeGeographic-Bird-00042.png to /tmp/model/dataset_0/images/train/SingaporeGeographic-Bird-00042.png\n",
      "Copied model/dataset_0/images/train/Southern-Pig-Tailed-Macaque-Mar-2023.png to /tmp/model/dataset_0/images/train/Southern-Pig-Tailed-Macaque-Mar-2023.png\n",
      "Copied model/dataset_0/images/train/Southern-Pig-tailed-Macaque-1-1024x678.png to /tmp/model/dataset_0/images/train/Southern-Pig-tailed-Macaque-1-1024x678.png\n",
      "Copied model/dataset_0/images/train/Southern-Pig-tailed-Macaque-2-1024x683.png to /tmp/model/dataset_0/images/train/Southern-Pig-tailed-Macaque-2-1024x683.png\n",
      "Copied model/dataset_0/images/train/Southern_Pig-tailed_Macaque_281397053980829.png to /tmp/model/dataset_0/images/train/Southern_Pig-tailed_Macaque_281397053980829.png\n",
      "Copied model/dataset_0/images/train/Sumatran-Tiger-Images.png to /tmp/model/dataset_0/images/train/Sumatran-Tiger-Images.png\n",
      "Copied model/dataset_0/images/train/Sumatran-Tiger.png to /tmp/model/dataset_0/images/train/Sumatran-Tiger.png\n",
      "Copied model/dataset_0/images/train/SumatranTiger_Habitat.png to /tmp/model/dataset_0/images/train/SumatranTiger_Habitat.png\n",
      "Copied model/dataset_0/images/train/Sumatran_Tiger_Berlin_Tierpark.png to /tmp/model/dataset_0/images/train/Sumatran_Tiger_Berlin_Tierpark.png\n",
      "Copied model/dataset_0/images/train/Sun-bear-cubs.png to /tmp/model/dataset_0/images/train/Sun-bear-cubs.png\n",
      "Copied model/dataset_0/images/train/Sun-bear.png to /tmp/model/dataset_0/images/train/Sun-bear.png\n",
      "Copied model/dataset_0/images/train/SunBear-edit.png to /tmp/model/dataset_0/images/train/SunBear-edit.png\n",
      "Copied model/dataset_0/images/train/Sunbear.png to /tmp/model/dataset_0/images/train/Sunbear.png\n",
      "Copied model/dataset_0/images/train/Sunbear__h2q7567.png to /tmp/model/dataset_0/images/train/Sunbear__h2q7567.png\n",
      "Copied model/dataset_0/images/train/Thailand-Dusting-Blog-scaled.png to /tmp/model/dataset_0/images/train/Thailand-Dusting-Blog-scaled.png\n",
      "Copied model/dataset_0/images/train/Tig8_Male-tiger-recorded-on-every-survey-since-2014.png to /tmp/model/dataset_0/images/train/Tig8_Male-tiger-recorded-on-every-survey-since-2014.png\n",
      "Copied model/dataset_0/images/train/Tiger-main.png to /tmp/model/dataset_0/images/train/Tiger-main.png\n",
      "Copied model/dataset_0/images/train/TigerCamZoo.png to /tmp/model/dataset_0/images/train/TigerCamZoo.png\n",
      "Copied model/dataset_0/images/train/UDY_1642_pvmhez.png to /tmp/model/dataset_0/images/train/UDY_1642_pvmhez.png\n",
      "Copied model/dataset_0/images/train/WR202302_WTI_026_407352_reduced.png to /tmp/model/dataset_0/images/train/WR202302_WTI_026_407352_reduced.png\n",
      "Copied model/dataset_0/images/train/WhatsApp-Image-2022-09-29-at-9.50.41-AM.png to /tmp/model/dataset_0/images/train/WhatsApp-Image-2022-09-29-at-9.50.41-AM.png\n",
      "Copied model/dataset_0/images/train/a-sun-bear-helarctos-malayanus-standing-up-on-it-hind-legs-at-rare-F639CK.png to /tmp/model/dataset_0/images/train/a-sun-bear-helarctos-malayanus-standing-up-on-it-hind-legs-at-rare-F639CK.png\n",
      "Copied model/dataset_0/images/train/a40cd399b4fc476df2a34e0859636a2d.png to /tmp/model/dataset_0/images/train/a40cd399b4fc476df2a34e0859636a2d.png\n",
      "Copied model/dataset_0/images/train/af79f91c6f5946639f690c5efaefef42.png to /tmp/model/dataset_0/images/train/af79f91c6f5946639f690c5efaefef42.png\n",
      "Copied model/dataset_0/images/train/after-genome-sequencing-scientists-find-95-similarity-in-asian-african-elephants.png to /tmp/model/dataset_0/images/train/after-genome-sequencing-scientists-find-95-similarity-in-asian-african-elephants.png\n",
      "Copied model/dataset_0/images/train/als-world-beautiful-of-rhinocreos-hornbill-birds-gallery-rhinoceros-hornbill.png to /tmp/model/dataset_0/images/train/als-world-beautiful-of-rhinocreos-hornbill-birds-gallery-rhinoceros-hornbill.png\n",
      "Copied model/dataset_0/images/train/animals_02471.png to /tmp/model/dataset_0/images/train/animals_02471.png\n",
      "Copied model/dataset_0/images/train/animals_02478.png to /tmp/model/dataset_0/images/train/animals_02478.png\n",
      "Copied model/dataset_0/images/train/animals_02493.png to /tmp/model/dataset_0/images/train/animals_02493.png\n",
      "Copied model/dataset_0/images/train/ar-western-gorilla-sun-bear-common-chimpanzee-bears-mammal-animals-thumbnail.png to /tmp/model/dataset_0/images/train/ar-western-gorilla-sun-bear-common-chimpanzee-bears-mammal-animals-thumbnail.png\n",
      "Copied model/dataset_0/images/train/asain-elephant-endangered_s.png to /tmp/model/dataset_0/images/train/asain-elephant-endangered_s.png\n",
      "Copied model/dataset_0/images/train/asesgbannernew.png to /tmp/model/dataset_0/images/train/asesgbannernew.png\n",
      "Copied model/dataset_0/images/train/asian-african-elephants.png to /tmp/model/dataset_0/images/train/asian-african-elephants.png\n",
      "Copied model/dataset_0/images/train/asian-elephant-005-20160323-37am-1.png to /tmp/model/dataset_0/images/train/asian-elephant-005-20160323-37am-1.png\n",
      "Copied model/dataset_0/images/train/asian-elephant-elephas-maximus-male-india-W7R1RT.png to /tmp/model/dataset_0/images/train/asian-elephant-elephas-maximus-male-india-W7R1RT.png\n",
      "Copied model/dataset_0/images/train/asian20elephant20dreamstime_36478319.png to /tmp/model/dataset_0/images/train/asian20elephant20dreamstime_36478319.png\n",
      "Copied model/dataset_0/images/train/asian_elephant.png to /tmp/model/dataset_0/images/train/asian_elephant.png\n",
      "Copied model/dataset_0/images/train/az_tiger.png to /tmp/model/dataset_0/images/train/az_tiger.png\n",
      "Copied model/dataset_0/images/train/b261f74e0f3b48e33b0350a00e55195b.png to /tmp/model/dataset_0/images/train/b261f74e0f3b48e33b0350a00e55195b.png\n",
      "Copied model/dataset_0/images/train/baby-asian-elephant-its-mother.png to /tmp/model/dataset_0/images/train/baby-asian-elephant-its-mother.png\n",
      "Copied model/dataset_0/images/train/baby-macaque2.png to /tmp/model/dataset_0/images/train/baby-macaque2.png\n",
      "Copied model/dataset_0/images/train/baby-northern-pig-tailed-macaque-macaca-leonina-sitting-in-the-road-C0W81F.png to /tmp/model/dataset_0/images/train/baby-northern-pig-tailed-macaque-macaca-leonina-sitting-in-the-road-C0W81F.png\n",
      "Copied model/dataset_0/images/train/bear.png to /tmp/model/dataset_0/images/train/bear.png\n",
      "Copied model/dataset_0/images/train/bears.png to /tmp/model/dataset_0/images/train/bears.png\n",
      "Copied model/dataset_0/images/train/birdorable_rhinoceros_hornbill_baby_blanket-rb24c6bf49dfc472c9f7d66909c9393b5_zfi5i_640.png to /tmp/model/dataset_0/images/train/birdorable_rhinoceros_hornbill_baby_blanket-rb24c6bf49dfc472c9f7d66909c9393b5_zfi5i_640.png\n",
      "Copied model/dataset_0/images/train/bwi-bs267658.png to /tmp/model/dataset_0/images/train/bwi-bs267658.png\n",
      "Copied model/dataset_0/images/train/c0011882-800px-wm.png to /tmp/model/dataset_0/images/train/c0011882-800px-wm.png\n",
      "Copied model/dataset_0/images/train/c9f2d3057aad661ef37b035c0832eeb9.png to /tmp/model/dataset_0/images/train/c9f2d3057aad661ef37b035c0832eeb9.png\n",
      "Copied model/dataset_0/images/train/calao-rinoceronte.png to /tmp/model/dataset_0/images/train/calao-rinoceronte.png\n",
      "Copied model/dataset_0/images/train/ceros-one-largest-hornbills-adults-being-approximately-size-swan-cm-34263858.png to /tmp/model/dataset_0/images/train/ceros-one-largest-hornbills-adults-being-approximately-size-swan-cm-34263858.png\n",
      "Copied model/dataset_0/images/train/d_macaque_pig-tailed_macaque_and_pileated_gibbon._neth_pheaktra_via_facebook.png to /tmp/model/dataset_0/images/train/d_macaque_pig-tailed_macaque_and_pileated_gibbon._neth_pheaktra_via_facebook.png\n",
      "Copied model/dataset_0/images/train/db2a3ed7-b331-4eb8-9c02-043cd647722c_1140x641.png to /tmp/model/dataset_0/images/train/db2a3ed7-b331-4eb8-9c02-043cd647722c_1140x641.png\n",
      "Copied model/dataset_0/images/train/depositphotos_388876340-stock-photo-sumatran-tiger-panthera-tigris-sumatrae.png to /tmp/model/dataset_0/images/train/depositphotos_388876340-stock-photo-sumatran-tiger-panthera-tigris-sumatrae.png\n",
      "Copied model/dataset_0/images/train/desktop-wallpaper-tiger-live-sumatran-tiger.png to /tmp/model/dataset_0/images/train/desktop-wallpaper-tiger-live-sumatran-tiger.png\n",
      "Copied model/dataset_0/images/train/dsc-5733_orig.png to /tmp/model/dataset_0/images/train/dsc-5733_orig.png\n",
      "Copied model/dataset_0/images/train/dsc09405.png to /tmp/model/dataset_0/images/train/dsc09405.png\n",
      "Copied model/dataset_0/images/train/dsc_3149.png to /tmp/model/dataset_0/images/train/dsc_3149.png\n",
      "Copied model/dataset_0/images/train/e1f28954-b8ff-4167-a94f-238eea50d279_1140x641.png to /tmp/model/dataset_0/images/train/e1f28954-b8ff-4167-a94f-238eea50d279_1140x641.png\n",
      "Copied model/dataset_0/images/train/e7f69674-3fd8-488c-a05d-dd35048c19e5.png to /tmp/model/dataset_0/images/train/e7f69674-3fd8-488c-a05d-dd35048c19e5.png\n",
      "Copied model/dataset_0/images/train/elelphant4-gty-ml-230427_1682602356150_hpMain_16x9_1600.png to /tmp/model/dataset_0/images/train/elelphant4-gty-ml-230427_1682602356150_hpMain_16x9_1600.png\n",
      "Copied model/dataset_0/images/train/elephant-2405757_1280.png to /tmp/model/dataset_0/images/train/elephant-2405757_1280.png\n",
      "Copied model/dataset_0/images/train/elephant-road.png to /tmp/model/dataset_0/images/train/elephant-road.png\n",
      "Copied model/dataset_0/images/train/elephant-twins-november-2022-16-edit-fix.png to /tmp/model/dataset_0/images/train/elephant-twins-november-2022-16-edit-fix.png\n",
      "Copied model/dataset_0/images/train/elephant.png to /tmp/model/dataset_0/images/train/elephant.png\n",
      "Copied model/dataset_0/images/train/elephant20program201.png to /tmp/model/dataset_0/images/train/elephant20program201.png\n",
      "Copied model/dataset_0/images/train/elephant_wayanad_5_boominathan_wwf_india_40264.png to /tmp/model/dataset_0/images/train/elephant_wayanad_5_boominathan_wwf_india_40264.png\n",
      "Copied model/dataset_0/images/train/elephants-4487108_960_720.png to /tmp/model/dataset_0/images/train/elephants-4487108_960_720.png\n",
      "Copied model/dataset_0/images/train/elephants.png to /tmp/model/dataset_0/images/train/elephants.png\n",
      "Copied model/dataset_0/images/train/eros-hornbill-zoo-tycoon-2-toucan-great-hornbill-bird-animals-fauna-wildlife.png to /tmp/model/dataset_0/images/train/eros-hornbill-zoo-tycoon-2-toucan-great-hornbill-bird-animals-fauna-wildlife.png\n",
      "Copied model/dataset_0/images/train/female-southern-pig-tailed-macaque-macaca-nemestrina-in-season-as-E9GRTR.png to /tmp/model/dataset_0/images/train/female-southern-pig-tailed-macaque-macaca-nemestrina-in-season-as-E9GRTR.png\n",
      "Copied model/dataset_0/images/train/file-20210928-15-69p37o.png to /tmp/model/dataset_0/images/train/file-20210928-15-69p37o.png\n",
      "Copied model/dataset_0/images/train/focused_293476966-stock-photo-malaysia-borneo-sepilok-orangutan-rehabilitation.png to /tmp/model/dataset_0/images/train/focused_293476966-stock-photo-malaysia-borneo-sepilok-orangutan-rehabilitation.png\n",
      "Copied model/dataset_0/images/train/fun_sumatran_tiger_facts_for_kids_205e8288dd.png to /tmp/model/dataset_0/images/train/fun_sumatran_tiger_facts_for_kids_205e8288dd.png\n",
      "Copied model/dataset_0/images/train/gettyimages-1051885064.png to /tmp/model/dataset_0/images/train/gettyimages-1051885064.png\n",
      "Copied model/dataset_0/images/train/h1380-381b4.png to /tmp/model/dataset_0/images/train/h1380-381b4.png\n",
      "Copied model/dataset_0/images/train/harimau-sumatra.png to /tmp/model/dataset_0/images/train/harimau-sumatra.png\n",
      "Copied model/dataset_0/images/train/hornbill-411423_1280.png to /tmp/model/dataset_0/images/train/hornbill-411423_1280.png\n",
      "Copied model/dataset_0/images/train/image (2).png to /tmp/model/dataset_0/images/train/image (2).png\n",
      "Copied model/dataset_0/images/train/image (3).png to /tmp/model/dataset_0/images/train/image (3).png\n",
      "Copied model/dataset_0/images/train/image (4).png to /tmp/model/dataset_0/images/train/image (4).png\n",
      "Copied model/dataset_0/images/train/image-3477-pig-tailed-macaque-kinabatangan-river-malaysia.png to /tmp/model/dataset_0/images/train/image-3477-pig-tailed-macaque-kinabatangan-river-malaysia.png\n",
      "Copied model/dataset_0/images/train/image-asset.png to /tmp/model/dataset_0/images/train/image-asset.png\n",
      "Copied model/dataset_0/images/train/image.png to /tmp/model/dataset_0/images/train/image.png\n",
      "Copied model/dataset_0/images/train/image10 (2).png to /tmp/model/dataset_0/images/train/image10 (2).png\n",
      "Copied model/dataset_0/images/train/image10 (3).png to /tmp/model/dataset_0/images/train/image10 (3).png\n",
      "Copied model/dataset_0/images/train/image10 (4).png to /tmp/model/dataset_0/images/train/image10 (4).png\n",
      "Copied model/dataset_0/images/train/image10.png to /tmp/model/dataset_0/images/train/image10.png\n",
      "Copied model/dataset_0/images/train/image11 (2).png to /tmp/model/dataset_0/images/train/image11 (2).png\n",
      "Copied model/dataset_0/images/train/image12 (2).png to /tmp/model/dataset_0/images/train/image12 (2).png\n",
      "Copied model/dataset_0/images/train/image12 (3).png to /tmp/model/dataset_0/images/train/image12 (3).png\n",
      "Copied model/dataset_0/images/train/image12 (4).png to /tmp/model/dataset_0/images/train/image12 (4).png\n",
      "Copied model/dataset_0/images/train/image12.png to /tmp/model/dataset_0/images/train/image12.png\n",
      "Copied model/dataset_0/images/train/image13 (2).png to /tmp/model/dataset_0/images/train/image13 (2).png\n",
      "Copied model/dataset_0/images/train/image13 (3).png to /tmp/model/dataset_0/images/train/image13 (3).png\n",
      "Copied model/dataset_0/images/train/image13 (4).png to /tmp/model/dataset_0/images/train/image13 (4).png\n",
      "Copied model/dataset_0/images/train/image13 (5).png to /tmp/model/dataset_0/images/train/image13 (5).png\n",
      "Copied model/dataset_0/images/train/image13.png to /tmp/model/dataset_0/images/train/image13.png\n",
      "Copied model/dataset_0/images/train/image14 (2).png to /tmp/model/dataset_0/images/train/image14 (2).png\n",
      "Copied model/dataset_0/images/train/image14 (3).png to /tmp/model/dataset_0/images/train/image14 (3).png\n",
      "Copied model/dataset_0/images/train/image14 (4).png to /tmp/model/dataset_0/images/train/image14 (4).png\n",
      "Copied model/dataset_0/images/train/image14 (5).png to /tmp/model/dataset_0/images/train/image14 (5).png\n",
      "Copied model/dataset_0/images/train/image15 (2).png to /tmp/model/dataset_0/images/train/image15 (2).png\n",
      "Copied model/dataset_0/images/train/image15 (3).png to /tmp/model/dataset_0/images/train/image15 (3).png\n",
      "Copied model/dataset_0/images/train/image15 (4).png to /tmp/model/dataset_0/images/train/image15 (4).png\n",
      "Copied model/dataset_0/images/train/image15 (5).png to /tmp/model/dataset_0/images/train/image15 (5).png\n",
      "Copied model/dataset_0/images/train/image15.png to /tmp/model/dataset_0/images/train/image15.png\n",
      "Copied model/dataset_0/images/train/image16 (3).png to /tmp/model/dataset_0/images/train/image16 (3).png\n",
      "Copied model/dataset_0/images/train/image16 (5).png to /tmp/model/dataset_0/images/train/image16 (5).png\n",
      "Copied model/dataset_0/images/train/image16.png to /tmp/model/dataset_0/images/train/image16.png\n",
      "Copied model/dataset_0/images/train/image17 (2).png to /tmp/model/dataset_0/images/train/image17 (2).png\n",
      "Copied model/dataset_0/images/train/image17 (3).png to /tmp/model/dataset_0/images/train/image17 (3).png\n",
      "Copied model/dataset_0/images/train/image17 (4).png to /tmp/model/dataset_0/images/train/image17 (4).png\n",
      "Copied model/dataset_0/images/train/image17 (5).png to /tmp/model/dataset_0/images/train/image17 (5).png\n",
      "Copied model/dataset_0/images/train/image17.png to /tmp/model/dataset_0/images/train/image17.png\n",
      "Copied model/dataset_0/images/train/image18 (2).png to /tmp/model/dataset_0/images/train/image18 (2).png\n",
      "Copied model/dataset_0/images/train/image18 (4).png to /tmp/model/dataset_0/images/train/image18 (4).png\n",
      "Copied model/dataset_0/images/train/image18 (5).png to /tmp/model/dataset_0/images/train/image18 (5).png\n",
      "Copied model/dataset_0/images/train/image18.png to /tmp/model/dataset_0/images/train/image18.png\n",
      "Copied model/dataset_0/images/train/image19 (2).png to /tmp/model/dataset_0/images/train/image19 (2).png\n",
      "Copied model/dataset_0/images/train/image19 (3).png to /tmp/model/dataset_0/images/train/image19 (3).png\n",
      "Copied model/dataset_0/images/train/image19 (4).png to /tmp/model/dataset_0/images/train/image19 (4).png\n",
      "Copied model/dataset_0/images/train/image19 (5).png to /tmp/model/dataset_0/images/train/image19 (5).png\n",
      "Copied model/dataset_0/images/train/image19.png to /tmp/model/dataset_0/images/train/image19.png\n",
      "Copied model/dataset_0/images/train/image2 (2).png to /tmp/model/dataset_0/images/train/image2 (2).png\n",
      "Copied model/dataset_0/images/train/image2 (3).png to /tmp/model/dataset_0/images/train/image2 (3).png\n",
      "Copied model/dataset_0/images/train/image2 (4).png to /tmp/model/dataset_0/images/train/image2 (4).png\n",
      "Copied model/dataset_0/images/train/image2.png to /tmp/model/dataset_0/images/train/image2.png\n",
      "Copied model/dataset_0/images/train/image20 (2).png to /tmp/model/dataset_0/images/train/image20 (2).png\n",
      "Copied model/dataset_0/images/train/image20 (3).png to /tmp/model/dataset_0/images/train/image20 (3).png\n",
      "Copied model/dataset_0/images/train/image20 (4).png to /tmp/model/dataset_0/images/train/image20 (4).png\n",
      "Copied model/dataset_0/images/train/image20.png to /tmp/model/dataset_0/images/train/image20.png\n",
      "Copied model/dataset_0/images/train/image21 (2).png to /tmp/model/dataset_0/images/train/image21 (2).png\n",
      "Copied model/dataset_0/images/train/image21 (3).png to /tmp/model/dataset_0/images/train/image21 (3).png\n",
      "Copied model/dataset_0/images/train/image21 (5).png to /tmp/model/dataset_0/images/train/image21 (5).png\n",
      "Copied model/dataset_0/images/train/image21.png to /tmp/model/dataset_0/images/train/image21.png\n",
      "Copied model/dataset_0/images/train/image22 (3).png to /tmp/model/dataset_0/images/train/image22 (3).png\n",
      "Copied model/dataset_0/images/train/image22 (4).png to /tmp/model/dataset_0/images/train/image22 (4).png\n",
      "Copied model/dataset_0/images/train/image22.png to /tmp/model/dataset_0/images/train/image22.png\n",
      "Copied model/dataset_0/images/train/image23 (3).png to /tmp/model/dataset_0/images/train/image23 (3).png\n",
      "Copied model/dataset_0/images/train/image23 (4).png to /tmp/model/dataset_0/images/train/image23 (4).png\n",
      "Copied model/dataset_0/images/train/image23 (5).png to /tmp/model/dataset_0/images/train/image23 (5).png\n",
      "Copied model/dataset_0/images/train/image23.png to /tmp/model/dataset_0/images/train/image23.png\n",
      "Copied model/dataset_0/images/train/image24 (4).png to /tmp/model/dataset_0/images/train/image24 (4).png\n",
      "Copied model/dataset_0/images/train/image24 (5).png to /tmp/model/dataset_0/images/train/image24 (5).png\n",
      "Copied model/dataset_0/images/train/image24.png to /tmp/model/dataset_0/images/train/image24.png\n",
      "Copied model/dataset_0/images/train/image25 (2).png to /tmp/model/dataset_0/images/train/image25 (2).png\n",
      "Copied model/dataset_0/images/train/image25 (3).png to /tmp/model/dataset_0/images/train/image25 (3).png\n",
      "Copied model/dataset_0/images/train/image25 (4).png to /tmp/model/dataset_0/images/train/image25 (4).png\n",
      "Copied model/dataset_0/images/train/image26 (3).png to /tmp/model/dataset_0/images/train/image26 (3).png\n",
      "Copied model/dataset_0/images/train/image26 (4).png to /tmp/model/dataset_0/images/train/image26 (4).png\n",
      "Copied model/dataset_0/images/train/image26 (5).png to /tmp/model/dataset_0/images/train/image26 (5).png\n",
      "Copied model/dataset_0/images/train/image27 (2).png to /tmp/model/dataset_0/images/train/image27 (2).png\n",
      "Copied model/dataset_0/images/train/image27 (3).png to /tmp/model/dataset_0/images/train/image27 (3).png\n",
      "Copied model/dataset_0/images/train/image27 (4).png to /tmp/model/dataset_0/images/train/image27 (4).png\n",
      "Copied model/dataset_0/images/train/image27.png to /tmp/model/dataset_0/images/train/image27.png\n",
      "Copied model/dataset_0/images/train/image28 (2).png to /tmp/model/dataset_0/images/train/image28 (2).png\n",
      "Copied model/dataset_0/images/train/image28 (3).png to /tmp/model/dataset_0/images/train/image28 (3).png\n",
      "Copied model/dataset_0/images/train/image28 (4).png to /tmp/model/dataset_0/images/train/image28 (4).png\n",
      "Copied model/dataset_0/images/train/image28 (5).png to /tmp/model/dataset_0/images/train/image28 (5).png\n",
      "Copied model/dataset_0/images/train/image28.png to /tmp/model/dataset_0/images/train/image28.png\n",
      "Copied model/dataset_0/images/train/image29 (2).png to /tmp/model/dataset_0/images/train/image29 (2).png\n",
      "Copied model/dataset_0/images/train/image29 (3).png to /tmp/model/dataset_0/images/train/image29 (3).png\n",
      "Copied model/dataset_0/images/train/image29 (4).png to /tmp/model/dataset_0/images/train/image29 (4).png\n",
      "Copied model/dataset_0/images/train/image29 (5).png to /tmp/model/dataset_0/images/train/image29 (5).png\n",
      "Copied model/dataset_0/images/train/image29.png to /tmp/model/dataset_0/images/train/image29.png\n",
      "Copied model/dataset_0/images/train/image3 (2).png to /tmp/model/dataset_0/images/train/image3 (2).png\n",
      "Copied model/dataset_0/images/train/image3 (3).png to /tmp/model/dataset_0/images/train/image3 (3).png\n",
      "Copied model/dataset_0/images/train/image3 (4).png to /tmp/model/dataset_0/images/train/image3 (4).png\n",
      "Copied model/dataset_0/images/train/image3.png to /tmp/model/dataset_0/images/train/image3.png\n",
      "Copied model/dataset_0/images/train/image30 (2).png to /tmp/model/dataset_0/images/train/image30 (2).png\n",
      "Copied model/dataset_0/images/train/image30 (4).png to /tmp/model/dataset_0/images/train/image30 (4).png\n",
      "Copied model/dataset_0/images/train/image30 (5).png to /tmp/model/dataset_0/images/train/image30 (5).png\n",
      "Copied model/dataset_0/images/train/image30.png to /tmp/model/dataset_0/images/train/image30.png\n",
      "Copied model/dataset_0/images/train/image31 (2).png to /tmp/model/dataset_0/images/train/image31 (2).png\n",
      "Copied model/dataset_0/images/train/image31 (3).png to /tmp/model/dataset_0/images/train/image31 (3).png\n",
      "Copied model/dataset_0/images/train/image31 (4).png to /tmp/model/dataset_0/images/train/image31 (4).png\n",
      "Copied model/dataset_0/images/train/image31 (5).png to /tmp/model/dataset_0/images/train/image31 (5).png\n",
      "Copied model/dataset_0/images/train/image32 (3).png to /tmp/model/dataset_0/images/train/image32 (3).png\n",
      "Copied model/dataset_0/images/train/image32 (4).png to /tmp/model/dataset_0/images/train/image32 (4).png\n",
      "Copied model/dataset_0/images/train/image4 (2).png to /tmp/model/dataset_0/images/train/image4 (2).png\n",
      "Copied model/dataset_0/images/train/image4 (3).png to /tmp/model/dataset_0/images/train/image4 (3).png\n",
      "Copied model/dataset_0/images/train/image4 (4).png to /tmp/model/dataset_0/images/train/image4 (4).png\n",
      "Copied model/dataset_0/images/train/image4.png to /tmp/model/dataset_0/images/train/image4.png\n",
      "Copied model/dataset_0/images/train/image5 (2).png to /tmp/model/dataset_0/images/train/image5 (2).png\n",
      "Copied model/dataset_0/images/train/image5 (3).png to /tmp/model/dataset_0/images/train/image5 (3).png\n",
      "Copied model/dataset_0/images/train/image5 (4).png to /tmp/model/dataset_0/images/train/image5 (4).png\n",
      "Copied model/dataset_0/images/train/image5.png to /tmp/model/dataset_0/images/train/image5.png\n",
      "Copied model/dataset_0/images/train/image6 (2).png to /tmp/model/dataset_0/images/train/image6 (2).png\n",
      "Copied model/dataset_0/images/train/image6 (3).png to /tmp/model/dataset_0/images/train/image6 (3).png\n",
      "Copied model/dataset_0/images/train/image6 (4).png to /tmp/model/dataset_0/images/train/image6 (4).png\n",
      "Copied model/dataset_0/images/train/image6.png to /tmp/model/dataset_0/images/train/image6.png\n",
      "Copied model/dataset_0/images/train/image7 (3).png to /tmp/model/dataset_0/images/train/image7 (3).png\n",
      "Copied model/dataset_0/images/train/image7 (4).png to /tmp/model/dataset_0/images/train/image7 (4).png\n",
      "Copied model/dataset_0/images/train/image7.png to /tmp/model/dataset_0/images/train/image7.png\n",
      "Copied model/dataset_0/images/train/image8 (2).png to /tmp/model/dataset_0/images/train/image8 (2).png\n",
      "Copied model/dataset_0/images/train/image8 (3).png to /tmp/model/dataset_0/images/train/image8 (3).png\n",
      "Copied model/dataset_0/images/train/image8 (4).png to /tmp/model/dataset_0/images/train/image8 (4).png\n",
      "Copied model/dataset_0/images/train/image9 (2).png to /tmp/model/dataset_0/images/train/image9 (2).png\n",
      "Copied model/dataset_0/images/train/image9 (3).png to /tmp/model/dataset_0/images/train/image9 (3).png\n",
      "Copied model/dataset_0/images/train/image9 (4).png to /tmp/model/dataset_0/images/train/image9 (4).png\n",
      "Copied model/dataset_0/images/train/images (2).png to /tmp/model/dataset_0/images/train/images (2).png\n",
      "Copied model/dataset_0/images/train/images (3).png to /tmp/model/dataset_0/images/train/images (3).png\n",
      "Copied model/dataset_0/images/train/images (4).png to /tmp/model/dataset_0/images/train/images (4).png\n",
      "Copied model/dataset_0/images/train/images.png to /tmp/model/dataset_0/images/train/images.png\n",
      "Copied model/dataset_0/images/train/images10 (2).png to /tmp/model/dataset_0/images/train/images10 (2).png\n",
      "Copied model/dataset_0/images/train/images10 (3).png to /tmp/model/dataset_0/images/train/images10 (3).png\n",
      "Copied model/dataset_0/images/train/images10 (4).png to /tmp/model/dataset_0/images/train/images10 (4).png\n",
      "Copied model/dataset_0/images/train/images10 (5).png to /tmp/model/dataset_0/images/train/images10 (5).png\n",
      "Copied model/dataset_0/images/train/images102.png to /tmp/model/dataset_0/images/train/images102.png\n",
      "Copied model/dataset_0/images/train/images104.png to /tmp/model/dataset_0/images/train/images104.png\n",
      "Copied model/dataset_0/images/train/images105.png to /tmp/model/dataset_0/images/train/images105.png\n",
      "Copied model/dataset_0/images/train/images106.png to /tmp/model/dataset_0/images/train/images106.png\n",
      "Copied model/dataset_0/images/train/images107.png to /tmp/model/dataset_0/images/train/images107.png\n",
      "Copied model/dataset_0/images/train/images108.png to /tmp/model/dataset_0/images/train/images108.png\n",
      "Copied model/dataset_0/images/train/images109.png to /tmp/model/dataset_0/images/train/images109.png\n",
      "Copied model/dataset_0/images/train/images11 (2).png to /tmp/model/dataset_0/images/train/images11 (2).png\n",
      "Copied model/dataset_0/images/train/images11 (3).png to /tmp/model/dataset_0/images/train/images11 (3).png\n",
      "Copied model/dataset_0/images/train/images11 (4).png to /tmp/model/dataset_0/images/train/images11 (4).png\n",
      "Copied model/dataset_0/images/train/images11 (5).png to /tmp/model/dataset_0/images/train/images11 (5).png\n",
      "Copied model/dataset_0/images/train/images11.png to /tmp/model/dataset_0/images/train/images11.png\n",
      "Copied model/dataset_0/images/train/images110.png to /tmp/model/dataset_0/images/train/images110.png\n",
      "Copied model/dataset_0/images/train/images111.png to /tmp/model/dataset_0/images/train/images111.png\n",
      "Copied model/dataset_0/images/train/images112.png to /tmp/model/dataset_0/images/train/images112.png\n",
      "Copied model/dataset_0/images/train/images113.png to /tmp/model/dataset_0/images/train/images113.png\n",
      "Copied model/dataset_0/images/train/images115.png to /tmp/model/dataset_0/images/train/images115.png\n",
      "Copied model/dataset_0/images/train/images12 (3).png to /tmp/model/dataset_0/images/train/images12 (3).png\n",
      "Copied model/dataset_0/images/train/images12 (4).png to /tmp/model/dataset_0/images/train/images12 (4).png\n",
      "Copied model/dataset_0/images/train/images12 (5).png to /tmp/model/dataset_0/images/train/images12 (5).png\n",
      "Copied model/dataset_0/images/train/images12.png to /tmp/model/dataset_0/images/train/images12.png\n",
      "Copied model/dataset_0/images/train/images120.png to /tmp/model/dataset_0/images/train/images120.png\n",
      "Copied model/dataset_0/images/train/images126.png to /tmp/model/dataset_0/images/train/images126.png\n",
      "Copied model/dataset_0/images/train/images127.png to /tmp/model/dataset_0/images/train/images127.png\n",
      "Copied model/dataset_0/images/train/images129.png to /tmp/model/dataset_0/images/train/images129.png\n",
      "Copied model/dataset_0/images/train/images13 (2).png to /tmp/model/dataset_0/images/train/images13 (2).png\n",
      "Copied model/dataset_0/images/train/images13 (3).png to /tmp/model/dataset_0/images/train/images13 (3).png\n",
      "Copied model/dataset_0/images/train/images13 (4).png to /tmp/model/dataset_0/images/train/images13 (4).png\n",
      "Copied model/dataset_0/images/train/images13.png to /tmp/model/dataset_0/images/train/images13.png\n",
      "Copied model/dataset_0/images/train/images130.png to /tmp/model/dataset_0/images/train/images130.png\n",
      "Copied model/dataset_0/images/train/images131.png to /tmp/model/dataset_0/images/train/images131.png\n",
      "Copied model/dataset_0/images/train/images132.png to /tmp/model/dataset_0/images/train/images132.png\n",
      "Copied model/dataset_0/images/train/images133.png to /tmp/model/dataset_0/images/train/images133.png\n",
      "Copied model/dataset_0/images/train/images134.png to /tmp/model/dataset_0/images/train/images134.png\n",
      "Copied model/dataset_0/images/train/images136.png to /tmp/model/dataset_0/images/train/images136.png\n",
      "Copied model/dataset_0/images/train/images138.png to /tmp/model/dataset_0/images/train/images138.png\n",
      "Copied model/dataset_0/images/train/images139.png to /tmp/model/dataset_0/images/train/images139.png\n",
      "Copied model/dataset_0/images/train/images14 (2).png to /tmp/model/dataset_0/images/train/images14 (2).png\n",
      "Copied model/dataset_0/images/train/images14 (3).png to /tmp/model/dataset_0/images/train/images14 (3).png\n",
      "Copied model/dataset_0/images/train/images14 (4).png to /tmp/model/dataset_0/images/train/images14 (4).png\n",
      "Copied model/dataset_0/images/train/images14.png to /tmp/model/dataset_0/images/train/images14.png\n",
      "Copied model/dataset_0/images/train/images140.png to /tmp/model/dataset_0/images/train/images140.png\n",
      "Copied model/dataset_0/images/train/images141.png to /tmp/model/dataset_0/images/train/images141.png\n",
      "Copied model/dataset_0/images/train/images142.png to /tmp/model/dataset_0/images/train/images142.png\n",
      "Copied model/dataset_0/images/train/images145.png to /tmp/model/dataset_0/images/train/images145.png\n",
      "Copied model/dataset_0/images/train/images147.png to /tmp/model/dataset_0/images/train/images147.png\n",
      "Copied model/dataset_0/images/train/images149.png to /tmp/model/dataset_0/images/train/images149.png\n",
      "Copied model/dataset_0/images/train/images15 (2).png to /tmp/model/dataset_0/images/train/images15 (2).png\n",
      "Copied model/dataset_0/images/train/images15 (4).png to /tmp/model/dataset_0/images/train/images15 (4).png\n",
      "Copied model/dataset_0/images/train/images15.png to /tmp/model/dataset_0/images/train/images15.png\n",
      "Copied model/dataset_0/images/train/images152.png to /tmp/model/dataset_0/images/train/images152.png\n",
      "Copied model/dataset_0/images/train/images154.png to /tmp/model/dataset_0/images/train/images154.png\n",
      "Copied model/dataset_0/images/train/images155.png to /tmp/model/dataset_0/images/train/images155.png\n",
      "Copied model/dataset_0/images/train/images156.png to /tmp/model/dataset_0/images/train/images156.png\n",
      "Copied model/dataset_0/images/train/images157.png to /tmp/model/dataset_0/images/train/images157.png\n",
      "Copied model/dataset_0/images/train/images159.png to /tmp/model/dataset_0/images/train/images159.png\n",
      "Copied model/dataset_0/images/train/images16 (2).png to /tmp/model/dataset_0/images/train/images16 (2).png\n",
      "Copied model/dataset_0/images/train/images16 (3).png to /tmp/model/dataset_0/images/train/images16 (3).png\n",
      "Copied model/dataset_0/images/train/images16 (4).png to /tmp/model/dataset_0/images/train/images16 (4).png\n",
      "Copied model/dataset_0/images/train/images16 (5).png to /tmp/model/dataset_0/images/train/images16 (5).png\n",
      "Copied model/dataset_0/images/train/images16.png to /tmp/model/dataset_0/images/train/images16.png\n",
      "Copied model/dataset_0/images/train/images162.png to /tmp/model/dataset_0/images/train/images162.png\n",
      "Copied model/dataset_0/images/train/images165.png to /tmp/model/dataset_0/images/train/images165.png\n",
      "Copied model/dataset_0/images/train/images168.png to /tmp/model/dataset_0/images/train/images168.png\n",
      "Copied model/dataset_0/images/train/images169.png to /tmp/model/dataset_0/images/train/images169.png\n",
      "Copied model/dataset_0/images/train/images17 (2).png to /tmp/model/dataset_0/images/train/images17 (2).png\n",
      "Copied model/dataset_0/images/train/images17 (3).png to /tmp/model/dataset_0/images/train/images17 (3).png\n",
      "Copied model/dataset_0/images/train/images17 (4).png to /tmp/model/dataset_0/images/train/images17 (4).png\n",
      "Copied model/dataset_0/images/train/images17.png to /tmp/model/dataset_0/images/train/images17.png\n",
      "Copied model/dataset_0/images/train/images175.png to /tmp/model/dataset_0/images/train/images175.png\n",
      "Copied model/dataset_0/images/train/images176.png to /tmp/model/dataset_0/images/train/images176.png\n",
      "Copied model/dataset_0/images/train/images178.png to /tmp/model/dataset_0/images/train/images178.png\n",
      "Copied model/dataset_0/images/train/images18 (3).png to /tmp/model/dataset_0/images/train/images18 (3).png\n",
      "Copied model/dataset_0/images/train/images18 (5).png to /tmp/model/dataset_0/images/train/images18 (5).png\n",
      "Copied model/dataset_0/images/train/images18.png to /tmp/model/dataset_0/images/train/images18.png\n",
      "Copied model/dataset_0/images/train/images180.png to /tmp/model/dataset_0/images/train/images180.png\n",
      "Copied model/dataset_0/images/train/images182.png to /tmp/model/dataset_0/images/train/images182.png\n",
      "Copied model/dataset_0/images/train/images184.png to /tmp/model/dataset_0/images/train/images184.png\n",
      "Copied model/dataset_0/images/train/images187.png to /tmp/model/dataset_0/images/train/images187.png\n",
      "Copied model/dataset_0/images/train/images189.png to /tmp/model/dataset_0/images/train/images189.png\n",
      "Copied model/dataset_0/images/train/images19 (2).png to /tmp/model/dataset_0/images/train/images19 (2).png\n",
      "Copied model/dataset_0/images/train/images19 (3).png to /tmp/model/dataset_0/images/train/images19 (3).png\n",
      "Copied model/dataset_0/images/train/images19 (4).png to /tmp/model/dataset_0/images/train/images19 (4).png\n",
      "Copied model/dataset_0/images/train/images19.png to /tmp/model/dataset_0/images/train/images19.png\n",
      "Copied model/dataset_0/images/train/images190.png to /tmp/model/dataset_0/images/train/images190.png\n",
      "Copied model/dataset_0/images/train/images191.png to /tmp/model/dataset_0/images/train/images191.png\n",
      "Copied model/dataset_0/images/train/images193.png to /tmp/model/dataset_0/images/train/images193.png\n",
      "Copied model/dataset_0/images/train/images194.png to /tmp/model/dataset_0/images/train/images194.png\n",
      "Copied model/dataset_0/images/train/images195.png to /tmp/model/dataset_0/images/train/images195.png\n",
      "Copied model/dataset_0/images/train/images198.png to /tmp/model/dataset_0/images/train/images198.png\n",
      "Copied model/dataset_0/images/train/images199.png to /tmp/model/dataset_0/images/train/images199.png\n",
      "Copied model/dataset_0/images/train/images2 (3).png to /tmp/model/dataset_0/images/train/images2 (3).png\n",
      "Copied model/dataset_0/images/train/images2 (4).png to /tmp/model/dataset_0/images/train/images2 (4).png\n",
      "Copied model/dataset_0/images/train/images2.png to /tmp/model/dataset_0/images/train/images2.png\n",
      "Copied model/dataset_0/images/train/images20 (2).png to /tmp/model/dataset_0/images/train/images20 (2).png\n",
      "Copied model/dataset_0/images/train/images20 (3).png to /tmp/model/dataset_0/images/train/images20 (3).png\n",
      "Copied model/dataset_0/images/train/images20 (4).png to /tmp/model/dataset_0/images/train/images20 (4).png\n",
      "Copied model/dataset_0/images/train/images20 (5).png to /tmp/model/dataset_0/images/train/images20 (5).png\n",
      "Copied model/dataset_0/images/train/images20.png to /tmp/model/dataset_0/images/train/images20.png\n",
      "Copied model/dataset_0/images/train/images202.png to /tmp/model/dataset_0/images/train/images202.png\n",
      "Copied model/dataset_0/images/train/images205.png to /tmp/model/dataset_0/images/train/images205.png\n",
      "Copied model/dataset_0/images/train/images206.png to /tmp/model/dataset_0/images/train/images206.png\n",
      "Copied model/dataset_0/images/train/images207.png to /tmp/model/dataset_0/images/train/images207.png\n",
      "Copied model/dataset_0/images/train/images208.png to /tmp/model/dataset_0/images/train/images208.png\n",
      "Copied model/dataset_0/images/train/images21 (2).png to /tmp/model/dataset_0/images/train/images21 (2).png\n",
      "Copied model/dataset_0/images/train/images21 (3).png to /tmp/model/dataset_0/images/train/images21 (3).png\n",
      "Copied model/dataset_0/images/train/images21 (5).png to /tmp/model/dataset_0/images/train/images21 (5).png\n",
      "Copied model/dataset_0/images/train/images210.png to /tmp/model/dataset_0/images/train/images210.png\n",
      "Copied model/dataset_0/images/train/images214.png to /tmp/model/dataset_0/images/train/images214.png\n",
      "Copied model/dataset_0/images/train/images216.png to /tmp/model/dataset_0/images/train/images216.png\n",
      "Copied model/dataset_0/images/train/images217.png to /tmp/model/dataset_0/images/train/images217.png\n",
      "Copied model/dataset_0/images/train/images219.png to /tmp/model/dataset_0/images/train/images219.png\n",
      "Copied model/dataset_0/images/train/images22 (2).png to /tmp/model/dataset_0/images/train/images22 (2).png\n",
      "Copied model/dataset_0/images/train/images22 (3).png to /tmp/model/dataset_0/images/train/images22 (3).png\n",
      "Copied model/dataset_0/images/train/images221.png to /tmp/model/dataset_0/images/train/images221.png\n",
      "Copied model/dataset_0/images/train/images23 (2).png to /tmp/model/dataset_0/images/train/images23 (2).png\n",
      "Copied model/dataset_0/images/train/images23 (3).png to /tmp/model/dataset_0/images/train/images23 (3).png\n",
      "Copied model/dataset_0/images/train/images23 (4).png to /tmp/model/dataset_0/images/train/images23 (4).png\n",
      "Copied model/dataset_0/images/train/images23.png to /tmp/model/dataset_0/images/train/images23.png\n",
      "Copied model/dataset_0/images/train/images24 (3).png to /tmp/model/dataset_0/images/train/images24 (3).png\n",
      "Copied model/dataset_0/images/train/images24.png to /tmp/model/dataset_0/images/train/images24.png\n",
      "Copied model/dataset_0/images/train/images25 (2).png to /tmp/model/dataset_0/images/train/images25 (2).png\n",
      "Copied model/dataset_0/images/train/images25 (3).png to /tmp/model/dataset_0/images/train/images25 (3).png\n",
      "Copied model/dataset_0/images/train/images26 (2).png to /tmp/model/dataset_0/images/train/images26 (2).png\n",
      "Copied model/dataset_0/images/train/images26.png to /tmp/model/dataset_0/images/train/images26.png\n",
      "Copied model/dataset_0/images/train/images27 (3).png to /tmp/model/dataset_0/images/train/images27 (3).png\n",
      "Copied model/dataset_0/images/train/images27.png to /tmp/model/dataset_0/images/train/images27.png\n",
      "Copied model/dataset_0/images/train/images28 (2).png to /tmp/model/dataset_0/images/train/images28 (2).png\n",
      "Copied model/dataset_0/images/train/images28.png to /tmp/model/dataset_0/images/train/images28.png\n",
      "Copied model/dataset_0/images/train/images29 (2).png to /tmp/model/dataset_0/images/train/images29 (2).png\n",
      "Copied model/dataset_0/images/train/images29 (3).png to /tmp/model/dataset_0/images/train/images29 (3).png\n",
      "Copied model/dataset_0/images/train/images29 (4).png to /tmp/model/dataset_0/images/train/images29 (4).png\n",
      "Copied model/dataset_0/images/train/images29.png to /tmp/model/dataset_0/images/train/images29.png\n",
      "Copied model/dataset_0/images/train/images3 (2).png to /tmp/model/dataset_0/images/train/images3 (2).png\n",
      "Copied model/dataset_0/images/train/images3 (3).png to /tmp/model/dataset_0/images/train/images3 (3).png\n",
      "Copied model/dataset_0/images/train/images3.png to /tmp/model/dataset_0/images/train/images3.png\n",
      "Copied model/dataset_0/images/train/images30 (2).png to /tmp/model/dataset_0/images/train/images30 (2).png\n",
      "Copied model/dataset_0/images/train/images30 (4).png to /tmp/model/dataset_0/images/train/images30 (4).png\n",
      "Copied model/dataset_0/images/train/images30.png to /tmp/model/dataset_0/images/train/images30.png\n",
      "Copied model/dataset_0/images/train/images31 (2).png to /tmp/model/dataset_0/images/train/images31 (2).png\n",
      "Copied model/dataset_0/images/train/images31.png to /tmp/model/dataset_0/images/train/images31.png\n",
      "Copied model/dataset_0/images/train/images32 (2).png to /tmp/model/dataset_0/images/train/images32 (2).png\n",
      "Copied model/dataset_0/images/train/images32 (3).png to /tmp/model/dataset_0/images/train/images32 (3).png\n",
      "Copied model/dataset_0/images/train/images32 (4).png to /tmp/model/dataset_0/images/train/images32 (4).png\n",
      "Copied model/dataset_0/images/train/images32 (5).png to /tmp/model/dataset_0/images/train/images32 (5).png\n",
      "Copied model/dataset_0/images/train/images32.png to /tmp/model/dataset_0/images/train/images32.png\n",
      "Copied model/dataset_0/images/train/images33 (2).png to /tmp/model/dataset_0/images/train/images33 (2).png\n",
      "Copied model/dataset_0/images/train/images33 (3).png to /tmp/model/dataset_0/images/train/images33 (3).png\n",
      "Copied model/dataset_0/images/train/images33 (5).png to /tmp/model/dataset_0/images/train/images33 (5).png\n",
      "Copied model/dataset_0/images/train/images34 (2).png to /tmp/model/dataset_0/images/train/images34 (2).png\n",
      "Copied model/dataset_0/images/train/images34 (3).png to /tmp/model/dataset_0/images/train/images34 (3).png\n",
      "Copied model/dataset_0/images/train/images34 (4).png to /tmp/model/dataset_0/images/train/images34 (4).png\n",
      "Copied model/dataset_0/images/train/images34 (5).png to /tmp/model/dataset_0/images/train/images34 (5).png\n",
      "Copied model/dataset_0/images/train/images34.png to /tmp/model/dataset_0/images/train/images34.png\n",
      "Copied model/dataset_0/images/train/images35 (3).png to /tmp/model/dataset_0/images/train/images35 (3).png\n",
      "Copied model/dataset_0/images/train/images35 (4).png to /tmp/model/dataset_0/images/train/images35 (4).png\n",
      "Copied model/dataset_0/images/train/images35.png to /tmp/model/dataset_0/images/train/images35.png\n",
      "Copied model/dataset_0/images/train/images36 (3).png to /tmp/model/dataset_0/images/train/images36 (3).png\n",
      "Copied model/dataset_0/images/train/images37 (3).png to /tmp/model/dataset_0/images/train/images37 (3).png\n",
      "Copied model/dataset_0/images/train/images37.png to /tmp/model/dataset_0/images/train/images37.png\n",
      "Copied model/dataset_0/images/train/images38 (2).png to /tmp/model/dataset_0/images/train/images38 (2).png\n",
      "Copied model/dataset_0/images/train/images38.png to /tmp/model/dataset_0/images/train/images38.png\n",
      "Copied model/dataset_0/images/train/images39 (2).png to /tmp/model/dataset_0/images/train/images39 (2).png\n",
      "Copied model/dataset_0/images/train/images4 (2).png to /tmp/model/dataset_0/images/train/images4 (2).png\n",
      "Copied model/dataset_0/images/train/images4.png to /tmp/model/dataset_0/images/train/images4.png\n",
      "Copied model/dataset_0/images/train/images40 (2).png to /tmp/model/dataset_0/images/train/images40 (2).png\n",
      "Copied model/dataset_0/images/train/images40.png to /tmp/model/dataset_0/images/train/images40.png\n",
      "Copied model/dataset_0/images/train/images41 (2).png to /tmp/model/dataset_0/images/train/images41 (2).png\n",
      "Copied model/dataset_0/images/train/images41.png to /tmp/model/dataset_0/images/train/images41.png\n",
      "Copied model/dataset_0/images/train/images42.png to /tmp/model/dataset_0/images/train/images42.png\n",
      "Copied model/dataset_0/images/train/images43 (2).png to /tmp/model/dataset_0/images/train/images43 (2).png\n",
      "Copied model/dataset_0/images/train/images43.png to /tmp/model/dataset_0/images/train/images43.png\n",
      "Copied model/dataset_0/images/train/images44.png to /tmp/model/dataset_0/images/train/images44.png\n",
      "Copied model/dataset_0/images/train/images45.png to /tmp/model/dataset_0/images/train/images45.png\n",
      "Copied model/dataset_0/images/train/images46.png to /tmp/model/dataset_0/images/train/images46.png\n",
      "Copied model/dataset_0/images/train/images48 (2).png to /tmp/model/dataset_0/images/train/images48 (2).png\n",
      "Copied model/dataset_0/images/train/images49.png to /tmp/model/dataset_0/images/train/images49.png\n",
      "Copied model/dataset_0/images/train/images5 (2).png to /tmp/model/dataset_0/images/train/images5 (2).png\n",
      "Copied model/dataset_0/images/train/images5 (3).png to /tmp/model/dataset_0/images/train/images5 (3).png\n",
      "Copied model/dataset_0/images/train/images5 (4).png to /tmp/model/dataset_0/images/train/images5 (4).png\n",
      "Copied model/dataset_0/images/train/images5 (5).png to /tmp/model/dataset_0/images/train/images5 (5).png\n",
      "Copied model/dataset_0/images/train/images5.png to /tmp/model/dataset_0/images/train/images5.png\n",
      "Copied model/dataset_0/images/train/images51.png to /tmp/model/dataset_0/images/train/images51.png\n",
      "Copied model/dataset_0/images/train/images54.png to /tmp/model/dataset_0/images/train/images54.png\n",
      "Copied model/dataset_0/images/train/images55.png to /tmp/model/dataset_0/images/train/images55.png\n",
      "Copied model/dataset_0/images/train/images6 (2).png to /tmp/model/dataset_0/images/train/images6 (2).png\n",
      "Copied model/dataset_0/images/train/images6 (5).png to /tmp/model/dataset_0/images/train/images6 (5).png\n",
      "Copied model/dataset_0/images/train/images6.png to /tmp/model/dataset_0/images/train/images6.png\n",
      "Copied model/dataset_0/images/train/images60.png to /tmp/model/dataset_0/images/train/images60.png\n",
      "Copied model/dataset_0/images/train/images63.png to /tmp/model/dataset_0/images/train/images63.png\n",
      "Copied model/dataset_0/images/train/images64.png to /tmp/model/dataset_0/images/train/images64.png\n",
      "Copied model/dataset_0/images/train/images66.png to /tmp/model/dataset_0/images/train/images66.png\n",
      "Copied model/dataset_0/images/train/images7 (2).png to /tmp/model/dataset_0/images/train/images7 (2).png\n",
      "Copied model/dataset_0/images/train/images7 (3).png to /tmp/model/dataset_0/images/train/images7 (3).png\n",
      "Copied model/dataset_0/images/train/images7 (4).png to /tmp/model/dataset_0/images/train/images7 (4).png\n",
      "Copied model/dataset_0/images/train/images7.png to /tmp/model/dataset_0/images/train/images7.png\n",
      "Copied model/dataset_0/images/train/images71.png to /tmp/model/dataset_0/images/train/images71.png\n",
      "Copied model/dataset_0/images/train/images73.png to /tmp/model/dataset_0/images/train/images73.png\n",
      "Copied model/dataset_0/images/train/images74.png to /tmp/model/dataset_0/images/train/images74.png\n",
      "Copied model/dataset_0/images/train/images76.png to /tmp/model/dataset_0/images/train/images76.png\n",
      "Copied model/dataset_0/images/train/images78.png to /tmp/model/dataset_0/images/train/images78.png\n",
      "Copied model/dataset_0/images/train/images8 (3).png to /tmp/model/dataset_0/images/train/images8 (3).png\n",
      "Copied model/dataset_0/images/train/images8 (5).png to /tmp/model/dataset_0/images/train/images8 (5).png\n",
      "Copied model/dataset_0/images/train/images8.png to /tmp/model/dataset_0/images/train/images8.png\n",
      "Copied model/dataset_0/images/train/images80.png to /tmp/model/dataset_0/images/train/images80.png\n",
      "Copied model/dataset_0/images/train/images81.png to /tmp/model/dataset_0/images/train/images81.png\n",
      "Copied model/dataset_0/images/train/images85.png to /tmp/model/dataset_0/images/train/images85.png\n",
      "Copied model/dataset_0/images/train/images86.png to /tmp/model/dataset_0/images/train/images86.png\n",
      "Copied model/dataset_0/images/train/images88.png to /tmp/model/dataset_0/images/train/images88.png\n",
      "Copied model/dataset_0/images/train/images89.png to /tmp/model/dataset_0/images/train/images89.png\n",
      "Copied model/dataset_0/images/train/images9 (2).png to /tmp/model/dataset_0/images/train/images9 (2).png\n",
      "Copied model/dataset_0/images/train/images9 (3).png to /tmp/model/dataset_0/images/train/images9 (3).png\n",
      "Copied model/dataset_0/images/train/images9 (4).png to /tmp/model/dataset_0/images/train/images9 (4).png\n",
      "Copied model/dataset_0/images/train/images9 (5).png to /tmp/model/dataset_0/images/train/images9 (5).png\n",
      "Copied model/dataset_0/images/train/images9.png to /tmp/model/dataset_0/images/train/images9.png\n",
      "Copied model/dataset_0/images/train/images91.png to /tmp/model/dataset_0/images/train/images91.png\n",
      "Copied model/dataset_0/images/train/images92.png to /tmp/model/dataset_0/images/train/images92.png\n",
      "Copied model/dataset_0/images/train/images96.png to /tmp/model/dataset_0/images/train/images96.png\n",
      "Copied model/dataset_0/images/train/images97.png to /tmp/model/dataset_0/images/train/images97.png\n",
      "Copied model/dataset_0/images/train/img-z6-1_01.png to /tmp/model/dataset_0/images/train/img-z6-1_01.png\n",
      "Copied model/dataset_0/images/train/ion-panthera-tigris-subspecies-ranks-biggest-wild-cats-alive-today-250097332.png to /tmp/model/dataset_0/images/train/ion-panthera-tigris-subspecies-ranks-biggest-wild-cats-alive-today-250097332.png\n",
      "Copied model/dataset_0/images/train/jakarta-indonesia-a-rare-sumatran-tiger-has-been-snapped-having-a-HYKW45.png to /tmp/model/dataset_0/images/train/jakarta-indonesia-a-rare-sumatran-tiger-has-been-snapped-having-a-HYKW45.png\n",
      "Copied model/dataset_0/images/train/jakarta-indonesia-a-rare-sumatran-tiger-has-been-snapped-having-a-HYKW4F.png to /tmp/model/dataset_0/images/train/jakarta-indonesia-a-rare-sumatran-tiger-has-been-snapped-having-a-HYKW4F.png\n",
      "Copied model/dataset_0/images/train/jakarta-indonesia-a-rare-sumatran-tiger-has-been-snapped-having-a-HYKW4J.png to /tmp/model/dataset_0/images/train/jakarta-indonesia-a-rare-sumatran-tiger-has-been-snapped-having-a-HYKW4J.png\n",
      "Copied model/dataset_0/images/train/jakarta-indonesia-a-rare-sumatran-tiger-has-been-snapped-having-a-HYKW4M.png to /tmp/model/dataset_0/images/train/jakarta-indonesia-a-rare-sumatran-tiger-has-been-snapped-having-a-HYKW4M.png\n",
      "Copied model/dataset_0/images/train/juvenile-pig-tailed-macaque-macaca-nemestrina-white-isolated-65797513.png to /tmp/model/dataset_0/images/train/juvenile-pig-tailed-macaque-macaca-nemestrina-white-isolated-65797513.png\n",
      "Copied model/dataset_0/images/train/large (2).png to /tmp/model/dataset_0/images/train/large (2).png\n",
      "Copied model/dataset_0/images/train/large.png to /tmp/model/dataset_0/images/train/large.png\n",
      "Copied model/dataset_0/images/train/large2 (2).png to /tmp/model/dataset_0/images/train/large2 (2).png\n",
      "Copied model/dataset_0/images/train/large2.png to /tmp/model/dataset_0/images/train/large2.png\n",
      "Copied model/dataset_0/images/train/look-at-that-tongue-sun.png to /tmp/model/dataset_0/images/train/look-at-that-tongue-sun.png\n",
      "Copied model/dataset_0/images/train/lvtm88h8_-sumatran-tigers_625x300_24_May_23.png to /tmp/model/dataset_0/images/train/lvtm88h8_-sumatran-tigers_625x300_24_May_23.png\n",
      "Copied model/dataset_0/images/train/macaca-leonina-northern-pig-tailed-macaque-baby-w-1500.png to /tmp/model/dataset_0/images/train/macaca-leonina-northern-pig-tailed-macaque-baby-w-1500.png\n",
      "Copied model/dataset_0/images/train/main_1500.png to /tmp/model/dataset_0/images/train/main_1500.png\n",
      "Copied model/dataset_0/images/train/male-rhinoceros-hornbill-on-left-has-passed-food-to-female-BAXY5M.png to /tmp/model/dataset_0/images/train/male-rhinoceros-hornbill-on-left-has-passed-food-to-female-BAXY5M.png\n",
      "Copied model/dataset_0/images/train/maxresdefault (2).png to /tmp/model/dataset_0/images/train/maxresdefault (2).png\n",
      "Copied model/dataset_0/images/train/maxresdefault (3).png to /tmp/model/dataset_0/images/train/maxresdefault (3).png\n",
      "Copied model/dataset_0/images/train/maxresdefault (4).png to /tmp/model/dataset_0/images/train/maxresdefault (4).png\n",
      "Copied model/dataset_0/images/train/maxresdefault (5).png to /tmp/model/dataset_0/images/train/maxresdefault (5).png\n",
      "Copied model/dataset_0/images/train/maxresdefault.png to /tmp/model/dataset_0/images/train/maxresdefault.png\n",
      "Copied model/dataset_0/images/train/maxresdefault2 (3).png to /tmp/model/dataset_0/images/train/maxresdefault2 (3).png\n",
      "Copied model/dataset_0/images/train/maxresdefault2 (4).png to /tmp/model/dataset_0/images/train/maxresdefault2 (4).png\n",
      "Copied model/dataset_0/images/train/maxresdefault2.png to /tmp/model/dataset_0/images/train/maxresdefault2.png\n",
      "Copied model/dataset_0/images/train/maxresdefault3 (2).png to /tmp/model/dataset_0/images/train/maxresdefault3 (2).png\n",
      "Copied model/dataset_0/images/train/maxresdefault4.png to /tmp/model/dataset_0/images/train/maxresdefault4.png\n",
      "Copied model/dataset_0/images/train/maxresdefault5.png to /tmp/model/dataset_0/images/train/maxresdefault5.png\n",
      "Copied model/dataset_0/images/train/mev-10751060.png to /tmp/model/dataset_0/images/train/mev-10751060.png\n",
      "Copied model/dataset_0/images/train/mev-10751063.png to /tmp/model/dataset_0/images/train/mev-10751063.png\n",
      "Copied model/dataset_0/images/train/mother-and-baby-elephant-1.png to /tmp/model/dataset_0/images/train/mother-and-baby-elephant-1.png\n",
      "Copied model/dataset_0/images/train/northern-pig-tailed-macaque-37891396.png to /tmp/model/dataset_0/images/train/northern-pig-tailed-macaque-37891396.png\n",
      "Copied model/dataset_0/images/train/northern-pig-tailed-macaque-macaca-leonina-baby-eating-a-banana-thailand-PF1C4C.png to /tmp/model/dataset_0/images/train/northern-pig-tailed-macaque-macaca-leonina-baby-eating-a-banana-thailand-PF1C4C.png\n",
      "Copied model/dataset_0/images/train/northern-pig-tailed-macaque-shutterstock_672865216-r.png to /tmp/model/dataset_0/images/train/northern-pig-tailed-macaque-shutterstock_672865216-r.png\n",
      "Copied model/dataset_0/images/train/northern_pig_tail_macaque.png to /tmp/model/dataset_0/images/train/northern_pig_tail_macaque.png\n",
      "Copied model/dataset_0/images/train/np_file_54462.png to /tmp/model/dataset_0/images/train/np_file_54462.png\n",
      "Copied model/dataset_0/images/train/of-pig-tails-and-palm-oil-how-rat-eating-macaques-increase-oil-palm-sustainability.png to /tmp/model/dataset_0/images/train/of-pig-tails-and-palm-oil-how-rat-eating-macaques-increase-oil-palm-sustainability.png\n",
      "Copied model/dataset_0/images/train/orso8.png to /tmp/model/dataset_0/images/train/orso8.png\n",
      "Copied model/dataset_0/images/train/ortrait-walking-on-ground-sepahijala-wildlife-sanctuary-tripura-india-W7N1M4.png to /tmp/model/dataset_0/images/train/ortrait-walking-on-ground-sepahijala-wildlife-sanctuary-tripura-india-W7N1M4.png\n",
      "Copied model/dataset_0/images/train/p08k0r46.png to /tmp/model/dataset_0/images/train/p08k0r46.png\n",
      "Copied model/dataset_0/images/train/p567603290-4.png to /tmp/model/dataset_0/images/train/p567603290-4.png\n",
      "Copied model/dataset_0/images/train/panthera-tigris-male-sumatran-tiger-portrait-close-up-217063651.png to /tmp/model/dataset_0/images/train/panthera-tigris-male-sumatran-tiger-portrait-close-up-217063651.png\n",
      "Copied model/dataset_0/images/train/pig-tailed-macaque-3-768x512.png to /tmp/model/dataset_0/images/train/pig-tailed-macaque-3-768x512.png\n",
      "Copied model/dataset_0/images/train/pig-tailed-macaque-nth_1843.png to /tmp/model/dataset_0/images/train/pig-tailed-macaque-nth_1843.png\n",
      "Copied model/dataset_0/images/train/pig-tailed-macaque-sth_0407a.png to /tmp/model/dataset_0/images/train/pig-tailed-macaque-sth_0407a.png\n",
      "Copied model/dataset_0/images/train/pig-tailed-macaque-sth_0428a.png to /tmp/model/dataset_0/images/train/pig-tailed-macaque-sth_0428a.png\n",
      "Copied model/dataset_0/images/train/pig-tailed-macaque-sth_4093.png to /tmp/model/dataset_0/images/train/pig-tailed-macaque-sth_4093.png\n",
      "Copied model/dataset_0/images/train/pigtail-macaque-macaca-nemestrina-male-thailand-TR6T8D.png to /tmp/model/dataset_0/images/train/pigtail-macaque-macaca-nemestrina-male-thailand-TR6T8D.png\n",
      "Copied model/dataset_0/images/train/pigtail-macaque-pig-tailed-macaque-southern-pig-tailed-macaque-beruk-CNY4AM.png to /tmp/model/dataset_0/images/train/pigtail-macaque-pig-tailed-macaque-southern-pig-tailed-macaque-beruk-CNY4AM.png\n",
      "Copied model/dataset_0/images/train/png-clipart-bird-great-hornbill-rhinoceros-hornbill-parrot-animals-fauna.png to /tmp/model/dataset_0/images/train/png-clipart-bird-great-hornbill-rhinoceros-hornbill-parrot-animals-fauna.png\n",
      "Copied model/dataset_0/images/train/pngtree-elephant-asian-elephant-png-image_9043910.png to /tmp/model/dataset_0/images/train/pngtree-elephant-asian-elephant-png-image_9043910.png\n",
      "Copied model/dataset_0/images/train/portrait-sumatran-tiger_266258-1832.png to /tmp/model/dataset_0/images/train/portrait-sumatran-tiger_266258-1832.png\n",
      "Copied model/dataset_0/images/train/rhino-hornbill-hero-image.png to /tmp/model/dataset_0/images/train/rhino-hornbill-hero-image.png\n",
      "Copied model/dataset_0/images/train/rhino-hornbill-web.png to /tmp/model/dataset_0/images/train/rhino-hornbill-web.png\n",
      "Copied model/dataset_0/images/train/rhino-hornbill.png to /tmp/model/dataset_0/images/train/rhino-hornbill.png\n",
      "Copied model/dataset_0/images/train/rhinoceros-hornbill-21b65c6a-edf9-41be-8290-34f9b0fc32a-resize-750.png to /tmp/model/dataset_0/images/train/rhinoceros-hornbill-21b65c6a-edf9-41be-8290-34f9b0fc32a-resize-750.png\n",
      "Copied model/dataset_0/images/train/rhinoceros-hornbill-and-the-horned-guan-birds-and-their-features2.png to /tmp/model/dataset_0/images/train/rhinoceros-hornbill-and-the-horned-guan-birds-and-their-features2.png\n",
      "Copied model/dataset_0/images/train/rhinoceros-hornbill-cartoon_119631-51.png to /tmp/model/dataset_0/images/train/rhinoceros-hornbill-cartoon_119631-51.png\n",
      "Copied model/dataset_0/images/train/rhinoceros-hornbill-derek-bruff-cc.png to /tmp/model/dataset_0/images/train/rhinoceros-hornbill-derek-bruff-cc.png\n",
      "Copied model/dataset_0/images/train/rhinoceros-hornbill-female-buceros-rhinoceros-side-AJP1P4.png to /tmp/model/dataset_0/images/train/rhinoceros-hornbill-female-buceros-rhinoceros-side-AJP1P4.png\n",
      "Copied model/dataset_0/images/train/rhinoceros-hornbill-flight-charles-leavell-cc-all.png to /tmp/model/dataset_0/images/train/rhinoceros-hornbill-flight-charles-leavell-cc-all.png\n",
      "Copied model/dataset_0/images/train/rhinoceros-hornbill-tropical-kalao-bird-vector-28856049.png to /tmp/model/dataset_0/images/train/rhinoceros-hornbill-tropical-kalao-bird-vector-28856049.png\n",
      "Copied model/dataset_0/images/train/rhinoceros_hornbill.png to /tmp/model/dataset_0/images/train/rhinoceros_hornbill.png\n",
      "Copied model/dataset_0/images/train/rsz_jessica-knowlden-avrbjovuka-unsplash.png to /tmp/model/dataset_0/images/train/rsz_jessica-knowlden-avrbjovuka-unsplash.png\n",
      "Copied model/dataset_0/images/train/schweinsaffe-w-1500.png to /tmp/model/dataset_0/images/train/schweinsaffe-w-1500.png\n",
      "Copied model/dataset_0/images/train/shutterstock_226535251.png to /tmp/model/dataset_0/images/train/shutterstock_226535251.png\n",
      "Copied model/dataset_0/images/train/southern-pig-tailed-macaque-iStock-1211602130-r.png to /tmp/model/dataset_0/images/train/southern-pig-tailed-macaque-iStock-1211602130-r.png\n",
      "Copied model/dataset_0/images/train/southern_pigtail_macaque.png to /tmp/model/dataset_0/images/train/southern_pigtail_macaque.png\n",
      "Copied model/dataset_0/images/train/spike-elephant-outside-20180628-509sb.png to /tmp/model/dataset_0/images/train/spike-elephant-outside-20180628-509sb.png\n",
      "Copied model/dataset_0/images/train/sth-pig-tailed-macaque-fem_3906.png to /tmp/model/dataset_0/images/train/sth-pig-tailed-macaque-fem_3906.png\n",
      "Copied model/dataset_0/images/train/sth-pig-tailed-macaque_3419.png to /tmp/model/dataset_0/images/train/sth-pig-tailed-macaque_3419.png\n",
      "Copied model/dataset_0/images/train/stock-photo-beautiful-sumatran-tiger-on-the-prowl-1011623377.png to /tmp/model/dataset_0/images/train/stock-photo-beautiful-sumatran-tiger-on-the-prowl-1011623377.png\n",
      "Copied model/dataset_0/images/train/stock-photo-endangered-sumatran-tiger-less-than-alive-in-the-wild-16517122.png to /tmp/model/dataset_0/images/train/stock-photo-endangered-sumatran-tiger-less-than-alive-in-the-wild-16517122.png\n",
      "Copied model/dataset_0/images/train/sumatra_1748.png to /tmp/model/dataset_0/images/train/sumatra_1748.png\n",
      "Copied model/dataset_0/images/train/sumatran-tiger-2777347_640.png to /tmp/model/dataset_0/images/train/sumatran-tiger-2777347_640.png\n",
      "Copied model/dataset_0/images/train/sumatran-tiger-thumbnail-nationalgeographic_1456276_2x1.png to /tmp/model/dataset_0/images/train/sumatran-tiger-thumbnail-nationalgeographic_1456276_2x1.png\n",
      "Copied model/dataset_0/images/train/sumatran-tiger-thumbnail-nationalgeographic_1456276_3x4.png to /tmp/model/dataset_0/images/train/sumatran-tiger-thumbnail-nationalgeographic_1456276_3x4.png\n",
      "Copied model/dataset_0/images/train/sumatran_tiger.png to /tmp/model/dataset_0/images/train/sumatran_tiger.png\n",
      "Copied model/dataset_0/images/train/sumatrantiger-002.png to /tmp/model/dataset_0/images/train/sumatrantiger-002.png\n",
      "Copied model/dataset_0/images/train/sun-bear-gold-collar_square.png to /tmp/model/dataset_0/images/train/sun-bear-gold-collar_square.png\n",
      "Copied model/dataset_0/images/train/sun-bear-header.png to /tmp/model/dataset_0/images/train/sun-bear-header.png\n",
      "Copied model/dataset_0/images/train/sun-bear-sleep.png to /tmp/model/dataset_0/images/train/sun-bear-sleep.png\n",
      "Copied model/dataset_0/images/train/sun-bear-very-happy-on-Matt-HuntE28099s-lap_Cherique-Pohl_BBC-8e16f03-scaled.png to /tmp/model/dataset_0/images/train/sun-bear-very-happy-on-Matt-HuntE28099s-lap_Cherique-Pohl_BBC-8e16f03-scaled.png\n",
      "Copied model/dataset_0/images/train/sun-bear_thumb_square.JPG.png to /tmp/model/dataset_0/images/train/sun-bear_thumb_square.JPG.png\n",
      "Copied model/dataset_0/images/train/sun_bear.png to /tmp/model/dataset_0/images/train/sun_bear.png\n",
      "Copied model/dataset_0/images/train/sun_bear_2_347931.png to /tmp/model/dataset_0/images/train/sun_bear_2_347931.png\n",
      "Copied model/dataset_0/images/train/sunbears.png to /tmp/model/dataset_0/images/train/sunbears.png\n",
      "Copied model/dataset_0/images/train/sunny-bear-57484628-281797286071207-4041274929423843328-n.png to /tmp/model/dataset_0/images/train/sunny-bear-57484628-281797286071207-4041274929423843328-n.png\n",
      "Copied model/dataset_0/images/train/thecubsmothe.png to /tmp/model/dataset_0/images/train/thecubsmothe.png\n",
      "Copied model/dataset_0/images/train/three-asian-elephants.png to /tmp/model/dataset_0/images/train/three-asian-elephants.png\n",
      "Copied model/dataset_0/images/train/tiger-164905_640.png to /tmp/model/dataset_0/images/train/tiger-164905_640.png\n",
      "Copied model/dataset_0/images/train/tiger-species-sumatran-tigers-project-endangered-tigers.png to /tmp/model/dataset_0/images/train/tiger-species-sumatran-tigers-project-endangered-tigers.png\n",
      "Copied model/dataset_0/images/train/tiger_kavi_ZA_5242-750x500.png to /tmp/model/dataset_0/images/train/tiger_kavi_ZA_5242-750x500.png\n",
      "Copied model/dataset_0/images/train/tigerfact2.png to /tmp/model/dataset_0/images/train/tigerfact2.png\n",
      "Copied model/dataset_0/images/train/tigerrr.png to /tmp/model/dataset_0/images/train/tigerrr.png\n",
      "Copied model/dataset_0/images/train/tigers.png to /tmp/model/dataset_0/images/train/tigers.png\n",
      "Copied model/dataset_0/images/train/untitled-design-2023-05-01t175145.942.png to /tmp/model/dataset_0/images/train/untitled-design-2023-05-01t175145.942.png\n",
      "Copied model/dataset_0/images/train/v0_rsweb2.png to /tmp/model/dataset_0/images/train/v0_rsweb2.png\n",
      "Copied model/dataset_0/images/train/vector-eps-low-polygonal-illustration-rhinoceros-hornbill-birds-with-plants_127090-1810.png to /tmp/model/dataset_0/images/train/vector-eps-low-polygonal-illustration-rhinoceros-hornbill-birds-with-plants_127090-1810.png\n",
      "Copied model/dataset_0/images/train/wawa5-940x626.png to /tmp/model/dataset_0/images/train/wawa5-940x626.png\n",
      "Copied model/dataset_0/images/train/wp2321661.png to /tmp/model/dataset_0/images/train/wp2321661.png\n",
      "Copied model/dataset_0/images/val/01221529.png to /tmp/model/dataset_0/images/val/01221529.png\n",
      "Copied model/dataset_0/images/val/060618_YHL_macaques_feat.png to /tmp/model/dataset_0/images/val/060618_YHL_macaques_feat.png\n",
      "Copied model/dataset_0/images/val/07Sumatrantiger_WilhelmaHL.png to /tmp/model/dataset_0/images/val/07Sumatrantiger_WilhelmaHL.png\n",
      "Copied model/dataset_0/images/val/1000_F_510261145_JBQo9gIrIgtVPbVqmESelWMPtA2yF0my.png to /tmp/model/dataset_0/images/val/1000_F_510261145_JBQo9gIrIgtVPbVqmESelWMPtA2yF0my.png\n",
      "Copied model/dataset_0/images/val/1127.sun_bear_Borneo.600.png to /tmp/model/dataset_0/images/val/1127.sun_bear_Borneo.600.png\n",
      "Copied model/dataset_0/images/val/1127.sun_bear_closeup.600.png to /tmp/model/dataset_0/images/val/1127.sun_bear_closeup.600.png\n",
      "Copied model/dataset_0/images/val/1200px-28Macaca.nemestrina-1-PragueZOO.png to /tmp/model/dataset_0/images/val/1200px-28Macaca.nemestrina-1-PragueZOO.png\n",
      "Copied model/dataset_0/images/val/191022025037-01-macaques.png to /tmp/model/dataset_0/images/val/191022025037-01-macaques.png\n",
      "Copied model/dataset_0/images/val/2-teddy-bear.png to /tmp/model/dataset_0/images/val/2-teddy-bear.png\n",
      "Copied model/dataset_0/images/val/2Fmethode2Ftimes2Fprodmigration2Fweb2Fbin2F96f8eae3-db78-3431-84b3-e9c111091e6f.png to /tmp/model/dataset_0/images/val/2Fmethode2Ftimes2Fprodmigration2Fweb2Fbin2F96f8eae3-db78-3431-84b3-e9c111091e6f.png\n",
      "Copied model/dataset_0/images/val/4D9118AE-8A0D-48B9-AA2E-DE1A8D7D1356.png to /tmp/model/dataset_0/images/val/4D9118AE-8A0D-48B9-AA2E-DE1A8D7D1356.png\n",
      "Copied model/dataset_0/images/val/524d9683c3fb2.image.png to /tmp/model/dataset_0/images/val/524d9683c3fb2.image.png\n",
      "Copied model/dataset_0/images/val/5cd371912400005600a9652c.png to /tmp/model/dataset_0/images/val/5cd371912400005600a9652c.png\n",
      "Copied model/dataset_0/images/val/60dd0100e4b01c2e2f73389c.png to /tmp/model/dataset_0/images/val/60dd0100e4b01c2e2f73389c.png\n",
      "Copied model/dataset_0/images/val/71HVSXmVrL._AC_UF10001000_QL80_.png to /tmp/model/dataset_0/images/val/71HVSXmVrL._AC_UF10001000_QL80_.png\n",
      "Copied model/dataset_0/images/val/776185D8-0694-4BDD-A1C8-93A503A12278_w1080_h608_s.png to /tmp/model/dataset_0/images/val/776185D8-0694-4BDD-A1C8-93A503A12278_w1080_h608_s.png\n",
      "Copied model/dataset_0/images/val/80C272D7-EE91-4C8D-A340-56EA93030B0B-scaled.png to /tmp/model/dataset_0/images/val/80C272D7-EE91-4C8D-A340-56EA93030B0B-scaled.png\n",
      "Copied model/dataset_0/images/val/815a8541de893d276569ad96d7ff0c9f.png to /tmp/model/dataset_0/images/val/815a8541de893d276569ad96d7ff0c9f.png\n",
      "Copied model/dataset_0/images/val/9890850_orig.png to /tmp/model/dataset_0/images/val/9890850_orig.png\n",
      "Copied model/dataset_0/images/val/A-suspected-first-generation-hybrid-long-tailed-pig-tailed-macaque-middle-and-a-true.png to /tmp/model/dataset_0/images/val/A-suspected-first-generation-hybrid-long-tailed-pig-tailed-macaque-middle-and-a-true.png\n",
      "Copied model/dataset_0/images/val/AdobeStock_113119253.png to /tmp/model/dataset_0/images/val/AdobeStock_113119253.png\n",
      "Copied model/dataset_0/images/val/Asian-Elephant-1-website.png to /tmp/model/dataset_0/images/val/Asian-Elephant-1-website.png\n",
      "Copied model/dataset_0/images/val/Figure-1_8328173601_70fc5c9578_b.png to /tmp/model/dataset_0/images/val/Figure-1_8328173601_70fc5c9578_b.png\n",
      "Copied model/dataset_0/images/val/Hornbill_2.png to /tmp/model/dataset_0/images/val/Hornbill_2.png\n",
      "Copied model/dataset_0/images/val/IMG_8065-1.png to /tmp/model/dataset_0/images/val/IMG_8065-1.png\n",
      "Copied model/dataset_0/images/val/Indian-Elephant-E.-m.-indicus.png to /tmp/model/dataset_0/images/val/Indian-Elephant-E.-m.-indicus.png\n",
      "Copied model/dataset_0/images/val/Large_WW22247-scaled-e1594667921117.png to /tmp/model/dataset_0/images/val/Large_WW22247-scaled-e1594667921117.png\n",
      "Copied model/dataset_0/images/val/MrDave1.png to /tmp/model/dataset_0/images/val/MrDave1.png\n",
      "Copied model/dataset_0/images/val/Pigtail-macaque-f.png to /tmp/model/dataset_0/images/val/Pigtail-macaque-f.png\n",
      "Copied model/dataset_0/images/val/Protection-Of-Elephants-In-India_6423f4e6def08.png to /tmp/model/dataset_0/images/val/Protection-Of-Elephants-In-India_6423f4e6def08.png\n",
      "Copied model/dataset_0/images/val/RIGHT-OF-PASSAGE.png to /tmp/model/dataset_0/images/val/RIGHT-OF-PASSAGE.png\n",
      "Copied model/dataset_0/images/val/Rhinoceros-hornbill-square.png to /tmp/model/dataset_0/images/val/Rhinoceros-hornbill-square.png\n",
      "Copied model/dataset_0/images/val/Rhinoceros-hornbill.png to /tmp/model/dataset_0/images/val/Rhinoceros-hornbill.png\n",
      "Copied model/dataset_0/images/val/Shotshop_36888067_2.png to /tmp/model/dataset_0/images/val/Shotshop_36888067_2.png\n",
      "Copied model/dataset_0/images/val/Southern-Pig-tailed-Macaque-3-1024x684.png to /tmp/model/dataset_0/images/val/Southern-Pig-tailed-Macaque-3-1024x684.png\n",
      "Copied model/dataset_0/images/val/Sun-Bear-Jamron-or-Bopha-Perth-Zoo.png to /tmp/model/dataset_0/images/val/Sun-Bear-Jamron-or-Bopha-Perth-Zoo.png\n",
      "Copied model/dataset_0/images/val/SunBear-scaled.png to /tmp/model/dataset_0/images/val/SunBear-scaled.png\n",
      "Copied model/dataset_0/images/val/Tiger-Eko.png to /tmp/model/dataset_0/images/val/Tiger-Eko.png\n",
      "Copied model/dataset_0/images/val/asian-elephant-in-bangladesh.png to /tmp/model/dataset_0/images/val/asian-elephant-in-bangladesh.png\n",
      "Copied model/dataset_0/images/val/asian_and_african_elephant_difference_teesta_illustration.png to /tmp/model/dataset_0/images/val/asian_and_african_elephant_difference_teesta_illustration.png\n",
      "Copied model/dataset_0/images/val/bears-kh-msb-py-sun-6-other-aq2i5885-m.png to /tmp/model/dataset_0/images/val/bears-kh-msb-py-sun-6-other-aq2i5885-m.png\n",
      "Copied model/dataset_0/images/val/c0011883-800px-wm.png to /tmp/model/dataset_0/images/val/c0011883-800px-wm.png\n",
      "Copied model/dataset_0/images/val/calao-rhinoceros-iw1.png to /tmp/model/dataset_0/images/val/calao-rhinoceros-iw1.png\n",
      "Copied model/dataset_0/images/val/calao-rhinoceros-jcj.png to /tmp/model/dataset_0/images/val/calao-rhinoceros-jcj.png\n",
      "Copied model/dataset_0/images/val/calao.rhinoceros.pava.1g.png to /tmp/model/dataset_0/images/val/calao.rhinoceros.pava.1g.png\n",
      "Copied model/dataset_0/images/val/difference-between-asian-elephant-and-african-elephant.png to /tmp/model/dataset_0/images/val/difference-between-asian-elephant-and-african-elephant.png\n",
      "Copied model/dataset_0/images/val/dsc_5892-2_sq.png to /tmp/model/dataset_0/images/val/dsc_5892-2_sq.png\n",
      "Copied model/dataset_0/images/val/elephants-Kaziranga-National-Park-Assam-India-scaled.png to /tmp/model/dataset_0/images/val/elephants-Kaziranga-National-Park-Assam-India-scaled.png\n",
      "Copied model/dataset_0/images/val/erkgax-e1633855085333.png to /tmp/model/dataset_0/images/val/erkgax-e1633855085333.png\n",
      "Copied model/dataset_0/images/val/h1380-c234e.png to /tmp/model/dataset_0/images/val/h1380-c234e.png\n",
      "Copied model/dataset_0/images/val/harimau-mati-DSCF5061-1-1200x800-1-768x512.png to /tmp/model/dataset_0/images/val/harimau-mati-DSCF5061-1-1200x800-1-768x512.png\n",
      "Copied model/dataset_0/images/val/header-sun-bear-2880.png to /tmp/model/dataset_0/images/val/header-sun-bear-2880.png\n",
      "Copied model/dataset_0/images/val/hero_tiger_animals.png to /tmp/model/dataset_0/images/val/hero_tiger_animals.png\n",
      "Copied model/dataset_0/images/val/image11.png to /tmp/model/dataset_0/images/val/image11.png\n",
      "Copied model/dataset_0/images/val/image14.png to /tmp/model/dataset_0/images/val/image14.png\n",
      "Copied model/dataset_0/images/val/image16 (2).png to /tmp/model/dataset_0/images/val/image16 (2).png\n",
      "Copied model/dataset_0/images/val/image16 (4).png to /tmp/model/dataset_0/images/val/image16 (4).png\n",
      "Copied model/dataset_0/images/val/image18 (3).png to /tmp/model/dataset_0/images/val/image18 (3).png\n",
      "Copied model/dataset_0/images/val/image20 (5).png to /tmp/model/dataset_0/images/val/image20 (5).png\n",
      "Copied model/dataset_0/images/val/image21 (4).png to /tmp/model/dataset_0/images/val/image21 (4).png\n",
      "Copied model/dataset_0/images/val/image22 (2).png to /tmp/model/dataset_0/images/val/image22 (2).png\n",
      "Copied model/dataset_0/images/val/image22 (5).png to /tmp/model/dataset_0/images/val/image22 (5).png\n",
      "Copied model/dataset_0/images/val/image23 (2).png to /tmp/model/dataset_0/images/val/image23 (2).png\n",
      "Copied model/dataset_0/images/val/image24 (2).png to /tmp/model/dataset_0/images/val/image24 (2).png\n",
      "Copied model/dataset_0/images/val/image24 (3).png to /tmp/model/dataset_0/images/val/image24 (3).png\n",
      "Copied model/dataset_0/images/val/image25 (5).png to /tmp/model/dataset_0/images/val/image25 (5).png\n",
      "Copied model/dataset_0/images/val/image25.png to /tmp/model/dataset_0/images/val/image25.png\n",
      "Copied model/dataset_0/images/val/image26 (2).png to /tmp/model/dataset_0/images/val/image26 (2).png\n",
      "Copied model/dataset_0/images/val/image26.png to /tmp/model/dataset_0/images/val/image26.png\n",
      "Copied model/dataset_0/images/val/image27 (5).png to /tmp/model/dataset_0/images/val/image27 (5).png\n",
      "Copied model/dataset_0/images/val/image30 (3).png to /tmp/model/dataset_0/images/val/image30 (3).png\n",
      "Copied model/dataset_0/images/val/image31.png to /tmp/model/dataset_0/images/val/image31.png\n",
      "Copied model/dataset_0/images/val/image32 (2).png to /tmp/model/dataset_0/images/val/image32 (2).png\n",
      "Copied model/dataset_0/images/val/image32.png to /tmp/model/dataset_0/images/val/image32.png\n",
      "Copied model/dataset_0/images/val/image7 (2).png to /tmp/model/dataset_0/images/val/image7 (2).png\n",
      "Copied model/dataset_0/images/val/image8.png to /tmp/model/dataset_0/images/val/image8.png\n",
      "Copied model/dataset_0/images/val/image9.png to /tmp/model/dataset_0/images/val/image9.png\n",
      "Copied model/dataset_0/images/val/images10.png to /tmp/model/dataset_0/images/val/images10.png\n",
      "Copied model/dataset_0/images/val/images100.png to /tmp/model/dataset_0/images/val/images100.png\n",
      "Copied model/dataset_0/images/val/images117.png to /tmp/model/dataset_0/images/val/images117.png\n",
      "Copied model/dataset_0/images/val/images12 (2).png to /tmp/model/dataset_0/images/val/images12 (2).png\n",
      "Copied model/dataset_0/images/val/images137.png to /tmp/model/dataset_0/images/val/images137.png\n",
      "Copied model/dataset_0/images/val/images148.png to /tmp/model/dataset_0/images/val/images148.png\n",
      "Copied model/dataset_0/images/val/images15 (3).png to /tmp/model/dataset_0/images/val/images15 (3).png\n",
      "Copied model/dataset_0/images/val/images151.png to /tmp/model/dataset_0/images/val/images151.png\n",
      "Copied model/dataset_0/images/val/images158.png to /tmp/model/dataset_0/images/val/images158.png\n",
      "Copied model/dataset_0/images/val/images161.png to /tmp/model/dataset_0/images/val/images161.png\n",
      "Copied model/dataset_0/images/val/images173.png to /tmp/model/dataset_0/images/val/images173.png\n",
      "Copied model/dataset_0/images/val/images177.png to /tmp/model/dataset_0/images/val/images177.png\n",
      "Copied model/dataset_0/images/val/images18 (2).png to /tmp/model/dataset_0/images/val/images18 (2).png\n",
      "Copied model/dataset_0/images/val/images18 (4).png to /tmp/model/dataset_0/images/val/images18 (4).png\n",
      "Copied model/dataset_0/images/val/images181.png to /tmp/model/dataset_0/images/val/images181.png\n",
      "Copied model/dataset_0/images/val/images183.png to /tmp/model/dataset_0/images/val/images183.png\n",
      "Copied model/dataset_0/images/val/images186.png to /tmp/model/dataset_0/images/val/images186.png\n",
      "Copied model/dataset_0/images/val/images196.png to /tmp/model/dataset_0/images/val/images196.png\n",
      "Copied model/dataset_0/images/val/images2 (2).png to /tmp/model/dataset_0/images/val/images2 (2).png\n",
      "Copied model/dataset_0/images/val/images21 (4).png to /tmp/model/dataset_0/images/val/images21 (4).png\n",
      "Copied model/dataset_0/images/val/images21.png to /tmp/model/dataset_0/images/val/images21.png\n",
      "Copied model/dataset_0/images/val/images211.png to /tmp/model/dataset_0/images/val/images211.png\n",
      "Copied model/dataset_0/images/val/images212.png to /tmp/model/dataset_0/images/val/images212.png\n",
      "Copied model/dataset_0/images/val/images213.png to /tmp/model/dataset_0/images/val/images213.png\n",
      "Copied model/dataset_0/images/val/images22 (4).png to /tmp/model/dataset_0/images/val/images22 (4).png\n",
      "Copied model/dataset_0/images/val/images24 (2).png to /tmp/model/dataset_0/images/val/images24 (2).png\n",
      "Copied model/dataset_0/images/val/images24 (4).png to /tmp/model/dataset_0/images/val/images24 (4).png\n",
      "Copied model/dataset_0/images/val/images25.png to /tmp/model/dataset_0/images/val/images25.png\n",
      "Copied model/dataset_0/images/val/images26 (3).png to /tmp/model/dataset_0/images/val/images26 (3).png\n",
      "Copied model/dataset_0/images/val/images26 (4).png to /tmp/model/dataset_0/images/val/images26 (4).png\n",
      "Copied model/dataset_0/images/val/images27 (2).png to /tmp/model/dataset_0/images/val/images27 (2).png\n",
      "Copied model/dataset_0/images/val/images27 (4).png to /tmp/model/dataset_0/images/val/images27 (4).png\n",
      "Copied model/dataset_0/images/val/images27 (5).png to /tmp/model/dataset_0/images/val/images27 (5).png\n",
      "Copied model/dataset_0/images/val/images28 (3).png to /tmp/model/dataset_0/images/val/images28 (3).png\n",
      "Copied model/dataset_0/images/val/images28 (4).png to /tmp/model/dataset_0/images/val/images28 (4).png\n",
      "Copied model/dataset_0/images/val/images28 (5).png to /tmp/model/dataset_0/images/val/images28 (5).png\n",
      "Copied model/dataset_0/images/val/images29 (5).png to /tmp/model/dataset_0/images/val/images29 (5).png\n",
      "Copied model/dataset_0/images/val/images3 (4).png to /tmp/model/dataset_0/images/val/images3 (4).png\n",
      "Copied model/dataset_0/images/val/images31 (3).png to /tmp/model/dataset_0/images/val/images31 (3).png\n",
      "Copied model/dataset_0/images/val/images31 (5).png to /tmp/model/dataset_0/images/val/images31 (5).png\n",
      "Copied model/dataset_0/images/val/images33 (4).png to /tmp/model/dataset_0/images/val/images33 (4).png\n",
      "Copied model/dataset_0/images/val/images33.png to /tmp/model/dataset_0/images/val/images33.png\n",
      "Copied model/dataset_0/images/val/images35 (2).png to /tmp/model/dataset_0/images/val/images35 (2).png\n",
      "Copied model/dataset_0/images/val/images36 (2).png to /tmp/model/dataset_0/images/val/images36 (2).png\n",
      "Copied model/dataset_0/images/val/images36.png to /tmp/model/dataset_0/images/val/images36.png\n",
      "Copied model/dataset_0/images/val/images37 (2).png to /tmp/model/dataset_0/images/val/images37 (2).png\n",
      "Copied model/dataset_0/images/val/images38 (3).png to /tmp/model/dataset_0/images/val/images38 (3).png\n",
      "Copied model/dataset_0/images/val/images39.png to /tmp/model/dataset_0/images/val/images39.png\n",
      "Copied model/dataset_0/images/val/images4 (4).png to /tmp/model/dataset_0/images/val/images4 (4).png\n",
      "Copied model/dataset_0/images/val/images44 (2).png to /tmp/model/dataset_0/images/val/images44 (2).png\n",
      "Copied model/dataset_0/images/val/images48.png to /tmp/model/dataset_0/images/val/images48.png\n",
      "Copied model/dataset_0/images/val/images57.png to /tmp/model/dataset_0/images/val/images57.png\n",
      "Copied model/dataset_0/images/val/images6 (3).png to /tmp/model/dataset_0/images/val/images6 (3).png\n",
      "Copied model/dataset_0/images/val/images6 (4).png to /tmp/model/dataset_0/images/val/images6 (4).png\n",
      "Copied model/dataset_0/images/val/images62.png to /tmp/model/dataset_0/images/val/images62.png\n",
      "Copied model/dataset_0/images/val/images65.png to /tmp/model/dataset_0/images/val/images65.png\n",
      "Copied model/dataset_0/images/val/images70.png to /tmp/model/dataset_0/images/val/images70.png\n",
      "Copied model/dataset_0/images/val/images75.png to /tmp/model/dataset_0/images/val/images75.png\n",
      "Copied model/dataset_0/images/val/images79.png to /tmp/model/dataset_0/images/val/images79.png\n",
      "Copied model/dataset_0/images/val/images8 (2).png to /tmp/model/dataset_0/images/val/images8 (2).png\n",
      "Copied model/dataset_0/images/val/images87.png to /tmp/model/dataset_0/images/val/images87.png\n",
      "Copied model/dataset_0/images/val/images90.png to /tmp/model/dataset_0/images/val/images90.png\n",
      "Copied model/dataset_0/images/val/images93.png to /tmp/model/dataset_0/images/val/images93.png\n",
      "Copied model/dataset_0/images/val/images98.png to /tmp/model/dataset_0/images/val/images98.png\n",
      "Copied model/dataset_0/images/val/indochinese-tiger-scaled.png to /tmp/model/dataset_0/images/val/indochinese-tiger-scaled.png\n",
      "Copied model/dataset_0/images/val/malayan-sun-bear-isolated-on-white-background-FCPHEE.png to /tmp/model/dataset_0/images/val/malayan-sun-bear-isolated-on-white-background-FCPHEE.png\n",
      "Copied model/dataset_0/images/val/maxresdefault2 (2).png to /tmp/model/dataset_0/images/val/maxresdefault2 (2).png\n",
      "Copied model/dataset_0/images/val/maxresdefault3.png to /tmp/model/dataset_0/images/val/maxresdefault3.png\n",
      "Copied model/dataset_0/images/val/n3qtmj_-sumatran-tigers_625x300_16_February_23.png to /tmp/model/dataset_0/images/val/n3qtmj_-sumatran-tigers_625x300_16_February_23.png\n",
      "Copied model/dataset_0/images/val/northern-pig-tailed-macaque-macaca-leonina-baby-eating-a-banana-thailand-PF1C4D.png to /tmp/model/dataset_0/images/val/northern-pig-tailed-macaque-macaca-leonina-baby-eating-a-banana-thailand-PF1C4D.png\n",
      "Copied model/dataset_0/images/val/northern-pig-tailed-macaque-shutterstock_1060534463-r.png to /tmp/model/dataset_0/images/val/northern-pig-tailed-macaque-shutterstock_1060534463-r.png\n",
      "Copied model/dataset_0/images/val/nptm_-tontantravel.png to /tmp/model/dataset_0/images/val/nptm_-tontantravel.png\n",
      "Copied model/dataset_0/images/val/pig-tailed-macaque-2-768x512.png to /tmp/model/dataset_0/images/val/pig-tailed-macaque-2-768x512.png\n",
      "Copied model/dataset_0/images/val/pigtailedmacaque4ci92.png to /tmp/model/dataset_0/images/val/pigtailedmacaque4ci92.png\n",
      "Copied model/dataset_0/images/val/pin-pigtail-macaque-5-300x259.png to /tmp/model/dataset_0/images/val/pin-pigtail-macaque-5-300x259.png\n",
      "Copied model/dataset_0/images/val/qmTrmidGxtYqoT4zjoxPcV-1200-80.png to /tmp/model/dataset_0/images/val/qmTrmidGxtYqoT4zjoxPcV-1200-80.png\n",
      "Copied model/dataset_0/images/val/rhinoceros-hornbill-and-the-horned-guan-birds-and-their-features.png to /tmp/model/dataset_0/images/val/rhinoceros-hornbill-and-the-horned-guan-birds-and-their-features.png\n",
      "Copied model/dataset_0/images/val/rhinoceros-hornbill-buceros-rhinoceros-malaysia-feeding-at-a-bird-table-2AM5T3N.png to /tmp/model/dataset_0/images/val/rhinoceros-hornbill-buceros-rhinoceros-malaysia-feeding-at-a-bird-table-2AM5T3N.png\n",
      "Copied model/dataset_0/images/val/rhinohornbill_gallery.png to /tmp/model/dataset_0/images/val/rhinohornbill_gallery.png\n",
      "Copied model/dataset_0/images/val/southern-pig-tailed-macaque-grass-natural-atmosphere-forest_60359-12.png to /tmp/model/dataset_0/images/val/southern-pig-tailed-macaque-grass-natural-atmosphere-forest_60359-12.png\n",
      "Copied model/dataset_0/images/val/sun-bear-tongue_4x3.png to /tmp/model/dataset_0/images/val/sun-bear-tongue_4x3.png\n",
      "Copied model/dataset_0/images/val/sun_bear2.png to /tmp/model/dataset_0/images/val/sun_bear2.png\n",
      "Copied model/dataset_0/images/val/sun_bear_8-e1656611077163.png to /tmp/model/dataset_0/images/val/sun_bear_8-e1656611077163.png\n",
      "Copied model/dataset_0/images/val/sunbearsmall.png to /tmp/model/dataset_0/images/val/sunbearsmall.png\n",
      "Copied model/dataset_0/images/val/tigerfact1.png to /tmp/model/dataset_0/images/val/tigerfact1.png\n",
      "Copied model/dataset_0/images/val/watercolor-rhinoceros-hornbill-bird-illustration-png.png to /tmp/model/dataset_0/images/val/watercolor-rhinoceros-hornbill-bird-illustration-png.png\n",
      "Copied model/dataset_0/images/val/webp_net_resizeimage_15_742270.png to /tmp/model/dataset_0/images/val/webp_net_resizeimage_15_742270.png\n",
      "Copied model/dataset_0/images/val/wp2321682.png to /tmp/model/dataset_0/images/val/wp2321682.png\n",
      "Copied model/dataset_0/labels/train.cache to /tmp/model/dataset_0/labels/train.cache\n",
      "Copied model/dataset_0/labels/train/-tailed-macaque-macaca-nemestrina-in-nature-of-tropical-forest-in-1817885570.txt to /tmp/model/dataset_0/labels/train/-tailed-macaque-macaca-nemestrina-in-nature-of-tropical-forest-in-1817885570.txt\n",
      "Copied model/dataset_0/labels/train/00000161-7af0-d279-ad6f-fffd5baf0000_4x3.txt to /tmp/model/dataset_0/labels/train/00000161-7af0-d279-ad6f-fffd5baf0000_4x3.txt\n",
      "Copied model/dataset_0/labels/train/01468685.txt to /tmp/model/dataset_0/labels/train/01468685.txt\n",
      "Copied model/dataset_0/labels/train/01508980.txt to /tmp/model/dataset_0/labels/train/01508980.txt\n",
      "Copied model/dataset_0/labels/train/0729_JRPool_Cats_Tiger1.txt to /tmp/model/dataset_0/labels/train/0729_JRPool_Cats_Tiger1.txt\n",
      "Copied model/dataset_0/labels/train/1.txt to /tmp/model/dataset_0/labels/train/1.txt\n",
      "Copied model/dataset_0/labels/train/1004_rhino_hornbill_web.txt to /tmp/model/dataset_0/labels/train/1004_rhino_hornbill_web.txt\n",
      "Copied model/dataset_0/labels/train/1036945.txt to /tmp/model/dataset_0/labels/train/1036945.txt\n",
      "Copied model/dataset_0/labels/train/10_rhinohornbill1.txt to /tmp/model/dataset_0/labels/train/10_rhinohornbill1.txt\n",
      "Copied model/dataset_0/labels/train/1280px-Northern_Pig-tailed_Macaques_28Macaca_leonina29_28785773436829.txt to /tmp/model/dataset_0/labels/train/1280px-Northern_Pig-tailed_Macaques_28Macaca_leonina29_28785773436829.txt\n",
      "Copied model/dataset_0/labels/train/155474-awpinxxhru-1614346011.txt to /tmp/model/dataset_0/labels/train/155474-awpinxxhru-1614346011.txt\n",
      "Copied model/dataset_0/labels/train/18154664.txt to /tmp/model/dataset_0/labels/train/18154664.txt\n",
      "Copied model/dataset_0/labels/train/18831.txt to /tmp/model/dataset_0/labels/train/18831.txt\n",
      "Copied model/dataset_0/labels/train/20080213-tiger-sumatra-1800.-767w.txt to /tmp/model/dataset_0/labels/train/20080213-tiger-sumatra-1800.-767w.txt\n",
      "Copied model/dataset_0/labels/train/2020_07_25_100945_1595646234._large.txt to /tmp/model/dataset_0/labels/train/2020_07_25_100945_1595646234._large.txt\n",
      "Copied model/dataset_0/labels/train/20540022-1.txt to /tmp/model/dataset_0/labels/train/20540022-1.txt\n",
      "Copied model/dataset_0/labels/train/2120558.txt to /tmp/model/dataset_0/labels/train/2120558.txt\n",
      "Copied model/dataset_0/labels/train/221201125814-01-sumatran-tiger.txt to /tmp/model/dataset_0/labels/train/221201125814-01-sumatran-tiger.txt\n",
      "Copied model/dataset_0/labels/train/230426220318-elephant-habitat-loss-asia-072021.txt to /tmp/model/dataset_0/labels/train/230426220318-elephant-habitat-loss-asia-072021.txt\n",
      "Copied model/dataset_0/labels/train/235.txt to /tmp/model/dataset_0/labels/train/235.txt\n",
      "Copied model/dataset_0/labels/train/240px-Cercopithecidae_-_Macaca_nemastrina.txt to /tmp/model/dataset_0/labels/train/240px-Cercopithecidae_-_Macaca_nemastrina.txt\n",
      "Copied model/dataset_0/labels/train/25kypxjpoj_Wild_Asian_Elephants_on_Path_WW1395.txt to /tmp/model/dataset_0/labels/train/25kypxjpoj_Wild_Asian_Elephants_on_Path_WW1395.txt\n",
      "Copied model/dataset_0/labels/train/2PUFewaDgu38Byuz2ZZCw3-1200-80.txt to /tmp/model/dataset_0/labels/train/2PUFewaDgu38Byuz2ZZCw3-1200-80.txt\n",
      "Copied model/dataset_0/labels/train/2e549f64-6a62-488c-8c6e-8ceba3684f7f-Asian_Elephant_Twins_kc003.JPG.txt to /tmp/model/dataset_0/labels/train/2e549f64-6a62-488c-8c6e-8ceba3684f7f-Asian_Elephant_Twins_kc003.JPG.txt\n",
      "Copied model/dataset_0/labels/train/2sbfxiugfk_BORNEO_Christy_Williams_WWF_113471.txt to /tmp/model/dataset_0/labels/train/2sbfxiugfk_BORNEO_Christy_Williams_WWF_113471.txt\n",
      "Copied model/dataset_0/labels/train/2tlod51659_Sumatran_Tiger_Hero.txt to /tmp/model/dataset_0/labels/train/2tlod51659_Sumatran_Tiger_Hero.txt\n",
      "Copied model/dataset_0/labels/train/325df792b1c0d11abe4b1b5a4f2c83e7.txt to /tmp/model/dataset_0/labels/train/325df792b1c0d11abe4b1b5a4f2c83e7.txt\n",
      "Copied model/dataset_0/labels/train/3260449ef30e884139aba7ae2e678f0e.txt to /tmp/model/dataset_0/labels/train/3260449ef30e884139aba7ae2e678f0e.txt\n",
      "Copied model/dataset_0/labels/train/360_F_435939046_6y5zOqlNPCTc2vOq5cAi9IBehYdGUerQ.txt to /tmp/model/dataset_0/labels/train/360_F_435939046_6y5zOqlNPCTc2vOq5cAi9IBehYdGUerQ.txt\n",
      "Copied model/dataset_0/labels/train/3910062_4x3.txt to /tmp/model/dataset_0/labels/train/3910062_4x3.txt\n",
      "Copied model/dataset_0/labels/train/3brsv7voo0_Asian_elephant_Kuiburi_Thailand.txt to /tmp/model/dataset_0/labels/train/3brsv7voo0_Asian_elephant_Kuiburi_Thailand.txt\n",
      "Copied model/dataset_0/labels/train/41598_2023_30650_Fig1_HTML.txt to /tmp/model/dataset_0/labels/train/41598_2023_30650_Fig1_HTML.txt\n",
      "Copied model/dataset_0/labels/train/4c5bfc5b841ab4679aba997856de57ec.txt to /tmp/model/dataset_0/labels/train/4c5bfc5b841ab4679aba997856de57ec.txt\n",
      "Copied model/dataset_0/labels/train/4w3v6wg9x1_Medium_WW226367.txt to /tmp/model/dataset_0/labels/train/4w3v6wg9x1_Medium_WW226367.txt\n",
      "Copied model/dataset_0/labels/train/50081570097_f3d4e15cfe_b.txt to /tmp/model/dataset_0/labels/train/50081570097_f3d4e15cfe_b.txt\n",
      "Copied model/dataset_0/labels/train/51681720629_9c6e072efd_h.txt to /tmp/model/dataset_0/labels/train/51681720629_9c6e072efd_h.txt\n",
      "Copied model/dataset_0/labels/train/542.f87a0203676be53aa507fc02b954cd36.txt to /tmp/model/dataset_0/labels/train/542.f87a0203676be53aa507fc02b954cd36.txt\n",
      "Copied model/dataset_0/labels/train/5c784d00ddd638e76dbf8cdef84d9bdf2104a598.txt to /tmp/model/dataset_0/labels/train/5c784d00ddd638e76dbf8cdef84d9bdf2104a598.txt\n",
      "Copied model/dataset_0/labels/train/5dcb1d67.txt to /tmp/model/dataset_0/labels/train/5dcb1d67.txt\n",
      "Copied model/dataset_0/labels/train/60308692_1275691565916150_285907095197319168_o.txt to /tmp/model/dataset_0/labels/train/60308692_1275691565916150_285907095197319168_o.txt\n",
      "Copied model/dataset_0/labels/train/6140ddc041e160ce0e83b5ce_sun-bear-inset-1.txt to /tmp/model/dataset_0/labels/train/6140ddc041e160ce0e83b5ce_sun-bear-inset-1.txt\n",
      "Copied model/dataset_0/labels/train/63868cijym_3TigerPhoto.txt to /tmp/model/dataset_0/labels/train/63868cijym_3TigerPhoto.txt\n",
      "Copied model/dataset_0/labels/train/640px-2014_borneo_luyten-de-hauwere-southern_pig-tailed_macaque8073129672102943022.txt to /tmp/model/dataset_0/labels/train/640px-2014_borneo_luyten-de-hauwere-southern_pig-tailed_macaque8073129672102943022.txt\n",
      "Copied model/dataset_0/labels/train/667031214df1425bb4479c562783adfc.txt to /tmp/model/dataset_0/labels/train/667031214df1425bb4479c562783adfc.txt\n",
      "Copied model/dataset_0/labels/train/686989.txt to /tmp/model/dataset_0/labels/train/686989.txt\n",
      "Copied model/dataset_0/labels/train/71zgklhHlsL.txt to /tmp/model/dataset_0/labels/train/71zgklhHlsL.txt\n",
      "Copied model/dataset_0/labels/train/78fp9rt9f7_Julie_Larsen_Maher_4392_African_elephant_in_wild_UGA_06_20_10.txt to /tmp/model/dataset_0/labels/train/78fp9rt9f7_Julie_Larsen_Maher_4392_African_elephant_in_wild_UGA_06_20_10.txt\n",
      "Copied model/dataset_0/labels/train/7vJB6gzCdF0aKswBNyvR.txt to /tmp/model/dataset_0/labels/train/7vJB6gzCdF0aKswBNyvR.txt\n",
      "Copied model/dataset_0/labels/train/800px-Sun_bear_medan_old_zoo.JPG.txt to /tmp/model/dataset_0/labels/train/800px-Sun_bear_medan_old_zoo.JPG.txt\n",
      "Copied model/dataset_0/labels/train/81308982cbffab845b2f8bdf6d8a77c2.txt to /tmp/model/dataset_0/labels/train/81308982cbffab845b2f8bdf6d8a77c2.txt\n",
      "Copied model/dataset_0/labels/train/8265623373_bac98ec8a5_b.txt to /tmp/model/dataset_0/labels/train/8265623373_bac98ec8a5_b.txt\n",
      "Copied model/dataset_0/labels/train/8294ebf4-243c-11ec-bb55-2fb9e639f35f_1633260957108.txt to /tmp/model/dataset_0/labels/train/8294ebf4-243c-11ec-bb55-2fb9e639f35f_1633260957108.txt\n",
      "Copied model/dataset_0/labels/train/841533131384_3.txt to /tmp/model/dataset_0/labels/train/841533131384_3.txt\n",
      "Copied model/dataset_0/labels/train/87761859_XS.txt to /tmp/model/dataset_0/labels/train/87761859_XS.txt\n",
      "Copied model/dataset_0/labels/train/91820788.txt to /tmp/model/dataset_0/labels/train/91820788.txt\n",
      "Copied model/dataset_0/labels/train/9473558_orig.txt to /tmp/model/dataset_0/labels/train/9473558_orig.txt\n",
      "Copied model/dataset_0/labels/train/990329-asian-african-elephant.txt to /tmp/model/dataset_0/labels/train/990329-asian-african-elephant.txt\n",
      "Copied model/dataset_0/labels/train/99dsjm2iaw_Medium_WW2122503.txt to /tmp/model/dataset_0/labels/train/99dsjm2iaw_Medium_WW2122503.txt\n",
      "Copied model/dataset_0/labels/train/9be1ce1c79994a37b6c7872b90cfdc5e.txt to /tmp/model/dataset_0/labels/train/9be1ce1c79994a37b6c7872b90cfdc5e.txt\n",
      "Copied model/dataset_0/labels/train/9zy93an7gxs81.txt to /tmp/model/dataset_0/labels/train/9zy93an7gxs81.txt\n",
      "Copied model/dataset_0/labels/train/AB-Apana_1.txt to /tmp/model/dataset_0/labels/train/AB-Apana_1.txt\n",
      "Copied model/dataset_0/labels/train/AB-Elephant-Bull-Mara-Oct-111.txt to /tmp/model/dataset_0/labels/train/AB-Elephant-Bull-Mara-Oct-111.txt\n",
      "Copied model/dataset_0/labels/train/AdobeStock_127085045_l.txt to /tmp/model/dataset_0/labels/train/AdobeStock_127085045_l.txt\n",
      "Copied model/dataset_0/labels/train/AdobeStock_129134705_p.txt to /tmp/model/dataset_0/labels/train/AdobeStock_129134705_p.txt\n",
      "Copied model/dataset_0/labels/train/AdobeStock_168092282.txt to /tmp/model/dataset_0/labels/train/AdobeStock_168092282.txt\n",
      "Copied model/dataset_0/labels/train/African2Belephant2Bvs2BIndian2Belephant.txt to /tmp/model/dataset_0/labels/train/African2Belephant2Bvs2BIndian2Belephant.txt\n",
      "Copied model/dataset_0/labels/train/Alys-Granados-Malayan-Sun-Bear_0676.txt to /tmp/model/dataset_0/labels/train/Alys-Granados-Malayan-Sun-Bear_0676.txt\n",
      "Copied model/dataset_0/labels/train/Amaze_Wing_Facts_About_The_Rhinoceros_Hornbill_For_Kids_66bee2a03a.txt to /tmp/model/dataset_0/labels/train/Amaze_Wing_Facts_About_The_Rhinoceros_Hornbill_For_Kids_66bee2a03a.txt\n",
      "Copied model/dataset_0/labels/train/Asian-Elephant-0491-2624.txt to /tmp/model/dataset_0/labels/train/Asian-Elephant-0491-2624.txt\n",
      "Copied model/dataset_0/labels/train/Asian-elephant-1.txt to /tmp/model/dataset_0/labels/train/Asian-elephant-1.txt\n",
      "Copied model/dataset_0/labels/train/Asian-elephant-calf-Sir-Lanka-GettyImages-1329711312-8712121.txt to /tmp/model/dataset_0/labels/train/Asian-elephant-calf-Sir-Lanka-GettyImages-1329711312-8712121.txt\n",
      "Copied model/dataset_0/labels/train/Asian-elephant-with-tusks-GettyImages-1357504051-aa5b0f9.txt to /tmp/model/dataset_0/labels/train/Asian-elephant-with-tusks-GettyImages-1357504051-aa5b0f9.txt\n",
      "Copied model/dataset_0/labels/train/Asian20elephant20at20WZ.txt to /tmp/model/dataset_0/labels/train/Asian20elephant20at20WZ.txt\n",
      "Copied model/dataset_0/labels/train/Asian20elephant20by20Sanjiv20Fernando.txt to /tmp/model/dataset_0/labels/train/Asian20elephant20by20Sanjiv20Fernando.txt\n",
      "Copied model/dataset_0/labels/train/BIR071-00054.txt to /tmp/model/dataset_0/labels/train/BIR071-00054.txt\n",
      "Copied model/dataset_0/labels/train/Beautiful_Sumatran_Tiger_Cub_28971134958829.txt to /tmp/model/dataset_0/labels/train/Beautiful_Sumatran_Tiger_Cub_28971134958829.txt\n",
      "Copied model/dataset_0/labels/train/Beruang-Madu-e1647743179229-1200x1200-cropped.txt to /tmp/model/dataset_0/labels/train/Beruang-Madu-e1647743179229-1200x1200-cropped.txt\n",
      "Copied model/dataset_0/labels/train/Borneo-BradJosephs-5-fin_Web.txt to /tmp/model/dataset_0/labels/train/Borneo-BradJosephs-5-fin_Web.txt\n",
      "Copied model/dataset_0/labels/train/Buceros_rhinoceros_-Kuala_Lumpur_Bird_Park_Malaysia-8a_1.txt to /tmp/model/dataset_0/labels/train/Buceros_rhinoceros_-Kuala_Lumpur_Bird_Park_Malaysia-8a_1.txt\n",
      "Copied model/dataset_0/labels/train/Buceros_rhinoceros_-Singapore_Zoo_-pair-8a.txt to /tmp/model/dataset_0/labels/train/Buceros_rhinoceros_-Singapore_Zoo_-pair-8a.txt\n",
      "Copied model/dataset_0/labels/train/Can-elephants-jump-Indian-elephant.txt to /tmp/model/dataset_0/labels/train/Can-elephants-jump-Indian-elephant.txt\n",
      "Copied model/dataset_0/labels/train/D03ca0e0403f33e2e8e6b397869c3041.txt to /tmp/model/dataset_0/labels/train/D03ca0e0403f33e2e8e6b397869c3041.txt\n",
      "Copied model/dataset_0/labels/train/DSC_0173.txt to /tmp/model/dataset_0/labels/train/DSC_0173.txt\n",
      "Copied model/dataset_0/labels/train/DSC_8682.txt to /tmp/model/dataset_0/labels/train/DSC_8682.txt\n",
      "Copied model/dataset_0/labels/train/DSC_9565-pig-tailed-macaque-thoughtful-ed1-1500px16x9CR.txt to /tmp/model/dataset_0/labels/train/DSC_9565-pig-tailed-macaque-thoughtful-ed1-1500px16x9CR.txt\n",
      "Copied model/dataset_0/labels/train/Elephants-3-species.txt to /tmp/model/dataset_0/labels/train/Elephants-3-species.txt\n",
      "Copied model/dataset_0/labels/train/ElpFF4XW0AMtoaB.txt to /tmp/model/dataset_0/labels/train/ElpFF4XW0AMtoaB.txt\n",
      "Copied model/dataset_0/labels/train/Highway-near-Corbett-Tiger-Reserve-India-1--A-G-Ansari-scaled-1.txt to /tmp/model/dataset_0/labels/train/Highway-near-Corbett-Tiger-Reserve-India-1--A-G-Ansari-scaled-1.txt\n",
      "Copied model/dataset_0/labels/train/I0000ffjlo.7O8iw.txt to /tmp/model/dataset_0/labels/train/I0000ffjlo.7O8iw.txt\n",
      "Copied model/dataset_0/labels/train/I0000vV5UW1yI6BI.txt to /tmp/model/dataset_0/labels/train/I0000vV5UW1yI6BI.txt\n",
      "Copied model/dataset_0/labels/train/IMG-6699-copy.txt to /tmp/model/dataset_0/labels/train/IMG-6699-copy.txt\n",
      "Copied model/dataset_0/labels/train/IMG_0476-1024x683.txt to /tmp/model/dataset_0/labels/train/IMG_0476-1024x683.txt\n",
      "Copied model/dataset_0/labels/train/IMG_2504.txt to /tmp/model/dataset_0/labels/train/IMG_2504.txt\n",
      "Copied model/dataset_0/labels/train/IMG_2599.txt to /tmp/model/dataset_0/labels/train/IMG_2599.txt\n",
      "Copied model/dataset_0/labels/train/IMG_5221_01-1.txt to /tmp/model/dataset_0/labels/train/IMG_5221_01-1.txt\n",
      "Copied model/dataset_0/labels/train/Imah5.7.JPG.txt to /tmp/model/dataset_0/labels/train/Imah5.7.JPG.txt\n",
      "Copied model/dataset_0/labels/train/L65QNG3OZU4G34M3WYTTBVMGOI.txt to /tmp/model/dataset_0/labels/train/L65QNG3OZU4G34M3WYTTBVMGOI.txt\n",
      "Copied model/dataset_0/labels/train/LEN-or-pucker-facial-expression-female-pigtailed-macaque-photo-by-Martin-Maurer.txt to /tmp/model/dataset_0/labels/train/LEN-or-pucker-facial-expression-female-pigtailed-macaque-photo-by-Martin-Maurer.txt\n",
      "Copied model/dataset_0/labels/train/Large_WW140085.txt to /tmp/model/dataset_0/labels/train/Large_WW140085.txt\n",
      "Copied model/dataset_0/labels/train/MA_00571007_gwipuj.txt to /tmp/model/dataset_0/labels/train/MA_00571007_gwipuj.txt\n",
      "Copied model/dataset_0/labels/train/Macaca_leonina.txt to /tmp/model/dataset_0/labels/train/Macaca_leonina.txt\n",
      "Copied model/dataset_0/labels/train/Macaca_leonina_mother_with_baby_-_Khao_Yai.txt to /tmp/model/dataset_0/labels/train/Macaca_leonina_mother_with_baby_-_Khao_Yai.txt\n",
      "Copied model/dataset_0/labels/train/Macaca_nemestrina2C_Southern_Pig-tailed_Macaque2CI_JSA5451.txt to /tmp/model/dataset_0/labels/train/Macaca_nemestrina2C_Southern_Pig-tailed_Macaque2CI_JSA5451.txt\n",
      "Copied model/dataset_0/labels/train/Malaysian_Sun_Bear.txt to /tmp/model/dataset_0/labels/train/Malaysian_Sun_Bear.txt\n",
      "Copied model/dataset_0/labels/train/Medium_WW225836.txt to /tmp/model/dataset_0/labels/train/Medium_WW225836.txt\n",
      "Copied model/dataset_0/labels/train/Morphological-characters-of-released-male-pig-tailed-macaque-A-an-adult-female-rhesus.txt to /tmp/model/dataset_0/labels/train/Morphological-characters-of-released-male-pig-tailed-macaque-A-an-adult-female-rhesus.txt\n",
      "Copied model/dataset_0/labels/train/NESS-VIRUS-ZOOLOGY-8_1659079009413_1659079009413_1660282943427_1660282943427.txt to /tmp/model/dataset_0/labels/train/NESS-VIRUS-ZOOLOGY-8_1659079009413_1659079009413_1660282943427_1660282943427.txt\n",
      "Copied model/dataset_0/labels/train/NGM199704_41-1-1024x683.txt to /tmp/model/dataset_0/labels/train/NGM199704_41-1-1024x683.txt\n",
      "Copied model/dataset_0/labels/train/Nandi-scaled.txt to /tmp/model/dataset_0/labels/train/Nandi-scaled.txt\n",
      "Copied model/dataset_0/labels/train/NationalGeographic_2353198_16x9.txt to /tmp/model/dataset_0/labels/train/NationalGeographic_2353198_16x9.txt\n",
      "Copied model/dataset_0/labels/train/NationalGeographic_2748973_2x1.txt to /tmp/model/dataset_0/labels/train/NationalGeographic_2748973_2x1.txt\n",
      "Copied model/dataset_0/labels/train/Northern-Pig-Tailed-Macaque.txt to /tmp/model/dataset_0/labels/train/Northern-Pig-Tailed-Macaque.txt\n",
      "Copied model/dataset_0/labels/train/Northern-Pig-tailed-Macaque-c.txt to /tmp/model/dataset_0/labels/train/Northern-Pig-tailed-Macaque-c.txt\n",
      "Copied model/dataset_0/labels/train/Northern-Pig-tailed-Macaque-f.txt to /tmp/model/dataset_0/labels/train/Northern-Pig-tailed-Macaque-f.txt\n",
      "Copied model/dataset_0/labels/train/Northern_pig-tailed_macaque.JPG.txt to /tmp/model/dataset_0/labels/train/Northern_pig-tailed_macaque.JPG.txt\n",
      "Copied model/dataset_0/labels/train/Old-female_Sanjeeta_b9751a5495d73ddd9861716ec757d727.txt to /tmp/model/dataset_0/labels/train/Old-female_Sanjeeta_b9751a5495d73ddd9861716ec757d727.txt\n",
      "Copied model/dataset_0/labels/train/Palu-the-bear-Via-Virginia-Zoo.txt to /tmp/model/dataset_0/labels/train/Palu-the-bear-Via-Virginia-Zoo.txt\n",
      "Copied model/dataset_0/labels/train/Pigtail-Macaque_Borneo03861.txt to /tmp/model/dataset_0/labels/train/Pigtail-Macaque_Borneo03861.txt\n",
      "Copied model/dataset_0/labels/train/RHINOCEROUS-HORNBILL-scaled.txt to /tmp/model/dataset_0/labels/train/RHINOCEROUS-HORNBILL-scaled.txt\n",
      "Copied model/dataset_0/labels/train/Rhino-Hornbill-w-Caption.txt to /tmp/model/dataset_0/labels/train/Rhino-Hornbill-w-Caption.txt\n",
      "Copied model/dataset_0/labels/train/Rhinoceros-Hornbill-3-1.txt to /tmp/model/dataset_0/labels/train/Rhinoceros-Hornbill-3-1.txt\n",
      "Copied model/dataset_0/labels/train/Rhinoceros-Hornbill-800x634.txt to /tmp/model/dataset_0/labels/train/Rhinoceros-Hornbill-800x634.txt\n",
      "Copied model/dataset_0/labels/train/Rhinoceros-Hornbill-featured.txt to /tmp/model/dataset_0/labels/train/Rhinoceros-Hornbill-featured.txt\n",
      "Copied model/dataset_0/labels/train/Rhinoceros-Hornbill-male-at-nest-Thailand-Morten-Strange.txt to /tmp/model/dataset_0/labels/train/Rhinoceros-Hornbill-male-at-nest-Thailand-Morten-Strange.txt\n",
      "Copied model/dataset_0/labels/train/Rhinoceros-Hornbill-pair-subspecies-B.-r.-borneoensis_Con-Foley_Borneo.txt to /tmp/model/dataset_0/labels/train/Rhinoceros-Hornbill-pair-subspecies-B.-r.-borneoensis_Con-Foley_Borneo.txt\n",
      "Copied model/dataset_0/labels/train/Rhinoceros-Hornbill-picture-malaysia.JPG.txt to /tmp/model/dataset_0/labels/train/Rhinoceros-Hornbill-picture-malaysia.JPG.txt\n",
      "Copied model/dataset_0/labels/train/Rhinoceros-hornbill2.txt to /tmp/model/dataset_0/labels/train/Rhinoceros-hornbill2.txt\n",
      "Copied model/dataset_0/labels/train/Rhinoceros_Hornbill_28Buceros_rhinoceros29_female_28781601742429.txt to /tmp/model/dataset_0/labels/train/Rhinoceros_Hornbill_28Buceros_rhinoceros29_female_28781601742429.txt\n",
      "Copied model/dataset_0/labels/train/Rhinoceros_Hornbill_28samuel29.txt to /tmp/model/dataset_0/labels/train/Rhinoceros_Hornbill_28samuel29.txt\n",
      "Copied model/dataset_0/labels/train/Rhinoceros_hornbill_national_aviary.txt to /tmp/model/dataset_0/labels/train/Rhinoceros_hornbill_national_aviary.txt\n",
      "Copied model/dataset_0/labels/train/SURYODAY_ELEPHANT_SURAJ.txt to /tmp/model/dataset_0/labels/train/SURYODAY_ELEPHANT_SURAJ.txt\n",
      "Copied model/dataset_0/labels/train/SingaporeGeographic-Bird-00042.txt to /tmp/model/dataset_0/labels/train/SingaporeGeographic-Bird-00042.txt\n",
      "Copied model/dataset_0/labels/train/Southern-Pig-Tailed-Macaque-Mar-2023.txt to /tmp/model/dataset_0/labels/train/Southern-Pig-Tailed-Macaque-Mar-2023.txt\n",
      "Copied model/dataset_0/labels/train/Southern-Pig-tailed-Macaque-1-1024x678.txt to /tmp/model/dataset_0/labels/train/Southern-Pig-tailed-Macaque-1-1024x678.txt\n",
      "Copied model/dataset_0/labels/train/Southern-Pig-tailed-Macaque-2-1024x683.txt to /tmp/model/dataset_0/labels/train/Southern-Pig-tailed-Macaque-2-1024x683.txt\n",
      "Copied model/dataset_0/labels/train/Southern_Pig-tailed_Macaque_281397053980829.txt to /tmp/model/dataset_0/labels/train/Southern_Pig-tailed_Macaque_281397053980829.txt\n",
      "Copied model/dataset_0/labels/train/Sumatran-Tiger-Images.txt to /tmp/model/dataset_0/labels/train/Sumatran-Tiger-Images.txt\n",
      "Copied model/dataset_0/labels/train/Sumatran-Tiger.txt to /tmp/model/dataset_0/labels/train/Sumatran-Tiger.txt\n",
      "Copied model/dataset_0/labels/train/SumatranTiger_Habitat.txt to /tmp/model/dataset_0/labels/train/SumatranTiger_Habitat.txt\n",
      "Copied model/dataset_0/labels/train/Sumatran_Tiger_Berlin_Tierpark.txt to /tmp/model/dataset_0/labels/train/Sumatran_Tiger_Berlin_Tierpark.txt\n",
      "Copied model/dataset_0/labels/train/Sun-bear-cubs.txt to /tmp/model/dataset_0/labels/train/Sun-bear-cubs.txt\n",
      "Copied model/dataset_0/labels/train/Sun-bear.txt to /tmp/model/dataset_0/labels/train/Sun-bear.txt\n",
      "Copied model/dataset_0/labels/train/SunBear-edit.txt to /tmp/model/dataset_0/labels/train/SunBear-edit.txt\n",
      "Copied model/dataset_0/labels/train/Sunbear.txt to /tmp/model/dataset_0/labels/train/Sunbear.txt\n",
      "Copied model/dataset_0/labels/train/Sunbear__h2q7567.txt to /tmp/model/dataset_0/labels/train/Sunbear__h2q7567.txt\n",
      "Copied model/dataset_0/labels/train/Thailand-Dusting-Blog-scaled.txt to /tmp/model/dataset_0/labels/train/Thailand-Dusting-Blog-scaled.txt\n",
      "Copied model/dataset_0/labels/train/Tig8_Male-tiger-recorded-on-every-survey-since-2014.txt to /tmp/model/dataset_0/labels/train/Tig8_Male-tiger-recorded-on-every-survey-since-2014.txt\n",
      "Copied model/dataset_0/labels/train/Tiger-main.txt to /tmp/model/dataset_0/labels/train/Tiger-main.txt\n",
      "Copied model/dataset_0/labels/train/TigerCamZoo.txt to /tmp/model/dataset_0/labels/train/TigerCamZoo.txt\n",
      "Copied model/dataset_0/labels/train/UDY_1642_pvmhez.txt to /tmp/model/dataset_0/labels/train/UDY_1642_pvmhez.txt\n",
      "Copied model/dataset_0/labels/train/WR202302_WTI_026_407352_reduced.txt to /tmp/model/dataset_0/labels/train/WR202302_WTI_026_407352_reduced.txt\n",
      "Copied model/dataset_0/labels/train/WhatsApp-Image-2022-09-29-at-9.50.41-AM.txt to /tmp/model/dataset_0/labels/train/WhatsApp-Image-2022-09-29-at-9.50.41-AM.txt\n",
      "Copied model/dataset_0/labels/train/a-sun-bear-helarctos-malayanus-standing-up-on-it-hind-legs-at-rare-F639CK.txt to /tmp/model/dataset_0/labels/train/a-sun-bear-helarctos-malayanus-standing-up-on-it-hind-legs-at-rare-F639CK.txt\n",
      "Copied model/dataset_0/labels/train/a40cd399b4fc476df2a34e0859636a2d.txt to /tmp/model/dataset_0/labels/train/a40cd399b4fc476df2a34e0859636a2d.txt\n",
      "Copied model/dataset_0/labels/train/af79f91c6f5946639f690c5efaefef42.txt to /tmp/model/dataset_0/labels/train/af79f91c6f5946639f690c5efaefef42.txt\n",
      "Copied model/dataset_0/labels/train/after-genome-sequencing-scientists-find-95-similarity-in-asian-african-elephants.txt to /tmp/model/dataset_0/labels/train/after-genome-sequencing-scientists-find-95-similarity-in-asian-african-elephants.txt\n",
      "Copied model/dataset_0/labels/train/als-world-beautiful-of-rhinocreos-hornbill-birds-gallery-rhinoceros-hornbill.txt to /tmp/model/dataset_0/labels/train/als-world-beautiful-of-rhinocreos-hornbill-birds-gallery-rhinoceros-hornbill.txt\n",
      "Copied model/dataset_0/labels/train/animals_02471.txt to /tmp/model/dataset_0/labels/train/animals_02471.txt\n",
      "Copied model/dataset_0/labels/train/animals_02478.txt to /tmp/model/dataset_0/labels/train/animals_02478.txt\n",
      "Copied model/dataset_0/labels/train/animals_02493.txt to /tmp/model/dataset_0/labels/train/animals_02493.txt\n",
      "Copied model/dataset_0/labels/train/ar-western-gorilla-sun-bear-common-chimpanzee-bears-mammal-animals-thumbnail.txt to /tmp/model/dataset_0/labels/train/ar-western-gorilla-sun-bear-common-chimpanzee-bears-mammal-animals-thumbnail.txt\n",
      "Copied model/dataset_0/labels/train/asain-elephant-endangered_s.txt to /tmp/model/dataset_0/labels/train/asain-elephant-endangered_s.txt\n",
      "Copied model/dataset_0/labels/train/asesgbannernew.txt to /tmp/model/dataset_0/labels/train/asesgbannernew.txt\n",
      "Copied model/dataset_0/labels/train/asian-african-elephants.txt to /tmp/model/dataset_0/labels/train/asian-african-elephants.txt\n",
      "Copied model/dataset_0/labels/train/asian-elephant-005-20160323-37am-1.txt to /tmp/model/dataset_0/labels/train/asian-elephant-005-20160323-37am-1.txt\n",
      "Copied model/dataset_0/labels/train/asian-elephant-elephas-maximus-male-india-W7R1RT.txt to /tmp/model/dataset_0/labels/train/asian-elephant-elephas-maximus-male-india-W7R1RT.txt\n",
      "Copied model/dataset_0/labels/train/asian20elephant20dreamstime_36478319.txt to /tmp/model/dataset_0/labels/train/asian20elephant20dreamstime_36478319.txt\n",
      "Copied model/dataset_0/labels/train/asian_elephant.txt to /tmp/model/dataset_0/labels/train/asian_elephant.txt\n",
      "Copied model/dataset_0/labels/train/az_tiger.txt to /tmp/model/dataset_0/labels/train/az_tiger.txt\n",
      "Copied model/dataset_0/labels/train/b261f74e0f3b48e33b0350a00e55195b.txt to /tmp/model/dataset_0/labels/train/b261f74e0f3b48e33b0350a00e55195b.txt\n",
      "Copied model/dataset_0/labels/train/baby-asian-elephant-its-mother.txt to /tmp/model/dataset_0/labels/train/baby-asian-elephant-its-mother.txt\n",
      "Copied model/dataset_0/labels/train/baby-macaque2.txt to /tmp/model/dataset_0/labels/train/baby-macaque2.txt\n",
      "Copied model/dataset_0/labels/train/baby-northern-pig-tailed-macaque-macaca-leonina-sitting-in-the-road-C0W81F.txt to /tmp/model/dataset_0/labels/train/baby-northern-pig-tailed-macaque-macaca-leonina-sitting-in-the-road-C0W81F.txt\n",
      "Copied model/dataset_0/labels/train/bear.txt to /tmp/model/dataset_0/labels/train/bear.txt\n",
      "Copied model/dataset_0/labels/train/bears.txt to /tmp/model/dataset_0/labels/train/bears.txt\n",
      "Copied model/dataset_0/labels/train/birdorable_rhinoceros_hornbill_baby_blanket-rb24c6bf49dfc472c9f7d66909c9393b5_zfi5i_640.txt to /tmp/model/dataset_0/labels/train/birdorable_rhinoceros_hornbill_baby_blanket-rb24c6bf49dfc472c9f7d66909c9393b5_zfi5i_640.txt\n",
      "Copied model/dataset_0/labels/train/bwi-bs267658.txt to /tmp/model/dataset_0/labels/train/bwi-bs267658.txt\n",
      "Copied model/dataset_0/labels/train/c0011882-800px-wm.txt to /tmp/model/dataset_0/labels/train/c0011882-800px-wm.txt\n",
      "Copied model/dataset_0/labels/train/c9f2d3057aad661ef37b035c0832eeb9.txt to /tmp/model/dataset_0/labels/train/c9f2d3057aad661ef37b035c0832eeb9.txt\n",
      "Copied model/dataset_0/labels/train/calao-rinoceronte.txt to /tmp/model/dataset_0/labels/train/calao-rinoceronte.txt\n",
      "Copied model/dataset_0/labels/train/ceros-one-largest-hornbills-adults-being-approximately-size-swan-cm-34263858.txt to /tmp/model/dataset_0/labels/train/ceros-one-largest-hornbills-adults-being-approximately-size-swan-cm-34263858.txt\n",
      "Copied model/dataset_0/labels/train/d_macaque_pig-tailed_macaque_and_pileated_gibbon._neth_pheaktra_via_facebook.txt to /tmp/model/dataset_0/labels/train/d_macaque_pig-tailed_macaque_and_pileated_gibbon._neth_pheaktra_via_facebook.txt\n",
      "Copied model/dataset_0/labels/train/db2a3ed7-b331-4eb8-9c02-043cd647722c_1140x641.txt to /tmp/model/dataset_0/labels/train/db2a3ed7-b331-4eb8-9c02-043cd647722c_1140x641.txt\n",
      "Copied model/dataset_0/labels/train/depositphotos_388876340-stock-photo-sumatran-tiger-panthera-tigris-sumatrae.txt to /tmp/model/dataset_0/labels/train/depositphotos_388876340-stock-photo-sumatran-tiger-panthera-tigris-sumatrae.txt\n",
      "Copied model/dataset_0/labels/train/desktop-wallpaper-tiger-live-sumatran-tiger.txt to /tmp/model/dataset_0/labels/train/desktop-wallpaper-tiger-live-sumatran-tiger.txt\n",
      "Copied model/dataset_0/labels/train/dsc-5733_orig.txt to /tmp/model/dataset_0/labels/train/dsc-5733_orig.txt\n",
      "Copied model/dataset_0/labels/train/dsc09405.txt to /tmp/model/dataset_0/labels/train/dsc09405.txt\n",
      "Copied model/dataset_0/labels/train/dsc_3149.txt to /tmp/model/dataset_0/labels/train/dsc_3149.txt\n",
      "Copied model/dataset_0/labels/train/e1f28954-b8ff-4167-a94f-238eea50d279_1140x641.txt to /tmp/model/dataset_0/labels/train/e1f28954-b8ff-4167-a94f-238eea50d279_1140x641.txt\n",
      "Copied model/dataset_0/labels/train/e7f69674-3fd8-488c-a05d-dd35048c19e5.txt to /tmp/model/dataset_0/labels/train/e7f69674-3fd8-488c-a05d-dd35048c19e5.txt\n",
      "Copied model/dataset_0/labels/train/elelphant4-gty-ml-230427_1682602356150_hpMain_16x9_1600.txt to /tmp/model/dataset_0/labels/train/elelphant4-gty-ml-230427_1682602356150_hpMain_16x9_1600.txt\n",
      "Copied model/dataset_0/labels/train/elephant-2405757_1280.txt to /tmp/model/dataset_0/labels/train/elephant-2405757_1280.txt\n",
      "Copied model/dataset_0/labels/train/elephant-road.txt to /tmp/model/dataset_0/labels/train/elephant-road.txt\n",
      "Copied model/dataset_0/labels/train/elephant-twins-november-2022-16-edit-fix.txt to /tmp/model/dataset_0/labels/train/elephant-twins-november-2022-16-edit-fix.txt\n",
      "Copied model/dataset_0/labels/train/elephant.txt to /tmp/model/dataset_0/labels/train/elephant.txt\n",
      "Copied model/dataset_0/labels/train/elephant20program201.txt to /tmp/model/dataset_0/labels/train/elephant20program201.txt\n",
      "Copied model/dataset_0/labels/train/elephant_wayanad_5_boominathan_wwf_india_40264.txt to /tmp/model/dataset_0/labels/train/elephant_wayanad_5_boominathan_wwf_india_40264.txt\n",
      "Copied model/dataset_0/labels/train/elephants-4487108_960_720.txt to /tmp/model/dataset_0/labels/train/elephants-4487108_960_720.txt\n",
      "Copied model/dataset_0/labels/train/elephants.txt to /tmp/model/dataset_0/labels/train/elephants.txt\n",
      "Copied model/dataset_0/labels/train/eros-hornbill-zoo-tycoon-2-toucan-great-hornbill-bird-animals-fauna-wildlife.txt to /tmp/model/dataset_0/labels/train/eros-hornbill-zoo-tycoon-2-toucan-great-hornbill-bird-animals-fauna-wildlife.txt\n",
      "Copied model/dataset_0/labels/train/female-southern-pig-tailed-macaque-macaca-nemestrina-in-season-as-E9GRTR.txt to /tmp/model/dataset_0/labels/train/female-southern-pig-tailed-macaque-macaca-nemestrina-in-season-as-E9GRTR.txt\n",
      "Copied model/dataset_0/labels/train/file-20210928-15-69p37o.txt to /tmp/model/dataset_0/labels/train/file-20210928-15-69p37o.txt\n",
      "Copied model/dataset_0/labels/train/focused_293476966-stock-photo-malaysia-borneo-sepilok-orangutan-rehabilitation.txt to /tmp/model/dataset_0/labels/train/focused_293476966-stock-photo-malaysia-borneo-sepilok-orangutan-rehabilitation.txt\n",
      "Copied model/dataset_0/labels/train/fun_sumatran_tiger_facts_for_kids_205e8288dd.txt to /tmp/model/dataset_0/labels/train/fun_sumatran_tiger_facts_for_kids_205e8288dd.txt\n",
      "Copied model/dataset_0/labels/train/gettyimages-1051885064.txt to /tmp/model/dataset_0/labels/train/gettyimages-1051885064.txt\n",
      "Copied model/dataset_0/labels/train/h1380-381b4.txt to /tmp/model/dataset_0/labels/train/h1380-381b4.txt\n",
      "Copied model/dataset_0/labels/train/harimau-sumatra.txt to /tmp/model/dataset_0/labels/train/harimau-sumatra.txt\n",
      "Copied model/dataset_0/labels/train/hornbill-411423_1280.txt to /tmp/model/dataset_0/labels/train/hornbill-411423_1280.txt\n",
      "Copied model/dataset_0/labels/train/image (2).txt to /tmp/model/dataset_0/labels/train/image (2).txt\n",
      "Copied model/dataset_0/labels/train/image (3).txt to /tmp/model/dataset_0/labels/train/image (3).txt\n",
      "Copied model/dataset_0/labels/train/image (4).txt to /tmp/model/dataset_0/labels/train/image (4).txt\n",
      "Copied model/dataset_0/labels/train/image-3477-pig-tailed-macaque-kinabatangan-river-malaysia.txt to /tmp/model/dataset_0/labels/train/image-3477-pig-tailed-macaque-kinabatangan-river-malaysia.txt\n",
      "Copied model/dataset_0/labels/train/image-asset.txt to /tmp/model/dataset_0/labels/train/image-asset.txt\n",
      "Copied model/dataset_0/labels/train/image.txt to /tmp/model/dataset_0/labels/train/image.txt\n",
      "Copied model/dataset_0/labels/train/image10 (2).txt to /tmp/model/dataset_0/labels/train/image10 (2).txt\n",
      "Copied model/dataset_0/labels/train/image10 (3).txt to /tmp/model/dataset_0/labels/train/image10 (3).txt\n",
      "Copied model/dataset_0/labels/train/image10 (4).txt to /tmp/model/dataset_0/labels/train/image10 (4).txt\n",
      "Copied model/dataset_0/labels/train/image10.txt to /tmp/model/dataset_0/labels/train/image10.txt\n",
      "Copied model/dataset_0/labels/train/image11 (2).txt to /tmp/model/dataset_0/labels/train/image11 (2).txt\n",
      "Copied model/dataset_0/labels/train/image12 (2).txt to /tmp/model/dataset_0/labels/train/image12 (2).txt\n",
      "Copied model/dataset_0/labels/train/image12 (3).txt to /tmp/model/dataset_0/labels/train/image12 (3).txt\n",
      "Copied model/dataset_0/labels/train/image12 (4).txt to /tmp/model/dataset_0/labels/train/image12 (4).txt\n",
      "Copied model/dataset_0/labels/train/image12.txt to /tmp/model/dataset_0/labels/train/image12.txt\n",
      "Copied model/dataset_0/labels/train/image13 (2).txt to /tmp/model/dataset_0/labels/train/image13 (2).txt\n",
      "Copied model/dataset_0/labels/train/image13 (3).txt to /tmp/model/dataset_0/labels/train/image13 (3).txt\n",
      "Copied model/dataset_0/labels/train/image13 (4).txt to /tmp/model/dataset_0/labels/train/image13 (4).txt\n",
      "Copied model/dataset_0/labels/train/image13 (5).txt to /tmp/model/dataset_0/labels/train/image13 (5).txt\n",
      "Copied model/dataset_0/labels/train/image13.txt to /tmp/model/dataset_0/labels/train/image13.txt\n",
      "Copied model/dataset_0/labels/train/image14 (2).txt to /tmp/model/dataset_0/labels/train/image14 (2).txt\n",
      "Copied model/dataset_0/labels/train/image14 (3).txt to /tmp/model/dataset_0/labels/train/image14 (3).txt\n",
      "Copied model/dataset_0/labels/train/image14 (4).txt to /tmp/model/dataset_0/labels/train/image14 (4).txt\n",
      "Copied model/dataset_0/labels/train/image14 (5).txt to /tmp/model/dataset_0/labels/train/image14 (5).txt\n",
      "Copied model/dataset_0/labels/train/image15 (2).txt to /tmp/model/dataset_0/labels/train/image15 (2).txt\n",
      "Copied model/dataset_0/labels/train/image15 (3).txt to /tmp/model/dataset_0/labels/train/image15 (3).txt\n",
      "Copied model/dataset_0/labels/train/image15 (4).txt to /tmp/model/dataset_0/labels/train/image15 (4).txt\n",
      "Copied model/dataset_0/labels/train/image15 (5).txt to /tmp/model/dataset_0/labels/train/image15 (5).txt\n",
      "Copied model/dataset_0/labels/train/image15.txt to /tmp/model/dataset_0/labels/train/image15.txt\n",
      "Copied model/dataset_0/labels/train/image16 (3).txt to /tmp/model/dataset_0/labels/train/image16 (3).txt\n",
      "Copied model/dataset_0/labels/train/image16 (5).txt to /tmp/model/dataset_0/labels/train/image16 (5).txt\n",
      "Copied model/dataset_0/labels/train/image16.txt to /tmp/model/dataset_0/labels/train/image16.txt\n",
      "Copied model/dataset_0/labels/train/image17 (2).txt to /tmp/model/dataset_0/labels/train/image17 (2).txt\n",
      "Copied model/dataset_0/labels/train/image17 (3).txt to /tmp/model/dataset_0/labels/train/image17 (3).txt\n",
      "Copied model/dataset_0/labels/train/image17 (4).txt to /tmp/model/dataset_0/labels/train/image17 (4).txt\n",
      "Copied model/dataset_0/labels/train/image17 (5).txt to /tmp/model/dataset_0/labels/train/image17 (5).txt\n",
      "Copied model/dataset_0/labels/train/image17.txt to /tmp/model/dataset_0/labels/train/image17.txt\n",
      "Copied model/dataset_0/labels/train/image18 (2).txt to /tmp/model/dataset_0/labels/train/image18 (2).txt\n",
      "Copied model/dataset_0/labels/train/image18 (4).txt to /tmp/model/dataset_0/labels/train/image18 (4).txt\n",
      "Copied model/dataset_0/labels/train/image18 (5).txt to /tmp/model/dataset_0/labels/train/image18 (5).txt\n",
      "Copied model/dataset_0/labels/train/image18.txt to /tmp/model/dataset_0/labels/train/image18.txt\n",
      "Copied model/dataset_0/labels/train/image19 (2).txt to /tmp/model/dataset_0/labels/train/image19 (2).txt\n",
      "Copied model/dataset_0/labels/train/image19 (3).txt to /tmp/model/dataset_0/labels/train/image19 (3).txt\n",
      "Copied model/dataset_0/labels/train/image19 (4).txt to /tmp/model/dataset_0/labels/train/image19 (4).txt\n",
      "Copied model/dataset_0/labels/train/image19 (5).txt to /tmp/model/dataset_0/labels/train/image19 (5).txt\n",
      "Copied model/dataset_0/labels/train/image19.txt to /tmp/model/dataset_0/labels/train/image19.txt\n",
      "Copied model/dataset_0/labels/train/image2 (2).txt to /tmp/model/dataset_0/labels/train/image2 (2).txt\n",
      "Copied model/dataset_0/labels/train/image2 (3).txt to /tmp/model/dataset_0/labels/train/image2 (3).txt\n",
      "Copied model/dataset_0/labels/train/image2 (4).txt to /tmp/model/dataset_0/labels/train/image2 (4).txt\n",
      "Copied model/dataset_0/labels/train/image2.txt to /tmp/model/dataset_0/labels/train/image2.txt\n",
      "Copied model/dataset_0/labels/train/image20 (2).txt to /tmp/model/dataset_0/labels/train/image20 (2).txt\n",
      "Copied model/dataset_0/labels/train/image20 (3).txt to /tmp/model/dataset_0/labels/train/image20 (3).txt\n",
      "Copied model/dataset_0/labels/train/image20 (4).txt to /tmp/model/dataset_0/labels/train/image20 (4).txt\n",
      "Copied model/dataset_0/labels/train/image20.txt to /tmp/model/dataset_0/labels/train/image20.txt\n",
      "Copied model/dataset_0/labels/train/image21 (2).txt to /tmp/model/dataset_0/labels/train/image21 (2).txt\n",
      "Copied model/dataset_0/labels/train/image21 (3).txt to /tmp/model/dataset_0/labels/train/image21 (3).txt\n",
      "Copied model/dataset_0/labels/train/image21 (5).txt to /tmp/model/dataset_0/labels/train/image21 (5).txt\n",
      "Copied model/dataset_0/labels/train/image21.txt to /tmp/model/dataset_0/labels/train/image21.txt\n",
      "Copied model/dataset_0/labels/train/image22 (3).txt to /tmp/model/dataset_0/labels/train/image22 (3).txt\n",
      "Copied model/dataset_0/labels/train/image22 (4).txt to /tmp/model/dataset_0/labels/train/image22 (4).txt\n",
      "Copied model/dataset_0/labels/train/image22.txt to /tmp/model/dataset_0/labels/train/image22.txt\n",
      "Copied model/dataset_0/labels/train/image23 (3).txt to /tmp/model/dataset_0/labels/train/image23 (3).txt\n",
      "Copied model/dataset_0/labels/train/image23 (4).txt to /tmp/model/dataset_0/labels/train/image23 (4).txt\n",
      "Copied model/dataset_0/labels/train/image23 (5).txt to /tmp/model/dataset_0/labels/train/image23 (5).txt\n",
      "Copied model/dataset_0/labels/train/image23.txt to /tmp/model/dataset_0/labels/train/image23.txt\n",
      "Copied model/dataset_0/labels/train/image24 (4).txt to /tmp/model/dataset_0/labels/train/image24 (4).txt\n",
      "Copied model/dataset_0/labels/train/image24 (5).txt to /tmp/model/dataset_0/labels/train/image24 (5).txt\n",
      "Copied model/dataset_0/labels/train/image24.txt to /tmp/model/dataset_0/labels/train/image24.txt\n",
      "Copied model/dataset_0/labels/train/image25 (2).txt to /tmp/model/dataset_0/labels/train/image25 (2).txt\n",
      "Copied model/dataset_0/labels/train/image25 (3).txt to /tmp/model/dataset_0/labels/train/image25 (3).txt\n",
      "Copied model/dataset_0/labels/train/image25 (4).txt to /tmp/model/dataset_0/labels/train/image25 (4).txt\n",
      "Copied model/dataset_0/labels/train/image26 (3).txt to /tmp/model/dataset_0/labels/train/image26 (3).txt\n",
      "Copied model/dataset_0/labels/train/image26 (4).txt to /tmp/model/dataset_0/labels/train/image26 (4).txt\n",
      "Copied model/dataset_0/labels/train/image26 (5).txt to /tmp/model/dataset_0/labels/train/image26 (5).txt\n",
      "Copied model/dataset_0/labels/train/image27 (2).txt to /tmp/model/dataset_0/labels/train/image27 (2).txt\n",
      "Copied model/dataset_0/labels/train/image27 (3).txt to /tmp/model/dataset_0/labels/train/image27 (3).txt\n",
      "Copied model/dataset_0/labels/train/image27 (4).txt to /tmp/model/dataset_0/labels/train/image27 (4).txt\n",
      "Copied model/dataset_0/labels/train/image27.txt to /tmp/model/dataset_0/labels/train/image27.txt\n",
      "Copied model/dataset_0/labels/train/image28 (2).txt to /tmp/model/dataset_0/labels/train/image28 (2).txt\n",
      "Copied model/dataset_0/labels/train/image28 (3).txt to /tmp/model/dataset_0/labels/train/image28 (3).txt\n",
      "Copied model/dataset_0/labels/train/image28 (4).txt to /tmp/model/dataset_0/labels/train/image28 (4).txt\n",
      "Copied model/dataset_0/labels/train/image28 (5).txt to /tmp/model/dataset_0/labels/train/image28 (5).txt\n",
      "Copied model/dataset_0/labels/train/image28.txt to /tmp/model/dataset_0/labels/train/image28.txt\n",
      "Copied model/dataset_0/labels/train/image29 (2).txt to /tmp/model/dataset_0/labels/train/image29 (2).txt\n",
      "Copied model/dataset_0/labels/train/image29 (3).txt to /tmp/model/dataset_0/labels/train/image29 (3).txt\n",
      "Copied model/dataset_0/labels/train/image29 (4).txt to /tmp/model/dataset_0/labels/train/image29 (4).txt\n",
      "Copied model/dataset_0/labels/train/image29 (5).txt to /tmp/model/dataset_0/labels/train/image29 (5).txt\n",
      "Copied model/dataset_0/labels/train/image29.txt to /tmp/model/dataset_0/labels/train/image29.txt\n",
      "Copied model/dataset_0/labels/train/image3 (2).txt to /tmp/model/dataset_0/labels/train/image3 (2).txt\n",
      "Copied model/dataset_0/labels/train/image3 (3).txt to /tmp/model/dataset_0/labels/train/image3 (3).txt\n",
      "Copied model/dataset_0/labels/train/image3 (4).txt to /tmp/model/dataset_0/labels/train/image3 (4).txt\n",
      "Copied model/dataset_0/labels/train/image3.txt to /tmp/model/dataset_0/labels/train/image3.txt\n",
      "Copied model/dataset_0/labels/train/image30 (2).txt to /tmp/model/dataset_0/labels/train/image30 (2).txt\n",
      "Copied model/dataset_0/labels/train/image30 (4).txt to /tmp/model/dataset_0/labels/train/image30 (4).txt\n",
      "Copied model/dataset_0/labels/train/image30 (5).txt to /tmp/model/dataset_0/labels/train/image30 (5).txt\n",
      "Copied model/dataset_0/labels/train/image30.txt to /tmp/model/dataset_0/labels/train/image30.txt\n",
      "Copied model/dataset_0/labels/train/image31 (2).txt to /tmp/model/dataset_0/labels/train/image31 (2).txt\n",
      "Copied model/dataset_0/labels/train/image31 (3).txt to /tmp/model/dataset_0/labels/train/image31 (3).txt\n",
      "Copied model/dataset_0/labels/train/image31 (4).txt to /tmp/model/dataset_0/labels/train/image31 (4).txt\n",
      "Copied model/dataset_0/labels/train/image31 (5).txt to /tmp/model/dataset_0/labels/train/image31 (5).txt\n",
      "Copied model/dataset_0/labels/train/image32 (3).txt to /tmp/model/dataset_0/labels/train/image32 (3).txt\n",
      "Copied model/dataset_0/labels/train/image32 (4).txt to /tmp/model/dataset_0/labels/train/image32 (4).txt\n",
      "Copied model/dataset_0/labels/train/image4 (2).txt to /tmp/model/dataset_0/labels/train/image4 (2).txt\n",
      "Copied model/dataset_0/labels/train/image4 (3).txt to /tmp/model/dataset_0/labels/train/image4 (3).txt\n",
      "Copied model/dataset_0/labels/train/image4 (4).txt to /tmp/model/dataset_0/labels/train/image4 (4).txt\n",
      "Copied model/dataset_0/labels/train/image4.txt to /tmp/model/dataset_0/labels/train/image4.txt\n",
      "Copied model/dataset_0/labels/train/image5 (2).txt to /tmp/model/dataset_0/labels/train/image5 (2).txt\n",
      "Copied model/dataset_0/labels/train/image5 (3).txt to /tmp/model/dataset_0/labels/train/image5 (3).txt\n",
      "Copied model/dataset_0/labels/train/image5 (4).txt to /tmp/model/dataset_0/labels/train/image5 (4).txt\n",
      "Copied model/dataset_0/labels/train/image5.txt to /tmp/model/dataset_0/labels/train/image5.txt\n",
      "Copied model/dataset_0/labels/train/image6 (2).txt to /tmp/model/dataset_0/labels/train/image6 (2).txt\n",
      "Copied model/dataset_0/labels/train/image6 (3).txt to /tmp/model/dataset_0/labels/train/image6 (3).txt\n",
      "Copied model/dataset_0/labels/train/image6 (4).txt to /tmp/model/dataset_0/labels/train/image6 (4).txt\n",
      "Copied model/dataset_0/labels/train/image6.txt to /tmp/model/dataset_0/labels/train/image6.txt\n",
      "Copied model/dataset_0/labels/train/image7 (3).txt to /tmp/model/dataset_0/labels/train/image7 (3).txt\n",
      "Copied model/dataset_0/labels/train/image7 (4).txt to /tmp/model/dataset_0/labels/train/image7 (4).txt\n",
      "Copied model/dataset_0/labels/train/image7.txt to /tmp/model/dataset_0/labels/train/image7.txt\n",
      "Copied model/dataset_0/labels/train/image8 (2).txt to /tmp/model/dataset_0/labels/train/image8 (2).txt\n",
      "Copied model/dataset_0/labels/train/image8 (3).txt to /tmp/model/dataset_0/labels/train/image8 (3).txt\n",
      "Copied model/dataset_0/labels/train/image8 (4).txt to /tmp/model/dataset_0/labels/train/image8 (4).txt\n",
      "Copied model/dataset_0/labels/train/image9 (2).txt to /tmp/model/dataset_0/labels/train/image9 (2).txt\n",
      "Copied model/dataset_0/labels/train/image9 (3).txt to /tmp/model/dataset_0/labels/train/image9 (3).txt\n",
      "Copied model/dataset_0/labels/train/image9 (4).txt to /tmp/model/dataset_0/labels/train/image9 (4).txt\n",
      "Copied model/dataset_0/labels/train/images (2).txt to /tmp/model/dataset_0/labels/train/images (2).txt\n",
      "Copied model/dataset_0/labels/train/images (3).txt to /tmp/model/dataset_0/labels/train/images (3).txt\n",
      "Copied model/dataset_0/labels/train/images (4).txt to /tmp/model/dataset_0/labels/train/images (4).txt\n",
      "Copied model/dataset_0/labels/train/images.txt to /tmp/model/dataset_0/labels/train/images.txt\n",
      "Copied model/dataset_0/labels/train/images10 (2).txt to /tmp/model/dataset_0/labels/train/images10 (2).txt\n",
      "Copied model/dataset_0/labels/train/images10 (3).txt to /tmp/model/dataset_0/labels/train/images10 (3).txt\n",
      "Copied model/dataset_0/labels/train/images10 (4).txt to /tmp/model/dataset_0/labels/train/images10 (4).txt\n",
      "Copied model/dataset_0/labels/train/images10 (5).txt to /tmp/model/dataset_0/labels/train/images10 (5).txt\n",
      "Copied model/dataset_0/labels/train/images102.txt to /tmp/model/dataset_0/labels/train/images102.txt\n",
      "Copied model/dataset_0/labels/train/images104.txt to /tmp/model/dataset_0/labels/train/images104.txt\n",
      "Copied model/dataset_0/labels/train/images105.txt to /tmp/model/dataset_0/labels/train/images105.txt\n",
      "Copied model/dataset_0/labels/train/images106.txt to /tmp/model/dataset_0/labels/train/images106.txt\n",
      "Copied model/dataset_0/labels/train/images107.txt to /tmp/model/dataset_0/labels/train/images107.txt\n",
      "Copied model/dataset_0/labels/train/images108.txt to /tmp/model/dataset_0/labels/train/images108.txt\n",
      "Copied model/dataset_0/labels/train/images109.txt to /tmp/model/dataset_0/labels/train/images109.txt\n",
      "Copied model/dataset_0/labels/train/images11 (2).txt to /tmp/model/dataset_0/labels/train/images11 (2).txt\n",
      "Copied model/dataset_0/labels/train/images11 (3).txt to /tmp/model/dataset_0/labels/train/images11 (3).txt\n",
      "Copied model/dataset_0/labels/train/images11 (4).txt to /tmp/model/dataset_0/labels/train/images11 (4).txt\n",
      "Copied model/dataset_0/labels/train/images11 (5).txt to /tmp/model/dataset_0/labels/train/images11 (5).txt\n",
      "Copied model/dataset_0/labels/train/images11.txt to /tmp/model/dataset_0/labels/train/images11.txt\n",
      "Copied model/dataset_0/labels/train/images110.txt to /tmp/model/dataset_0/labels/train/images110.txt\n",
      "Copied model/dataset_0/labels/train/images111.txt to /tmp/model/dataset_0/labels/train/images111.txt\n",
      "Copied model/dataset_0/labels/train/images112.txt to /tmp/model/dataset_0/labels/train/images112.txt\n",
      "Copied model/dataset_0/labels/train/images113.txt to /tmp/model/dataset_0/labels/train/images113.txt\n",
      "Copied model/dataset_0/labels/train/images115.txt to /tmp/model/dataset_0/labels/train/images115.txt\n",
      "Copied model/dataset_0/labels/train/images12 (3).txt to /tmp/model/dataset_0/labels/train/images12 (3).txt\n",
      "Copied model/dataset_0/labels/train/images12 (4).txt to /tmp/model/dataset_0/labels/train/images12 (4).txt\n",
      "Copied model/dataset_0/labels/train/images12 (5).txt to /tmp/model/dataset_0/labels/train/images12 (5).txt\n",
      "Copied model/dataset_0/labels/train/images12.txt to /tmp/model/dataset_0/labels/train/images12.txt\n",
      "Copied model/dataset_0/labels/train/images120.txt to /tmp/model/dataset_0/labels/train/images120.txt\n",
      "Copied model/dataset_0/labels/train/images126.txt to /tmp/model/dataset_0/labels/train/images126.txt\n",
      "Copied model/dataset_0/labels/train/images127.txt to /tmp/model/dataset_0/labels/train/images127.txt\n",
      "Copied model/dataset_0/labels/train/images129.txt to /tmp/model/dataset_0/labels/train/images129.txt\n",
      "Copied model/dataset_0/labels/train/images13 (2).txt to /tmp/model/dataset_0/labels/train/images13 (2).txt\n",
      "Copied model/dataset_0/labels/train/images13 (3).txt to /tmp/model/dataset_0/labels/train/images13 (3).txt\n",
      "Copied model/dataset_0/labels/train/images13 (4).txt to /tmp/model/dataset_0/labels/train/images13 (4).txt\n",
      "Copied model/dataset_0/labels/train/images13.txt to /tmp/model/dataset_0/labels/train/images13.txt\n",
      "Copied model/dataset_0/labels/train/images130.txt to /tmp/model/dataset_0/labels/train/images130.txt\n",
      "Copied model/dataset_0/labels/train/images131.txt to /tmp/model/dataset_0/labels/train/images131.txt\n",
      "Copied model/dataset_0/labels/train/images132.txt to /tmp/model/dataset_0/labels/train/images132.txt\n",
      "Copied model/dataset_0/labels/train/images133.txt to /tmp/model/dataset_0/labels/train/images133.txt\n",
      "Copied model/dataset_0/labels/train/images134.txt to /tmp/model/dataset_0/labels/train/images134.txt\n",
      "Copied model/dataset_0/labels/train/images136.txt to /tmp/model/dataset_0/labels/train/images136.txt\n",
      "Copied model/dataset_0/labels/train/images138.txt to /tmp/model/dataset_0/labels/train/images138.txt\n",
      "Copied model/dataset_0/labels/train/images139.txt to /tmp/model/dataset_0/labels/train/images139.txt\n",
      "Copied model/dataset_0/labels/train/images14 (2).txt to /tmp/model/dataset_0/labels/train/images14 (2).txt\n",
      "Copied model/dataset_0/labels/train/images14 (3).txt to /tmp/model/dataset_0/labels/train/images14 (3).txt\n",
      "Copied model/dataset_0/labels/train/images14 (4).txt to /tmp/model/dataset_0/labels/train/images14 (4).txt\n",
      "Copied model/dataset_0/labels/train/images14.txt to /tmp/model/dataset_0/labels/train/images14.txt\n",
      "Copied model/dataset_0/labels/train/images140.txt to /tmp/model/dataset_0/labels/train/images140.txt\n",
      "Copied model/dataset_0/labels/train/images141.txt to /tmp/model/dataset_0/labels/train/images141.txt\n",
      "Copied model/dataset_0/labels/train/images142.txt to /tmp/model/dataset_0/labels/train/images142.txt\n",
      "Copied model/dataset_0/labels/train/images145.txt to /tmp/model/dataset_0/labels/train/images145.txt\n",
      "Copied model/dataset_0/labels/train/images147.txt to /tmp/model/dataset_0/labels/train/images147.txt\n",
      "Copied model/dataset_0/labels/train/images149.txt to /tmp/model/dataset_0/labels/train/images149.txt\n",
      "Copied model/dataset_0/labels/train/images15 (2).txt to /tmp/model/dataset_0/labels/train/images15 (2).txt\n",
      "Copied model/dataset_0/labels/train/images15 (4).txt to /tmp/model/dataset_0/labels/train/images15 (4).txt\n",
      "Copied model/dataset_0/labels/train/images15.txt to /tmp/model/dataset_0/labels/train/images15.txt\n",
      "Copied model/dataset_0/labels/train/images152.txt to /tmp/model/dataset_0/labels/train/images152.txt\n",
      "Copied model/dataset_0/labels/train/images154.txt to /tmp/model/dataset_0/labels/train/images154.txt\n",
      "Copied model/dataset_0/labels/train/images155.txt to /tmp/model/dataset_0/labels/train/images155.txt\n",
      "Copied model/dataset_0/labels/train/images156.txt to /tmp/model/dataset_0/labels/train/images156.txt\n",
      "Copied model/dataset_0/labels/train/images157.txt to /tmp/model/dataset_0/labels/train/images157.txt\n",
      "Copied model/dataset_0/labels/train/images159.txt to /tmp/model/dataset_0/labels/train/images159.txt\n",
      "Copied model/dataset_0/labels/train/images16 (2).txt to /tmp/model/dataset_0/labels/train/images16 (2).txt\n",
      "Copied model/dataset_0/labels/train/images16 (3).txt to /tmp/model/dataset_0/labels/train/images16 (3).txt\n",
      "Copied model/dataset_0/labels/train/images16 (4).txt to /tmp/model/dataset_0/labels/train/images16 (4).txt\n",
      "Copied model/dataset_0/labels/train/images16 (5).txt to /tmp/model/dataset_0/labels/train/images16 (5).txt\n",
      "Copied model/dataset_0/labels/train/images16.txt to /tmp/model/dataset_0/labels/train/images16.txt\n",
      "Copied model/dataset_0/labels/train/images162.txt to /tmp/model/dataset_0/labels/train/images162.txt\n",
      "Copied model/dataset_0/labels/train/images165.txt to /tmp/model/dataset_0/labels/train/images165.txt\n",
      "Copied model/dataset_0/labels/train/images168.txt to /tmp/model/dataset_0/labels/train/images168.txt\n",
      "Copied model/dataset_0/labels/train/images169.txt to /tmp/model/dataset_0/labels/train/images169.txt\n",
      "Copied model/dataset_0/labels/train/images17 (2).txt to /tmp/model/dataset_0/labels/train/images17 (2).txt\n",
      "Copied model/dataset_0/labels/train/images17 (3).txt to /tmp/model/dataset_0/labels/train/images17 (3).txt\n",
      "Copied model/dataset_0/labels/train/images17 (4).txt to /tmp/model/dataset_0/labels/train/images17 (4).txt\n",
      "Copied model/dataset_0/labels/train/images17.txt to /tmp/model/dataset_0/labels/train/images17.txt\n",
      "Copied model/dataset_0/labels/train/images175.txt to /tmp/model/dataset_0/labels/train/images175.txt\n",
      "Copied model/dataset_0/labels/train/images176.txt to /tmp/model/dataset_0/labels/train/images176.txt\n",
      "Copied model/dataset_0/labels/train/images178.txt to /tmp/model/dataset_0/labels/train/images178.txt\n",
      "Copied model/dataset_0/labels/train/images18 (3).txt to /tmp/model/dataset_0/labels/train/images18 (3).txt\n",
      "Copied model/dataset_0/labels/train/images18 (5).txt to /tmp/model/dataset_0/labels/train/images18 (5).txt\n",
      "Copied model/dataset_0/labels/train/images18.txt to /tmp/model/dataset_0/labels/train/images18.txt\n",
      "Copied model/dataset_0/labels/train/images180.txt to /tmp/model/dataset_0/labels/train/images180.txt\n",
      "Copied model/dataset_0/labels/train/images182.txt to /tmp/model/dataset_0/labels/train/images182.txt\n",
      "Copied model/dataset_0/labels/train/images184.txt to /tmp/model/dataset_0/labels/train/images184.txt\n",
      "Copied model/dataset_0/labels/train/images187.txt to /tmp/model/dataset_0/labels/train/images187.txt\n",
      "Copied model/dataset_0/labels/train/images189.txt to /tmp/model/dataset_0/labels/train/images189.txt\n",
      "Copied model/dataset_0/labels/train/images19 (2).txt to /tmp/model/dataset_0/labels/train/images19 (2).txt\n",
      "Copied model/dataset_0/labels/train/images19 (3).txt to /tmp/model/dataset_0/labels/train/images19 (3).txt\n",
      "Copied model/dataset_0/labels/train/images19 (4).txt to /tmp/model/dataset_0/labels/train/images19 (4).txt\n",
      "Copied model/dataset_0/labels/train/images19.txt to /tmp/model/dataset_0/labels/train/images19.txt\n",
      "Copied model/dataset_0/labels/train/images190.txt to /tmp/model/dataset_0/labels/train/images190.txt\n",
      "Copied model/dataset_0/labels/train/images191.txt to /tmp/model/dataset_0/labels/train/images191.txt\n",
      "Copied model/dataset_0/labels/train/images193.txt to /tmp/model/dataset_0/labels/train/images193.txt\n",
      "Copied model/dataset_0/labels/train/images194.txt to /tmp/model/dataset_0/labels/train/images194.txt\n",
      "Copied model/dataset_0/labels/train/images195.txt to /tmp/model/dataset_0/labels/train/images195.txt\n",
      "Copied model/dataset_0/labels/train/images198.txt to /tmp/model/dataset_0/labels/train/images198.txt\n",
      "Copied model/dataset_0/labels/train/images199.txt to /tmp/model/dataset_0/labels/train/images199.txt\n",
      "Copied model/dataset_0/labels/train/images2 (3).txt to /tmp/model/dataset_0/labels/train/images2 (3).txt\n",
      "Copied model/dataset_0/labels/train/images2 (4).txt to /tmp/model/dataset_0/labels/train/images2 (4).txt\n",
      "Copied model/dataset_0/labels/train/images2.txt to /tmp/model/dataset_0/labels/train/images2.txt\n",
      "Copied model/dataset_0/labels/train/images20 (2).txt to /tmp/model/dataset_0/labels/train/images20 (2).txt\n",
      "Copied model/dataset_0/labels/train/images20 (3).txt to /tmp/model/dataset_0/labels/train/images20 (3).txt\n",
      "Copied model/dataset_0/labels/train/images20 (4).txt to /tmp/model/dataset_0/labels/train/images20 (4).txt\n",
      "Copied model/dataset_0/labels/train/images20 (5).txt to /tmp/model/dataset_0/labels/train/images20 (5).txt\n",
      "Copied model/dataset_0/labels/train/images20.txt to /tmp/model/dataset_0/labels/train/images20.txt\n",
      "Copied model/dataset_0/labels/train/images202.txt to /tmp/model/dataset_0/labels/train/images202.txt\n",
      "Copied model/dataset_0/labels/train/images205.txt to /tmp/model/dataset_0/labels/train/images205.txt\n",
      "Copied model/dataset_0/labels/train/images206.txt to /tmp/model/dataset_0/labels/train/images206.txt\n",
      "Copied model/dataset_0/labels/train/images207.txt to /tmp/model/dataset_0/labels/train/images207.txt\n",
      "Copied model/dataset_0/labels/train/images208.txt to /tmp/model/dataset_0/labels/train/images208.txt\n",
      "Copied model/dataset_0/labels/train/images21 (2).txt to /tmp/model/dataset_0/labels/train/images21 (2).txt\n",
      "Copied model/dataset_0/labels/train/images21 (3).txt to /tmp/model/dataset_0/labels/train/images21 (3).txt\n",
      "Copied model/dataset_0/labels/train/images21 (5).txt to /tmp/model/dataset_0/labels/train/images21 (5).txt\n",
      "Copied model/dataset_0/labels/train/images210.txt to /tmp/model/dataset_0/labels/train/images210.txt\n",
      "Copied model/dataset_0/labels/train/images214.txt to /tmp/model/dataset_0/labels/train/images214.txt\n",
      "Copied model/dataset_0/labels/train/images216.txt to /tmp/model/dataset_0/labels/train/images216.txt\n",
      "Copied model/dataset_0/labels/train/images217.txt to /tmp/model/dataset_0/labels/train/images217.txt\n",
      "Copied model/dataset_0/labels/train/images219.txt to /tmp/model/dataset_0/labels/train/images219.txt\n",
      "Copied model/dataset_0/labels/train/images22 (2).txt to /tmp/model/dataset_0/labels/train/images22 (2).txt\n",
      "Copied model/dataset_0/labels/train/images22 (3).txt to /tmp/model/dataset_0/labels/train/images22 (3).txt\n",
      "Copied model/dataset_0/labels/train/images221.txt to /tmp/model/dataset_0/labels/train/images221.txt\n",
      "Copied model/dataset_0/labels/train/images23 (2).txt to /tmp/model/dataset_0/labels/train/images23 (2).txt\n",
      "Copied model/dataset_0/labels/train/images23 (3).txt to /tmp/model/dataset_0/labels/train/images23 (3).txt\n",
      "Copied model/dataset_0/labels/train/images23 (4).txt to /tmp/model/dataset_0/labels/train/images23 (4).txt\n",
      "Copied model/dataset_0/labels/train/images23.txt to /tmp/model/dataset_0/labels/train/images23.txt\n",
      "Copied model/dataset_0/labels/train/images24 (3).txt to /tmp/model/dataset_0/labels/train/images24 (3).txt\n",
      "Copied model/dataset_0/labels/train/images24.txt to /tmp/model/dataset_0/labels/train/images24.txt\n",
      "Copied model/dataset_0/labels/train/images25 (2).txt to /tmp/model/dataset_0/labels/train/images25 (2).txt\n",
      "Copied model/dataset_0/labels/train/images25 (3).txt to /tmp/model/dataset_0/labels/train/images25 (3).txt\n",
      "Copied model/dataset_0/labels/train/images26 (2).txt to /tmp/model/dataset_0/labels/train/images26 (2).txt\n",
      "Copied model/dataset_0/labels/train/images26.txt to /tmp/model/dataset_0/labels/train/images26.txt\n",
      "Copied model/dataset_0/labels/train/images27 (3).txt to /tmp/model/dataset_0/labels/train/images27 (3).txt\n",
      "Copied model/dataset_0/labels/train/images27.txt to /tmp/model/dataset_0/labels/train/images27.txt\n",
      "Copied model/dataset_0/labels/train/images28 (2).txt to /tmp/model/dataset_0/labels/train/images28 (2).txt\n",
      "Copied model/dataset_0/labels/train/images28.txt to /tmp/model/dataset_0/labels/train/images28.txt\n",
      "Copied model/dataset_0/labels/train/images29 (2).txt to /tmp/model/dataset_0/labels/train/images29 (2).txt\n",
      "Copied model/dataset_0/labels/train/images29 (3).txt to /tmp/model/dataset_0/labels/train/images29 (3).txt\n",
      "Copied model/dataset_0/labels/train/images29 (4).txt to /tmp/model/dataset_0/labels/train/images29 (4).txt\n",
      "Copied model/dataset_0/labels/train/images29.txt to /tmp/model/dataset_0/labels/train/images29.txt\n",
      "Copied model/dataset_0/labels/train/images3 (2).txt to /tmp/model/dataset_0/labels/train/images3 (2).txt\n",
      "Copied model/dataset_0/labels/train/images3 (3).txt to /tmp/model/dataset_0/labels/train/images3 (3).txt\n",
      "Copied model/dataset_0/labels/train/images3.txt to /tmp/model/dataset_0/labels/train/images3.txt\n",
      "Copied model/dataset_0/labels/train/images30 (2).txt to /tmp/model/dataset_0/labels/train/images30 (2).txt\n",
      "Copied model/dataset_0/labels/train/images30 (4).txt to /tmp/model/dataset_0/labels/train/images30 (4).txt\n",
      "Copied model/dataset_0/labels/train/images30.txt to /tmp/model/dataset_0/labels/train/images30.txt\n",
      "Copied model/dataset_0/labels/train/images31 (2).txt to /tmp/model/dataset_0/labels/train/images31 (2).txt\n",
      "Copied model/dataset_0/labels/train/images31.txt to /tmp/model/dataset_0/labels/train/images31.txt\n",
      "Copied model/dataset_0/labels/train/images32 (2).txt to /tmp/model/dataset_0/labels/train/images32 (2).txt\n",
      "Copied model/dataset_0/labels/train/images32 (3).txt to /tmp/model/dataset_0/labels/train/images32 (3).txt\n",
      "Copied model/dataset_0/labels/train/images32 (4).txt to /tmp/model/dataset_0/labels/train/images32 (4).txt\n",
      "Copied model/dataset_0/labels/train/images32 (5).txt to /tmp/model/dataset_0/labels/train/images32 (5).txt\n",
      "Copied model/dataset_0/labels/train/images32.txt to /tmp/model/dataset_0/labels/train/images32.txt\n",
      "Copied model/dataset_0/labels/train/images33 (2).txt to /tmp/model/dataset_0/labels/train/images33 (2).txt\n",
      "Copied model/dataset_0/labels/train/images33 (3).txt to /tmp/model/dataset_0/labels/train/images33 (3).txt\n",
      "Copied model/dataset_0/labels/train/images33 (5).txt to /tmp/model/dataset_0/labels/train/images33 (5).txt\n",
      "Copied model/dataset_0/labels/train/images34 (2).txt to /tmp/model/dataset_0/labels/train/images34 (2).txt\n",
      "Copied model/dataset_0/labels/train/images34 (3).txt to /tmp/model/dataset_0/labels/train/images34 (3).txt\n",
      "Copied model/dataset_0/labels/train/images34 (4).txt to /tmp/model/dataset_0/labels/train/images34 (4).txt\n",
      "Copied model/dataset_0/labels/train/images34 (5).txt to /tmp/model/dataset_0/labels/train/images34 (5).txt\n",
      "Copied model/dataset_0/labels/train/images34.txt to /tmp/model/dataset_0/labels/train/images34.txt\n",
      "Copied model/dataset_0/labels/train/images35 (3).txt to /tmp/model/dataset_0/labels/train/images35 (3).txt\n",
      "Copied model/dataset_0/labels/train/images35 (4).txt to /tmp/model/dataset_0/labels/train/images35 (4).txt\n",
      "Copied model/dataset_0/labels/train/images35.txt to /tmp/model/dataset_0/labels/train/images35.txt\n",
      "Copied model/dataset_0/labels/train/images36 (3).txt to /tmp/model/dataset_0/labels/train/images36 (3).txt\n",
      "Copied model/dataset_0/labels/train/images37 (3).txt to /tmp/model/dataset_0/labels/train/images37 (3).txt\n",
      "Copied model/dataset_0/labels/train/images37.txt to /tmp/model/dataset_0/labels/train/images37.txt\n",
      "Copied model/dataset_0/labels/train/images38 (2).txt to /tmp/model/dataset_0/labels/train/images38 (2).txt\n",
      "Copied model/dataset_0/labels/train/images38.txt to /tmp/model/dataset_0/labels/train/images38.txt\n",
      "Copied model/dataset_0/labels/train/images39 (2).txt to /tmp/model/dataset_0/labels/train/images39 (2).txt\n",
      "Copied model/dataset_0/labels/train/images4 (2).txt to /tmp/model/dataset_0/labels/train/images4 (2).txt\n",
      "Copied model/dataset_0/labels/train/images4.txt to /tmp/model/dataset_0/labels/train/images4.txt\n",
      "Copied model/dataset_0/labels/train/images40 (2).txt to /tmp/model/dataset_0/labels/train/images40 (2).txt\n",
      "Copied model/dataset_0/labels/train/images40.txt to /tmp/model/dataset_0/labels/train/images40.txt\n",
      "Copied model/dataset_0/labels/train/images41 (2).txt to /tmp/model/dataset_0/labels/train/images41 (2).txt\n",
      "Copied model/dataset_0/labels/train/images41.txt to /tmp/model/dataset_0/labels/train/images41.txt\n",
      "Copied model/dataset_0/labels/train/images42.txt to /tmp/model/dataset_0/labels/train/images42.txt\n",
      "Copied model/dataset_0/labels/train/images43 (2).txt to /tmp/model/dataset_0/labels/train/images43 (2).txt\n",
      "Copied model/dataset_0/labels/train/images43.txt to /tmp/model/dataset_0/labels/train/images43.txt\n",
      "Copied model/dataset_0/labels/train/images44.txt to /tmp/model/dataset_0/labels/train/images44.txt\n",
      "Copied model/dataset_0/labels/train/images45.txt to /tmp/model/dataset_0/labels/train/images45.txt\n",
      "Copied model/dataset_0/labels/train/images46.txt to /tmp/model/dataset_0/labels/train/images46.txt\n",
      "Copied model/dataset_0/labels/train/images48 (2).txt to /tmp/model/dataset_0/labels/train/images48 (2).txt\n",
      "Copied model/dataset_0/labels/train/images49.txt to /tmp/model/dataset_0/labels/train/images49.txt\n",
      "Copied model/dataset_0/labels/train/images5 (2).txt to /tmp/model/dataset_0/labels/train/images5 (2).txt\n",
      "Copied model/dataset_0/labels/train/images5 (3).txt to /tmp/model/dataset_0/labels/train/images5 (3).txt\n",
      "Copied model/dataset_0/labels/train/images5 (4).txt to /tmp/model/dataset_0/labels/train/images5 (4).txt\n",
      "Copied model/dataset_0/labels/train/images5 (5).txt to /tmp/model/dataset_0/labels/train/images5 (5).txt\n",
      "Copied model/dataset_0/labels/train/images5.txt to /tmp/model/dataset_0/labels/train/images5.txt\n",
      "Copied model/dataset_0/labels/train/images51.txt to /tmp/model/dataset_0/labels/train/images51.txt\n",
      "Copied model/dataset_0/labels/train/images54.txt to /tmp/model/dataset_0/labels/train/images54.txt\n",
      "Copied model/dataset_0/labels/train/images55.txt to /tmp/model/dataset_0/labels/train/images55.txt\n",
      "Copied model/dataset_0/labels/train/images6 (2).txt to /tmp/model/dataset_0/labels/train/images6 (2).txt\n",
      "Copied model/dataset_0/labels/train/images6 (5).txt to /tmp/model/dataset_0/labels/train/images6 (5).txt\n",
      "Copied model/dataset_0/labels/train/images6.txt to /tmp/model/dataset_0/labels/train/images6.txt\n",
      "Copied model/dataset_0/labels/train/images60.txt to /tmp/model/dataset_0/labels/train/images60.txt\n",
      "Copied model/dataset_0/labels/train/images63.txt to /tmp/model/dataset_0/labels/train/images63.txt\n",
      "Copied model/dataset_0/labels/train/images64.txt to /tmp/model/dataset_0/labels/train/images64.txt\n",
      "Copied model/dataset_0/labels/train/images66.txt to /tmp/model/dataset_0/labels/train/images66.txt\n",
      "Copied model/dataset_0/labels/train/images7 (2).txt to /tmp/model/dataset_0/labels/train/images7 (2).txt\n",
      "Copied model/dataset_0/labels/train/images7 (3).txt to /tmp/model/dataset_0/labels/train/images7 (3).txt\n",
      "Copied model/dataset_0/labels/train/images7 (4).txt to /tmp/model/dataset_0/labels/train/images7 (4).txt\n",
      "Copied model/dataset_0/labels/train/images7.txt to /tmp/model/dataset_0/labels/train/images7.txt\n",
      "Copied model/dataset_0/labels/train/images71.txt to /tmp/model/dataset_0/labels/train/images71.txt\n",
      "Copied model/dataset_0/labels/train/images73.txt to /tmp/model/dataset_0/labels/train/images73.txt\n",
      "Copied model/dataset_0/labels/train/images74.txt to /tmp/model/dataset_0/labels/train/images74.txt\n",
      "Copied model/dataset_0/labels/train/images76.txt to /tmp/model/dataset_0/labels/train/images76.txt\n",
      "Copied model/dataset_0/labels/train/images78.txt to /tmp/model/dataset_0/labels/train/images78.txt\n",
      "Copied model/dataset_0/labels/train/images8 (3).txt to /tmp/model/dataset_0/labels/train/images8 (3).txt\n",
      "Copied model/dataset_0/labels/train/images8 (5).txt to /tmp/model/dataset_0/labels/train/images8 (5).txt\n",
      "Copied model/dataset_0/labels/train/images8.txt to /tmp/model/dataset_0/labels/train/images8.txt\n",
      "Copied model/dataset_0/labels/train/images80.txt to /tmp/model/dataset_0/labels/train/images80.txt\n",
      "Copied model/dataset_0/labels/train/images81.txt to /tmp/model/dataset_0/labels/train/images81.txt\n",
      "Copied model/dataset_0/labels/train/images85.txt to /tmp/model/dataset_0/labels/train/images85.txt\n",
      "Copied model/dataset_0/labels/train/images86.txt to /tmp/model/dataset_0/labels/train/images86.txt\n",
      "Copied model/dataset_0/labels/train/images88.txt to /tmp/model/dataset_0/labels/train/images88.txt\n",
      "Copied model/dataset_0/labels/train/images89.txt to /tmp/model/dataset_0/labels/train/images89.txt\n",
      "Copied model/dataset_0/labels/train/images9 (2).txt to /tmp/model/dataset_0/labels/train/images9 (2).txt\n",
      "Copied model/dataset_0/labels/train/images9 (3).txt to /tmp/model/dataset_0/labels/train/images9 (3).txt\n",
      "Copied model/dataset_0/labels/train/images9 (4).txt to /tmp/model/dataset_0/labels/train/images9 (4).txt\n",
      "Copied model/dataset_0/labels/train/images9 (5).txt to /tmp/model/dataset_0/labels/train/images9 (5).txt\n",
      "Copied model/dataset_0/labels/train/images9.txt to /tmp/model/dataset_0/labels/train/images9.txt\n",
      "Copied model/dataset_0/labels/train/images91.txt to /tmp/model/dataset_0/labels/train/images91.txt\n",
      "Copied model/dataset_0/labels/train/images92.txt to /tmp/model/dataset_0/labels/train/images92.txt\n",
      "Copied model/dataset_0/labels/train/images96.txt to /tmp/model/dataset_0/labels/train/images96.txt\n",
      "Copied model/dataset_0/labels/train/images97.txt to /tmp/model/dataset_0/labels/train/images97.txt\n",
      "Copied model/dataset_0/labels/train/img-z6-1_01.txt to /tmp/model/dataset_0/labels/train/img-z6-1_01.txt\n",
      "Copied model/dataset_0/labels/train/ion-panthera-tigris-subspecies-ranks-biggest-wild-cats-alive-today-250097332.txt to /tmp/model/dataset_0/labels/train/ion-panthera-tigris-subspecies-ranks-biggest-wild-cats-alive-today-250097332.txt\n",
      "Copied model/dataset_0/labels/train/jakarta-indonesia-a-rare-sumatran-tiger-has-been-snapped-having-a-HYKW45.txt to /tmp/model/dataset_0/labels/train/jakarta-indonesia-a-rare-sumatran-tiger-has-been-snapped-having-a-HYKW45.txt\n",
      "Copied model/dataset_0/labels/train/jakarta-indonesia-a-rare-sumatran-tiger-has-been-snapped-having-a-HYKW4F.txt to /tmp/model/dataset_0/labels/train/jakarta-indonesia-a-rare-sumatran-tiger-has-been-snapped-having-a-HYKW4F.txt\n",
      "Copied model/dataset_0/labels/train/jakarta-indonesia-a-rare-sumatran-tiger-has-been-snapped-having-a-HYKW4J.txt to /tmp/model/dataset_0/labels/train/jakarta-indonesia-a-rare-sumatran-tiger-has-been-snapped-having-a-HYKW4J.txt\n",
      "Copied model/dataset_0/labels/train/jakarta-indonesia-a-rare-sumatran-tiger-has-been-snapped-having-a-HYKW4M.txt to /tmp/model/dataset_0/labels/train/jakarta-indonesia-a-rare-sumatran-tiger-has-been-snapped-having-a-HYKW4M.txt\n",
      "Copied model/dataset_0/labels/train/juvenile-pig-tailed-macaque-macaca-nemestrina-white-isolated-65797513.txt to /tmp/model/dataset_0/labels/train/juvenile-pig-tailed-macaque-macaca-nemestrina-white-isolated-65797513.txt\n",
      "Copied model/dataset_0/labels/train/large (2).txt to /tmp/model/dataset_0/labels/train/large (2).txt\n",
      "Copied model/dataset_0/labels/train/large.txt to /tmp/model/dataset_0/labels/train/large.txt\n",
      "Copied model/dataset_0/labels/train/large2 (2).txt to /tmp/model/dataset_0/labels/train/large2 (2).txt\n",
      "Copied model/dataset_0/labels/train/large2.txt to /tmp/model/dataset_0/labels/train/large2.txt\n",
      "Copied model/dataset_0/labels/train/look-at-that-tongue-sun.txt to /tmp/model/dataset_0/labels/train/look-at-that-tongue-sun.txt\n",
      "Copied model/dataset_0/labels/train/lvtm88h8_-sumatran-tigers_625x300_24_May_23.txt to /tmp/model/dataset_0/labels/train/lvtm88h8_-sumatran-tigers_625x300_24_May_23.txt\n",
      "Copied model/dataset_0/labels/train/macaca-leonina-northern-pig-tailed-macaque-baby-w-1500.txt to /tmp/model/dataset_0/labels/train/macaca-leonina-northern-pig-tailed-macaque-baby-w-1500.txt\n",
      "Copied model/dataset_0/labels/train/main_1500.txt to /tmp/model/dataset_0/labels/train/main_1500.txt\n",
      "Copied model/dataset_0/labels/train/male-rhinoceros-hornbill-on-left-has-passed-food-to-female-BAXY5M.txt to /tmp/model/dataset_0/labels/train/male-rhinoceros-hornbill-on-left-has-passed-food-to-female-BAXY5M.txt\n",
      "Copied model/dataset_0/labels/train/maxresdefault (2).txt to /tmp/model/dataset_0/labels/train/maxresdefault (2).txt\n",
      "Copied model/dataset_0/labels/train/maxresdefault (3).txt to /tmp/model/dataset_0/labels/train/maxresdefault (3).txt\n",
      "Copied model/dataset_0/labels/train/maxresdefault (4).txt to /tmp/model/dataset_0/labels/train/maxresdefault (4).txt\n",
      "Copied model/dataset_0/labels/train/maxresdefault (5).txt to /tmp/model/dataset_0/labels/train/maxresdefault (5).txt\n",
      "Copied model/dataset_0/labels/train/maxresdefault.txt to /tmp/model/dataset_0/labels/train/maxresdefault.txt\n",
      "Copied model/dataset_0/labels/train/maxresdefault2 (3).txt to /tmp/model/dataset_0/labels/train/maxresdefault2 (3).txt\n",
      "Copied model/dataset_0/labels/train/maxresdefault2 (4).txt to /tmp/model/dataset_0/labels/train/maxresdefault2 (4).txt\n",
      "Copied model/dataset_0/labels/train/maxresdefault2.txt to /tmp/model/dataset_0/labels/train/maxresdefault2.txt\n",
      "Copied model/dataset_0/labels/train/maxresdefault3 (2).txt to /tmp/model/dataset_0/labels/train/maxresdefault3 (2).txt\n",
      "Copied model/dataset_0/labels/train/maxresdefault4.txt to /tmp/model/dataset_0/labels/train/maxresdefault4.txt\n",
      "Copied model/dataset_0/labels/train/maxresdefault5.txt to /tmp/model/dataset_0/labels/train/maxresdefault5.txt\n",
      "Copied model/dataset_0/labels/train/mev-10751060.txt to /tmp/model/dataset_0/labels/train/mev-10751060.txt\n",
      "Copied model/dataset_0/labels/train/mev-10751063.txt to /tmp/model/dataset_0/labels/train/mev-10751063.txt\n",
      "Copied model/dataset_0/labels/train/mother-and-baby-elephant-1.txt to /tmp/model/dataset_0/labels/train/mother-and-baby-elephant-1.txt\n",
      "Copied model/dataset_0/labels/train/northern-pig-tailed-macaque-37891396.txt to /tmp/model/dataset_0/labels/train/northern-pig-tailed-macaque-37891396.txt\n",
      "Copied model/dataset_0/labels/train/northern-pig-tailed-macaque-macaca-leonina-baby-eating-a-banana-thailand-PF1C4C.txt to /tmp/model/dataset_0/labels/train/northern-pig-tailed-macaque-macaca-leonina-baby-eating-a-banana-thailand-PF1C4C.txt\n",
      "Copied model/dataset_0/labels/train/northern-pig-tailed-macaque-shutterstock_672865216-r.txt to /tmp/model/dataset_0/labels/train/northern-pig-tailed-macaque-shutterstock_672865216-r.txt\n",
      "Copied model/dataset_0/labels/train/northern_pig_tail_macaque.txt to /tmp/model/dataset_0/labels/train/northern_pig_tail_macaque.txt\n",
      "Copied model/dataset_0/labels/train/np_file_54462.txt to /tmp/model/dataset_0/labels/train/np_file_54462.txt\n",
      "Copied model/dataset_0/labels/train/of-pig-tails-and-palm-oil-how-rat-eating-macaques-increase-oil-palm-sustainability.txt to /tmp/model/dataset_0/labels/train/of-pig-tails-and-palm-oil-how-rat-eating-macaques-increase-oil-palm-sustainability.txt\n",
      "Copied model/dataset_0/labels/train/orso8.txt to /tmp/model/dataset_0/labels/train/orso8.txt\n",
      "Copied model/dataset_0/labels/train/ortrait-walking-on-ground-sepahijala-wildlife-sanctuary-tripura-india-W7N1M4.txt to /tmp/model/dataset_0/labels/train/ortrait-walking-on-ground-sepahijala-wildlife-sanctuary-tripura-india-W7N1M4.txt\n",
      "Copied model/dataset_0/labels/train/p08k0r46.txt to /tmp/model/dataset_0/labels/train/p08k0r46.txt\n",
      "Copied model/dataset_0/labels/train/p567603290-4.txt to /tmp/model/dataset_0/labels/train/p567603290-4.txt\n",
      "Copied model/dataset_0/labels/train/panthera-tigris-male-sumatran-tiger-portrait-close-up-217063651.txt to /tmp/model/dataset_0/labels/train/panthera-tigris-male-sumatran-tiger-portrait-close-up-217063651.txt\n",
      "Copied model/dataset_0/labels/train/pig-tailed-macaque-3-768x512.txt to /tmp/model/dataset_0/labels/train/pig-tailed-macaque-3-768x512.txt\n",
      "Copied model/dataset_0/labels/train/pig-tailed-macaque-nth_1843.txt to /tmp/model/dataset_0/labels/train/pig-tailed-macaque-nth_1843.txt\n",
      "Copied model/dataset_0/labels/train/pig-tailed-macaque-sth_0407a.txt to /tmp/model/dataset_0/labels/train/pig-tailed-macaque-sth_0407a.txt\n",
      "Copied model/dataset_0/labels/train/pig-tailed-macaque-sth_0428a.txt to /tmp/model/dataset_0/labels/train/pig-tailed-macaque-sth_0428a.txt\n",
      "Copied model/dataset_0/labels/train/pig-tailed-macaque-sth_4093.txt to /tmp/model/dataset_0/labels/train/pig-tailed-macaque-sth_4093.txt\n",
      "Copied model/dataset_0/labels/train/pigtail-macaque-macaca-nemestrina-male-thailand-TR6T8D.txt to /tmp/model/dataset_0/labels/train/pigtail-macaque-macaca-nemestrina-male-thailand-TR6T8D.txt\n",
      "Copied model/dataset_0/labels/train/pigtail-macaque-pig-tailed-macaque-southern-pig-tailed-macaque-beruk-CNY4AM.txt to /tmp/model/dataset_0/labels/train/pigtail-macaque-pig-tailed-macaque-southern-pig-tailed-macaque-beruk-CNY4AM.txt\n",
      "Copied model/dataset_0/labels/train/png-clipart-bird-great-hornbill-rhinoceros-hornbill-parrot-animals-fauna.txt to /tmp/model/dataset_0/labels/train/png-clipart-bird-great-hornbill-rhinoceros-hornbill-parrot-animals-fauna.txt\n",
      "Copied model/dataset_0/labels/train/pngtree-elephant-asian-elephant-png-image_9043910.txt to /tmp/model/dataset_0/labels/train/pngtree-elephant-asian-elephant-png-image_9043910.txt\n",
      "Copied model/dataset_0/labels/train/portrait-sumatran-tiger_266258-1832.txt to /tmp/model/dataset_0/labels/train/portrait-sumatran-tiger_266258-1832.txt\n",
      "Copied model/dataset_0/labels/train/rhino-hornbill-hero-image.txt to /tmp/model/dataset_0/labels/train/rhino-hornbill-hero-image.txt\n",
      "Copied model/dataset_0/labels/train/rhino-hornbill-web.txt to /tmp/model/dataset_0/labels/train/rhino-hornbill-web.txt\n",
      "Copied model/dataset_0/labels/train/rhino-hornbill.txt to /tmp/model/dataset_0/labels/train/rhino-hornbill.txt\n",
      "Copied model/dataset_0/labels/train/rhinoceros-hornbill-21b65c6a-edf9-41be-8290-34f9b0fc32a-resize-750.txt to /tmp/model/dataset_0/labels/train/rhinoceros-hornbill-21b65c6a-edf9-41be-8290-34f9b0fc32a-resize-750.txt\n",
      "Copied model/dataset_0/labels/train/rhinoceros-hornbill-and-the-horned-guan-birds-and-their-features2.txt to /tmp/model/dataset_0/labels/train/rhinoceros-hornbill-and-the-horned-guan-birds-and-their-features2.txt\n",
      "Copied model/dataset_0/labels/train/rhinoceros-hornbill-cartoon_119631-51.txt to /tmp/model/dataset_0/labels/train/rhinoceros-hornbill-cartoon_119631-51.txt\n",
      "Copied model/dataset_0/labels/train/rhinoceros-hornbill-derek-bruff-cc.txt to /tmp/model/dataset_0/labels/train/rhinoceros-hornbill-derek-bruff-cc.txt\n",
      "Copied model/dataset_0/labels/train/rhinoceros-hornbill-female-buceros-rhinoceros-side-AJP1P4.txt to /tmp/model/dataset_0/labels/train/rhinoceros-hornbill-female-buceros-rhinoceros-side-AJP1P4.txt\n",
      "Copied model/dataset_0/labels/train/rhinoceros-hornbill-flight-charles-leavell-cc-all.txt to /tmp/model/dataset_0/labels/train/rhinoceros-hornbill-flight-charles-leavell-cc-all.txt\n",
      "Copied model/dataset_0/labels/train/rhinoceros-hornbill-tropical-kalao-bird-vector-28856049.txt to /tmp/model/dataset_0/labels/train/rhinoceros-hornbill-tropical-kalao-bird-vector-28856049.txt\n",
      "Copied model/dataset_0/labels/train/rhinoceros_hornbill.txt to /tmp/model/dataset_0/labels/train/rhinoceros_hornbill.txt\n",
      "Copied model/dataset_0/labels/train/rsz_jessica-knowlden-avrbjovuka-unsplash.txt to /tmp/model/dataset_0/labels/train/rsz_jessica-knowlden-avrbjovuka-unsplash.txt\n",
      "Copied model/dataset_0/labels/train/schweinsaffe-w-1500.txt to /tmp/model/dataset_0/labels/train/schweinsaffe-w-1500.txt\n",
      "Copied model/dataset_0/labels/train/shutterstock_226535251.txt to /tmp/model/dataset_0/labels/train/shutterstock_226535251.txt\n",
      "Copied model/dataset_0/labels/train/southern-pig-tailed-macaque-iStock-1211602130-r.txt to /tmp/model/dataset_0/labels/train/southern-pig-tailed-macaque-iStock-1211602130-r.txt\n",
      "Copied model/dataset_0/labels/train/southern_pigtail_macaque.txt to /tmp/model/dataset_0/labels/train/southern_pigtail_macaque.txt\n",
      "Copied model/dataset_0/labels/train/spike-elephant-outside-20180628-509sb.txt to /tmp/model/dataset_0/labels/train/spike-elephant-outside-20180628-509sb.txt\n",
      "Copied model/dataset_0/labels/train/sth-pig-tailed-macaque-fem_3906.txt to /tmp/model/dataset_0/labels/train/sth-pig-tailed-macaque-fem_3906.txt\n",
      "Copied model/dataset_0/labels/train/sth-pig-tailed-macaque_3419.txt to /tmp/model/dataset_0/labels/train/sth-pig-tailed-macaque_3419.txt\n",
      "Copied model/dataset_0/labels/train/stock-photo-beautiful-sumatran-tiger-on-the-prowl-1011623377.txt to /tmp/model/dataset_0/labels/train/stock-photo-beautiful-sumatran-tiger-on-the-prowl-1011623377.txt\n",
      "Copied model/dataset_0/labels/train/stock-photo-endangered-sumatran-tiger-less-than-alive-in-the-wild-16517122.txt to /tmp/model/dataset_0/labels/train/stock-photo-endangered-sumatran-tiger-less-than-alive-in-the-wild-16517122.txt\n",
      "Copied model/dataset_0/labels/train/sumatra_1748.txt to /tmp/model/dataset_0/labels/train/sumatra_1748.txt\n",
      "Copied model/dataset_0/labels/train/sumatran-tiger-2777347_640.txt to /tmp/model/dataset_0/labels/train/sumatran-tiger-2777347_640.txt\n",
      "Copied model/dataset_0/labels/train/sumatran-tiger-thumbnail-nationalgeographic_1456276_2x1.txt to /tmp/model/dataset_0/labels/train/sumatran-tiger-thumbnail-nationalgeographic_1456276_2x1.txt\n",
      "Copied model/dataset_0/labels/train/sumatran-tiger-thumbnail-nationalgeographic_1456276_3x4.txt to /tmp/model/dataset_0/labels/train/sumatran-tiger-thumbnail-nationalgeographic_1456276_3x4.txt\n",
      "Copied model/dataset_0/labels/train/sumatran_tiger.txt to /tmp/model/dataset_0/labels/train/sumatran_tiger.txt\n",
      "Copied model/dataset_0/labels/train/sumatrantiger-002.txt to /tmp/model/dataset_0/labels/train/sumatrantiger-002.txt\n",
      "Copied model/dataset_0/labels/train/sun-bear-gold-collar_square.txt to /tmp/model/dataset_0/labels/train/sun-bear-gold-collar_square.txt\n",
      "Copied model/dataset_0/labels/train/sun-bear-header.txt to /tmp/model/dataset_0/labels/train/sun-bear-header.txt\n",
      "Copied model/dataset_0/labels/train/sun-bear-sleep.txt to /tmp/model/dataset_0/labels/train/sun-bear-sleep.txt\n",
      "Copied model/dataset_0/labels/train/sun-bear-very-happy-on-Matt-HuntE28099s-lap_Cherique-Pohl_BBC-8e16f03-scaled.txt to /tmp/model/dataset_0/labels/train/sun-bear-very-happy-on-Matt-HuntE28099s-lap_Cherique-Pohl_BBC-8e16f03-scaled.txt\n",
      "Copied model/dataset_0/labels/train/sun-bear_thumb_square.JPG.txt to /tmp/model/dataset_0/labels/train/sun-bear_thumb_square.JPG.txt\n",
      "Copied model/dataset_0/labels/train/sun_bear.txt to /tmp/model/dataset_0/labels/train/sun_bear.txt\n",
      "Copied model/dataset_0/labels/train/sun_bear_2_347931.txt to /tmp/model/dataset_0/labels/train/sun_bear_2_347931.txt\n",
      "Copied model/dataset_0/labels/train/sunbears.txt to /tmp/model/dataset_0/labels/train/sunbears.txt\n",
      "Copied model/dataset_0/labels/train/sunny-bear-57484628-281797286071207-4041274929423843328-n.txt to /tmp/model/dataset_0/labels/train/sunny-bear-57484628-281797286071207-4041274929423843328-n.txt\n",
      "Copied model/dataset_0/labels/train/thecubsmothe.txt to /tmp/model/dataset_0/labels/train/thecubsmothe.txt\n",
      "Copied model/dataset_0/labels/train/three-asian-elephants.txt to /tmp/model/dataset_0/labels/train/three-asian-elephants.txt\n",
      "Copied model/dataset_0/labels/train/tiger-164905_640.txt to /tmp/model/dataset_0/labels/train/tiger-164905_640.txt\n",
      "Copied model/dataset_0/labels/train/tiger-species-sumatran-tigers-project-endangered-tigers.txt to /tmp/model/dataset_0/labels/train/tiger-species-sumatran-tigers-project-endangered-tigers.txt\n",
      "Copied model/dataset_0/labels/train/tiger_kavi_ZA_5242-750x500.txt to /tmp/model/dataset_0/labels/train/tiger_kavi_ZA_5242-750x500.txt\n",
      "Copied model/dataset_0/labels/train/tigerfact2.txt to /tmp/model/dataset_0/labels/train/tigerfact2.txt\n",
      "Copied model/dataset_0/labels/train/tigerrr.txt to /tmp/model/dataset_0/labels/train/tigerrr.txt\n",
      "Copied model/dataset_0/labels/train/tigers.txt to /tmp/model/dataset_0/labels/train/tigers.txt\n",
      "Copied model/dataset_0/labels/train/untitled-design-2023-05-01t175145.942.txt to /tmp/model/dataset_0/labels/train/untitled-design-2023-05-01t175145.942.txt\n",
      "Copied model/dataset_0/labels/train/v0_rsweb2.txt to /tmp/model/dataset_0/labels/train/v0_rsweb2.txt\n",
      "Copied model/dataset_0/labels/train/vector-eps-low-polygonal-illustration-rhinoceros-hornbill-birds-with-plants_127090-1810.txt to /tmp/model/dataset_0/labels/train/vector-eps-low-polygonal-illustration-rhinoceros-hornbill-birds-with-plants_127090-1810.txt\n",
      "Copied model/dataset_0/labels/train/wawa5-940x626.txt to /tmp/model/dataset_0/labels/train/wawa5-940x626.txt\n",
      "Copied model/dataset_0/labels/train/wp2321661.txt to /tmp/model/dataset_0/labels/train/wp2321661.txt\n",
      "Copied model/dataset_0/labels/val.cache to /tmp/model/dataset_0/labels/val.cache\n",
      "Copied model/dataset_0/labels/val/01221529.txt to /tmp/model/dataset_0/labels/val/01221529.txt\n",
      "Copied model/dataset_0/labels/val/060618_YHL_macaques_feat.txt to /tmp/model/dataset_0/labels/val/060618_YHL_macaques_feat.txt\n",
      "Copied model/dataset_0/labels/val/07Sumatrantiger_WilhelmaHL.txt to /tmp/model/dataset_0/labels/val/07Sumatrantiger_WilhelmaHL.txt\n",
      "Copied model/dataset_0/labels/val/1000_F_510261145_JBQo9gIrIgtVPbVqmESelWMPtA2yF0my.txt to /tmp/model/dataset_0/labels/val/1000_F_510261145_JBQo9gIrIgtVPbVqmESelWMPtA2yF0my.txt\n",
      "Copied model/dataset_0/labels/val/1127.sun_bear_Borneo.600.txt to /tmp/model/dataset_0/labels/val/1127.sun_bear_Borneo.600.txt\n",
      "Copied model/dataset_0/labels/val/1127.sun_bear_closeup.600.txt to /tmp/model/dataset_0/labels/val/1127.sun_bear_closeup.600.txt\n",
      "Copied model/dataset_0/labels/val/1200px-28Macaca.nemestrina-1-PragueZOO.txt to /tmp/model/dataset_0/labels/val/1200px-28Macaca.nemestrina-1-PragueZOO.txt\n",
      "Copied model/dataset_0/labels/val/191022025037-01-macaques.txt to /tmp/model/dataset_0/labels/val/191022025037-01-macaques.txt\n",
      "Copied model/dataset_0/labels/val/2-teddy-bear.txt to /tmp/model/dataset_0/labels/val/2-teddy-bear.txt\n",
      "Copied model/dataset_0/labels/val/2Fmethode2Ftimes2Fprodmigration2Fweb2Fbin2F96f8eae3-db78-3431-84b3-e9c111091e6f.txt to /tmp/model/dataset_0/labels/val/2Fmethode2Ftimes2Fprodmigration2Fweb2Fbin2F96f8eae3-db78-3431-84b3-e9c111091e6f.txt\n",
      "Copied model/dataset_0/labels/val/4D9118AE-8A0D-48B9-AA2E-DE1A8D7D1356.txt to /tmp/model/dataset_0/labels/val/4D9118AE-8A0D-48B9-AA2E-DE1A8D7D1356.txt\n",
      "Copied model/dataset_0/labels/val/524d9683c3fb2.image.txt to /tmp/model/dataset_0/labels/val/524d9683c3fb2.image.txt\n",
      "Copied model/dataset_0/labels/val/5cd371912400005600a9652c.txt to /tmp/model/dataset_0/labels/val/5cd371912400005600a9652c.txt\n",
      "Copied model/dataset_0/labels/val/60dd0100e4b01c2e2f73389c.txt to /tmp/model/dataset_0/labels/val/60dd0100e4b01c2e2f73389c.txt\n",
      "Copied model/dataset_0/labels/val/71HVSXmVrL._AC_UF10001000_QL80_.txt to /tmp/model/dataset_0/labels/val/71HVSXmVrL._AC_UF10001000_QL80_.txt\n",
      "Copied model/dataset_0/labels/val/776185D8-0694-4BDD-A1C8-93A503A12278_w1080_h608_s.txt to /tmp/model/dataset_0/labels/val/776185D8-0694-4BDD-A1C8-93A503A12278_w1080_h608_s.txt\n",
      "Copied model/dataset_0/labels/val/80C272D7-EE91-4C8D-A340-56EA93030B0B-scaled.txt to /tmp/model/dataset_0/labels/val/80C272D7-EE91-4C8D-A340-56EA93030B0B-scaled.txt\n",
      "Copied model/dataset_0/labels/val/815a8541de893d276569ad96d7ff0c9f.txt to /tmp/model/dataset_0/labels/val/815a8541de893d276569ad96d7ff0c9f.txt\n",
      "Copied model/dataset_0/labels/val/9890850_orig.txt to /tmp/model/dataset_0/labels/val/9890850_orig.txt\n",
      "Copied model/dataset_0/labels/val/A-suspected-first-generation-hybrid-long-tailed-pig-tailed-macaque-middle-and-a-true.txt to /tmp/model/dataset_0/labels/val/A-suspected-first-generation-hybrid-long-tailed-pig-tailed-macaque-middle-and-a-true.txt\n",
      "Copied model/dataset_0/labels/val/AdobeStock_113119253.txt to /tmp/model/dataset_0/labels/val/AdobeStock_113119253.txt\n",
      "Copied model/dataset_0/labels/val/Asian-Elephant-1-website.txt to /tmp/model/dataset_0/labels/val/Asian-Elephant-1-website.txt\n",
      "Copied model/dataset_0/labels/val/Figure-1_8328173601_70fc5c9578_b.txt to /tmp/model/dataset_0/labels/val/Figure-1_8328173601_70fc5c9578_b.txt\n",
      "Copied model/dataset_0/labels/val/Hornbill_2.txt to /tmp/model/dataset_0/labels/val/Hornbill_2.txt\n",
      "Copied model/dataset_0/labels/val/IMG_8065-1.txt to /tmp/model/dataset_0/labels/val/IMG_8065-1.txt\n",
      "Copied model/dataset_0/labels/val/Indian-Elephant-E.-m.-indicus.txt to /tmp/model/dataset_0/labels/val/Indian-Elephant-E.-m.-indicus.txt\n",
      "Copied model/dataset_0/labels/val/Large_WW22247-scaled-e1594667921117.txt to /tmp/model/dataset_0/labels/val/Large_WW22247-scaled-e1594667921117.txt\n",
      "Copied model/dataset_0/labels/val/MrDave1.txt to /tmp/model/dataset_0/labels/val/MrDave1.txt\n",
      "Copied model/dataset_0/labels/val/Pigtail-macaque-f.txt to /tmp/model/dataset_0/labels/val/Pigtail-macaque-f.txt\n",
      "Copied model/dataset_0/labels/val/Protection-Of-Elephants-In-India_6423f4e6def08.txt to /tmp/model/dataset_0/labels/val/Protection-Of-Elephants-In-India_6423f4e6def08.txt\n",
      "Copied model/dataset_0/labels/val/RIGHT-OF-PASSAGE.txt to /tmp/model/dataset_0/labels/val/RIGHT-OF-PASSAGE.txt\n",
      "Copied model/dataset_0/labels/val/Rhinoceros-hornbill-square.txt to /tmp/model/dataset_0/labels/val/Rhinoceros-hornbill-square.txt\n",
      "Copied model/dataset_0/labels/val/Rhinoceros-hornbill.txt to /tmp/model/dataset_0/labels/val/Rhinoceros-hornbill.txt\n",
      "Copied model/dataset_0/labels/val/Shotshop_36888067_2.txt to /tmp/model/dataset_0/labels/val/Shotshop_36888067_2.txt\n",
      "Copied model/dataset_0/labels/val/Southern-Pig-tailed-Macaque-3-1024x684.txt to /tmp/model/dataset_0/labels/val/Southern-Pig-tailed-Macaque-3-1024x684.txt\n",
      "Copied model/dataset_0/labels/val/Sun-Bear-Jamron-or-Bopha-Perth-Zoo.txt to /tmp/model/dataset_0/labels/val/Sun-Bear-Jamron-or-Bopha-Perth-Zoo.txt\n",
      "Copied model/dataset_0/labels/val/SunBear-scaled.txt to /tmp/model/dataset_0/labels/val/SunBear-scaled.txt\n",
      "Copied model/dataset_0/labels/val/Tiger-Eko.txt to /tmp/model/dataset_0/labels/val/Tiger-Eko.txt\n",
      "Copied model/dataset_0/labels/val/asian-elephant-in-bangladesh.txt to /tmp/model/dataset_0/labels/val/asian-elephant-in-bangladesh.txt\n",
      "Copied model/dataset_0/labels/val/asian_and_african_elephant_difference_teesta_illustration.txt to /tmp/model/dataset_0/labels/val/asian_and_african_elephant_difference_teesta_illustration.txt\n",
      "Copied model/dataset_0/labels/val/bears-kh-msb-py-sun-6-other-aq2i5885-m.txt to /tmp/model/dataset_0/labels/val/bears-kh-msb-py-sun-6-other-aq2i5885-m.txt\n",
      "Copied model/dataset_0/labels/val/c0011883-800px-wm.txt to /tmp/model/dataset_0/labels/val/c0011883-800px-wm.txt\n",
      "Copied model/dataset_0/labels/val/calao-rhinoceros-iw1.txt to /tmp/model/dataset_0/labels/val/calao-rhinoceros-iw1.txt\n",
      "Copied model/dataset_0/labels/val/calao-rhinoceros-jcj.txt to /tmp/model/dataset_0/labels/val/calao-rhinoceros-jcj.txt\n",
      "Copied model/dataset_0/labels/val/calao.rhinoceros.pava.1g.txt to /tmp/model/dataset_0/labels/val/calao.rhinoceros.pava.1g.txt\n",
      "Copied model/dataset_0/labels/val/difference-between-asian-elephant-and-african-elephant.txt to /tmp/model/dataset_0/labels/val/difference-between-asian-elephant-and-african-elephant.txt\n",
      "Copied model/dataset_0/labels/val/dsc_5892-2_sq.txt to /tmp/model/dataset_0/labels/val/dsc_5892-2_sq.txt\n",
      "Copied model/dataset_0/labels/val/elephants-Kaziranga-National-Park-Assam-India-scaled.txt to /tmp/model/dataset_0/labels/val/elephants-Kaziranga-National-Park-Assam-India-scaled.txt\n",
      "Copied model/dataset_0/labels/val/erkgax-e1633855085333.txt to /tmp/model/dataset_0/labels/val/erkgax-e1633855085333.txt\n",
      "Copied model/dataset_0/labels/val/h1380-c234e.txt to /tmp/model/dataset_0/labels/val/h1380-c234e.txt\n",
      "Copied model/dataset_0/labels/val/harimau-mati-DSCF5061-1-1200x800-1-768x512.txt to /tmp/model/dataset_0/labels/val/harimau-mati-DSCF5061-1-1200x800-1-768x512.txt\n",
      "Copied model/dataset_0/labels/val/header-sun-bear-2880.txt to /tmp/model/dataset_0/labels/val/header-sun-bear-2880.txt\n",
      "Copied model/dataset_0/labels/val/hero_tiger_animals.txt to /tmp/model/dataset_0/labels/val/hero_tiger_animals.txt\n",
      "Copied model/dataset_0/labels/val/image11.txt to /tmp/model/dataset_0/labels/val/image11.txt\n",
      "Copied model/dataset_0/labels/val/image14.txt to /tmp/model/dataset_0/labels/val/image14.txt\n",
      "Copied model/dataset_0/labels/val/image16 (2).txt to /tmp/model/dataset_0/labels/val/image16 (2).txt\n",
      "Copied model/dataset_0/labels/val/image16 (4).txt to /tmp/model/dataset_0/labels/val/image16 (4).txt\n",
      "Copied model/dataset_0/labels/val/image18 (3).txt to /tmp/model/dataset_0/labels/val/image18 (3).txt\n",
      "Copied model/dataset_0/labels/val/image20 (5).txt to /tmp/model/dataset_0/labels/val/image20 (5).txt\n",
      "Copied model/dataset_0/labels/val/image21 (4).txt to /tmp/model/dataset_0/labels/val/image21 (4).txt\n",
      "Copied model/dataset_0/labels/val/image22 (2).txt to /tmp/model/dataset_0/labels/val/image22 (2).txt\n",
      "Copied model/dataset_0/labels/val/image22 (5).txt to /tmp/model/dataset_0/labels/val/image22 (5).txt\n",
      "Copied model/dataset_0/labels/val/image23 (2).txt to /tmp/model/dataset_0/labels/val/image23 (2).txt\n",
      "Copied model/dataset_0/labels/val/image24 (2).txt to /tmp/model/dataset_0/labels/val/image24 (2).txt\n",
      "Copied model/dataset_0/labels/val/image24 (3).txt to /tmp/model/dataset_0/labels/val/image24 (3).txt\n",
      "Copied model/dataset_0/labels/val/image25 (5).txt to /tmp/model/dataset_0/labels/val/image25 (5).txt\n",
      "Copied model/dataset_0/labels/val/image25.txt to /tmp/model/dataset_0/labels/val/image25.txt\n",
      "Copied model/dataset_0/labels/val/image26 (2).txt to /tmp/model/dataset_0/labels/val/image26 (2).txt\n",
      "Copied model/dataset_0/labels/val/image26.txt to /tmp/model/dataset_0/labels/val/image26.txt\n",
      "Copied model/dataset_0/labels/val/image27 (5).txt to /tmp/model/dataset_0/labels/val/image27 (5).txt\n",
      "Copied model/dataset_0/labels/val/image30 (3).txt to /tmp/model/dataset_0/labels/val/image30 (3).txt\n",
      "Copied model/dataset_0/labels/val/image31.txt to /tmp/model/dataset_0/labels/val/image31.txt\n",
      "Copied model/dataset_0/labels/val/image32 (2).txt to /tmp/model/dataset_0/labels/val/image32 (2).txt\n",
      "Copied model/dataset_0/labels/val/image32.txt to /tmp/model/dataset_0/labels/val/image32.txt\n",
      "Copied model/dataset_0/labels/val/image7 (2).txt to /tmp/model/dataset_0/labels/val/image7 (2).txt\n",
      "Copied model/dataset_0/labels/val/image8.txt to /tmp/model/dataset_0/labels/val/image8.txt\n",
      "Copied model/dataset_0/labels/val/image9.txt to /tmp/model/dataset_0/labels/val/image9.txt\n",
      "Copied model/dataset_0/labels/val/images10.txt to /tmp/model/dataset_0/labels/val/images10.txt\n",
      "Copied model/dataset_0/labels/val/images100.txt to /tmp/model/dataset_0/labels/val/images100.txt\n",
      "Copied model/dataset_0/labels/val/images117.txt to /tmp/model/dataset_0/labels/val/images117.txt\n",
      "Copied model/dataset_0/labels/val/images12 (2).txt to /tmp/model/dataset_0/labels/val/images12 (2).txt\n",
      "Copied model/dataset_0/labels/val/images137.txt to /tmp/model/dataset_0/labels/val/images137.txt\n",
      "Copied model/dataset_0/labels/val/images148.txt to /tmp/model/dataset_0/labels/val/images148.txt\n",
      "Copied model/dataset_0/labels/val/images15 (3).txt to /tmp/model/dataset_0/labels/val/images15 (3).txt\n",
      "Copied model/dataset_0/labels/val/images151.txt to /tmp/model/dataset_0/labels/val/images151.txt\n",
      "Copied model/dataset_0/labels/val/images158.txt to /tmp/model/dataset_0/labels/val/images158.txt\n",
      "Copied model/dataset_0/labels/val/images161.txt to /tmp/model/dataset_0/labels/val/images161.txt\n",
      "Copied model/dataset_0/labels/val/images173.txt to /tmp/model/dataset_0/labels/val/images173.txt\n",
      "Copied model/dataset_0/labels/val/images177.txt to /tmp/model/dataset_0/labels/val/images177.txt\n",
      "Copied model/dataset_0/labels/val/images18 (2).txt to /tmp/model/dataset_0/labels/val/images18 (2).txt\n",
      "Copied model/dataset_0/labels/val/images18 (4).txt to /tmp/model/dataset_0/labels/val/images18 (4).txt\n",
      "Copied model/dataset_0/labels/val/images181.txt to /tmp/model/dataset_0/labels/val/images181.txt\n",
      "Copied model/dataset_0/labels/val/images183.txt to /tmp/model/dataset_0/labels/val/images183.txt\n",
      "Copied model/dataset_0/labels/val/images186.txt to /tmp/model/dataset_0/labels/val/images186.txt\n",
      "Copied model/dataset_0/labels/val/images196.txt to /tmp/model/dataset_0/labels/val/images196.txt\n",
      "Copied model/dataset_0/labels/val/images2 (2).txt to /tmp/model/dataset_0/labels/val/images2 (2).txt\n",
      "Copied model/dataset_0/labels/val/images21 (4).txt to /tmp/model/dataset_0/labels/val/images21 (4).txt\n",
      "Copied model/dataset_0/labels/val/images21.txt to /tmp/model/dataset_0/labels/val/images21.txt\n",
      "Copied model/dataset_0/labels/val/images211.txt to /tmp/model/dataset_0/labels/val/images211.txt\n",
      "Copied model/dataset_0/labels/val/images212.txt to /tmp/model/dataset_0/labels/val/images212.txt\n",
      "Copied model/dataset_0/labels/val/images213.txt to /tmp/model/dataset_0/labels/val/images213.txt\n",
      "Copied model/dataset_0/labels/val/images22 (4).txt to /tmp/model/dataset_0/labels/val/images22 (4).txt\n",
      "Copied model/dataset_0/labels/val/images24 (2).txt to /tmp/model/dataset_0/labels/val/images24 (2).txt\n",
      "Copied model/dataset_0/labels/val/images24 (4).txt to /tmp/model/dataset_0/labels/val/images24 (4).txt\n",
      "Copied model/dataset_0/labels/val/images25.txt to /tmp/model/dataset_0/labels/val/images25.txt\n",
      "Copied model/dataset_0/labels/val/images26 (3).txt to /tmp/model/dataset_0/labels/val/images26 (3).txt\n",
      "Copied model/dataset_0/labels/val/images26 (4).txt to /tmp/model/dataset_0/labels/val/images26 (4).txt\n",
      "Copied model/dataset_0/labels/val/images27 (2).txt to /tmp/model/dataset_0/labels/val/images27 (2).txt\n",
      "Copied model/dataset_0/labels/val/images27 (4).txt to /tmp/model/dataset_0/labels/val/images27 (4).txt\n",
      "Copied model/dataset_0/labels/val/images27 (5).txt to /tmp/model/dataset_0/labels/val/images27 (5).txt\n",
      "Copied model/dataset_0/labels/val/images28 (3).txt to /tmp/model/dataset_0/labels/val/images28 (3).txt\n",
      "Copied model/dataset_0/labels/val/images28 (4).txt to /tmp/model/dataset_0/labels/val/images28 (4).txt\n",
      "Copied model/dataset_0/labels/val/images28 (5).txt to /tmp/model/dataset_0/labels/val/images28 (5).txt\n",
      "Copied model/dataset_0/labels/val/images29 (5).txt to /tmp/model/dataset_0/labels/val/images29 (5).txt\n",
      "Copied model/dataset_0/labels/val/images3 (4).txt to /tmp/model/dataset_0/labels/val/images3 (4).txt\n",
      "Copied model/dataset_0/labels/val/images31 (3).txt to /tmp/model/dataset_0/labels/val/images31 (3).txt\n",
      "Copied model/dataset_0/labels/val/images31 (5).txt to /tmp/model/dataset_0/labels/val/images31 (5).txt\n",
      "Copied model/dataset_0/labels/val/images33 (4).txt to /tmp/model/dataset_0/labels/val/images33 (4).txt\n",
      "Copied model/dataset_0/labels/val/images33.txt to /tmp/model/dataset_0/labels/val/images33.txt\n",
      "Copied model/dataset_0/labels/val/images35 (2).txt to /tmp/model/dataset_0/labels/val/images35 (2).txt\n",
      "Copied model/dataset_0/labels/val/images36 (2).txt to /tmp/model/dataset_0/labels/val/images36 (2).txt\n",
      "Copied model/dataset_0/labels/val/images36.txt to /tmp/model/dataset_0/labels/val/images36.txt\n",
      "Copied model/dataset_0/labels/val/images37 (2).txt to /tmp/model/dataset_0/labels/val/images37 (2).txt\n",
      "Copied model/dataset_0/labels/val/images38 (3).txt to /tmp/model/dataset_0/labels/val/images38 (3).txt\n",
      "Copied model/dataset_0/labels/val/images39.txt to /tmp/model/dataset_0/labels/val/images39.txt\n",
      "Copied model/dataset_0/labels/val/images4 (4).txt to /tmp/model/dataset_0/labels/val/images4 (4).txt\n",
      "Copied model/dataset_0/labels/val/images44 (2).txt to /tmp/model/dataset_0/labels/val/images44 (2).txt\n",
      "Copied model/dataset_0/labels/val/images48.txt to /tmp/model/dataset_0/labels/val/images48.txt\n",
      "Copied model/dataset_0/labels/val/images57.txt to /tmp/model/dataset_0/labels/val/images57.txt\n",
      "Copied model/dataset_0/labels/val/images6 (3).txt to /tmp/model/dataset_0/labels/val/images6 (3).txt\n",
      "Copied model/dataset_0/labels/val/images6 (4).txt to /tmp/model/dataset_0/labels/val/images6 (4).txt\n",
      "Copied model/dataset_0/labels/val/images62.txt to /tmp/model/dataset_0/labels/val/images62.txt\n",
      "Copied model/dataset_0/labels/val/images65.txt to /tmp/model/dataset_0/labels/val/images65.txt\n",
      "Copied model/dataset_0/labels/val/images70.txt to /tmp/model/dataset_0/labels/val/images70.txt\n",
      "Copied model/dataset_0/labels/val/images75.txt to /tmp/model/dataset_0/labels/val/images75.txt\n",
      "Copied model/dataset_0/labels/val/images79.txt to /tmp/model/dataset_0/labels/val/images79.txt\n",
      "Copied model/dataset_0/labels/val/images8 (2).txt to /tmp/model/dataset_0/labels/val/images8 (2).txt\n",
      "Copied model/dataset_0/labels/val/images87.txt to /tmp/model/dataset_0/labels/val/images87.txt\n",
      "Copied model/dataset_0/labels/val/images90.txt to /tmp/model/dataset_0/labels/val/images90.txt\n",
      "Copied model/dataset_0/labels/val/images93.txt to /tmp/model/dataset_0/labels/val/images93.txt\n",
      "Copied model/dataset_0/labels/val/images98.txt to /tmp/model/dataset_0/labels/val/images98.txt\n",
      "Copied model/dataset_0/labels/val/indochinese-tiger-scaled.txt to /tmp/model/dataset_0/labels/val/indochinese-tiger-scaled.txt\n",
      "Copied model/dataset_0/labels/val/malayan-sun-bear-isolated-on-white-background-FCPHEE.txt to /tmp/model/dataset_0/labels/val/malayan-sun-bear-isolated-on-white-background-FCPHEE.txt\n",
      "Copied model/dataset_0/labels/val/maxresdefault2 (2).txt to /tmp/model/dataset_0/labels/val/maxresdefault2 (2).txt\n",
      "Copied model/dataset_0/labels/val/maxresdefault3.txt to /tmp/model/dataset_0/labels/val/maxresdefault3.txt\n",
      "Copied model/dataset_0/labels/val/n3qtmj_-sumatran-tigers_625x300_16_February_23.txt to /tmp/model/dataset_0/labels/val/n3qtmj_-sumatran-tigers_625x300_16_February_23.txt\n",
      "Copied model/dataset_0/labels/val/northern-pig-tailed-macaque-macaca-leonina-baby-eating-a-banana-thailand-PF1C4D.txt to /tmp/model/dataset_0/labels/val/northern-pig-tailed-macaque-macaca-leonina-baby-eating-a-banana-thailand-PF1C4D.txt\n",
      "Copied model/dataset_0/labels/val/northern-pig-tailed-macaque-shutterstock_1060534463-r.txt to /tmp/model/dataset_0/labels/val/northern-pig-tailed-macaque-shutterstock_1060534463-r.txt\n",
      "Copied model/dataset_0/labels/val/nptm_-tontantravel.txt to /tmp/model/dataset_0/labels/val/nptm_-tontantravel.txt\n",
      "Copied model/dataset_0/labels/val/pig-tailed-macaque-2-768x512.txt to /tmp/model/dataset_0/labels/val/pig-tailed-macaque-2-768x512.txt\n",
      "Copied model/dataset_0/labels/val/pigtailedmacaque4ci92.txt to /tmp/model/dataset_0/labels/val/pigtailedmacaque4ci92.txt\n",
      "Copied model/dataset_0/labels/val/pin-pigtail-macaque-5-300x259.txt to /tmp/model/dataset_0/labels/val/pin-pigtail-macaque-5-300x259.txt\n",
      "Copied model/dataset_0/labels/val/qmTrmidGxtYqoT4zjoxPcV-1200-80.txt to /tmp/model/dataset_0/labels/val/qmTrmidGxtYqoT4zjoxPcV-1200-80.txt\n",
      "Copied model/dataset_0/labels/val/rhinoceros-hornbill-and-the-horned-guan-birds-and-their-features.txt to /tmp/model/dataset_0/labels/val/rhinoceros-hornbill-and-the-horned-guan-birds-and-their-features.txt\n",
      "Copied model/dataset_0/labels/val/rhinoceros-hornbill-buceros-rhinoceros-malaysia-feeding-at-a-bird-table-2AM5T3N.txt to /tmp/model/dataset_0/labels/val/rhinoceros-hornbill-buceros-rhinoceros-malaysia-feeding-at-a-bird-table-2AM5T3N.txt\n",
      "Copied model/dataset_0/labels/val/rhinohornbill_gallery.txt to /tmp/model/dataset_0/labels/val/rhinohornbill_gallery.txt\n",
      "Copied model/dataset_0/labels/val/southern-pig-tailed-macaque-grass-natural-atmosphere-forest_60359-12.txt to /tmp/model/dataset_0/labels/val/southern-pig-tailed-macaque-grass-natural-atmosphere-forest_60359-12.txt\n",
      "Copied model/dataset_0/labels/val/sun-bear-tongue_4x3.txt to /tmp/model/dataset_0/labels/val/sun-bear-tongue_4x3.txt\n",
      "Copied model/dataset_0/labels/val/sun_bear2.txt to /tmp/model/dataset_0/labels/val/sun_bear2.txt\n",
      "Copied model/dataset_0/labels/val/sun_bear_8-e1656611077163.txt to /tmp/model/dataset_0/labels/val/sun_bear_8-e1656611077163.txt\n",
      "Copied model/dataset_0/labels/val/sunbearsmall.txt to /tmp/model/dataset_0/labels/val/sunbearsmall.txt\n",
      "Copied model/dataset_0/labels/val/tigerfact1.txt to /tmp/model/dataset_0/labels/val/tigerfact1.txt\n",
      "Copied model/dataset_0/labels/val/watercolor-rhinoceros-hornbill-bird-illustration-png.txt to /tmp/model/dataset_0/labels/val/watercolor-rhinoceros-hornbill-bird-illustration-png.txt\n",
      "Copied model/dataset_0/labels/val/webp_net_resizeimage_15_742270.txt to /tmp/model/dataset_0/labels/val/webp_net_resizeimage_15_742270.txt\n",
      "Copied model/dataset_0/labels/val/wp2321682.txt to /tmp/model/dataset_0/labels/val/wp2321682.txt\n"
     ]
    }
   ],
   "source": [
    "import os\n",
    "from google.cloud import storage\n",
    "# Initialize Google Cloud Storage client\n",
    "storage_client = storage.Client()\n",
    "# Specify your bucket name and model folder\n",
    "bucket_name = \"trap-camera-data\"\n",
    "model_folder_name = \"model\"\n",
    "# Define the temporary local directory path within the Vertex environment\n",
    "temp_model_dir = \"/tmp/model/\"\n",
    "# os.makedirs(temp_model_dir)\n",
    "# Get the list of blobs (files) in the model folder\n",
    "bucket = storage_client.bucket(bucket_name)\n",
    "blobs = bucket.list_blobs(prefix=model_folder_name + \"/\")  # Specify the model folder as the prefix\n",
    "# Copy each blob (file) from the model folder to the temporary local directory\n",
    "for blob in blobs:\n",
    "    if not blob.name.endswith('/'):  # Check if the blob is a file and not a directory\n",
    "        # Construct the destination path for the file in the temporary directory\n",
    "        relative_path = os.path.relpath(blob.name, model_folder_name)  # Get the relative path within the model folder\n",
    "        destination_path = os.path.join(temp_model_dir, relative_path)\n",
    "        # Create subdirectories if needed\n",
    "        os.makedirs(os.path.dirname(destination_path), exist_ok=True)\n",
    "        # Download the file to the destination path\n",
    "        blob.download_to_filename(destination_path)\n",
    "        print(f\"Copied {blob.name} to {destination_path}\")\n",
    "# Now you can access the model files in the temporary local directory (e.g., /tmp/model)"
   ]
  },
  {
   "cell_type": "code",
   "execution_count": 15,
   "id": "bdb18e7e-853d-4602-8671-82cea5808d75",
   "metadata": {},
   "outputs": [
    {
     "name": "stderr",
     "output_type": "stream",
     "text": [
      "Ultralytics YOLOv8.0.136 🚀 Python-3.10.11 torch-2.0.1+cu117 CUDA:0 (Tesla V100-SXM2-16GB, 16161MiB)\n",
      "\u001b[34m\u001b[1mengine/trainer: \u001b[0mtask=detect, mode=train, model=yolov8x.pt, data=/tmp/model/dataset_0/dataset.yaml, epochs=200, patience=50, batch=16, imgsz=640, save=True, save_period=-1, cache=False, device=None, workers=8, project=tmp/model/runs_0, name=None, exist_ok=False, pretrained=True, optimizer=auto, verbose=True, seed=0, deterministic=True, single_cls=False, rect=False, cos_lr=False, close_mosaic=10, resume=False, amp=True, fraction=1.0, profile=False, overlap_mask=True, mask_ratio=4, dropout=0.0, val=True, split=val, save_json=False, save_hybrid=False, conf=None, iou=0.7, max_det=300, half=False, dnn=False, plots=True, source=None, show=False, save_txt=False, save_conf=False, save_crop=False, show_labels=True, show_conf=True, vid_stride=1, line_width=None, visualize=False, augment=False, agnostic_nms=False, classes=None, retina_masks=False, boxes=True, format=torchscript, keras=False, optimize=False, int8=False, dynamic=False, simplify=False, opset=None, workspace=4, nms=False, lr0=0.01, lrf=0.01, momentum=0.937, weight_decay=0.0005, warmup_epochs=3.0, warmup_momentum=0.8, warmup_bias_lr=0.1, box=7.5, cls=0.5, dfl=1.5, pose=12.0, kobj=1.0, label_smoothing=0.0, nbs=64, hsv_h=0.015, hsv_s=0.7, hsv_v=0.4, degrees=0.0, translate=0.1, scale=0.5, shear=0.0, perspective=0.0, flipud=0.0, fliplr=0.5, mosaic=1.0, mixup=0.0, copy_paste=0.0, cfg=None, tracker=botsort.yaml, save_dir=tmp/model/runs_0/train2\n",
      "Downloading https://ultralytics.com/assets/Arial.ttf to /home/jupyter/.config/Ultralytics/Arial.ttf...\n",
      "100%|██████████| 755k/755k [00:00<00:00, 44.9MB/s]\n",
      "Overriding model.yaml nc=80 with nc=5\n",
      "\n",
      "                   from  n    params  module                                       arguments                     \n",
      "  0                  -1  1      2320  ultralytics.nn.modules.conv.Conv             [3, 80, 3, 2]                 \n",
      "  1                  -1  1    115520  ultralytics.nn.modules.conv.Conv             [80, 160, 3, 2]               \n",
      "  2                  -1  3    436800  ultralytics.nn.modules.block.C2f             [160, 160, 3, True]           \n",
      "  3                  -1  1    461440  ultralytics.nn.modules.conv.Conv             [160, 320, 3, 2]              \n",
      "  4                  -1  6   3281920  ultralytics.nn.modules.block.C2f             [320, 320, 6, True]           \n",
      "  5                  -1  1   1844480  ultralytics.nn.modules.conv.Conv             [320, 640, 3, 2]              \n",
      "  6                  -1  6  13117440  ultralytics.nn.modules.block.C2f             [640, 640, 6, True]           \n",
      "  7                  -1  1   3687680  ultralytics.nn.modules.conv.Conv             [640, 640, 3, 2]              \n",
      "  8                  -1  3   6969600  ultralytics.nn.modules.block.C2f             [640, 640, 3, True]           \n",
      "  9                  -1  1   1025920  ultralytics.nn.modules.block.SPPF            [640, 640, 5]                 \n",
      " 10                  -1  1         0  torch.nn.modules.upsampling.Upsample         [None, 2, 'nearest']          \n",
      " 11             [-1, 6]  1         0  ultralytics.nn.modules.conv.Concat           [1]                           \n",
      " 12                  -1  3   7379200  ultralytics.nn.modules.block.C2f             [1280, 640, 3]                \n",
      " 13                  -1  1         0  torch.nn.modules.upsampling.Upsample         [None, 2, 'nearest']          \n",
      " 14             [-1, 4]  1         0  ultralytics.nn.modules.conv.Concat           [1]                           \n",
      " 15                  -1  3   1948800  ultralytics.nn.modules.block.C2f             [960, 320, 3]                 \n",
      " 16                  -1  1    922240  ultralytics.nn.modules.conv.Conv             [320, 320, 3, 2]              \n",
      " 17            [-1, 12]  1         0  ultralytics.nn.modules.conv.Concat           [1]                           \n",
      " 18                  -1  3   7174400  ultralytics.nn.modules.block.C2f             [960, 640, 3]                 \n",
      " 19                  -1  1   3687680  ultralytics.nn.modules.conv.Conv             [640, 640, 3, 2]              \n",
      " 20             [-1, 9]  1         0  ultralytics.nn.modules.conv.Concat           [1]                           \n",
      " 21                  -1  3   7379200  ultralytics.nn.modules.block.C2f             [1280, 640, 3]                \n",
      " 22        [15, 18, 21]  1   8722783  ultralytics.nn.modules.head.Detect           [5, [320, 640, 640]]          \n",
      "Model summary: 365 layers, 68157423 parameters, 68157407 gradients\n",
      "\n",
      "Transferred 589/595 items from pretrained weights\n",
      "\u001b[34m\u001b[1mTensorBoard: \u001b[0mStart with 'tensorboard --logdir tmp/model/runs_0/train2', view at http://localhost:6006/\n",
      "\u001b[34m\u001b[1mAMP: \u001b[0mrunning Automatic Mixed Precision (AMP) checks with YOLOv8n...\n",
      "Downloading https://github.com/ultralytics/assets/releases/download/v0.0.0/yolov8n.pt to yolov8n.pt...\n",
      "100%|██████████| 6.23M/6.23M [00:00<00:00, 180MB/s]\n",
      "\u001b[34m\u001b[1mAMP: \u001b[0mchecks passed ✅\n",
      "\u001b[34m\u001b[1mtrain: \u001b[0mScanning /tmp/model/dataset_0/labels/train... 658 images, 0 backgrounds, 0 corrupt: 100%|██████████| 658/658 [00:01<00:00, 632.12it/s]\n",
      "\u001b[34m\u001b[1mtrain: \u001b[0mNew cache created: /tmp/model/dataset_0/labels/train.cache\n",
      "\u001b[34m\u001b[1mval: \u001b[0mScanning /tmp/model/dataset_0/labels/val... 165 images, 0 backgrounds, 0 corrupt: 100%|██████████| 165/165 [00:00<00:00, 559.84it/s]\n",
      "\u001b[34m\u001b[1mval: \u001b[0mNew cache created: /tmp/model/dataset_0/labels/val.cache\n",
      "Plotting labels to tmp/model/runs_0/train2/labels.jpg... \n",
      "\u001b[34m\u001b[1moptimizer:\u001b[0m AdamW(lr=0.001111, momentum=0.9) with parameter groups 97 weight(decay=0.0), 104 weight(decay=0.0005), 103 bias(decay=0.0)\n",
      "Image sizes 640 train, 640 val\n",
      "Using 2 dataloader workers\n",
      "Logging results to \u001b[1mtmp/model/runs_0/train2\u001b[0m\n",
      "Starting training for 200 epochs...\n",
      "\n",
      "      Epoch    GPU_mem   box_loss   cls_loss   dfl_loss  Instances       Size\n",
      "      1/200      12.9G      1.157      2.373      1.555          7        640: 100%|██████████| 42/42 [00:21<00:00,  1.92it/s]\n",
      "                 Class     Images  Instances      Box(P          R      mAP50  mAP50-95): 100%|██████████| 6/6 [00:04<00:00,  1.41it/s]\n",
      "                   all        165        207     0.0976      0.498      0.111     0.0551\n",
      "\n",
      "      Epoch    GPU_mem   box_loss   cls_loss   dfl_loss  Instances       Size\n",
      "      2/200      13.5G      1.545      2.297      1.841          8        640: 100%|██████████| 42/42 [00:17<00:00,  2.36it/s]\n",
      "                 Class     Images  Instances      Box(P          R      mAP50  mAP50-95): 100%|██████████| 6/6 [00:02<00:00,  2.07it/s]\n",
      "                   all        165        207    0.00474      0.187    0.00292     0.0011\n",
      "\n",
      "      Epoch    GPU_mem   box_loss   cls_loss   dfl_loss  Instances       Size\n",
      "      3/200      13.5G      1.642      2.364      1.902          5        640: 100%|██████████| 42/42 [00:18<00:00,  2.33it/s]\n",
      "                 Class     Images  Instances      Box(P          R      mAP50  mAP50-95): 100%|██████████| 6/6 [00:02<00:00,  3.00it/s]\n",
      "                   all        165        207    0.00143      0.289    0.00112   0.000519\n",
      "\n",
      "      Epoch    GPU_mem   box_loss   cls_loss   dfl_loss  Instances       Size\n",
      "      4/200      13.4G      1.656      2.295      1.893          8        640: 100%|██████████| 42/42 [00:18<00:00,  2.30it/s]\n",
      "                 Class     Images  Instances      Box(P          R      mAP50  mAP50-95): 100%|██████████| 6/6 [00:02<00:00,  2.82it/s]\n",
      "                   all        165        207     0.0312       0.31     0.0127    0.00315\n",
      "\n",
      "      Epoch    GPU_mem   box_loss   cls_loss   dfl_loss  Instances       Size\n",
      "      5/200      13.4G       1.57      2.148       1.82          7        640: 100%|██████████| 42/42 [00:17<00:00,  2.41it/s]\n",
      "                 Class     Images  Instances      Box(P          R      mAP50  mAP50-95): 100%|██████████| 6/6 [00:02<00:00,  2.66it/s]\n",
      "                   all        165        207      0.429      0.272      0.151     0.0702\n",
      "\n",
      "      Epoch    GPU_mem   box_loss   cls_loss   dfl_loss  Instances       Size\n",
      "      6/200      13.4G      1.487      2.011      1.752          6        640: 100%|██████████| 42/42 [00:17<00:00,  2.37it/s]\n",
      "                 Class     Images  Instances      Box(P          R      mAP50  mAP50-95): 100%|██████████| 6/6 [00:02<00:00,  2.64it/s]\n",
      "                   all        165        207      0.637      0.314       0.29      0.132\n",
      "\n",
      "      Epoch    GPU_mem   box_loss   cls_loss   dfl_loss  Instances       Size\n",
      "      7/200      13.5G      1.455      1.932      1.722          8        640: 100%|██████████| 42/42 [00:17<00:00,  2.46it/s]\n",
      "                 Class     Images  Instances      Box(P          R      mAP50  mAP50-95): 100%|██████████| 6/6 [00:02<00:00,  2.40it/s]\n",
      "                   all        165        207      0.519       0.57      0.552       0.25\n",
      "\n",
      "      Epoch    GPU_mem   box_loss   cls_loss   dfl_loss  Instances       Size\n",
      "      8/200      13.5G      1.459      1.943      1.749          4        640: 100%|██████████| 42/42 [00:17<00:00,  2.36it/s]\n",
      "                 Class     Images  Instances      Box(P          R      mAP50  mAP50-95): 100%|██████████| 6/6 [00:02<00:00,  2.67it/s]\n",
      "                   all        165        207      0.561      0.421      0.365      0.185\n",
      "\n",
      "      Epoch    GPU_mem   box_loss   cls_loss   dfl_loss  Instances       Size\n",
      "      9/200      13.5G      1.453      1.875      1.717          5        640: 100%|██████████| 42/42 [00:19<00:00,  2.17it/s]\n",
      "                 Class     Images  Instances      Box(P          R      mAP50  mAP50-95): 100%|██████████| 6/6 [00:02<00:00,  2.65it/s]\n",
      "                   all        165        207      0.546      0.523      0.487      0.269\n",
      "\n",
      "      Epoch    GPU_mem   box_loss   cls_loss   dfl_loss  Instances       Size\n",
      "     10/200      13.5G        1.4      1.768      1.663         10        640: 100%|██████████| 42/42 [00:17<00:00,  2.35it/s]\n",
      "                 Class     Images  Instances      Box(P          R      mAP50  mAP50-95): 100%|██████████| 6/6 [00:02<00:00,  2.65it/s]\n",
      "                   all        165        207      0.639      0.489      0.556      0.285\n",
      "\n",
      "      Epoch    GPU_mem   box_loss   cls_loss   dfl_loss  Instances       Size\n",
      "     11/200      13.5G      1.407      1.785      1.684         17        640: 100%|██████████| 42/42 [00:17<00:00,  2.34it/s]\n",
      "                 Class     Images  Instances      Box(P          R      mAP50  mAP50-95): 100%|██████████| 6/6 [00:02<00:00,  2.65it/s]\n",
      "                   all        165        207       0.56      0.512      0.528      0.258\n",
      "\n",
      "      Epoch    GPU_mem   box_loss   cls_loss   dfl_loss  Instances       Size\n",
      "     12/200      13.5G      1.325      1.701      1.629          8        640: 100%|██████████| 42/42 [00:18<00:00,  2.30it/s]\n",
      "                 Class     Images  Instances      Box(P          R      mAP50  mAP50-95): 100%|██████████| 6/6 [00:02<00:00,  2.69it/s]\n",
      "                   all        165        207      0.517      0.565      0.538      0.287\n",
      "\n",
      "      Epoch    GPU_mem   box_loss   cls_loss   dfl_loss  Instances       Size\n",
      "     13/200      13.4G      1.352       1.64      1.644          8        640: 100%|██████████| 42/42 [00:17<00:00,  2.34it/s]\n",
      "                 Class     Images  Instances      Box(P          R      mAP50  mAP50-95): 100%|██████████| 6/6 [00:02<00:00,  2.58it/s]\n",
      "                   all        165        207      0.596      0.548      0.556      0.318\n",
      "\n",
      "      Epoch    GPU_mem   box_loss   cls_loss   dfl_loss  Instances       Size\n",
      "     14/200      13.4G      1.259      1.573      1.572          5        640: 100%|██████████| 42/42 [00:17<00:00,  2.44it/s]\n",
      "                 Class     Images  Instances      Box(P          R      mAP50  mAP50-95): 100%|██████████| 6/6 [00:02<00:00,  2.63it/s]\n",
      "                   all        165        207      0.625      0.665      0.695      0.377\n",
      "\n",
      "      Epoch    GPU_mem   box_loss   cls_loss   dfl_loss  Instances       Size\n",
      "     15/200      13.4G      1.282      1.598       1.59         11        640: 100%|██████████| 42/42 [00:18<00:00,  2.25it/s]\n",
      "                 Class     Images  Instances      Box(P          R      mAP50  mAP50-95): 100%|██████████| 6/6 [00:02<00:00,  2.50it/s]\n",
      "                   all        165        207       0.73      0.702      0.766      0.479\n",
      "\n",
      "      Epoch    GPU_mem   box_loss   cls_loss   dfl_loss  Instances       Size\n",
      "     16/200      13.6G      1.236      1.553      1.567          5        640: 100%|██████████| 42/42 [00:17<00:00,  2.37it/s]\n",
      "                 Class     Images  Instances      Box(P          R      mAP50  mAP50-95): 100%|██████████| 6/6 [00:02<00:00,  2.51it/s]\n",
      "                   all        165        207      0.772      0.557       0.65      0.411\n",
      "\n",
      "      Epoch    GPU_mem   box_loss   cls_loss   dfl_loss  Instances       Size\n",
      "     17/200      13.4G      1.259      1.505      1.577         11        640: 100%|██████████| 42/42 [00:17<00:00,  2.44it/s]\n",
      "                 Class     Images  Instances      Box(P          R      mAP50  mAP50-95): 100%|██████████| 6/6 [00:02<00:00,  2.64it/s]\n",
      "                   all        165        207      0.677      0.701      0.738      0.469\n",
      "\n",
      "      Epoch    GPU_mem   box_loss   cls_loss   dfl_loss  Instances       Size\n",
      "     18/200      13.6G      1.191      1.407       1.53          5        640: 100%|██████████| 42/42 [00:18<00:00,  2.30it/s]\n",
      "                 Class     Images  Instances      Box(P          R      mAP50  mAP50-95): 100%|██████████| 6/6 [00:02<00:00,  2.38it/s]\n",
      "                   all        165        207      0.723      0.623      0.689      0.413\n",
      "\n",
      "      Epoch    GPU_mem   box_loss   cls_loss   dfl_loss  Instances       Size\n",
      "     19/200      13.4G      1.213      1.511      1.537          7        640: 100%|██████████| 42/42 [00:18<00:00,  2.25it/s]\n",
      "                 Class     Images  Instances      Box(P          R      mAP50  mAP50-95): 100%|██████████| 6/6 [00:02<00:00,  2.52it/s]\n",
      "                   all        165        207      0.797       0.74      0.806      0.531\n",
      "\n",
      "      Epoch    GPU_mem   box_loss   cls_loss   dfl_loss  Instances       Size\n",
      "     20/200      13.4G      1.185      1.404      1.515          9        640: 100%|██████████| 42/42 [00:18<00:00,  2.33it/s]\n",
      "                 Class     Images  Instances      Box(P          R      mAP50  mAP50-95): 100%|██████████| 6/6 [00:02<00:00,  2.74it/s]\n",
      "                   all        165        207      0.706      0.567      0.651      0.392\n",
      "\n",
      "      Epoch    GPU_mem   box_loss   cls_loss   dfl_loss  Instances       Size\n",
      "     21/200      13.4G      1.204       1.43       1.53          8        640: 100%|██████████| 42/42 [00:18<00:00,  2.30it/s]\n",
      "                 Class     Images  Instances      Box(P          R      mAP50  mAP50-95): 100%|██████████| 6/6 [00:02<00:00,  2.60it/s]\n",
      "                   all        165        207      0.764      0.625      0.749      0.475\n",
      "\n",
      "      Epoch    GPU_mem   box_loss   cls_loss   dfl_loss  Instances       Size\n",
      "     22/200      13.5G      1.169      1.322      1.508          6        640: 100%|██████████| 42/42 [00:17<00:00,  2.34it/s]\n",
      "                 Class     Images  Instances      Box(P          R      mAP50  mAP50-95): 100%|██████████| 6/6 [00:02<00:00,  2.65it/s]\n",
      "                   all        165        207      0.773      0.649      0.742      0.487\n",
      "\n",
      "      Epoch    GPU_mem   box_loss   cls_loss   dfl_loss  Instances       Size\n",
      "     23/200      13.4G      1.176      1.356      1.501          6        640: 100%|██████████| 42/42 [00:17<00:00,  2.36it/s]\n",
      "                 Class     Images  Instances      Box(P          R      mAP50  mAP50-95): 100%|██████████| 6/6 [00:02<00:00,  2.70it/s]\n",
      "                   all        165        207      0.729       0.69      0.718      0.457\n",
      "\n",
      "      Epoch    GPU_mem   box_loss   cls_loss   dfl_loss  Instances       Size\n",
      "     24/200      13.5G      1.169      1.306      1.526          4        640: 100%|██████████| 42/42 [00:17<00:00,  2.36it/s]\n",
      "                 Class     Images  Instances      Box(P          R      mAP50  mAP50-95): 100%|██████████| 6/6 [00:02<00:00,  2.63it/s]\n",
      "                   all        165        207      0.762      0.654      0.737      0.515\n",
      "\n",
      "      Epoch    GPU_mem   box_loss   cls_loss   dfl_loss  Instances       Size\n",
      "     25/200      13.6G       1.12      1.322      1.471          5        640: 100%|██████████| 42/42 [00:18<00:00,  2.29it/s]\n",
      "                 Class     Images  Instances      Box(P          R      mAP50  mAP50-95): 100%|██████████| 6/6 [00:02<00:00,  2.52it/s]\n",
      "                   all        165        207       0.76      0.665      0.718      0.478\n",
      "\n",
      "      Epoch    GPU_mem   box_loss   cls_loss   dfl_loss  Instances       Size\n",
      "     26/200      13.5G      1.157      1.326      1.486          5        640: 100%|██████████| 42/42 [00:17<00:00,  2.36it/s]\n",
      "                 Class     Images  Instances      Box(P          R      mAP50  mAP50-95): 100%|██████████| 6/6 [00:02<00:00,  2.74it/s]\n",
      "                   all        165        207      0.765      0.767      0.811      0.542\n",
      "\n",
      "      Epoch    GPU_mem   box_loss   cls_loss   dfl_loss  Instances       Size\n",
      "     27/200      13.4G      1.141      1.258      1.497          4        640: 100%|██████████| 42/42 [00:17<00:00,  2.40it/s]\n",
      "                 Class     Images  Instances      Box(P          R      mAP50  mAP50-95): 100%|██████████| 6/6 [00:02<00:00,  2.50it/s]\n",
      "                   all        165        207       0.83      0.746      0.808      0.518\n",
      "\n",
      "      Epoch    GPU_mem   box_loss   cls_loss   dfl_loss  Instances       Size\n",
      "     28/200      13.5G      1.114      1.241      1.468          4        640: 100%|██████████| 42/42 [00:17<00:00,  2.41it/s]\n",
      "                 Class     Images  Instances      Box(P          R      mAP50  mAP50-95): 100%|██████████| 6/6 [00:02<00:00,  2.64it/s]\n",
      "                   all        165        207      0.832      0.734      0.813      0.563\n",
      "\n",
      "      Epoch    GPU_mem   box_loss   cls_loss   dfl_loss  Instances       Size\n",
      "     29/200      13.4G      1.133      1.289      1.487         11        640: 100%|██████████| 42/42 [00:17<00:00,  2.47it/s]\n",
      "                 Class     Images  Instances      Box(P          R      mAP50  mAP50-95): 100%|██████████| 6/6 [00:02<00:00,  2.54it/s]\n",
      "                   all        165        207      0.874      0.746      0.847      0.576\n",
      "\n",
      "      Epoch    GPU_mem   box_loss   cls_loss   dfl_loss  Instances       Size\n",
      "     30/200      13.4G      1.087       1.22      1.451          3        640: 100%|██████████| 42/42 [00:16<00:00,  2.48it/s]\n",
      "                 Class     Images  Instances      Box(P          R      mAP50  mAP50-95): 100%|██████████| 6/6 [00:02<00:00,  2.54it/s]\n",
      "                   all        165        207      0.758      0.684      0.733      0.492\n",
      "\n",
      "      Epoch    GPU_mem   box_loss   cls_loss   dfl_loss  Instances       Size\n",
      "     31/200      13.4G      1.144      1.298      1.486          6        640: 100%|██████████| 42/42 [00:17<00:00,  2.45it/s]\n",
      "                 Class     Images  Instances      Box(P          R      mAP50  mAP50-95): 100%|██████████| 6/6 [00:02<00:00,  2.55it/s]\n",
      "                   all        165        207      0.834      0.744      0.841      0.599\n",
      "\n",
      "      Epoch    GPU_mem   box_loss   cls_loss   dfl_loss  Instances       Size\n",
      "     32/200      13.4G      1.089      1.214      1.448          7        640: 100%|██████████| 42/42 [00:18<00:00,  2.29it/s]\n",
      "                 Class     Images  Instances      Box(P          R      mAP50  mAP50-95): 100%|██████████| 6/6 [00:02<00:00,  2.71it/s]\n",
      "                   all        165        207      0.809      0.791      0.816      0.586\n",
      "\n",
      "      Epoch    GPU_mem   box_loss   cls_loss   dfl_loss  Instances       Size\n",
      "     33/200      13.4G      1.082      1.186       1.44          5        640: 100%|██████████| 42/42 [00:18<00:00,  2.25it/s]\n",
      "                 Class     Images  Instances      Box(P          R      mAP50  mAP50-95): 100%|██████████| 6/6 [00:02<00:00,  2.73it/s]\n",
      "                   all        165        207      0.794      0.761      0.819      0.575\n",
      "\n",
      "      Epoch    GPU_mem   box_loss   cls_loss   dfl_loss  Instances       Size\n",
      "     34/200      13.5G      1.101      1.236      1.465          3        640: 100%|██████████| 42/42 [00:17<00:00,  2.37it/s]\n",
      "                 Class     Images  Instances      Box(P          R      mAP50  mAP50-95): 100%|██████████| 6/6 [00:02<00:00,  2.73it/s]\n",
      "                   all        165        207      0.799      0.704      0.781      0.523\n",
      "\n",
      "      Epoch    GPU_mem   box_loss   cls_loss   dfl_loss  Instances       Size\n",
      "     35/200      13.6G      1.074      1.188      1.429          3        640: 100%|██████████| 42/42 [00:18<00:00,  2.27it/s]\n",
      "                 Class     Images  Instances      Box(P          R      mAP50  mAP50-95): 100%|██████████| 6/6 [00:02<00:00,  2.62it/s]\n",
      "                   all        165        207      0.801      0.729      0.814      0.562\n",
      "\n",
      "      Epoch    GPU_mem   box_loss   cls_loss   dfl_loss  Instances       Size\n",
      "     36/200      13.4G      1.069      1.214       1.43          9        640: 100%|██████████| 42/42 [00:17<00:00,  2.37it/s]\n",
      "                 Class     Images  Instances      Box(P          R      mAP50  mAP50-95): 100%|██████████| 6/6 [00:02<00:00,  2.58it/s]\n",
      "                   all        165        207      0.844      0.724      0.818      0.593\n",
      "\n",
      "      Epoch    GPU_mem   box_loss   cls_loss   dfl_loss  Instances       Size\n",
      "     37/200      13.4G      1.044      1.155      1.398         13        640: 100%|██████████| 42/42 [00:18<00:00,  2.22it/s]\n",
      "                 Class     Images  Instances      Box(P          R      mAP50  mAP50-95): 100%|██████████| 6/6 [00:02<00:00,  2.75it/s]\n",
      "                   all        165        207      0.837      0.699      0.807      0.584\n",
      "\n",
      "      Epoch    GPU_mem   box_loss   cls_loss   dfl_loss  Instances       Size\n",
      "     38/200      13.5G       1.04      1.164      1.418          6        640: 100%|██████████| 42/42 [00:19<00:00,  2.19it/s]\n",
      "                 Class     Images  Instances      Box(P          R      mAP50  mAP50-95): 100%|██████████| 6/6 [00:02<00:00,  2.61it/s]\n",
      "                   all        165        207       0.86      0.704      0.804      0.572\n",
      "\n",
      "      Epoch    GPU_mem   box_loss   cls_loss   dfl_loss  Instances       Size\n",
      "     39/200      13.4G      1.042      1.078      1.398          5        640: 100%|██████████| 42/42 [00:18<00:00,  2.24it/s]\n",
      "                 Class     Images  Instances      Box(P          R      mAP50  mAP50-95): 100%|██████████| 6/6 [00:02<00:00,  2.53it/s]\n",
      "                   all        165        207      0.816      0.669      0.762      0.509\n",
      "\n",
      "      Epoch    GPU_mem   box_loss   cls_loss   dfl_loss  Instances       Size\n",
      "     40/200      13.5G      1.031      1.124      1.398          6        640: 100%|██████████| 42/42 [00:17<00:00,  2.39it/s]\n",
      "                 Class     Images  Instances      Box(P          R      mAP50  mAP50-95): 100%|██████████| 6/6 [00:02<00:00,  2.76it/s]\n",
      "                   all        165        207      0.868      0.741      0.844      0.602\n",
      "\n",
      "      Epoch    GPU_mem   box_loss   cls_loss   dfl_loss  Instances       Size\n",
      "     41/200      13.4G      1.026      1.149      1.388          4        640: 100%|██████████| 42/42 [00:19<00:00,  2.20it/s]\n",
      "                 Class     Images  Instances      Box(P          R      mAP50  mAP50-95): 100%|██████████| 6/6 [00:02<00:00,  2.67it/s]\n",
      "                   all        165        207      0.845      0.764      0.853      0.613\n",
      "\n",
      "      Epoch    GPU_mem   box_loss   cls_loss   dfl_loss  Instances       Size\n",
      "     42/200      13.4G      1.017      1.116      1.401          8        640: 100%|██████████| 42/42 [00:17<00:00,  2.37it/s]\n",
      "                 Class     Images  Instances      Box(P          R      mAP50  mAP50-95): 100%|██████████| 6/6 [00:02<00:00,  2.62it/s]\n",
      "                   all        165        207      0.861      0.771      0.798      0.567\n",
      "\n",
      "      Epoch    GPU_mem   box_loss   cls_loss   dfl_loss  Instances       Size\n",
      "     43/200      13.6G     0.9924      1.048      1.365          6        640: 100%|██████████| 42/42 [00:18<00:00,  2.29it/s]\n",
      "                 Class     Images  Instances      Box(P          R      mAP50  mAP50-95): 100%|██████████| 6/6 [00:02<00:00,  2.70it/s]\n",
      "                   all        165        207      0.929      0.712      0.858       0.58\n",
      "\n",
      "      Epoch    GPU_mem   box_loss   cls_loss   dfl_loss  Instances       Size\n",
      "     44/200      13.4G      1.001       1.04      1.363          7        640: 100%|██████████| 42/42 [00:16<00:00,  2.47it/s]\n",
      "                 Class     Images  Instances      Box(P          R      mAP50  mAP50-95): 100%|██████████| 6/6 [00:02<00:00,  2.73it/s]\n",
      "                   all        165        207      0.892      0.766      0.853       0.61\n",
      "\n",
      "      Epoch    GPU_mem   box_loss   cls_loss   dfl_loss  Instances       Size\n",
      "     45/200      13.4G      1.017      1.104      1.401          4        640: 100%|██████████| 42/42 [00:18<00:00,  2.24it/s]\n",
      "                 Class     Images  Instances      Box(P          R      mAP50  mAP50-95): 100%|██████████| 6/6 [00:02<00:00,  2.73it/s]\n",
      "                   all        165        207      0.875      0.729      0.808      0.565\n",
      "\n",
      "      Epoch    GPU_mem   box_loss   cls_loss   dfl_loss  Instances       Size\n",
      "     46/200      13.4G          1      1.049      1.383          4        640: 100%|██████████| 42/42 [00:18<00:00,  2.25it/s]\n",
      "                 Class     Images  Instances      Box(P          R      mAP50  mAP50-95): 100%|██████████| 6/6 [00:02<00:00,  2.73it/s]\n",
      "                   all        165        207      0.804      0.728      0.822      0.595\n",
      "\n",
      "      Epoch    GPU_mem   box_loss   cls_loss   dfl_loss  Instances       Size\n",
      "     47/200      13.5G      1.015      1.102      1.414          2        640: 100%|██████████| 42/42 [00:18<00:00,  2.30it/s]\n",
      "                 Class     Images  Instances      Box(P          R      mAP50  mAP50-95): 100%|██████████| 6/6 [00:02<00:00,  2.57it/s]\n",
      "                   all        165        207      0.755      0.771      0.807      0.601\n",
      "\n",
      "      Epoch    GPU_mem   box_loss   cls_loss   dfl_loss  Instances       Size\n",
      "     48/200      13.7G      1.001      1.058      1.375          9        640: 100%|██████████| 42/42 [00:17<00:00,  2.38it/s]\n",
      "                 Class     Images  Instances      Box(P          R      mAP50  mAP50-95): 100%|██████████| 6/6 [00:02<00:00,  2.71it/s]\n",
      "                   all        165        207      0.858      0.778      0.839      0.629\n",
      "\n",
      "      Epoch    GPU_mem   box_loss   cls_loss   dfl_loss  Instances       Size\n",
      "     49/200      13.4G      1.007      1.092      1.371          5        640: 100%|██████████| 42/42 [00:17<00:00,  2.36it/s]\n",
      "                 Class     Images  Instances      Box(P          R      mAP50  mAP50-95): 100%|██████████| 6/6 [00:02<00:00,  2.67it/s]\n",
      "                   all        165        207      0.868      0.718      0.842      0.611\n",
      "\n",
      "      Epoch    GPU_mem   box_loss   cls_loss   dfl_loss  Instances       Size\n",
      "     50/200      13.6G      0.967       1.01      1.336          3        640: 100%|██████████| 42/42 [00:17<00:00,  2.38it/s]\n",
      "                 Class     Images  Instances      Box(P          R      mAP50  mAP50-95): 100%|██████████| 6/6 [00:02<00:00,  2.76it/s]\n",
      "                   all        165        207      0.847      0.776       0.85      0.626\n",
      "\n",
      "      Epoch    GPU_mem   box_loss   cls_loss   dfl_loss  Instances       Size\n",
      "     51/200      13.4G     0.9633      1.006      1.336          6        640: 100%|██████████| 42/42 [00:18<00:00,  2.26it/s]\n",
      "                 Class     Images  Instances      Box(P          R      mAP50  mAP50-95): 100%|██████████| 6/6 [00:02<00:00,  2.57it/s]\n",
      "                   all        165        207      0.823      0.791      0.851       0.62\n",
      "\n",
      "      Epoch    GPU_mem   box_loss   cls_loss   dfl_loss  Instances       Size\n",
      "     52/200      13.4G     0.9722     0.9843      1.356          9        640: 100%|██████████| 42/42 [00:17<00:00,  2.42it/s]\n",
      "                 Class     Images  Instances      Box(P          R      mAP50  mAP50-95): 100%|██████████| 6/6 [00:02<00:00,  2.85it/s]\n",
      "                   all        165        207       0.86      0.754      0.846      0.631\n",
      "\n",
      "      Epoch    GPU_mem   box_loss   cls_loss   dfl_loss  Instances       Size\n",
      "     53/200      13.4G     0.9804      1.014       1.34          7        640: 100%|██████████| 42/42 [00:18<00:00,  2.26it/s]\n",
      "                 Class     Images  Instances      Box(P          R      mAP50  mAP50-95): 100%|██████████| 6/6 [00:02<00:00,  2.52it/s]\n",
      "                   all        165        207      0.907      0.831      0.867      0.654\n",
      "\n",
      "      Epoch    GPU_mem   box_loss   cls_loss   dfl_loss  Instances       Size\n",
      "     54/200      13.6G     0.9924     0.9976      1.354          4        640: 100%|██████████| 42/42 [00:16<00:00,  2.54it/s]\n",
      "                 Class     Images  Instances      Box(P          R      mAP50  mAP50-95): 100%|██████████| 6/6 [00:02<00:00,  2.43it/s]\n",
      "                   all        165        207      0.843      0.764      0.831      0.587\n",
      "\n",
      "      Epoch    GPU_mem   box_loss   cls_loss   dfl_loss  Instances       Size\n",
      "     55/200      13.4G     0.9343     0.9518      1.307          8        640: 100%|██████████| 42/42 [00:17<00:00,  2.37it/s]\n",
      "                 Class     Images  Instances      Box(P          R      mAP50  mAP50-95): 100%|██████████| 6/6 [00:02<00:00,  2.62it/s]\n",
      "                   all        165        207      0.873      0.798      0.877      0.661\n",
      "\n",
      "      Epoch    GPU_mem   box_loss   cls_loss   dfl_loss  Instances       Size\n",
      "     56/200      13.5G     0.9668       1.01      1.349          8        640: 100%|██████████| 42/42 [00:17<00:00,  2.37it/s]\n",
      "                 Class     Images  Instances      Box(P          R      mAP50  mAP50-95): 100%|██████████| 6/6 [00:02<00:00,  2.56it/s]\n",
      "                   all        165        207      0.919      0.752      0.882      0.636\n",
      "\n",
      "      Epoch    GPU_mem   box_loss   cls_loss   dfl_loss  Instances       Size\n",
      "     57/200      13.5G     0.9489     0.9698      1.343         11        640: 100%|██████████| 42/42 [00:17<00:00,  2.36it/s]\n",
      "                 Class     Images  Instances      Box(P          R      mAP50  mAP50-95): 100%|██████████| 6/6 [00:02<00:00,  2.51it/s]\n",
      "                   all        165        207      0.895      0.755      0.846      0.639\n",
      "\n",
      "      Epoch    GPU_mem   box_loss   cls_loss   dfl_loss  Instances       Size\n",
      "     58/200      13.4G     0.9122     0.9274      1.304          9        640: 100%|██████████| 42/42 [00:18<00:00,  2.26it/s]\n",
      "                 Class     Images  Instances      Box(P          R      mAP50  mAP50-95): 100%|██████████| 6/6 [00:02<00:00,  2.67it/s]\n",
      "                   all        165        207       0.86      0.713      0.803      0.579\n",
      "\n",
      "      Epoch    GPU_mem   box_loss   cls_loss   dfl_loss  Instances       Size\n",
      "     59/200      13.5G     0.9481     0.9679      1.319         11        640: 100%|██████████| 42/42 [00:19<00:00,  2.20it/s]\n",
      "                 Class     Images  Instances      Box(P          R      mAP50  mAP50-95): 100%|██████████| 6/6 [00:02<00:00,  2.60it/s]\n",
      "                   all        165        207       0.91        0.8      0.866      0.662\n",
      "\n",
      "      Epoch    GPU_mem   box_loss   cls_loss   dfl_loss  Instances       Size\n",
      "     60/200      13.4G     0.9305     0.9225      1.323          6        640: 100%|██████████| 42/42 [00:17<00:00,  2.33it/s]\n",
      "                 Class     Images  Instances      Box(P          R      mAP50  mAP50-95): 100%|██████████| 6/6 [00:02<00:00,  2.56it/s]\n",
      "                   all        165        207      0.886      0.807      0.874      0.653\n",
      "\n",
      "      Epoch    GPU_mem   box_loss   cls_loss   dfl_loss  Instances       Size\n",
      "     61/200      13.4G     0.9587     0.9468      1.354          5        640: 100%|██████████| 42/42 [00:17<00:00,  2.35it/s]\n",
      "                 Class     Images  Instances      Box(P          R      mAP50  mAP50-95): 100%|██████████| 6/6 [00:02<00:00,  2.56it/s]\n",
      "                   all        165        207      0.839      0.785      0.858      0.625\n",
      "\n",
      "      Epoch    GPU_mem   box_loss   cls_loss   dfl_loss  Instances       Size\n",
      "     62/200      13.6G     0.9079     0.9129      1.292          5        640: 100%|██████████| 42/42 [00:17<00:00,  2.43it/s]\n",
      "                 Class     Images  Instances      Box(P          R      mAP50  mAP50-95): 100%|██████████| 6/6 [00:02<00:00,  2.20it/s]\n",
      "                   all        165        207      0.858      0.811      0.872      0.658\n",
      "\n",
      "      Epoch    GPU_mem   box_loss   cls_loss   dfl_loss  Instances       Size\n",
      "     63/200      13.5G     0.9041     0.8884      1.292          6        640: 100%|██████████| 42/42 [00:17<00:00,  2.43it/s]\n",
      "                 Class     Images  Instances      Box(P          R      mAP50  mAP50-95): 100%|██████████| 6/6 [00:02<00:00,  2.58it/s]\n",
      "                   all        165        207      0.916      0.805      0.878      0.654\n",
      "\n",
      "      Epoch    GPU_mem   box_loss   cls_loss   dfl_loss  Instances       Size\n",
      "     64/200      13.6G     0.8884     0.8922      1.292          5        640: 100%|██████████| 42/42 [00:17<00:00,  2.36it/s]\n",
      "                 Class     Images  Instances      Box(P          R      mAP50  mAP50-95): 100%|██████████| 6/6 [00:02<00:00,  2.62it/s]\n",
      "                   all        165        207      0.903      0.816      0.868      0.645\n",
      "\n",
      "      Epoch    GPU_mem   box_loss   cls_loss   dfl_loss  Instances       Size\n",
      "     65/200      13.4G     0.9267       0.92      1.308          4        640: 100%|██████████| 42/42 [00:18<00:00,  2.32it/s]\n",
      "                 Class     Images  Instances      Box(P          R      mAP50  mAP50-95): 100%|██████████| 6/6 [00:02<00:00,  2.66it/s]\n",
      "                   all        165        207      0.868      0.816      0.879       0.66\n",
      "\n",
      "      Epoch    GPU_mem   box_loss   cls_loss   dfl_loss  Instances       Size\n",
      "     66/200      13.4G     0.8729      0.891      1.278          7        640: 100%|██████████| 42/42 [00:17<00:00,  2.38it/s]\n",
      "                 Class     Images  Instances      Box(P          R      mAP50  mAP50-95): 100%|██████████| 6/6 [00:02<00:00,  2.41it/s]\n",
      "                   all        165        207      0.836      0.856      0.894      0.664\n",
      "\n",
      "      Epoch    GPU_mem   box_loss   cls_loss   dfl_loss  Instances       Size\n",
      "     67/200      13.4G     0.8768     0.8738      1.287          6        640: 100%|██████████| 42/42 [00:18<00:00,  2.29it/s]\n",
      "                 Class     Images  Instances      Box(P          R      mAP50  mAP50-95): 100%|██████████| 6/6 [00:02<00:00,  2.53it/s]\n",
      "                   all        165        207      0.883      0.815      0.898      0.687\n",
      "\n",
      "      Epoch    GPU_mem   box_loss   cls_loss   dfl_loss  Instances       Size\n",
      "     68/200      13.4G     0.8737     0.8894      1.277         10        640: 100%|██████████| 42/42 [00:17<00:00,  2.37it/s]\n",
      "                 Class     Images  Instances      Box(P          R      mAP50  mAP50-95): 100%|██████████| 6/6 [00:02<00:00,  2.60it/s]\n",
      "                   all        165        207       0.92       0.78      0.887      0.683\n",
      "\n",
      "      Epoch    GPU_mem   box_loss   cls_loss   dfl_loss  Instances       Size\n",
      "     69/200      13.4G     0.8953     0.8816       1.29          6        640: 100%|██████████| 42/42 [00:18<00:00,  2.31it/s]\n",
      "                 Class     Images  Instances      Box(P          R      mAP50  mAP50-95): 100%|██████████| 6/6 [00:02<00:00,  2.57it/s]\n",
      "                   all        165        207      0.908      0.819       0.89      0.691\n",
      "\n",
      "      Epoch    GPU_mem   box_loss   cls_loss   dfl_loss  Instances       Size\n",
      "     70/200      13.5G     0.8455     0.8355      1.255          5        640: 100%|██████████| 42/42 [00:17<00:00,  2.40it/s]\n",
      "                 Class     Images  Instances      Box(P          R      mAP50  mAP50-95): 100%|██████████| 6/6 [00:02<00:00,  2.53it/s]\n",
      "                   all        165        207      0.888      0.814      0.879       0.69\n",
      "\n",
      "      Epoch    GPU_mem   box_loss   cls_loss   dfl_loss  Instances       Size\n",
      "     71/200      13.4G     0.8748     0.8457      1.269          9        640: 100%|██████████| 42/42 [00:17<00:00,  2.39it/s]\n",
      "                 Class     Images  Instances      Box(P          R      mAP50  mAP50-95): 100%|██████████| 6/6 [00:02<00:00,  2.70it/s]\n",
      "                   all        165        207      0.891      0.805      0.851      0.659\n",
      "\n",
      "      Epoch    GPU_mem   box_loss   cls_loss   dfl_loss  Instances       Size\n",
      "     72/200      13.5G     0.8639     0.8681      1.268          5        640: 100%|██████████| 42/42 [00:18<00:00,  2.33it/s]\n",
      "                 Class     Images  Instances      Box(P          R      mAP50  mAP50-95): 100%|██████████| 6/6 [00:02<00:00,  2.66it/s]\n",
      "                   all        165        207      0.877      0.846       0.88      0.685\n",
      "\n",
      "      Epoch    GPU_mem   box_loss   cls_loss   dfl_loss  Instances       Size\n",
      "     73/200      13.6G     0.8818      0.869      1.291          9        640: 100%|██████████| 42/42 [00:17<00:00,  2.34it/s]\n",
      "                 Class     Images  Instances      Box(P          R      mAP50  mAP50-95): 100%|██████████| 6/6 [00:02<00:00,  2.59it/s]\n",
      "                   all        165        207      0.891      0.785      0.873       0.67\n",
      "\n",
      "      Epoch    GPU_mem   box_loss   cls_loss   dfl_loss  Instances       Size\n",
      "     74/200      13.4G     0.8276     0.7661      1.251          7        640: 100%|██████████| 42/42 [00:18<00:00,  2.25it/s]\n",
      "                 Class     Images  Instances      Box(P          R      mAP50  mAP50-95): 100%|██████████| 6/6 [00:02<00:00,  2.55it/s]\n",
      "                   all        165        207      0.938      0.784      0.865      0.677\n",
      "\n",
      "      Epoch    GPU_mem   box_loss   cls_loss   dfl_loss  Instances       Size\n",
      "     75/200      13.4G     0.8163     0.7953      1.232          8        640: 100%|██████████| 42/42 [00:17<00:00,  2.34it/s]\n",
      "                 Class     Images  Instances      Box(P          R      mAP50  mAP50-95): 100%|██████████| 6/6 [00:02<00:00,  2.68it/s]\n",
      "                   all        165        207      0.895      0.808      0.863      0.659\n",
      "\n",
      "      Epoch    GPU_mem   box_loss   cls_loss   dfl_loss  Instances       Size\n",
      "     76/200      13.4G     0.8378     0.7891       1.25         12        640: 100%|██████████| 42/42 [00:18<00:00,  2.29it/s]\n",
      "                 Class     Images  Instances      Box(P          R      mAP50  mAP50-95): 100%|██████████| 6/6 [00:02<00:00,  2.66it/s]\n",
      "                   all        165        207      0.865      0.802      0.844      0.653\n",
      "\n",
      "      Epoch    GPU_mem   box_loss   cls_loss   dfl_loss  Instances       Size\n",
      "     77/200      13.4G     0.8104     0.7942      1.242          5        640: 100%|██████████| 42/42 [00:18<00:00,  2.26it/s]\n",
      "                 Class     Images  Instances      Box(P          R      mAP50  mAP50-95): 100%|██████████| 6/6 [00:02<00:00,  2.68it/s]\n",
      "                   all        165        207        0.9      0.798      0.876      0.667\n",
      "\n",
      "      Epoch    GPU_mem   box_loss   cls_loss   dfl_loss  Instances       Size\n",
      "     78/200      13.5G     0.8226      0.761      1.251         10        640: 100%|██████████| 42/42 [00:18<00:00,  2.26it/s]\n",
      "                 Class     Images  Instances      Box(P          R      mAP50  mAP50-95): 100%|██████████| 6/6 [00:02<00:00,  2.48it/s]\n",
      "                   all        165        207      0.868       0.85      0.886       0.68\n",
      "\n",
      "      Epoch    GPU_mem   box_loss   cls_loss   dfl_loss  Instances       Size\n",
      "     79/200      13.4G     0.8227     0.7898      1.251          8        640: 100%|██████████| 42/42 [00:16<00:00,  2.48it/s]\n",
      "                 Class     Images  Instances      Box(P          R      mAP50  mAP50-95): 100%|██████████| 6/6 [00:02<00:00,  2.58it/s]\n",
      "                   all        165        207      0.885      0.805      0.872      0.681\n",
      "\n",
      "      Epoch    GPU_mem   box_loss   cls_loss   dfl_loss  Instances       Size\n",
      "     80/200      13.6G       0.85     0.8282      1.267          7        640: 100%|██████████| 42/42 [00:19<00:00,  2.21it/s]\n",
      "                 Class     Images  Instances      Box(P          R      mAP50  mAP50-95): 100%|██████████| 6/6 [00:02<00:00,  2.68it/s]\n",
      "                   all        165        207      0.882      0.808      0.858       0.68\n",
      "\n",
      "      Epoch    GPU_mem   box_loss   cls_loss   dfl_loss  Instances       Size\n",
      "     81/200      13.4G     0.8418      0.818      1.259          6        640: 100%|██████████| 42/42 [00:17<00:00,  2.42it/s]\n",
      "                 Class     Images  Instances      Box(P          R      mAP50  mAP50-95): 100%|██████████| 6/6 [00:02<00:00,  2.60it/s]\n",
      "                   all        165        207      0.807       0.77      0.805      0.637\n",
      "\n",
      "      Epoch    GPU_mem   box_loss   cls_loss   dfl_loss  Instances       Size\n",
      "     82/200      13.5G     0.8561     0.8502      1.284          5        640: 100%|██████████| 42/42 [00:18<00:00,  2.21it/s]\n",
      "                 Class     Images  Instances      Box(P          R      mAP50  mAP50-95): 100%|██████████| 6/6 [00:02<00:00,  2.54it/s]\n",
      "                   all        165        207      0.877      0.816      0.871      0.685\n",
      "\n",
      "      Epoch    GPU_mem   box_loss   cls_loss   dfl_loss  Instances       Size\n",
      "     83/200      13.4G     0.8353     0.8032      1.263          6        640: 100%|██████████| 42/42 [00:17<00:00,  2.38it/s]\n",
      "                 Class     Images  Instances      Box(P          R      mAP50  mAP50-95): 100%|██████████| 6/6 [00:02<00:00,  2.53it/s]\n",
      "                   all        165        207      0.905       0.78       0.89      0.679\n",
      "\n",
      "      Epoch    GPU_mem   box_loss   cls_loss   dfl_loss  Instances       Size\n",
      "     84/200      13.5G     0.8534     0.8181      1.264         10        640: 100%|██████████| 42/42 [00:19<00:00,  2.17it/s]\n",
      "                 Class     Images  Instances      Box(P          R      mAP50  mAP50-95): 100%|██████████| 6/6 [00:02<00:00,  2.63it/s]\n",
      "                   all        165        207      0.929      0.842       0.89      0.679\n",
      "\n",
      "      Epoch    GPU_mem   box_loss   cls_loss   dfl_loss  Instances       Size\n",
      "     85/200      13.4G     0.8228     0.8099      1.248          6        640: 100%|██████████| 42/42 [00:18<00:00,  2.26it/s]\n",
      "                 Class     Images  Instances      Box(P          R      mAP50  mAP50-95): 100%|██████████| 6/6 [00:02<00:00,  2.68it/s]\n",
      "                   all        165        207      0.904      0.815       0.86      0.661\n",
      "\n",
      "      Epoch    GPU_mem   box_loss   cls_loss   dfl_loss  Instances       Size\n",
      "     86/200      13.5G     0.8167     0.7648      1.229         11        640: 100%|██████████| 42/42 [00:18<00:00,  2.31it/s]\n",
      "                 Class     Images  Instances      Box(P          R      mAP50  mAP50-95): 100%|██████████| 6/6 [00:02<00:00,  2.46it/s]\n",
      "                   all        165        207      0.907      0.854      0.894      0.701\n",
      "\n",
      "      Epoch    GPU_mem   box_loss   cls_loss   dfl_loss  Instances       Size\n",
      "     87/200      13.4G     0.8119     0.7575      1.227         10        640: 100%|██████████| 42/42 [00:17<00:00,  2.44it/s]\n",
      "                 Class     Images  Instances      Box(P          R      mAP50  mAP50-95): 100%|██████████| 6/6 [00:02<00:00,  2.72it/s]\n",
      "                   all        165        207      0.919      0.775       0.88      0.682\n",
      "\n",
      "      Epoch    GPU_mem   box_loss   cls_loss   dfl_loss  Instances       Size\n",
      "     88/200      13.6G     0.8172     0.8096      1.253          4        640: 100%|██████████| 42/42 [00:18<00:00,  2.28it/s]\n",
      "                 Class     Images  Instances      Box(P          R      mAP50  mAP50-95): 100%|██████████| 6/6 [00:02<00:00,  2.57it/s]\n",
      "                   all        165        207      0.904      0.779       0.87      0.654\n",
      "\n",
      "      Epoch    GPU_mem   box_loss   cls_loss   dfl_loss  Instances       Size\n",
      "     89/200      13.4G     0.8265     0.7748      1.222         10        640: 100%|██████████| 42/42 [00:17<00:00,  2.42it/s]\n",
      "                 Class     Images  Instances      Box(P          R      mAP50  mAP50-95): 100%|██████████| 6/6 [00:02<00:00,  2.56it/s]\n",
      "                   all        165        207      0.898      0.784      0.873      0.675\n",
      "\n",
      "      Epoch    GPU_mem   box_loss   cls_loss   dfl_loss  Instances       Size\n",
      "     90/200      13.4G     0.8213     0.7697      1.232         13        640: 100%|██████████| 42/42 [00:17<00:00,  2.34it/s]\n",
      "                 Class     Images  Instances      Box(P          R      mAP50  mAP50-95): 100%|██████████| 6/6 [00:02<00:00,  2.63it/s]\n",
      "                   all        165        207       0.87      0.835      0.875       0.68\n",
      "\n",
      "      Epoch    GPU_mem   box_loss   cls_loss   dfl_loss  Instances       Size\n",
      "     91/200      13.4G     0.8047      0.791      1.218          2        640: 100%|██████████| 42/42 [00:18<00:00,  2.23it/s]\n",
      "                 Class     Images  Instances      Box(P          R      mAP50  mAP50-95): 100%|██████████| 6/6 [00:02<00:00,  2.73it/s]\n",
      "                   all        165        207      0.877      0.835      0.867      0.681\n",
      "\n",
      "      Epoch    GPU_mem   box_loss   cls_loss   dfl_loss  Instances       Size\n",
      "     92/200      13.6G     0.7885     0.7529      1.218          6        640: 100%|██████████| 42/42 [00:18<00:00,  2.30it/s]\n",
      "                 Class     Images  Instances      Box(P          R      mAP50  mAP50-95): 100%|██████████| 6/6 [00:02<00:00,  2.46it/s]\n",
      "                   all        165        207      0.871      0.811      0.866      0.662\n",
      "\n",
      "      Epoch    GPU_mem   box_loss   cls_loss   dfl_loss  Instances       Size\n",
      "     93/200      13.4G     0.7801     0.7176      1.208          8        640: 100%|██████████| 42/42 [00:17<00:00,  2.45it/s]\n",
      "                 Class     Images  Instances      Box(P          R      mAP50  mAP50-95): 100%|██████████| 6/6 [00:02<00:00,  2.69it/s]\n",
      "                   all        165        207      0.909      0.833      0.877      0.689\n",
      "\n",
      "      Epoch    GPU_mem   box_loss   cls_loss   dfl_loss  Instances       Size\n",
      "     94/200      13.4G     0.7766     0.7439      1.209          5        640: 100%|██████████| 42/42 [00:18<00:00,  2.30it/s]\n",
      "                 Class     Images  Instances      Box(P          R      mAP50  mAP50-95): 100%|██████████| 6/6 [00:02<00:00,  2.58it/s]\n",
      "                   all        165        207      0.919      0.807      0.881      0.684\n",
      "\n",
      "      Epoch    GPU_mem   box_loss   cls_loss   dfl_loss  Instances       Size\n",
      "     95/200      13.5G     0.7871     0.7618      1.216          6        640: 100%|██████████| 42/42 [00:17<00:00,  2.42it/s]\n",
      "                 Class     Images  Instances      Box(P          R      mAP50  mAP50-95): 100%|██████████| 6/6 [00:02<00:00,  2.79it/s]\n",
      "                   all        165        207      0.921      0.822      0.906      0.694\n",
      "\n",
      "      Epoch    GPU_mem   box_loss   cls_loss   dfl_loss  Instances       Size\n",
      "     96/200      13.4G     0.7863      0.752      1.206          7        640: 100%|██████████| 42/42 [00:18<00:00,  2.30it/s]\n",
      "                 Class     Images  Instances      Box(P          R      mAP50  mAP50-95): 100%|██████████| 6/6 [00:02<00:00,  2.36it/s]\n",
      "                   all        165        207      0.917      0.831      0.898      0.719\n",
      "\n",
      "      Epoch    GPU_mem   box_loss   cls_loss   dfl_loss  Instances       Size\n",
      "     97/200      13.5G     0.7963     0.7551      1.218          7        640: 100%|██████████| 42/42 [00:17<00:00,  2.44it/s]\n",
      "                 Class     Images  Instances      Box(P          R      mAP50  mAP50-95): 100%|██████████| 6/6 [00:02<00:00,  2.71it/s]\n",
      "                   all        165        207      0.907      0.834      0.896      0.697\n",
      "\n",
      "      Epoch    GPU_mem   box_loss   cls_loss   dfl_loss  Instances       Size\n",
      "     98/200      13.4G     0.7562     0.7013      1.188         18        640: 100%|██████████| 42/42 [00:18<00:00,  2.30it/s]\n",
      "                 Class     Images  Instances      Box(P          R      mAP50  mAP50-95): 100%|██████████| 6/6 [00:02<00:00,  2.61it/s]\n",
      "                   all        165        207      0.901      0.836      0.888        0.7\n",
      "\n",
      "      Epoch    GPU_mem   box_loss   cls_loss   dfl_loss  Instances       Size\n",
      "     99/200      13.4G     0.7725     0.7388      1.203          7        640: 100%|██████████| 42/42 [00:18<00:00,  2.32it/s]\n",
      "                 Class     Images  Instances      Box(P          R      mAP50  mAP50-95): 100%|██████████| 6/6 [00:02<00:00,  2.74it/s]\n",
      "                   all        165        207      0.915      0.827      0.881      0.678\n",
      "\n",
      "      Epoch    GPU_mem   box_loss   cls_loss   dfl_loss  Instances       Size\n",
      "    100/200      13.5G     0.7617     0.7049      1.194          6        640: 100%|██████████| 42/42 [00:18<00:00,  2.27it/s]\n",
      "                 Class     Images  Instances      Box(P          R      mAP50  mAP50-95): 100%|██████████| 6/6 [00:02<00:00,  2.78it/s]\n",
      "                   all        165        207      0.936      0.835      0.889      0.693\n",
      "\n",
      "      Epoch    GPU_mem   box_loss   cls_loss   dfl_loss  Instances       Size\n",
      "    101/200      13.4G     0.7604     0.6915      1.195          9        640: 100%|██████████| 42/42 [00:18<00:00,  2.24it/s]\n",
      "                 Class     Images  Instances      Box(P          R      mAP50  mAP50-95): 100%|██████████| 6/6 [00:02<00:00,  2.69it/s]\n",
      "                   all        165        207      0.893      0.839      0.882       0.69\n",
      "\n",
      "      Epoch    GPU_mem   box_loss   cls_loss   dfl_loss  Instances       Size\n",
      "    102/200      13.4G     0.7418     0.6819      1.186         10        640: 100%|██████████| 42/42 [00:18<00:00,  2.31it/s]\n",
      "                 Class     Images  Instances      Box(P          R      mAP50  mAP50-95): 100%|██████████| 6/6 [00:02<00:00,  2.13it/s]\n",
      "                   all        165        207       0.94      0.799      0.899      0.701\n",
      "\n",
      "      Epoch    GPU_mem   box_loss   cls_loss   dfl_loss  Instances       Size\n",
      "    103/200      13.4G      0.748     0.6965      1.188          9        640: 100%|██████████| 42/42 [00:17<00:00,  2.33it/s]\n",
      "                 Class     Images  Instances      Box(P          R      mAP50  mAP50-95): 100%|██████████| 6/6 [00:02<00:00,  2.78it/s]\n",
      "                   all        165        207       0.88       0.84      0.886      0.709\n",
      "\n",
      "      Epoch    GPU_mem   box_loss   cls_loss   dfl_loss  Instances       Size\n",
      "    104/200      13.5G     0.7443     0.7061        1.2          5        640: 100%|██████████| 42/42 [00:17<00:00,  2.45it/s]\n",
      "                 Class     Images  Instances      Box(P          R      mAP50  mAP50-95): 100%|██████████| 6/6 [00:02<00:00,  2.54it/s]\n",
      "                   all        165        207      0.915      0.838      0.886      0.712\n",
      "\n",
      "      Epoch    GPU_mem   box_loss   cls_loss   dfl_loss  Instances       Size\n",
      "    105/200      13.5G     0.7436     0.7002      1.175          6        640: 100%|██████████| 42/42 [00:17<00:00,  2.34it/s]\n",
      "                 Class     Images  Instances      Box(P          R      mAP50  mAP50-95): 100%|██████████| 6/6 [00:02<00:00,  2.52it/s]\n",
      "                   all        165        207      0.872      0.783      0.847       0.69\n",
      "\n",
      "      Epoch    GPU_mem   box_loss   cls_loss   dfl_loss  Instances       Size\n",
      "    106/200      13.5G     0.7296     0.6789      1.174          7        640: 100%|██████████| 42/42 [00:17<00:00,  2.41it/s]\n",
      "                 Class     Images  Instances      Box(P          R      mAP50  mAP50-95): 100%|██████████| 6/6 [00:02<00:00,  2.56it/s]\n",
      "                   all        165        207      0.935       0.83      0.893      0.712\n",
      "\n",
      "      Epoch    GPU_mem   box_loss   cls_loss   dfl_loss  Instances       Size\n",
      "    107/200      13.4G     0.7443     0.6932      1.176          4        640: 100%|██████████| 42/42 [00:17<00:00,  2.44it/s]\n",
      "                 Class     Images  Instances      Box(P          R      mAP50  mAP50-95): 100%|██████████| 6/6 [00:02<00:00,  2.58it/s]\n",
      "                   all        165        207      0.879      0.835       0.88      0.709\n",
      "\n",
      "      Epoch    GPU_mem   box_loss   cls_loss   dfl_loss  Instances       Size\n",
      "    108/200      13.4G     0.7458     0.6899      1.176          3        640: 100%|██████████| 42/42 [00:18<00:00,  2.33it/s]\n",
      "                 Class     Images  Instances      Box(P          R      mAP50  mAP50-95): 100%|██████████| 6/6 [00:02<00:00,  2.76it/s]\n",
      "                   all        165        207      0.919      0.774      0.848      0.681\n",
      "\n",
      "      Epoch    GPU_mem   box_loss   cls_loss   dfl_loss  Instances       Size\n",
      "    109/200      13.6G     0.7378     0.6473      1.172          7        640: 100%|██████████| 42/42 [00:18<00:00,  2.30it/s]\n",
      "                 Class     Images  Instances      Box(P          R      mAP50  mAP50-95): 100%|██████████| 6/6 [00:02<00:00,  2.72it/s]\n",
      "                   all        165        207      0.945       0.82      0.882      0.701\n",
      "\n",
      "      Epoch    GPU_mem   box_loss   cls_loss   dfl_loss  Instances       Size\n",
      "    110/200      13.4G      0.708     0.6332      1.162          5        640: 100%|██████████| 42/42 [00:17<00:00,  2.38it/s]\n",
      "                 Class     Images  Instances      Box(P          R      mAP50  mAP50-95): 100%|██████████| 6/6 [00:02<00:00,  2.86it/s]\n",
      "                   all        165        207      0.879      0.844      0.869      0.691\n",
      "\n",
      "      Epoch    GPU_mem   box_loss   cls_loss   dfl_loss  Instances       Size\n",
      "    111/200      13.4G     0.7295     0.6794      1.163          7        640: 100%|██████████| 42/42 [00:17<00:00,  2.38it/s]\n",
      "                 Class     Images  Instances      Box(P          R      mAP50  mAP50-95): 100%|██████████| 6/6 [00:02<00:00,  2.58it/s]\n",
      "                   all        165        207      0.893      0.808      0.872      0.703\n",
      "\n",
      "      Epoch    GPU_mem   box_loss   cls_loss   dfl_loss  Instances       Size\n",
      "    112/200      13.4G     0.7185     0.6836      1.158          6        640: 100%|██████████| 42/42 [00:17<00:00,  2.39it/s]\n",
      "                 Class     Images  Instances      Box(P          R      mAP50  mAP50-95): 100%|██████████| 6/6 [00:02<00:00,  2.66it/s]\n",
      "                   all        165        207      0.908      0.807      0.871      0.702\n",
      "\n",
      "      Epoch    GPU_mem   box_loss   cls_loss   dfl_loss  Instances       Size\n",
      "    113/200      13.4G      0.714     0.6651      1.169          6        640: 100%|██████████| 42/42 [00:17<00:00,  2.44it/s]\n",
      "                 Class     Images  Instances      Box(P          R      mAP50  mAP50-95): 100%|██████████| 6/6 [00:02<00:00,  2.63it/s]\n",
      "                   all        165        207      0.875      0.835      0.879      0.703\n",
      "\n",
      "      Epoch    GPU_mem   box_loss   cls_loss   dfl_loss  Instances       Size\n",
      "    114/200      13.5G     0.6982     0.6433      1.161          6        640: 100%|██████████| 42/42 [00:17<00:00,  2.40it/s]\n",
      "                 Class     Images  Instances      Box(P          R      mAP50  mAP50-95): 100%|██████████| 6/6 [00:02<00:00,  2.68it/s]\n",
      "                   all        165        207      0.924      0.811      0.872      0.702\n",
      "\n",
      "      Epoch    GPU_mem   box_loss   cls_loss   dfl_loss  Instances       Size\n",
      "    115/200      13.4G     0.7308     0.6858      1.183          8        640: 100%|██████████| 42/42 [00:18<00:00,  2.30it/s]\n",
      "                 Class     Images  Instances      Box(P          R      mAP50  mAP50-95): 100%|██████████| 6/6 [00:02<00:00,  2.73it/s]\n",
      "                   all        165        207       0.92      0.826        0.9      0.715\n",
      "\n",
      "      Epoch    GPU_mem   box_loss   cls_loss   dfl_loss  Instances       Size\n",
      "    116/200      13.5G     0.7228      0.672      1.176          2        640: 100%|██████████| 42/42 [00:17<00:00,  2.42it/s]\n",
      "                 Class     Images  Instances      Box(P          R      mAP50  mAP50-95): 100%|██████████| 6/6 [00:02<00:00,  2.63it/s]\n",
      "                   all        165        207      0.901      0.862      0.884      0.706\n",
      "\n",
      "      Epoch    GPU_mem   box_loss   cls_loss   dfl_loss  Instances       Size\n",
      "    117/200      13.4G     0.7195     0.6462       1.17          9        640: 100%|██████████| 42/42 [00:18<00:00,  2.29it/s]\n",
      "                 Class     Images  Instances      Box(P          R      mAP50  mAP50-95): 100%|██████████| 6/6 [00:02<00:00,  2.73it/s]\n",
      "                   all        165        207      0.858      0.847      0.865      0.694\n",
      "\n",
      "      Epoch    GPU_mem   box_loss   cls_loss   dfl_loss  Instances       Size\n",
      "    118/200      13.4G     0.7045     0.6513      1.153          6        640: 100%|██████████| 42/42 [00:17<00:00,  2.39it/s]\n",
      "                 Class     Images  Instances      Box(P          R      mAP50  mAP50-95): 100%|██████████| 6/6 [00:02<00:00,  2.57it/s]\n",
      "                   all        165        207      0.892      0.863      0.897      0.717\n",
      "\n",
      "      Epoch    GPU_mem   box_loss   cls_loss   dfl_loss  Instances       Size\n",
      "    119/200      13.5G     0.7136     0.6878      1.168          4        640: 100%|██████████| 42/42 [00:17<00:00,  2.41it/s]\n",
      "                 Class     Images  Instances      Box(P          R      mAP50  mAP50-95): 100%|██████████| 6/6 [00:02<00:00,  2.56it/s]\n",
      "                   all        165        207      0.941      0.837      0.906      0.725\n",
      "\n",
      "      Epoch    GPU_mem   box_loss   cls_loss   dfl_loss  Instances       Size\n",
      "    120/200      13.5G     0.6877     0.6277      1.142          4        640: 100%|██████████| 42/42 [00:17<00:00,  2.38it/s]\n",
      "                 Class     Images  Instances      Box(P          R      mAP50  mAP50-95): 100%|██████████| 6/6 [00:02<00:00,  2.65it/s]\n",
      "                   all        165        207      0.905      0.894      0.909      0.718\n",
      "\n",
      "      Epoch    GPU_mem   box_loss   cls_loss   dfl_loss  Instances       Size\n",
      "    121/200      13.4G     0.6918     0.6297      1.155          8        640: 100%|██████████| 42/42 [00:18<00:00,  2.27it/s]\n",
      "                 Class     Images  Instances      Box(P          R      mAP50  mAP50-95): 100%|██████████| 6/6 [00:02<00:00,  2.68it/s]\n",
      "                   all        165        207      0.869      0.825      0.878      0.712\n",
      "\n",
      "      Epoch    GPU_mem   box_loss   cls_loss   dfl_loss  Instances       Size\n",
      "    122/200      13.5G      0.683     0.6042      1.149          6        640: 100%|██████████| 42/42 [00:18<00:00,  2.30it/s]\n",
      "                 Class     Images  Instances      Box(P          R      mAP50  mAP50-95): 100%|██████████| 6/6 [00:02<00:00,  2.60it/s]\n",
      "                   all        165        207      0.923      0.853      0.896      0.712\n",
      "\n",
      "      Epoch    GPU_mem   box_loss   cls_loss   dfl_loss  Instances       Size\n",
      "    123/200      13.4G     0.7019     0.6449      1.155          9        640: 100%|██████████| 42/42 [00:17<00:00,  2.38it/s]\n",
      "                 Class     Images  Instances      Box(P          R      mAP50  mAP50-95): 100%|██████████| 6/6 [00:02<00:00,  2.66it/s]\n",
      "                   all        165        207      0.929       0.86      0.886        0.7\n",
      "\n",
      "      Epoch    GPU_mem   box_loss   cls_loss   dfl_loss  Instances       Size\n",
      "    124/200      13.4G     0.7015      0.634      1.157          6        640: 100%|██████████| 42/42 [00:18<00:00,  2.29it/s]\n",
      "                 Class     Images  Instances      Box(P          R      mAP50  mAP50-95): 100%|██████████| 6/6 [00:02<00:00,  2.72it/s]\n",
      "                   all        165        207      0.891      0.828      0.876      0.701\n",
      "\n",
      "      Epoch    GPU_mem   box_loss   cls_loss   dfl_loss  Instances       Size\n",
      "    125/200      13.4G     0.6944     0.6136      1.145          5        640: 100%|██████████| 42/42 [00:18<00:00,  2.31it/s]\n",
      "                 Class     Images  Instances      Box(P          R      mAP50  mAP50-95): 100%|██████████| 6/6 [00:02<00:00,  2.63it/s]\n",
      "                   all        165        207      0.915      0.839      0.889      0.713\n",
      "\n",
      "      Epoch    GPU_mem   box_loss   cls_loss   dfl_loss  Instances       Size\n",
      "    126/200      13.4G     0.6985     0.6335      1.166          4        640: 100%|██████████| 42/42 [00:17<00:00,  2.37it/s]\n",
      "                 Class     Images  Instances      Box(P          R      mAP50  mAP50-95): 100%|██████████| 6/6 [00:02<00:00,  2.63it/s]\n",
      "                   all        165        207      0.937      0.844      0.894      0.708\n",
      "\n",
      "      Epoch    GPU_mem   box_loss   cls_loss   dfl_loss  Instances       Size\n",
      "    127/200      13.4G     0.6925     0.6391      1.148          7        640: 100%|██████████| 42/42 [00:19<00:00,  2.18it/s]\n",
      "                 Class     Images  Instances      Box(P          R      mAP50  mAP50-95): 100%|██████████| 6/6 [00:02<00:00,  2.52it/s]\n",
      "                   all        165        207      0.874      0.808       0.88      0.717\n",
      "\n",
      "      Epoch    GPU_mem   box_loss   cls_loss   dfl_loss  Instances       Size\n",
      "    128/200      13.4G     0.6837     0.6231      1.131          7        640: 100%|██████████| 42/42 [00:17<00:00,  2.41it/s]\n",
      "                 Class     Images  Instances      Box(P          R      mAP50  mAP50-95): 100%|██████████| 6/6 [00:02<00:00,  2.67it/s]\n",
      "                   all        165        207      0.886      0.854      0.887      0.719\n",
      "\n",
      "      Epoch    GPU_mem   box_loss   cls_loss   dfl_loss  Instances       Size\n",
      "    129/200      13.4G     0.6741     0.6207      1.131          8        640: 100%|██████████| 42/42 [00:18<00:00,  2.30it/s]\n",
      "                 Class     Images  Instances      Box(P          R      mAP50  mAP50-95): 100%|██████████| 6/6 [00:02<00:00,  2.61it/s]\n",
      "                   all        165        207      0.912      0.805      0.883      0.715\n",
      "\n",
      "      Epoch    GPU_mem   box_loss   cls_loss   dfl_loss  Instances       Size\n",
      "    130/200      13.6G     0.6865       0.64      1.149          8        640: 100%|██████████| 42/42 [00:18<00:00,  2.23it/s]\n",
      "                 Class     Images  Instances      Box(P          R      mAP50  mAP50-95): 100%|██████████| 6/6 [00:02<00:00,  2.64it/s]\n",
      "                   all        165        207      0.924      0.846      0.892      0.692\n",
      "\n",
      "      Epoch    GPU_mem   box_loss   cls_loss   dfl_loss  Instances       Size\n",
      "    131/200      13.4G     0.6502     0.5866      1.126          8        640: 100%|██████████| 42/42 [00:18<00:00,  2.29it/s]\n",
      "                 Class     Images  Instances      Box(P          R      mAP50  mAP50-95): 100%|██████████| 6/6 [00:02<00:00,  2.54it/s]\n",
      "                   all        165        207      0.895      0.837      0.873      0.694\n",
      "\n",
      "      Epoch    GPU_mem   box_loss   cls_loss   dfl_loss  Instances       Size\n",
      "    132/200      13.5G     0.6859     0.6265      1.143          8        640: 100%|██████████| 42/42 [00:18<00:00,  2.31it/s]\n",
      "                 Class     Images  Instances      Box(P          R      mAP50  mAP50-95): 100%|██████████| 6/6 [00:02<00:00,  2.49it/s]\n",
      "                   all        165        207      0.898      0.852      0.877      0.698\n",
      "\n",
      "      Epoch    GPU_mem   box_loss   cls_loss   dfl_loss  Instances       Size\n",
      "    133/200      13.4G     0.6612     0.6113       1.13          5        640: 100%|██████████| 42/42 [00:18<00:00,  2.29it/s]\n",
      "                 Class     Images  Instances      Box(P          R      mAP50  mAP50-95): 100%|██████████| 6/6 [00:02<00:00,  2.68it/s]\n",
      "                   all        165        207      0.918      0.846      0.889      0.715\n",
      "\n",
      "      Epoch    GPU_mem   box_loss   cls_loss   dfl_loss  Instances       Size\n",
      "    134/200      13.5G     0.6381     0.6113      1.109          5        640: 100%|██████████| 42/42 [00:17<00:00,  2.33it/s]\n",
      "                 Class     Images  Instances      Box(P          R      mAP50  mAP50-95): 100%|██████████| 6/6 [00:02<00:00,  2.50it/s]\n",
      "                   all        165        207      0.925      0.863      0.898      0.705\n",
      "\n",
      "      Epoch    GPU_mem   box_loss   cls_loss   dfl_loss  Instances       Size\n",
      "    135/200      13.5G     0.6421      0.579      1.109         10        640: 100%|██████████| 42/42 [00:18<00:00,  2.27it/s]\n",
      "                 Class     Images  Instances      Box(P          R      mAP50  mAP50-95): 100%|██████████| 6/6 [00:02<00:00,  2.64it/s]\n",
      "                   all        165        207      0.907       0.85      0.896      0.706\n",
      "\n",
      "      Epoch    GPU_mem   box_loss   cls_loss   dfl_loss  Instances       Size\n",
      "    136/200      13.4G     0.6602     0.5879      1.117         14        640: 100%|██████████| 42/42 [00:18<00:00,  2.22it/s]\n",
      "                 Class     Images  Instances      Box(P          R      mAP50  mAP50-95): 100%|██████████| 6/6 [00:02<00:00,  2.63it/s]\n",
      "                   all        165        207        0.9      0.825      0.891      0.698\n",
      "\n",
      "      Epoch    GPU_mem   box_loss   cls_loss   dfl_loss  Instances       Size\n",
      "    137/200      13.4G      0.651     0.5863      1.127          8        640: 100%|██████████| 42/42 [00:18<00:00,  2.26it/s]\n",
      "                 Class     Images  Instances      Box(P          R      mAP50  mAP50-95): 100%|██████████| 6/6 [00:02<00:00,  2.61it/s]\n",
      "                   all        165        207      0.943      0.784      0.888      0.713\n",
      "\n",
      "      Epoch    GPU_mem   box_loss   cls_loss   dfl_loss  Instances       Size\n",
      "    138/200      13.4G     0.6225     0.5557      1.102         10        640: 100%|██████████| 42/42 [00:18<00:00,  2.29it/s]\n",
      "                 Class     Images  Instances      Box(P          R      mAP50  mAP50-95): 100%|██████████| 6/6 [00:02<00:00,  2.69it/s]\n",
      "                   all        165        207       0.91      0.861      0.906      0.716\n",
      "\n",
      "      Epoch    GPU_mem   box_loss   cls_loss   dfl_loss  Instances       Size\n",
      "    139/200      13.5G     0.6284      0.564      1.107          9        640: 100%|██████████| 42/42 [00:19<00:00,  2.19it/s]\n",
      "                 Class     Images  Instances      Box(P          R      mAP50  mAP50-95): 100%|██████████| 6/6 [00:02<00:00,  2.19it/s]\n",
      "                   all        165        207      0.876      0.846      0.889      0.704\n",
      "\n",
      "      Epoch    GPU_mem   box_loss   cls_loss   dfl_loss  Instances       Size\n",
      "    140/200      13.4G     0.6404     0.5982      1.119         11        640: 100%|██████████| 42/42 [00:18<00:00,  2.22it/s]\n",
      "                 Class     Images  Instances      Box(P          R      mAP50  mAP50-95): 100%|██████████| 6/6 [00:02<00:00,  2.60it/s]\n",
      "                   all        165        207      0.885      0.843      0.879      0.699\n",
      "\n",
      "      Epoch    GPU_mem   box_loss   cls_loss   dfl_loss  Instances       Size\n",
      "    141/200      13.5G     0.6321     0.5596      1.111          9        640: 100%|██████████| 42/42 [00:18<00:00,  2.25it/s]\n",
      "                 Class     Images  Instances      Box(P          R      mAP50  mAP50-95): 100%|██████████| 6/6 [00:02<00:00,  2.49it/s]\n",
      "                   all        165        207      0.931      0.828      0.906      0.717\n",
      "\n",
      "      Epoch    GPU_mem   box_loss   cls_loss   dfl_loss  Instances       Size\n",
      "    142/200      13.4G     0.6091       0.54      1.108          6        640: 100%|██████████| 42/42 [00:19<00:00,  2.15it/s]\n",
      "                 Class     Images  Instances      Box(P          R      mAP50  mAP50-95): 100%|██████████| 6/6 [00:02<00:00,  2.55it/s]\n",
      "                   all        165        207      0.921      0.855      0.907      0.713\n",
      "\n",
      "      Epoch    GPU_mem   box_loss   cls_loss   dfl_loss  Instances       Size\n",
      "    143/200      13.4G     0.6311     0.5663      1.103          4        640: 100%|██████████| 42/42 [00:17<00:00,  2.35it/s]\n",
      "                 Class     Images  Instances      Box(P          R      mAP50  mAP50-95): 100%|██████████| 6/6 [00:02<00:00,  2.31it/s]\n",
      "                   all        165        207      0.927      0.855      0.901      0.718\n",
      "\n",
      "      Epoch    GPU_mem   box_loss   cls_loss   dfl_loss  Instances       Size\n",
      "    144/200      13.4G     0.6502     0.5849      1.111          6        640: 100%|██████████| 42/42 [00:17<00:00,  2.35it/s]\n",
      "                 Class     Images  Instances      Box(P          R      mAP50  mAP50-95): 100%|██████████| 6/6 [00:02<00:00,  2.48it/s]\n",
      "                   all        165        207      0.914      0.861      0.896       0.72\n",
      "\n",
      "      Epoch    GPU_mem   box_loss   cls_loss   dfl_loss  Instances       Size\n",
      "    145/200      13.4G     0.6195     0.5639      1.094          8        640: 100%|██████████| 42/42 [00:18<00:00,  2.21it/s]\n",
      "                 Class     Images  Instances      Box(P          R      mAP50  mAP50-95): 100%|██████████| 6/6 [00:02<00:00,  2.32it/s]\n",
      "                   all        165        207      0.875      0.848       0.89      0.716\n",
      "\n",
      "      Epoch    GPU_mem   box_loss   cls_loss   dfl_loss  Instances       Size\n",
      "    146/200      13.4G     0.6228     0.5458      1.108         22        640: 100%|██████████| 42/42 [00:17<00:00,  2.34it/s]\n",
      "                 Class     Images  Instances      Box(P          R      mAP50  mAP50-95): 100%|██████████| 6/6 [00:02<00:00,  2.92it/s]\n",
      "                   all        165        207      0.938      0.847      0.906      0.716\n",
      "\n",
      "      Epoch    GPU_mem   box_loss   cls_loss   dfl_loss  Instances       Size\n",
      "    147/200      13.4G     0.6239     0.5535      1.099          6        640: 100%|██████████| 42/42 [00:16<00:00,  2.49it/s]\n",
      "                 Class     Images  Instances      Box(P          R      mAP50  mAP50-95): 100%|██████████| 6/6 [00:02<00:00,  2.64it/s]\n",
      "                   all        165        207      0.958      0.837      0.905      0.723\n",
      "\n",
      "      Epoch    GPU_mem   box_loss   cls_loss   dfl_loss  Instances       Size\n",
      "    148/200      13.4G      0.601       0.55       1.08          6        640: 100%|██████████| 42/42 [00:17<00:00,  2.36it/s]\n",
      "                 Class     Images  Instances      Box(P          R      mAP50  mAP50-95): 100%|██████████| 6/6 [00:02<00:00,  2.76it/s]\n",
      "                   all        165        207      0.922      0.837      0.889      0.718\n",
      "\n",
      "      Epoch    GPU_mem   box_loss   cls_loss   dfl_loss  Instances       Size\n",
      "    149/200      13.4G     0.6056      0.552      1.093          8        640: 100%|██████████| 42/42 [00:17<00:00,  2.38it/s]\n",
      "                 Class     Images  Instances      Box(P          R      mAP50  mAP50-95): 100%|██████████| 6/6 [00:02<00:00,  2.71it/s]\n",
      "                   all        165        207        0.9      0.862      0.893      0.727\n",
      "\n",
      "      Epoch    GPU_mem   box_loss   cls_loss   dfl_loss  Instances       Size\n",
      "    150/200      13.4G     0.5876     0.5224      1.091          3        640: 100%|██████████| 42/42 [00:18<00:00,  2.28it/s]\n",
      "                 Class     Images  Instances      Box(P          R      mAP50  mAP50-95): 100%|██████████| 6/6 [00:02<00:00,  2.77it/s]\n",
      "                   all        165        207      0.919      0.852      0.888      0.724\n",
      "\n",
      "      Epoch    GPU_mem   box_loss   cls_loss   dfl_loss  Instances       Size\n",
      "    151/200      13.5G     0.5934     0.5218      1.088          6        640: 100%|██████████| 42/42 [00:17<00:00,  2.39it/s]\n",
      "                 Class     Images  Instances      Box(P          R      mAP50  mAP50-95): 100%|██████████| 6/6 [00:02<00:00,  2.70it/s]\n",
      "                   all        165        207      0.929      0.848      0.899       0.72\n",
      "\n",
      "      Epoch    GPU_mem   box_loss   cls_loss   dfl_loss  Instances       Size\n",
      "    152/200      13.5G     0.5979     0.5457      1.101          4        640: 100%|██████████| 42/42 [00:18<00:00,  2.28it/s]\n",
      "                 Class     Images  Instances      Box(P          R      mAP50  mAP50-95): 100%|██████████| 6/6 [00:02<00:00,  2.28it/s]\n",
      "                   all        165        207      0.909      0.843      0.876      0.709\n",
      "\n",
      "      Epoch    GPU_mem   box_loss   cls_loss   dfl_loss  Instances       Size\n",
      "    153/200      13.4G     0.5925     0.5186      1.079          6        640: 100%|██████████| 42/42 [00:18<00:00,  2.30it/s]\n",
      "                 Class     Images  Instances      Box(P          R      mAP50  mAP50-95): 100%|██████████| 6/6 [00:02<00:00,  2.69it/s]\n",
      "                   all        165        207      0.921      0.843      0.885      0.728\n",
      "\n",
      "      Epoch    GPU_mem   box_loss   cls_loss   dfl_loss  Instances       Size\n",
      "    154/200      13.5G     0.5969     0.5284      1.094          7        640: 100%|██████████| 42/42 [00:17<00:00,  2.36it/s]\n",
      "                 Class     Images  Instances      Box(P          R      mAP50  mAP50-95): 100%|██████████| 6/6 [00:02<00:00,  2.64it/s]\n",
      "                   all        165        207      0.942      0.822       0.89       0.72\n",
      "\n",
      "      Epoch    GPU_mem   box_loss   cls_loss   dfl_loss  Instances       Size\n",
      "    155/200      13.4G     0.6147     0.5192      1.102          5        640: 100%|██████████| 42/42 [00:18<00:00,  2.31it/s]\n",
      "                 Class     Images  Instances      Box(P          R      mAP50  mAP50-95): 100%|██████████| 6/6 [00:02<00:00,  2.60it/s]\n",
      "                   all        165        207      0.919      0.851      0.893       0.72\n",
      "\n",
      "      Epoch    GPU_mem   box_loss   cls_loss   dfl_loss  Instances       Size\n",
      "    156/200      13.4G     0.5986     0.5131      1.085          8        640: 100%|██████████| 42/42 [00:16<00:00,  2.52it/s]\n",
      "                 Class     Images  Instances      Box(P          R      mAP50  mAP50-95): 100%|██████████| 6/6 [00:02<00:00,  2.64it/s]\n",
      "                   all        165        207       0.95      0.864      0.898      0.719\n",
      "\n",
      "      Epoch    GPU_mem   box_loss   cls_loss   dfl_loss  Instances       Size\n",
      "    157/200      13.5G     0.5821      0.521      1.082          6        640: 100%|██████████| 42/42 [00:17<00:00,  2.40it/s]\n",
      "                 Class     Images  Instances      Box(P          R      mAP50  mAP50-95): 100%|██████████| 6/6 [00:02<00:00,  2.69it/s]\n",
      "                   all        165        207      0.906       0.85      0.892      0.721\n",
      "\n",
      "      Epoch    GPU_mem   box_loss   cls_loss   dfl_loss  Instances       Size\n",
      "    158/200      13.5G      0.558     0.4992      1.064         14        640: 100%|██████████| 42/42 [00:17<00:00,  2.38it/s]\n",
      "                 Class     Images  Instances      Box(P          R      mAP50  mAP50-95): 100%|██████████| 6/6 [00:02<00:00,  2.76it/s]\n",
      "                   all        165        207      0.894      0.856      0.893       0.73\n",
      "\n",
      "      Epoch    GPU_mem   box_loss   cls_loss   dfl_loss  Instances       Size\n",
      "    159/200      13.4G      0.562     0.5196      1.071          4        640: 100%|██████████| 42/42 [00:17<00:00,  2.42it/s]\n",
      "                 Class     Images  Instances      Box(P          R      mAP50  mAP50-95): 100%|██████████| 6/6 [00:02<00:00,  2.45it/s]\n",
      "                   all        165        207      0.943      0.838      0.891       0.72\n",
      "\n",
      "      Epoch    GPU_mem   box_loss   cls_loss   dfl_loss  Instances       Size\n",
      "    160/200      13.5G     0.6037     0.5218      1.102          5        640: 100%|██████████| 42/42 [00:17<00:00,  2.44it/s]\n",
      "                 Class     Images  Instances      Box(P          R      mAP50  mAP50-95): 100%|██████████| 6/6 [00:02<00:00,  2.63it/s]\n",
      "                   all        165        207       0.92      0.853      0.901      0.722\n",
      "\n",
      "      Epoch    GPU_mem   box_loss   cls_loss   dfl_loss  Instances       Size\n",
      "    161/200      13.4G     0.5707     0.4938      1.058          9        640: 100%|██████████| 42/42 [00:17<00:00,  2.36it/s]\n",
      "                 Class     Images  Instances      Box(P          R      mAP50  mAP50-95): 100%|██████████| 6/6 [00:02<00:00,  2.18it/s]\n",
      "                   all        165        207      0.923       0.85      0.896      0.717\n",
      "\n",
      "      Epoch    GPU_mem   box_loss   cls_loss   dfl_loss  Instances       Size\n",
      "    162/200      13.5G     0.5586     0.4981      1.076          8        640: 100%|██████████| 42/42 [00:17<00:00,  2.44it/s]\n",
      "                 Class     Images  Instances      Box(P          R      mAP50  mAP50-95): 100%|██████████| 6/6 [00:02<00:00,  2.76it/s]\n",
      "                   all        165        207      0.904      0.846      0.891      0.727\n",
      "\n",
      "      Epoch    GPU_mem   box_loss   cls_loss   dfl_loss  Instances       Size\n",
      "    163/200      13.4G     0.5724     0.5033      1.072          9        640: 100%|██████████| 42/42 [00:18<00:00,  2.31it/s]\n",
      "                 Class     Images  Instances      Box(P          R      mAP50  mAP50-95): 100%|██████████| 6/6 [00:02<00:00,  2.70it/s]\n",
      "                   all        165        207      0.932      0.809       0.89       0.73\n",
      "\n",
      "      Epoch    GPU_mem   box_loss   cls_loss   dfl_loss  Instances       Size\n",
      "    164/200      13.4G     0.5831     0.5154      1.076          9        640: 100%|██████████| 42/42 [00:18<00:00,  2.31it/s]\n",
      "                 Class     Images  Instances      Box(P          R      mAP50  mAP50-95): 100%|██████████| 6/6 [00:02<00:00,  2.68it/s]\n",
      "                   all        165        207      0.909      0.843      0.894      0.725\n",
      "\n",
      "      Epoch    GPU_mem   box_loss   cls_loss   dfl_loss  Instances       Size\n",
      "    165/200      13.5G     0.5769      0.516      1.087          6        640: 100%|██████████| 42/42 [00:18<00:00,  2.28it/s]\n",
      "                 Class     Images  Instances      Box(P          R      mAP50  mAP50-95): 100%|██████████| 6/6 [00:02<00:00,  2.67it/s]\n",
      "                   all        165        207      0.891      0.846      0.884      0.729\n",
      "\n",
      "      Epoch    GPU_mem   box_loss   cls_loss   dfl_loss  Instances       Size\n",
      "    166/200      13.4G     0.5653     0.5128      1.071          7        640: 100%|██████████| 42/42 [00:17<00:00,  2.38it/s]\n",
      "                 Class     Images  Instances      Box(P          R      mAP50  mAP50-95): 100%|██████████| 6/6 [00:02<00:00,  2.68it/s]\n",
      "                   all        165        207      0.908      0.842      0.893      0.735\n",
      "\n",
      "      Epoch    GPU_mem   box_loss   cls_loss   dfl_loss  Instances       Size\n",
      "    167/200      13.4G     0.5633     0.4891      1.069          5        640: 100%|██████████| 42/42 [00:17<00:00,  2.42it/s]\n",
      "                 Class     Images  Instances      Box(P          R      mAP50  mAP50-95): 100%|██████████| 6/6 [00:02<00:00,  2.58it/s]\n",
      "                   all        165        207      0.917      0.835      0.892       0.73\n",
      "\n",
      "      Epoch    GPU_mem   box_loss   cls_loss   dfl_loss  Instances       Size\n",
      "    168/200      13.4G     0.5863     0.5366      1.094          5        640: 100%|██████████| 42/42 [00:17<00:00,  2.35it/s]\n",
      "                 Class     Images  Instances      Box(P          R      mAP50  mAP50-95): 100%|██████████| 6/6 [00:02<00:00,  2.78it/s]\n",
      "                   all        165        207      0.905      0.844      0.885      0.728\n",
      "\n",
      "      Epoch    GPU_mem   box_loss   cls_loss   dfl_loss  Instances       Size\n",
      "    169/200      13.5G     0.5392     0.4927      1.058          8        640: 100%|██████████| 42/42 [00:18<00:00,  2.26it/s]\n",
      "                 Class     Images  Instances      Box(P          R      mAP50  mAP50-95): 100%|██████████| 6/6 [00:02<00:00,  2.91it/s]\n",
      "                   all        165        207      0.898      0.856      0.882      0.726\n",
      "\n",
      "      Epoch    GPU_mem   box_loss   cls_loss   dfl_loss  Instances       Size\n",
      "    170/200      13.5G     0.5429     0.4638      1.059          7        640: 100%|██████████| 42/42 [00:18<00:00,  2.30it/s]\n",
      "                 Class     Images  Instances      Box(P          R      mAP50  mAP50-95): 100%|██████████| 6/6 [00:02<00:00,  2.65it/s]\n",
      "                   all        165        207      0.926      0.831      0.891      0.733\n",
      "\n",
      "      Epoch    GPU_mem   box_loss   cls_loss   dfl_loss  Instances       Size\n",
      "    171/200      13.4G     0.5403     0.4976      1.065          5        640: 100%|██████████| 42/42 [00:20<00:00,  2.07it/s]\n",
      "                 Class     Images  Instances      Box(P          R      mAP50  mAP50-95): 100%|██████████| 6/6 [00:03<00:00,  1.94it/s]\n",
      "                   all        165        207      0.916      0.847      0.888      0.727\n",
      "\n",
      "      Epoch    GPU_mem   box_loss   cls_loss   dfl_loss  Instances       Size\n",
      "    172/200      13.5G     0.5391     0.4744      1.053          8        640: 100%|██████████| 42/42 [00:20<00:00,  2.02it/s]\n",
      "                 Class     Images  Instances      Box(P          R      mAP50  mAP50-95): 100%|██████████| 6/6 [00:02<00:00,  2.24it/s]\n",
      "                   all        165        207      0.904       0.86      0.902      0.721\n",
      "\n",
      "      Epoch    GPU_mem   box_loss   cls_loss   dfl_loss  Instances       Size\n",
      "    173/200      13.4G     0.5493     0.5034      1.055          7        640: 100%|██████████| 42/42 [00:17<00:00,  2.36it/s]\n",
      "                 Class     Images  Instances      Box(P          R      mAP50  mAP50-95): 100%|██████████| 6/6 [00:02<00:00,  2.56it/s]\n",
      "                   all        165        207      0.937      0.816      0.897      0.724\n",
      "\n",
      "      Epoch    GPU_mem   box_loss   cls_loss   dfl_loss  Instances       Size\n",
      "    174/200      13.6G     0.5585     0.4997      1.067          6        640: 100%|██████████| 42/42 [00:18<00:00,  2.27it/s]\n",
      "                 Class     Images  Instances      Box(P          R      mAP50  mAP50-95): 100%|██████████| 6/6 [00:02<00:00,  2.61it/s]\n",
      "                   all        165        207      0.909      0.822      0.887      0.726\n",
      "\n",
      "      Epoch    GPU_mem   box_loss   cls_loss   dfl_loss  Instances       Size\n",
      "    175/200      13.4G     0.5303     0.4666      1.047          5        640: 100%|██████████| 42/42 [00:17<00:00,  2.35it/s]\n",
      "                 Class     Images  Instances      Box(P          R      mAP50  mAP50-95): 100%|██████████| 6/6 [00:02<00:00,  2.72it/s]\n",
      "                   all        165        207      0.876      0.844      0.884      0.725\n",
      "\n",
      "      Epoch    GPU_mem   box_loss   cls_loss   dfl_loss  Instances       Size\n",
      "    176/200      13.4G     0.5224     0.4604      1.051          8        640: 100%|██████████| 42/42 [00:18<00:00,  2.23it/s]\n",
      "                 Class     Images  Instances      Box(P          R      mAP50  mAP50-95): 100%|██████████| 6/6 [00:02<00:00,  2.61it/s]\n",
      "                   all        165        207      0.919      0.824      0.887      0.724\n",
      "\n",
      "      Epoch    GPU_mem   box_loss   cls_loss   dfl_loss  Instances       Size\n",
      "    177/200      13.4G     0.5302     0.4615      1.053          8        640: 100%|██████████| 42/42 [00:17<00:00,  2.39it/s]\n",
      "                 Class     Images  Instances      Box(P          R      mAP50  mAP50-95): 100%|██████████| 6/6 [00:02<00:00,  2.64it/s]\n",
      "                   all        165        207      0.917      0.832      0.889      0.721\n",
      "\n",
      "      Epoch    GPU_mem   box_loss   cls_loss   dfl_loss  Instances       Size\n",
      "    178/200      13.5G     0.5394     0.4717      1.063          7        640: 100%|██████████| 42/42 [00:17<00:00,  2.37it/s]\n",
      "                 Class     Images  Instances      Box(P          R      mAP50  mAP50-95): 100%|██████████| 6/6 [00:02<00:00,  2.72it/s]\n",
      "                   all        165        207      0.935      0.834      0.898      0.729\n",
      "\n",
      "      Epoch    GPU_mem   box_loss   cls_loss   dfl_loss  Instances       Size\n",
      "    179/200      13.4G     0.5102     0.4381      1.037          8        640: 100%|██████████| 42/42 [00:18<00:00,  2.31it/s]\n",
      "                 Class     Images  Instances      Box(P          R      mAP50  mAP50-95): 100%|██████████| 6/6 [00:02<00:00,  2.64it/s]\n",
      "                   all        165        207      0.927      0.834      0.893      0.724\n",
      "\n",
      "      Epoch    GPU_mem   box_loss   cls_loss   dfl_loss  Instances       Size\n",
      "    180/200      13.4G     0.5296     0.4557      1.057          9        640: 100%|██████████| 42/42 [00:17<00:00,  2.38it/s]\n",
      "                 Class     Images  Instances      Box(P          R      mAP50  mAP50-95): 100%|██████████| 6/6 [00:02<00:00,  2.57it/s]\n",
      "                   all        165        207      0.935       0.84      0.891       0.72\n",
      "\n",
      "      Epoch    GPU_mem   box_loss   cls_loss   dfl_loss  Instances       Size\n",
      "    181/200      13.4G     0.4988     0.4314      1.025          7        640: 100%|██████████| 42/42 [00:17<00:00,  2.34it/s]\n",
      "                 Class     Images  Instances      Box(P          R      mAP50  mAP50-95): 100%|██████████| 6/6 [00:02<00:00,  2.36it/s]\n",
      "                   all        165        207      0.934      0.841      0.889      0.715\n",
      "\n",
      "      Epoch    GPU_mem   box_loss   cls_loss   dfl_loss  Instances       Size\n",
      "    182/200      13.5G     0.5091     0.4474      1.044          5        640: 100%|██████████| 42/42 [00:17<00:00,  2.36it/s]\n",
      "                 Class     Images  Instances      Box(P          R      mAP50  mAP50-95): 100%|██████████| 6/6 [00:02<00:00,  2.47it/s]\n",
      "                   all        165        207        0.9      0.831       0.89      0.713\n",
      "\n",
      "      Epoch    GPU_mem   box_loss   cls_loss   dfl_loss  Instances       Size\n",
      "    183/200      13.4G     0.5058     0.4358       1.03          7        640: 100%|██████████| 42/42 [00:17<00:00,  2.34it/s]\n",
      "                 Class     Images  Instances      Box(P          R      mAP50  mAP50-95): 100%|██████████| 6/6 [00:02<00:00,  2.84it/s]\n",
      "                   all        165        207      0.904      0.847        0.9      0.724\n",
      "\n",
      "      Epoch    GPU_mem   box_loss   cls_loss   dfl_loss  Instances       Size\n",
      "    184/200      13.5G     0.5065     0.4431      1.038          4        640: 100%|██████████| 42/42 [00:17<00:00,  2.39it/s]\n",
      "                 Class     Images  Instances      Box(P          R      mAP50  mAP50-95): 100%|██████████| 6/6 [00:02<00:00,  2.66it/s]\n",
      "                   all        165        207       0.91      0.873      0.903      0.731\n",
      "\n",
      "      Epoch    GPU_mem   box_loss   cls_loss   dfl_loss  Instances       Size\n",
      "    185/200      13.4G     0.5033     0.4345      1.028          9        640: 100%|██████████| 42/42 [00:18<00:00,  2.27it/s]\n",
      "                 Class     Images  Instances      Box(P          R      mAP50  mAP50-95): 100%|██████████| 6/6 [00:02<00:00,  2.70it/s]\n",
      "                   all        165        207      0.914      0.863      0.905      0.731\n",
      "\n",
      "      Epoch    GPU_mem   box_loss   cls_loss   dfl_loss  Instances       Size\n",
      "    186/200      13.4G     0.5016     0.4336      1.035          6        640: 100%|██████████| 42/42 [00:17<00:00,  2.40it/s]\n",
      "                 Class     Images  Instances      Box(P          R      mAP50  mAP50-95): 100%|██████████| 6/6 [00:02<00:00,  2.66it/s]\n",
      "                   all        165        207      0.912      0.863      0.907      0.737\n",
      "\n",
      "      Epoch    GPU_mem   box_loss   cls_loss   dfl_loss  Instances       Size\n",
      "    187/200      13.7G     0.4724     0.4091      1.013          6        640: 100%|██████████| 42/42 [00:17<00:00,  2.39it/s]\n",
      "                 Class     Images  Instances      Box(P          R      mAP50  mAP50-95): 100%|██████████| 6/6 [00:02<00:00,  2.59it/s]\n",
      "                   all        165        207      0.928      0.844       0.91      0.745\n",
      "\n",
      "      Epoch    GPU_mem   box_loss   cls_loss   dfl_loss  Instances       Size\n",
      "    188/200      13.6G      0.506     0.4416      1.041          6        640: 100%|██████████| 42/42 [00:16<00:00,  2.54it/s]\n",
      "                 Class     Images  Instances      Box(P          R      mAP50  mAP50-95): 100%|██████████| 6/6 [00:02<00:00,  2.61it/s]\n",
      "                   all        165        207      0.921      0.856      0.913      0.739\n",
      "\n",
      "      Epoch    GPU_mem   box_loss   cls_loss   dfl_loss  Instances       Size\n",
      "    189/200      13.4G     0.5007     0.4413      1.039          5        640: 100%|██████████| 42/42 [00:18<00:00,  2.30it/s]\n",
      "                 Class     Images  Instances      Box(P          R      mAP50  mAP50-95): 100%|██████████| 6/6 [00:02<00:00,  2.92it/s]\n",
      "                   all        165        207      0.928      0.854      0.907      0.732\n",
      "\n",
      "      Epoch    GPU_mem   box_loss   cls_loss   dfl_loss  Instances       Size\n",
      "    190/200      13.4G     0.4856     0.4175      1.027          8        640: 100%|██████████| 42/42 [00:17<00:00,  2.34it/s]\n",
      "                 Class     Images  Instances      Box(P          R      mAP50  mAP50-95): 100%|██████████| 6/6 [00:02<00:00,  2.42it/s]\n",
      "                   all        165        207      0.914      0.866      0.902       0.73\n",
      "Closing dataloader mosaic\n",
      "\n",
      "      Epoch    GPU_mem   box_loss   cls_loss   dfl_loss  Instances       Size\n",
      "    191/200      13.5G     0.3724      0.394     0.9508          1        640: 100%|██████████| 42/42 [00:18<00:00,  2.30it/s]\n",
      "                 Class     Images  Instances      Box(P          R      mAP50  mAP50-95): 100%|██████████| 6/6 [00:02<00:00,  2.76it/s]\n",
      "                   all        165        207      0.898      0.831      0.885      0.721\n",
      "\n",
      "      Epoch    GPU_mem   box_loss   cls_loss   dfl_loss  Instances       Size\n",
      "    192/200      13.4G     0.3346     0.3666     0.9231          2        640: 100%|██████████| 42/42 [00:17<00:00,  2.37it/s]\n",
      "                 Class     Images  Instances      Box(P          R      mAP50  mAP50-95): 100%|██████████| 6/6 [00:02<00:00,  2.78it/s]\n",
      "                   all        165        207      0.907      0.834      0.898      0.725\n",
      "\n",
      "      Epoch    GPU_mem   box_loss   cls_loss   dfl_loss  Instances       Size\n",
      "    193/200      13.6G     0.3301     0.2613     0.9273          3        640: 100%|██████████| 42/42 [00:17<00:00,  2.41it/s]\n",
      "                 Class     Images  Instances      Box(P          R      mAP50  mAP50-95): 100%|██████████| 6/6 [00:02<00:00,  2.63it/s]\n",
      "                   all        165        207      0.917      0.842      0.895      0.719\n",
      "\n",
      "      Epoch    GPU_mem   box_loss   cls_loss   dfl_loss  Instances       Size\n",
      "    194/200      13.5G     0.3035     0.2343      0.896          3        640: 100%|██████████| 42/42 [00:18<00:00,  2.31it/s]\n",
      "                 Class     Images  Instances      Box(P          R      mAP50  mAP50-95): 100%|██████████| 6/6 [00:02<00:00,  2.82it/s]\n",
      "                   all        165        207      0.902       0.85      0.895      0.722\n",
      "\n",
      "      Epoch    GPU_mem   box_loss   cls_loss   dfl_loss  Instances       Size\n",
      "    195/200      13.6G     0.3019     0.2597      0.901          2        640: 100%|██████████| 42/42 [00:17<00:00,  2.42it/s]\n",
      "                 Class     Images  Instances      Box(P          R      mAP50  mAP50-95): 100%|██████████| 6/6 [00:02<00:00,  2.76it/s]\n",
      "                   all        165        207      0.903      0.852      0.901      0.729\n",
      "\n",
      "      Epoch    GPU_mem   box_loss   cls_loss   dfl_loss  Instances       Size\n",
      "    196/200      13.5G      0.301     0.2425     0.9053          2        640: 100%|██████████| 42/42 [00:17<00:00,  2.38it/s]\n",
      "                 Class     Images  Instances      Box(P          R      mAP50  mAP50-95): 100%|██████████| 6/6 [00:02<00:00,  2.56it/s]\n",
      "                   all        165        207       0.93       0.85      0.903      0.733\n",
      "\n",
      "      Epoch    GPU_mem   box_loss   cls_loss   dfl_loss  Instances       Size\n",
      "    197/200      13.4G     0.2978     0.2373     0.8995          2        640: 100%|██████████| 42/42 [00:18<00:00,  2.32it/s]\n",
      "                 Class     Images  Instances      Box(P          R      mAP50  mAP50-95): 100%|██████████| 6/6 [00:02<00:00,  2.68it/s]\n",
      "                   all        165        207      0.929      0.848      0.907      0.735\n",
      "\n",
      "      Epoch    GPU_mem   box_loss   cls_loss   dfl_loss  Instances       Size\n",
      "    198/200      13.6G     0.2739     0.2292     0.8942          2        640: 100%|██████████| 42/42 [00:17<00:00,  2.41it/s]\n",
      "                 Class     Images  Instances      Box(P          R      mAP50  mAP50-95): 100%|██████████| 6/6 [00:02<00:00,  2.56it/s]\n",
      "                   all        165        207      0.907      0.866      0.908      0.743\n",
      "\n",
      "      Epoch    GPU_mem   box_loss   cls_loss   dfl_loss  Instances       Size\n",
      "    199/200      13.4G     0.2841     0.2162     0.8907          2        640: 100%|██████████| 42/42 [00:17<00:00,  2.36it/s]\n",
      "                 Class     Images  Instances      Box(P          R      mAP50  mAP50-95): 100%|██████████| 6/6 [00:02<00:00,  2.78it/s]\n",
      "                   all        165        207      0.929      0.851      0.905      0.742\n",
      "\n",
      "      Epoch    GPU_mem   box_loss   cls_loss   dfl_loss  Instances       Size\n",
      "    200/200      13.5G     0.2767     0.2186     0.8881          2        640: 100%|██████████| 42/42 [00:17<00:00,  2.45it/s]\n",
      "                 Class     Images  Instances      Box(P          R      mAP50  mAP50-95): 100%|██████████| 6/6 [00:04<00:00,  1.45it/s]\n",
      "                   all        165        207      0.918      0.861      0.905      0.742\n",
      "\n",
      "200 epochs completed in 1.786 hours.\n",
      "Optimizer stripped from tmp/model/runs_0/train2/weights/last.pt, 136.7MB\n",
      "Optimizer stripped from tmp/model/runs_0/train2/weights/best.pt, 136.7MB\n",
      "\n",
      "Validating tmp/model/runs_0/train2/weights/best.pt...\n",
      "Ultralytics YOLOv8.0.136 🚀 Python-3.10.11 torch-2.0.1+cu117 CUDA:0 (Tesla V100-SXM2-16GB, 16161MiB)\n",
      "Model summary (fused): 268 layers, 68128383 parameters, 0 gradients\n",
      "                 Class     Images  Instances      Box(P          R      mAP50  mAP50-95): 100%|██████████| 6/6 [00:03<00:00,  1.57it/s]\n",
      "                   all        165        207      0.928      0.844       0.91      0.745\n",
      "        Asian Elephant        165         46      0.959       0.87      0.958      0.739\n",
      "             Sun Bears        165         35      0.936      0.857      0.925      0.776\n",
      "        Sumatran Tiger        165         63      0.898      0.714      0.796      0.652\n",
      "    Pig Tailed Macaque        165         33      0.883      0.909      0.917      0.722\n",
      "   Rhinoceros Hornbill        165         30      0.963      0.868      0.952      0.835\n",
      "Speed: 0.4ms preprocess, 8.0ms inference, 0.0ms loss, 5.0ms postprocess per image\n",
      "Results saved to \u001b[1mtmp/model/runs_0/train2\u001b[0m\n"
     ]
    }
   ],
   "source": [
    "model.train(data=r\"/tmp/model/dataset_0/dataset.yaml\", epochs=200, project=r\"/tmp/model/runs_0\" )"
   ]
  },
  {
   "cell_type": "code",
   "execution_count": 17,
   "id": "2ba62ca8-2115-48a7-a75b-8ffda42be8ba",
   "metadata": {},
   "outputs": [
    {
     "name": "stderr",
     "output_type": "stream",
     "text": [
      "\u001b[31m\u001b[1mrequirements:\u001b[0m Ultralytics requirement ['py-cpuinfo'] not found, attempting AutoUpdate...\n",
      "Collecting py-cpuinfo\n",
      "  Downloading py_cpuinfo-9.0.0-py3-none-any.whl (22 kB)\n",
      "Installing collected packages: py-cpuinfo\n",
      "Successfully installed py-cpuinfo-9.0.0\n",
      "\n",
      "\u001b[31m\u001b[1mrequirements:\u001b[0m AutoUpdate success ✅ 3.2s, installed 1 package: ['py-cpuinfo']\n",
      "\u001b[31m\u001b[1mrequirements:\u001b[0m ⚠️ \u001b[1mRestart runtime or rerun command for updates to take effect\u001b[0m\n",
      "\n",
      "Ultralytics YOLOv8.0.136 🚀 Python-3.10.11 torch-2.0.1+cu117 CPU (Intel Xeon 2.00GHz)\n",
      "Model summary (fused): 268 layers, 68128383 parameters, 0 gradients\n",
      "\n",
      "\u001b[34m\u001b[1mPyTorch:\u001b[0m starting from tmp/model/runs_0/train2/weights/best.pt with input shape (1, 3, 640, 640) BCHW and output shape(s) (1, 9, 8400) (130.4 MB)\n",
      "\u001b[31m\u001b[1mrequirements:\u001b[0m Ultralytics requirement ['onnx>=1.12.0'] not found, attempting AutoUpdate...\n",
      "ERROR: pip's dependency resolver does not currently take into account all the packages that are installed. This behaviour is the source of the following dependency conflicts.\n",
      "apache-beam 2.46.0 requires protobuf<4,>3.12.2, but you have protobuf 4.23.4 which is incompatible.\n",
      "google-api-core 1.34.0 requires protobuf!=3.20.0,!=3.20.1,!=4.21.0,!=4.21.1,!=4.21.2,!=4.21.3,!=4.21.4,!=4.21.5,<4.0.0dev,>=3.19.5, but you have protobuf 4.23.4 which is incompatible.\n",
      "google-cloud-bigquery 3.11.1 requires grpcio<2.0dev,>=1.47.0, but you have grpcio 1.46.4 which is incompatible.\n",
      "google-cloud-bigtable 1.7.3 requires protobuf<4.0.0dev, but you have protobuf 4.23.4 which is incompatible.\n",
      "google-cloud-datastore 1.15.5 requires protobuf<4.0.0dev, but you have protobuf 4.23.4 which is incompatible.\n",
      "google-cloud-language 1.3.2 requires protobuf<4.0.0dev, but you have protobuf 4.23.4 which is incompatible.\n",
      "google-cloud-pubsub 2.17.1 requires grpcio<2.0dev,>=1.51.3, but you have grpcio 1.46.4 which is incompatible.\n",
      "google-cloud-videointelligence 1.16.3 requires protobuf<4.0.0dev, but you have protobuf 4.23.4 which is incompatible.\n",
      "kfp 1.8.22 requires protobuf<4,>=3.13.0, but you have protobuf 4.23.4 which is incompatible.\n",
      "kfp-pipeline-spec 0.1.16 requires protobuf<4,>=3.13.0, but you have protobuf 4.23.4 which is incompatible.\n",
      "tensorboard 2.11.2 requires protobuf<4,>=3.9.2, but you have protobuf 4.23.4 which is incompatible.\n",
      "tensorboardx 2.6 requires protobuf<4,>=3.8.0, but you have protobuf 4.23.4 which is incompatible.\n",
      "tensorflow 2.11.0 requires protobuf<3.20,>=3.9.2, but you have protobuf 4.23.4 which is incompatible.\n",
      "tensorflow-metadata 0.14.0 requires protobuf<4,>=3.7, but you have protobuf 4.23.4 which is incompatible.\n",
      "tensorflow-serving-api 2.11.0 requires protobuf<3.20,>=3.9.2, but you have protobuf 4.23.4 which is incompatible.\n",
      "tensorflow-transform 0.14.0 requires protobuf<4,>=3.7, but you have protobuf 4.23.4 which is incompatible.\n",
      "Collecting onnx>=1.12.0\n",
      "  Downloading onnx-1.14.0-cp310-cp310-manylinux_2_17_x86_64.manylinux2014_x86_64.whl (14.6 MB)\n",
      "\u001b[2K     ━━━━━━━━━━━━━━━━━━━━━━━━━━━━━━━━━━━━━━━ 14.6/14.6 MB 133.2 MB/s eta 0:00:00\n",
      "\u001b[?25hRequirement already satisfied: numpy in /opt/conda/lib/python3.10/site-packages (from onnx>=1.12.0) (1.23.5)\n",
      "Collecting protobuf>=3.20.2 (from onnx>=1.12.0)\n",
      "  Downloading protobuf-4.23.4-cp37-abi3-manylinux2014_x86_64.whl (304 kB)\n",
      "\u001b[2K     ━━━━━━━━━━━━━━━━━━━━━━━━━━━━━━━━━━━━━ 304.5/304.5 kB 338.6 MB/s eta 0:00:00\n",
      "\u001b[?25hRequirement already satisfied: typing-extensions>=3.6.2.1 in /opt/conda/lib/python3.10/site-packages (from onnx>=1.12.0) (4.6.3)\n",
      "Installing collected packages: protobuf, onnx\n",
      "  Attempting uninstall: protobuf\n",
      "    Found existing installation: protobuf 3.19.6\n",
      "    Uninstalling protobuf-3.19.6:\n",
      "      Successfully uninstalled protobuf-3.19.6\n",
      "Successfully installed onnx-1.14.0 protobuf-3.20.3\n",
      "\n",
      "\u001b[31m\u001b[1mrequirements:\u001b[0m AutoUpdate success ✅ 10.9s, installed 1 package: ['onnx>=1.12.0']\n",
      "\u001b[31m\u001b[1mrequirements:\u001b[0m ⚠️ \u001b[1mRestart runtime or rerun command for updates to take effect\u001b[0m\n",
      "\n",
      "\n",
      "\u001b[34m\u001b[1mONNX:\u001b[0m starting export with onnx 1.14.0 opset 17...\n"
     ]
    },
    {
     "name": "stdout",
     "output_type": "stream",
     "text": [
      "============= Diagnostic Run torch.onnx.export version 2.0.1+cu117 =============\n",
      "verbose: False, log level: Level.ERROR\n",
      "======================= 0 NONE 0 NOTE 0 WARNING 0 ERROR ========================\n",
      "\n"
     ]
    },
    {
     "name": "stderr",
     "output_type": "stream",
     "text": [
      "\u001b[34m\u001b[1mONNX:\u001b[0m export success ✅ 17.6s, saved as tmp/model/runs_0/train2/weights/best.onnx (260.1 MB)\n",
      "\n",
      "Export complete (26.3s)\n",
      "Results saved to \u001b[1m/home/jupyter/tmp/model/runs_0/train2/weights\u001b[0m\n",
      "Predict:         yolo predict task=detect model=tmp/model/runs_0/train2/weights/best.onnx imgsz=640 \n",
      "Validate:        yolo val task=detect model=tmp/model/runs_0/train2/weights/best.onnx imgsz=640 data=/tmp/model/dataset_0/dataset.yaml \n",
      "Visualize:       https://netron.app\n",
      "Ultralytics YOLOv8.0.136 🚀 Python-3.10.11 torch-2.0.1+cu117 CPU (Intel Xeon 2.00GHz)\n",
      "Model summary (fused): 268 layers, 68128383 parameters, 0 gradients\n",
      "\n",
      "\u001b[34m\u001b[1mPyTorch:\u001b[0m starting from tmp/model/runs_0/train2/weights/best.pt with input shape (1, 3, 640, 640) BCHW and output shape(s) (1, 9, 8400) (130.4 MB)\n",
      "\n",
      "\u001b[34m\u001b[1mTorchScript:\u001b[0m starting export with torch 2.0.1+cu117...\n",
      "\u001b[34m\u001b[1mTorchScript:\u001b[0m export success ✅ 10.7s, saved as tmp/model/runs_0/train2/weights/best.torchscript (260.5 MB)\n",
      "\n",
      "Export complete (15.5s)\n",
      "Results saved to \u001b[1m/home/jupyter/tmp/model/runs_0/train2/weights\u001b[0m\n",
      "Predict:         yolo predict task=detect model=tmp/model/runs_0/train2/weights/best.torchscript imgsz=640 \n",
      "Validate:        yolo val task=detect model=tmp/model/runs_0/train2/weights/best.torchscript imgsz=640 data=/tmp/model/dataset_0/dataset.yaml \n",
      "Visualize:       https://netron.app\n",
      "Ultralytics YOLOv8.0.136 🚀 Python-3.10.11 torch-2.0.1+cu117 CPU (Intel Xeon 2.00GHz)\n",
      "Model summary (fused): 268 layers, 68128383 parameters, 0 gradients\n",
      "\n",
      "\u001b[34m\u001b[1mPyTorch:\u001b[0m starting from tmp/model/runs_0/train2/weights/best.pt with input shape (1, 3, 640, 640) BCHW and output shape(s) (1, 9, 8400) (130.4 MB)\n",
      "\u001b[31m\u001b[1mrequirements:\u001b[0m Ultralytics requirement ['coremltools>=6.0'] not found, attempting AutoUpdate...\n",
      "Collecting coremltools>=6.0\n",
      "  Downloading coremltools-6.3.0-cp310-none-manylinux1_x86_64.whl (1.6 MB)\n",
      "\u001b[2K     ━━━━━━━━━━━━━━━━━━━━━━━━━━━━━━━━━━━━━━━━ 1.6/1.6 MB 26.9 MB/s eta 0:00:00\n",
      "\u001b[?25hRequirement already satisfied: numpy>=1.14.5 in /opt/conda/lib/python3.10/site-packages (from coremltools>=6.0) (1.23.5)\n",
      "Requirement already satisfied: protobuf<=4.0.0,>=3.1.0 in /opt/conda/lib/python3.10/site-packages (from coremltools>=6.0) (3.20.3)\n",
      "Requirement already satisfied: sympy in /opt/conda/lib/python3.10/site-packages (from coremltools>=6.0) (1.12)\n",
      "Requirement already satisfied: tqdm in /opt/conda/lib/python3.10/site-packages (from coremltools>=6.0) (4.65.0)\n",
      "Requirement already satisfied: packaging in /opt/conda/lib/python3.10/site-packages (from coremltools>=6.0) (23.1)\n",
      "Requirement already satisfied: mpmath>=0.19 in /opt/conda/lib/python3.10/site-packages (from sympy->coremltools>=6.0) (1.3.0)\n",
      "Installing collected packages: coremltools\n",
      "Successfully installed coremltools-6.3.0\n",
      "\n",
      "\u001b[31m\u001b[1mrequirements:\u001b[0m AutoUpdate success ✅ 4.3s, installed 1 package: ['coremltools>=6.0']\n",
      "\u001b[31m\u001b[1mrequirements:\u001b[0m ⚠️ \u001b[1mRestart runtime or rerun command for updates to take effect\u001b[0m\n",
      "\n",
      "scikit-learn version 1.2.2 is not supported. Minimum required version: 0.17. Maximum required version: 1.1.2. Disabling scikit-learn conversion API.\n",
      "Torch version 2.0.1+cu117 has not been tested with coremltools. You may run into unexpected errors. Torch 2.0.0 is the most recent version that has been tested.\n",
      "\n",
      "\u001b[34m\u001b[1mCoreML:\u001b[0m starting export with coremltools 6.3.0...\n",
      "Converting PyTorch Frontend ==> MIL Ops: 100%|█████████▉| 846/847 [00:00<00:00, 2170.19 ops/s]\n",
      "Running MIL frontend_pytorch pipeline: 100%|██████████| 5/5 [00:00<00:00, 139.82 passes/s]\n",
      "Running MIL default pipeline: 100%|██████████| 56/56 [00:00<00:00, 86.42 passes/s] \n",
      "Running MIL backend_neuralnetwork pipeline: 100%|██████████| 8/8 [00:00<00:00, 258.69 passes/s]\n",
      "Translating MIL ==> NeuralNetwork Ops:  95%|█████████▍| 930/979 [00:06<00:00, 121.51 ops/s] Const anchor_points was already added.\n",
      "Translating MIL ==> NeuralNetwork Ops: 100%|██████████| 979/979 [00:06<00:00, 160.53 ops/s]\n",
      "\u001b[34m\u001b[1mCoreML:\u001b[0m export success ✅ 27.2s, saved as tmp/model/runs_0/train2/weights/best.mlmodel (260.0 MB)\n",
      "\n",
      "Export complete (32.1s)\n",
      "Results saved to \u001b[1m/home/jupyter/tmp/model/runs_0/train2/weights\u001b[0m\n",
      "Predict:         yolo predict task=detect model=tmp/model/runs_0/train2/weights/best.mlmodel imgsz=640 \n",
      "Validate:        yolo val task=detect model=tmp/model/runs_0/train2/weights/best.mlmodel imgsz=640 data=/tmp/model/dataset_0/dataset.yaml \n",
      "Visualize:       https://netron.app\n"
     ]
    },
    {
     "data": {
      "text/plain": [
       "'tmp/model/runs_0/train2/weights/best.mlmodel'"
      ]
     },
     "execution_count": 17,
     "metadata": {},
     "output_type": "execute_result"
    }
   ],
   "source": [
    "model.export(format='onnx')\n",
    "model.export(format='torchscript')\n",
    "model.export(format='coreml')"
   ]
  },
  {
   "cell_type": "code",
   "execution_count": 21,
   "id": "d885195e-4b13-4e0d-bb47-0ad0115fe2df",
   "metadata": {},
   "outputs": [
    {
     "name": "stdout",
     "output_type": "stream",
     "text": [
      "Transferred tmp/model/runs_0/train2/events.out.tfevents.1689568674.umn-20230716-225759.3410.0 to gs://trap-camera-data/model/runs_0/train2/events.out.tfevents.1689568674.umn-20230716-225759.3410.0\n",
      "Transferred tmp/model/runs_0/train2/val_batch1_pred.jpg to gs://trap-camera-data/model/runs_0/train2/val_batch1_pred.jpg\n",
      "Transferred tmp/model/runs_0/train2/confusion_matrix.png to gs://trap-camera-data/model/runs_0/train2/confusion_matrix.png\n",
      "Transferred tmp/model/runs_0/train2/P_curve.png to gs://trap-camera-data/model/runs_0/train2/P_curve.png\n",
      "Transferred tmp/model/runs_0/train2/F1_curve.png to gs://trap-camera-data/model/runs_0/train2/F1_curve.png\n",
      "Transferred tmp/model/runs_0/train2/train_batch0.jpg to gs://trap-camera-data/model/runs_0/train2/train_batch0.jpg\n",
      "Transferred tmp/model/runs_0/train2/train_batch2.jpg to gs://trap-camera-data/model/runs_0/train2/train_batch2.jpg\n",
      "Transferred tmp/model/runs_0/train2/train_batch7981.jpg to gs://trap-camera-data/model/runs_0/train2/train_batch7981.jpg\n",
      "Transferred tmp/model/runs_0/train2/val_batch1_labels.jpg to gs://trap-camera-data/model/runs_0/train2/val_batch1_labels.jpg\n",
      "Transferred tmp/model/runs_0/train2/val_batch0_labels.jpg to gs://trap-camera-data/model/runs_0/train2/val_batch0_labels.jpg\n",
      "Transferred tmp/model/runs_0/train2/val_batch0_pred.jpg to gs://trap-camera-data/model/runs_0/train2/val_batch0_pred.jpg\n",
      "Transferred tmp/model/runs_0/train2/val_batch2_pred.jpg to gs://trap-camera-data/model/runs_0/train2/val_batch2_pred.jpg\n",
      "Transferred tmp/model/runs_0/train2/results.csv to gs://trap-camera-data/model/runs_0/train2/results.csv\n",
      "Transferred tmp/model/runs_0/train2/confusion_matrix_normalized.png to gs://trap-camera-data/model/runs_0/train2/confusion_matrix_normalized.png\n",
      "Transferred tmp/model/runs_0/train2/results.png to gs://trap-camera-data/model/runs_0/train2/results.png\n",
      "Transferred tmp/model/runs_0/train2/PR_curve.png to gs://trap-camera-data/model/runs_0/train2/PR_curve.png\n",
      "Transferred tmp/model/runs_0/train2/labels_correlogram.jpg to gs://trap-camera-data/model/runs_0/train2/labels_correlogram.jpg\n",
      "Transferred tmp/model/runs_0/train2/train_batch7982.jpg to gs://trap-camera-data/model/runs_0/train2/train_batch7982.jpg\n",
      "Transferred tmp/model/runs_0/train2/R_curve.png to gs://trap-camera-data/model/runs_0/train2/R_curve.png\n",
      "Transferred tmp/model/runs_0/train2/train_batch1.jpg to gs://trap-camera-data/model/runs_0/train2/train_batch1.jpg\n",
      "Transferred tmp/model/runs_0/train2/train_batch7980.jpg to gs://trap-camera-data/model/runs_0/train2/train_batch7980.jpg\n",
      "Transferred tmp/model/runs_0/train2/val_batch2_labels.jpg to gs://trap-camera-data/model/runs_0/train2/val_batch2_labels.jpg\n",
      "Transferred tmp/model/runs_0/train2/args.yaml to gs://trap-camera-data/model/runs_0/train2/args.yaml\n",
      "Transferred tmp/model/runs_0/train2/labels.jpg to gs://trap-camera-data/model/runs_0/train2/labels.jpg\n",
      "Transferred tmp/model/runs_0/train2/weights/last.pt to gs://trap-camera-data/model/runs_0/train2/weights/last.pt\n",
      "Transferred tmp/model/runs_0/train2/weights/best.pt to gs://trap-camera-data/model/runs_0/train2/weights/best.pt\n",
      "Transferred tmp/model/runs_0/train2/weights/best.torchscript to gs://trap-camera-data/model/runs_0/train2/weights/best.torchscript\n",
      "Transferred tmp/model/runs_0/train2/weights/best.onnx to gs://trap-camera-data/model/runs_0/train2/weights/best.onnx\n",
      "Transferred tmp/model/runs_0/train2/weights/best.mlmodel to gs://trap-camera-data/model/runs_0/train2/weights/best.mlmodel\n",
      "Transferred tmp/model/runs_0/train/args.yaml to gs://trap-camera-data/model/runs_0/train/args.yaml\n"
     ]
    }
   ],
   "source": [
    "bucket_name = \"trap-camera-data\"\n",
    "source_folder = \"tmp/model/runs_0\"\n",
    "destination_folder = \"model/runs_0\"\n",
    "files=[]\n",
    "for root, _, filenames in os.walk(source_folder):\n",
    "    for filename in filenames:\n",
    "        files.append(os.path.join(root, filename))\n",
    "bucket = storage_client.bucket(bucket_name)\n",
    "for file_path in files:\n",
    "    relative_path = os.path.relpath(file_path, source_folder)\n",
    "    destination_path = os.path.join(destination_folder, relative_path)\n",
    "    blob = bucket.blob(destination_path)\n",
    "    blob.upload_from_filename(file_path)\n",
    "    print(f\"Transferred {file_path} to gs://{bucket_name}/{destination_path}\")"
   ]
  },
  {
   "cell_type": "code",
   "execution_count": 2,
   "id": "ada56597-4dc4-4e9b-8fa7-079f4450e23c",
   "metadata": {},
   "outputs": [],
   "source": [
    "from ultralytics import YOLO\n",
    "model = YOLO('tmp/model/runs_0/train2/weights/best.pt')"
   ]
  },
  {
   "cell_type": "code",
   "execution_count": 5,
   "id": "7ebf6b71-6ab8-41e3-939a-fa48b7bbd212",
   "metadata": {},
   "outputs": [
    {
     "name": "stdout",
     "output_type": "stream",
     "text": [
      "Requirement already satisfied: protobuf==3.20.* in /opt/conda/lib/python3.10/site-packages (3.20.3)\n",
      "Note: you may need to restart the kernel to use updated packages.\n"
     ]
    }
   ],
   "source": [
    "pip install protobuf==3.20.*"
   ]
  },
  {
   "cell_type": "code",
   "execution_count": null,
   "id": "9a2544a6-1e2c-4ff5-8b51-ecf482955e79",
   "metadata": {},
   "outputs": [
    {
     "name": "stderr",
     "output_type": "stream",
     "text": [
      "\n",
      "image 1/1 /home/jupyter/Rhinoceros-Hornbill-picture-malaysia.JPG.13.jpg: 640x448 1 Rhinoceros Hornbill, 28.1ms\n",
      "Speed: 5.3ms preprocess, 28.1ms inference, 146.1ms postprocess per image at shape (1, 3, 640, 448)\n"
     ]
    }
   ],
   "source": [
    "import cv2\n",
    "result = model('Rhinoceros-Hornbill-picture-malaysia.JPG.13.jpg')\n",
    "res_plotted = result[0].plot()\n",
    "cv2.imshow('result',res_plotted)"
   ]
  },
  {
   "cell_type": "code",
   "execution_count": 5,
   "id": "43b6a9af-44a1-405c-a4a0-f1ddffaef2d2",
   "metadata": {},
   "outputs": [
    {
     "name": "stdout",
     "output_type": "stream",
     "text": [
      "Collecting protobuf<=3.20.1\n",
      "  Downloading protobuf-3.20.1-cp310-cp310-manylinux_2_12_x86_64.manylinux2010_x86_64.whl (1.1 MB)\n",
      "\u001b[2K     \u001b[90m━━━━━━━━━━━━━━━━━━━━━━━━━━━━━━━━━━━━━━━━\u001b[0m \u001b[32m1.1/1.1 MB\u001b[0m \u001b[31m20.7 MB/s\u001b[0m eta \u001b[36m0:00:00\u001b[0ma \u001b[36m0:00:01\u001b[0m\n",
      "\u001b[?25hInstalling collected packages: protobuf\n",
      "  Attempting uninstall: protobuf\n",
      "    Found existing installation: protobuf 3.20.3\n",
      "    Uninstalling protobuf-3.20.3:\n",
      "      Successfully uninstalled protobuf-3.20.3\n",
      "\u001b[31mERROR: pip's dependency resolver does not currently take into account all the packages that are installed. This behaviour is the source of the following dependency conflicts.\n",
      "google-api-core 1.34.0 requires protobuf!=3.20.0,!=3.20.1,!=4.21.0,!=4.21.1,!=4.21.2,!=4.21.3,!=4.21.4,!=4.21.5,<4.0.0dev,>=3.19.5, but you have protobuf 3.20.1 which is incompatible.\n",
      "google-cloud-aiplatform 1.26.0 requires protobuf!=3.20.0,!=3.20.1,!=4.21.0,!=4.21.1,!=4.21.2,!=4.21.3,!=4.21.4,!=4.21.5,<5.0.0dev,>=3.19.5, but you have protobuf 3.20.1 which is incompatible.\n",
      "google-cloud-artifact-registry 1.8.1 requires protobuf!=3.20.0,!=3.20.1,!=4.21.0,!=4.21.1,!=4.21.2,!=4.21.3,!=4.21.4,!=4.21.5,<5.0.0dev,>=3.19.5, but you have protobuf 3.20.1 which is incompatible.\n",
      "google-cloud-bigquery 3.11.1 requires grpcio<2.0dev,>=1.47.0, but you have grpcio 1.46.4 which is incompatible.\n",
      "google-cloud-bigquery 3.11.1 requires protobuf!=3.20.0,!=3.20.1,!=4.21.0,!=4.21.1,!=4.21.2,!=4.21.3,!=4.21.4,!=4.21.5,<5.0.0dev,>=3.19.5, but you have protobuf 3.20.1 which is incompatible.\n",
      "google-cloud-bigquery-storage 2.16.2 requires protobuf!=3.20.0,!=3.20.1,!=4.21.0,!=4.21.1,!=4.21.2,!=4.21.3,!=4.21.4,!=4.21.5,<5.0.0dev,>=3.19.5, but you have protobuf 3.20.1 which is incompatible.\n",
      "google-cloud-dlp 3.12.1 requires protobuf!=3.20.0,!=3.20.1,!=4.21.0,!=4.21.1,!=4.21.2,!=4.21.3,!=4.21.4,!=4.21.5,<5.0.0dev,>=3.19.5, but you have protobuf 3.20.1 which is incompatible.\n",
      "google-cloud-monitoring 2.15.0 requires protobuf!=3.20.0,!=3.20.1,!=4.21.0,!=4.21.1,!=4.21.2,!=4.21.3,!=4.21.4,!=4.21.5,<5.0.0dev,>=3.19.5, but you have protobuf 3.20.1 which is incompatible.\n",
      "google-cloud-pubsub 2.17.1 requires grpcio<2.0dev,>=1.51.3, but you have grpcio 1.46.4 which is incompatible.\n",
      "google-cloud-pubsub 2.17.1 requires protobuf!=3.20.0,!=3.20.1,!=4.21.0,!=4.21.1,!=4.21.2,!=4.21.3,!=4.21.4,!=4.21.5,<5.0.0dev,>=3.19.5, but you have protobuf 3.20.1 which is incompatible.\n",
      "google-cloud-resource-manager 1.10.1 requires protobuf!=3.20.0,!=3.20.1,!=4.21.0,!=4.21.1,!=4.21.2,!=4.21.3,!=4.21.4,!=4.21.5,<5.0.0dev,>=3.19.5, but you have protobuf 3.20.1 which is incompatible.\n",
      "google-cloud-spanner 3.36.0 requires protobuf!=3.20.0,!=3.20.1,!=4.21.0,!=4.21.1,!=4.21.2,!=4.21.3,!=4.21.4,!=4.21.5,<5.0.0dev,>=3.19.5, but you have protobuf 3.20.1 which is incompatible.\n",
      "google-cloud-vision 3.4.2 requires protobuf!=3.20.0,!=3.20.1,!=4.21.0,!=4.21.1,!=4.21.2,!=4.21.3,!=4.21.4,!=4.21.5,<5.0.0dev,>=3.19.5, but you have protobuf 3.20.1 which is incompatible.\n",
      "googleapis-common-protos 1.59.1 requires protobuf!=3.20.0,!=3.20.1,!=4.21.1,!=4.21.2,!=4.21.3,!=4.21.4,!=4.21.5,<5.0.0.dev0,>=3.19.5, but you have protobuf 3.20.1 which is incompatible.\n",
      "grpc-google-iam-v1 0.12.6 requires protobuf!=3.20.0,!=3.20.1,!=4.21.1,!=4.21.2,!=4.21.3,!=4.21.4,!=4.21.5,<5.0.0dev,>=3.19.5, but you have protobuf 3.20.1 which is incompatible.\n",
      "onnx 1.14.0 requires protobuf>=3.20.2, but you have protobuf 3.20.1 which is incompatible.\n",
      "tensorflow 2.11.0 requires protobuf<3.20,>=3.9.2, but you have protobuf 3.20.1 which is incompatible.\n",
      "tensorflow-serving-api 2.11.0 requires protobuf<3.20,>=3.9.2, but you have protobuf 3.20.1 which is incompatible.\u001b[0m\u001b[31m\n",
      "\u001b[0mSuccessfully installed protobuf-3.20.1\n",
      "Note: you may need to restart the kernel to use updated packages.\n"
     ]
    }
   ],
   "source": [
    "pip install 'protobuf<=3.20.1' --force-reinstall"
   ]
  },
  {
   "cell_type": "code",
   "execution_count": null,
   "id": "dd2d7f84-6435-4da5-ae47-aa729df12908",
   "metadata": {},
   "outputs": [],
   "source": []
  },
  {
   "cell_type": "code",
   "execution_count": null,
   "id": "9c229d30-d33b-4fe9-af38-39de4df87d34",
   "metadata": {},
   "outputs": [],
   "source": []
  },
  {
   "cell_type": "code",
   "execution_count": 2,
   "id": "d63fda29-f7c4-408f-9986-53ae93173d29",
   "metadata": {},
   "outputs": [],
   "source": [
    "model = YOLO('best.pt')"
   ]
  },
  {
   "cell_type": "code",
   "execution_count": 11,
   "id": "e03e17dd-cc3f-4541-b2f9-9e6a8d6be0d4",
   "metadata": {},
   "outputs": [
    {
     "name": "stderr",
     "output_type": "stream",
     "text": [
      "\n",
      "0: 384x640 1 Sun Bears, 62.5ms\n",
      "Speed: 0.0ms preprocess, 62.5ms inference, 15.6ms postprocess per image at shape (1, 3, 384, 640)\n",
      "\n",
      "0: 384x640 2 Sun Bearss, 57.0ms\n",
      "Speed: 11.2ms preprocess, 57.0ms inference, 0.0ms postprocess per image at shape (1, 3, 384, 640)\n"
     ]
    },
    {
     "name": "stdout",
     "output_type": "stream",
     "text": [
      "Saved frame: C:\\Users\\HP\\runs\\detect\\predict3\\A Pair of Sun Bears (Helarctos malayanus) in Sumatra.mp4\\Timestamp - 0 Hours, 00 Minutes, 00 Seconds.jpg\n",
      "Saved frame: C:\\Users\\HP\\runs\\detect\\predict3\\A Pair of Sun Bears (Helarctos malayanus) in Sumatra.mp4\\Timestamp - 0 Hours, 00 Minutes, 00.033333 Seconds.jpg\n"
     ]
    },
    {
     "name": "stderr",
     "output_type": "stream",
     "text": [
      "\n",
      "0: 384x640 2 Sun Bearss, 52.1ms\n",
      "Speed: 5.0ms preprocess, 52.1ms inference, 0.0ms postprocess per image at shape (1, 3, 384, 640)\n",
      "\n",
      "0: 384x640 2 Sun Bearss, 58.0ms\n",
      "Speed: 9.8ms preprocess, 58.0ms inference, 4.0ms postprocess per image at shape (1, 3, 384, 640)\n"
     ]
    },
    {
     "name": "stdout",
     "output_type": "stream",
     "text": [
      "Saved frame: C:\\Users\\HP\\runs\\detect\\predict3\\A Pair of Sun Bears (Helarctos malayanus) in Sumatra.mp4\\Timestamp - 0 Hours, 00 Minutes, 00.066667 Seconds.jpg\n",
      "Saved frame: C:\\Users\\HP\\runs\\detect\\predict3\\A Pair of Sun Bears (Helarctos malayanus) in Sumatra.mp4\\Timestamp - 0 Hours, 00 Minutes, 00.066667 Seconds.jpg\n",
      "Saved frame: C:\\Users\\HP\\runs\\detect\\predict3\\A Pair of Sun Bears (Helarctos malayanus) in Sumatra.mp4\\Timestamp - 0 Hours, 00 Minutes, 00.100000 Seconds.jpg\n",
      "Saved frame: C:\\Users\\HP\\runs\\detect\\predict3\\A Pair of Sun Bears (Helarctos malayanus) in Sumatra.mp4\\Timestamp - 0 Hours, 00 Minutes, 00.100000 Seconds.jpg\n"
     ]
    },
    {
     "name": "stderr",
     "output_type": "stream",
     "text": [
      "\n",
      "0: 384x640 1 Sun Bears, 58.0ms\n",
      "Speed: 5.0ms preprocess, 58.0ms inference, 5.0ms postprocess per image at shape (1, 3, 384, 640)\n",
      "\n",
      "0: 384x640 2 Sun Bearss, 59.0ms\n",
      "Speed: 5.0ms preprocess, 59.0ms inference, 4.0ms postprocess per image at shape (1, 3, 384, 640)\n",
      "\n"
     ]
    },
    {
     "name": "stdout",
     "output_type": "stream",
     "text": [
      "Saved frame: C:\\Users\\HP\\runs\\detect\\predict3\\A Pair of Sun Bears (Helarctos malayanus) in Sumatra.mp4\\Timestamp - 0 Hours, 00 Minutes, 00.166667 Seconds.jpg\n",
      "Saved frame: C:\\Users\\HP\\runs\\detect\\predict3\\A Pair of Sun Bears (Helarctos malayanus) in Sumatra.mp4\\Timestamp - 0 Hours, 00 Minutes, 00.166667 Seconds.jpg\n"
     ]
    },
    {
     "name": "stderr",
     "output_type": "stream",
     "text": [
      "0: 384x640 1 Sun Bears, 58.0ms\n",
      "Speed: 5.0ms preprocess, 58.0ms inference, 7.0ms postprocess per image at shape (1, 3, 384, 640)\n",
      "\n",
      "0: 384x640 1 Sun Bears, 46.1ms\n",
      "Speed: 5.6ms preprocess, 46.1ms inference, 15.6ms postprocess per image at shape (1, 3, 384, 640)\n"
     ]
    },
    {
     "name": "stdout",
     "output_type": "stream",
     "text": [
      "Saved frame: C:\\Users\\HP\\runs\\detect\\predict3\\A Pair of Sun Bears (Helarctos malayanus) in Sumatra.mp4\\Timestamp - 0 Hours, 00 Minutes, 00.200000 Seconds.jpg\n"
     ]
    },
    {
     "name": "stderr",
     "output_type": "stream",
     "text": [
      "\n",
      "0: 384x640 (no detections), 55.7ms\n",
      "Speed: 5.0ms preprocess, 55.7ms inference, 0.0ms postprocess per image at shape (1, 3, 384, 640)\n",
      "\n",
      "0: 384x640 (no detections), 57.2ms\n",
      "Speed: 8.9ms preprocess, 57.2ms inference, 0.0ms postprocess per image at shape (1, 3, 384, 640)\n",
      "\n",
      "0: 384x640 (no detections), 48.0ms\n",
      "Speed: 18.5ms preprocess, 48.0ms inference, 0.0ms postprocess per image at shape (1, 3, 384, 640)\n",
      "\n",
      "0: 384x640 (no detections), 59.0ms\n",
      "Speed: 6.0ms preprocess, 59.0ms inference, 2.0ms postprocess per image at shape (1, 3, 384, 640)\n",
      "\n",
      "0: 384x640 (no detections), 59.0ms\n",
      "Speed: 5.0ms preprocess, 59.0ms inference, 2.0ms postprocess per image at shape (1, 3, 384, 640)\n",
      "\n",
      "0: 384x640 (no detections), 59.0ms\n",
      "Speed: 5.0ms preprocess, 59.0ms inference, 2.0ms postprocess per image at shape (1, 3, 384, 640)\n",
      "\n",
      "0: 384x640 (no detections), 59.0ms\n",
      "Speed: 7.0ms preprocess, 59.0ms inference, 1.0ms postprocess per image at shape (1, 3, 384, 640)\n",
      "\n",
      "0: 384x640 (no detections), 49.1ms\n",
      "Speed: 17.7ms preprocess, 49.1ms inference, 0.0ms postprocess per image at shape (1, 3, 384, 640)\n",
      "\n",
      "0: 384x640 (no detections), 59.0ms\n",
      "Speed: 21.2ms preprocess, 59.0ms inference, 2.0ms postprocess per image at shape (1, 3, 384, 640)\n",
      "\n",
      "0: 384x640 (no detections), 57.7ms\n",
      "Speed: 9.3ms preprocess, 57.7ms inference, 0.0ms postprocess per image at shape (1, 3, 384, 640)\n",
      "\n",
      "0: 384x640 (no detections), 58.9ms\n",
      "Speed: 7.2ms preprocess, 58.9ms inference, 0.0ms postprocess per image at shape (1, 3, 384, 640)\n",
      "\n",
      "0: 384x640 (no detections), 49.0ms\n",
      "Speed: 16.9ms preprocess, 49.0ms inference, 0.0ms postprocess per image at shape (1, 3, 384, 640)\n",
      "\n",
      "0: 384x640 (no detections), 56.1ms\n",
      "Speed: 12.3ms preprocess, 56.1ms inference, 0.0ms postprocess per image at shape (1, 3, 384, 640)\n",
      "\n",
      "0: 384x640 (no detections), 59.0ms\n",
      "Speed: 4.0ms preprocess, 59.0ms inference, 1.0ms postprocess per image at shape (1, 3, 384, 640)\n",
      "\n",
      "0: 384x640 (no detections), 57.7ms\n",
      "Speed: 9.9ms preprocess, 57.7ms inference, 0.0ms postprocess per image at shape (1, 3, 384, 640)\n",
      "\n",
      "0: 384x640 (no detections), 57.0ms\n",
      "Speed: 10.5ms preprocess, 57.0ms inference, 0.0ms postprocess per image at shape (1, 3, 384, 640)\n",
      "\n",
      "0: 384x640 (no detections), 58.9ms\n",
      "Speed: 7.5ms preprocess, 58.9ms inference, 0.0ms postprocess per image at shape (1, 3, 384, 640)\n",
      "\n",
      "0: 384x640 (no detections), 58.1ms\n",
      "Speed: 5.0ms preprocess, 58.1ms inference, 0.0ms postprocess per image at shape (1, 3, 384, 640)\n",
      "\n",
      "0: 384x640 (no detections), 47.1ms\n",
      "Speed: 6.0ms preprocess, 47.1ms inference, 0.0ms postprocess per image at shape (1, 3, 384, 640)\n",
      "\n",
      "0: 384x640 (no detections), 49.1ms\n",
      "Speed: 18.7ms preprocess, 49.1ms inference, 0.0ms postprocess per image at shape (1, 3, 384, 640)\n",
      "\n",
      "0: 384x640 (no detections), 49.1ms\n",
      "Speed: 16.8ms preprocess, 49.1ms inference, 0.0ms postprocess per image at shape (1, 3, 384, 640)\n",
      "\n",
      "0: 384x640 (no detections), 51.1ms\n",
      "Speed: 14.8ms preprocess, 51.1ms inference, 0.0ms postprocess per image at shape (1, 3, 384, 640)\n",
      "\n",
      "0: 384x640 (no detections), 49.1ms\n",
      "Speed: 17.2ms preprocess, 49.1ms inference, 0.0ms postprocess per image at shape (1, 3, 384, 640)\n"
     ]
    }
   ],
   "source": [
    "from ultralytics import YOLO\n",
    "import cv2\n",
    "import os\n",
    "import datetime\n",
    "\n",
    "model = YOLO(r'C:\\Users\\HP\\Desktop\\best.pt')\n",
    "source = r'G:\\Trap\\A Pair of Sun Bears (Helarctos malayanus) in Sumatra.mp4'\n",
    "cap = cv2.VideoCapture(source)\n",
    "path = r'C:\\Users\\HP\\runs\\detect\\predict3'\n",
    "frame_no = 0\n",
    "video_name = source.split(\"\\\\\")[-1]\n",
    "if not os.path.exists(os.path.join(path, video_name)):\n",
    "    os.mkdir(os.path.join(path, video_name))\n",
    "\n",
    "# Set the desired downsampling rate (e.g., process every 5th frame)\n",
    "downsampling_rate = cap.get(cv2.CAP_PROP_FPS)\n",
    "frame_counter = 0\n",
    "\n",
    "# Get the video's frames per second (fps)\n",
    "fps = cap.get(cv2.CAP_PROP_FPS)\n",
    "fps_multiplier = 1.0 / fps\n",
    "\n",
    "while cap.isOpened():\n",
    "    ret, curr_frame = cap.read()\n",
    "    if not ret:\n",
    "        break\n",
    "\n",
    "    # Only process the frame if it is within the downsampling rate\n",
    "    if frame_counter % downsampling_rate == 0:\n",
    "        result = model(curr_frame)\n",
    "        for res in result:\n",
    "            boxes = res.boxes.cpu().numpy()\n",
    "            for i, box in enumerate(boxes):\n",
    "                if box.conf[0] > 0.5:\n",
    "                    res_plotted = res[0].plot(conf=False)\n",
    "                    current_frame_timestamp = cap.get(cv2.CAP_PROP_POS_MSEC) * fps_multiplier / 1000\n",
    "                    timedelta_obj = str(datetime.timedelta(seconds=(current_frame_timestamp)))\n",
    "                    x = timedelta_obj.split(':')\n",
    "                    hh, mm, ss = x[0], x[1], x[2]\n",
    "                    filename = f\"Timestamp - {hh} Hours, {mm} Minutes, {ss} Seconds.jpg\"\n",
    "                    filename = os.path.join(path, video_name, filename)\n",
    "                    cv2.imwrite(filename, res_plotted)\n",
    "                    print(\"Saved frame:\", filename)\n",
    "\n",
    "    # Increment the frame counter\n",
    "    frame_counter += 1\n",
    "\n",
    "cap.release()"
   ]
  },
  {
   "cell_type": "code",
   "execution_count": 8,
   "id": "b74c5d12-e1ed-45af-8e42-64b4d2dd05ce",
   "metadata": {},
   "outputs": [
    {
     "name": "stderr",
     "output_type": "stream",
     "text": [
      "\n",
      "0: 384x640 (no detections), 265.0ms\n",
      "Speed: 4.0ms preprocess, 265.0ms inference, 2.0ms postprocess per image at shape (1, 3, 384, 640)\n",
      "\n",
      "0: 384x640 (no detections), 264.0ms\n",
      "Speed: 4.0ms preprocess, 264.0ms inference, 3.0ms postprocess per image at shape (1, 3, 384, 640)\n",
      "\n",
      "0: 384x640 (no detections), 265.0ms\n",
      "Speed: 4.0ms preprocess, 265.0ms inference, 6.0ms postprocess per image at shape (1, 3, 384, 640)\n",
      "\n",
      "0: 384x640 (no detections), 264.0ms\n",
      "Speed: 5.0ms preprocess, 264.0ms inference, 3.0ms postprocess per image at shape (1, 3, 384, 640)\n",
      "\n",
      "0: 384x640 (no detections), 266.0ms\n",
      "Speed: 4.0ms preprocess, 266.0ms inference, 2.0ms postprocess per image at shape (1, 3, 384, 640)\n",
      "\n",
      "0: 384x640 (no detections), 263.0ms\n",
      "Speed: 4.0ms preprocess, 263.0ms inference, 2.0ms postprocess per image at shape (1, 3, 384, 640)\n",
      "\n",
      "0: 384x640 (no detections), 263.0ms\n",
      "Speed: 3.0ms preprocess, 263.0ms inference, 2.0ms postprocess per image at shape (1, 3, 384, 640)\n",
      "\n",
      "0: 384x640 (no detections), 266.0ms\n",
      "Speed: 4.0ms preprocess, 266.0ms inference, 9.0ms postprocess per image at shape (1, 3, 384, 640)\n",
      "\n",
      "0: 384x640 (no detections), 265.0ms\n",
      "Speed: 4.0ms preprocess, 265.0ms inference, 2.0ms postprocess per image at shape (1, 3, 384, 640)\n",
      "\n",
      "0: 384x640 (no detections), 264.0ms\n",
      "Speed: 3.0ms preprocess, 264.0ms inference, 2.0ms postprocess per image at shape (1, 3, 384, 640)\n",
      "\n",
      "0: 384x640 (no detections), 263.0ms\n",
      "Speed: 3.0ms preprocess, 263.0ms inference, 2.0ms postprocess per image at shape (1, 3, 384, 640)\n",
      "\n",
      "0: 384x640 (no detections), 263.0ms\n",
      "Speed: 5.0ms preprocess, 263.0ms inference, 2.0ms postprocess per image at shape (1, 3, 384, 640)\n",
      "\n",
      "0: 384x640 (no detections), 263.0ms\n",
      "Speed: 3.0ms preprocess, 263.0ms inference, 2.0ms postprocess per image at shape (1, 3, 384, 640)\n",
      "\n",
      "0: 384x640 (no detections), 263.0ms\n",
      "Speed: 4.0ms preprocess, 263.0ms inference, 2.0ms postprocess per image at shape (1, 3, 384, 640)\n",
      "\n",
      "0: 384x640 (no detections), 263.0ms\n",
      "Speed: 4.0ms preprocess, 263.0ms inference, 2.0ms postprocess per image at shape (1, 3, 384, 640)\n",
      "\n",
      "0: 384x640 (no detections), 264.0ms\n",
      "Speed: 4.0ms preprocess, 264.0ms inference, 3.0ms postprocess per image at shape (1, 3, 384, 640)\n",
      "\n",
      "0: 384x640 1 capsized_boat, 263.0ms\n",
      "Speed: 4.0ms preprocess, 263.0ms inference, 4.0ms postprocess per image at shape (1, 3, 384, 640)\n",
      "\n"
     ]
    },
    {
     "name": "stdout",
     "output_type": "stream",
     "text": [
      "Saved frame: C:\\Users\\HP\\runs\\detect\\predict3\\Migrant boat capsize off Libyan coast caught on camera.mp4\\Timestamp - 0 Hours, 00 Minutes, 00.640000 Seconds.jpg\n"
     ]
    },
    {
     "name": "stderr",
     "output_type": "stream",
     "text": [
      "0: 384x640 1 drowning_person, 264.0ms\n",
      "Speed: 4.0ms preprocess, 264.0ms inference, 6.0ms postprocess per image at shape (1, 3, 384, 640)\n",
      "\n"
     ]
    },
    {
     "name": "stdout",
     "output_type": "stream",
     "text": [
      "Saved frame: C:\\Users\\HP\\runs\\detect\\predict3\\Migrant boat capsize off Libyan coast caught on camera.mp4\\Timestamp - 0 Hours, 00 Minutes, 00.680000 Seconds.jpg\n"
     ]
    },
    {
     "name": "stderr",
     "output_type": "stream",
     "text": [
      "0: 384x640 1 capsized_boat, 263.0ms\n",
      "Speed: 5.0ms preprocess, 263.0ms inference, 5.0ms postprocess per image at shape (1, 3, 384, 640)\n",
      "\n"
     ]
    },
    {
     "name": "stdout",
     "output_type": "stream",
     "text": [
      "Saved frame: C:\\Users\\HP\\runs\\detect\\predict3\\Migrant boat capsize off Libyan coast caught on camera.mp4\\Timestamp - 0 Hours, 00 Minutes, 00.720000 Seconds.jpg\n"
     ]
    },
    {
     "name": "stderr",
     "output_type": "stream",
     "text": [
      "0: 384x640 1 capsized_boat, 263.0ms\n",
      "Speed: 4.9ms preprocess, 263.0ms inference, 5.0ms postprocess per image at shape (1, 3, 384, 640)\n",
      "\n"
     ]
    },
    {
     "name": "stdout",
     "output_type": "stream",
     "text": [
      "Saved frame: C:\\Users\\HP\\runs\\detect\\predict3\\Migrant boat capsize off Libyan coast caught on camera.mp4\\Timestamp - 0 Hours, 00 Minutes, 00.760000 Seconds.jpg\n"
     ]
    },
    {
     "name": "stderr",
     "output_type": "stream",
     "text": [
      "0: 384x640 1 capsized_boat, 264.0ms\n",
      "Speed: 4.0ms preprocess, 264.0ms inference, 7.0ms postprocess per image at shape (1, 3, 384, 640)\n",
      "\n"
     ]
    },
    {
     "name": "stdout",
     "output_type": "stream",
     "text": [
      "Saved frame: C:\\Users\\HP\\runs\\detect\\predict3\\Migrant boat capsize off Libyan coast caught on camera.mp4\\Timestamp - 0 Hours, 00 Minutes, 00.800000 Seconds.jpg\n"
     ]
    },
    {
     "name": "stderr",
     "output_type": "stream",
     "text": [
      "0: 384x640 1 capsized_boat, 265.0ms\n",
      "Speed: 4.0ms preprocess, 265.0ms inference, 6.0ms postprocess per image at shape (1, 3, 384, 640)\n",
      "\n"
     ]
    },
    {
     "name": "stdout",
     "output_type": "stream",
     "text": [
      "Saved frame: C:\\Users\\HP\\runs\\detect\\predict3\\Migrant boat capsize off Libyan coast caught on camera.mp4\\Timestamp - 0 Hours, 00 Minutes, 00.840000 Seconds.jpg\n"
     ]
    },
    {
     "name": "stderr",
     "output_type": "stream",
     "text": [
      "0: 384x640 1 capsized_boat, 265.0ms\n",
      "Speed: 5.0ms preprocess, 265.0ms inference, 7.0ms postprocess per image at shape (1, 3, 384, 640)\n",
      "\n"
     ]
    },
    {
     "name": "stdout",
     "output_type": "stream",
     "text": [
      "Saved frame: C:\\Users\\HP\\runs\\detect\\predict3\\Migrant boat capsize off Libyan coast caught on camera.mp4\\Timestamp - 0 Hours, 00 Minutes, 00.880000 Seconds.jpg\n"
     ]
    },
    {
     "name": "stderr",
     "output_type": "stream",
     "text": [
      "0: 384x640 1 capsized_boat, 264.0ms\n",
      "Speed: 5.0ms preprocess, 264.0ms inference, 6.0ms postprocess per image at shape (1, 3, 384, 640)\n",
      "\n"
     ]
    },
    {
     "name": "stdout",
     "output_type": "stream",
     "text": [
      "Saved frame: C:\\Users\\HP\\runs\\detect\\predict3\\Migrant boat capsize off Libyan coast caught on camera.mp4\\Timestamp - 0 Hours, 00 Minutes, 00.920000 Seconds.jpg\n"
     ]
    },
    {
     "name": "stderr",
     "output_type": "stream",
     "text": [
      "0: 384x640 1 capsized_boat, 1 drowning_person, 267.0ms\n",
      "Speed: 4.0ms preprocess, 267.0ms inference, 12.0ms postprocess per image at shape (1, 3, 384, 640)\n",
      "\n"
     ]
    },
    {
     "name": "stdout",
     "output_type": "stream",
     "text": [
      "Saved frame: C:\\Users\\HP\\runs\\detect\\predict3\\Migrant boat capsize off Libyan coast caught on camera.mp4\\Timestamp - 0 Hours, 00 Minutes, 00.960000 Seconds.jpg\n",
      "Saved frame: C:\\Users\\HP\\runs\\detect\\predict3\\Migrant boat capsize off Libyan coast caught on camera.mp4\\Timestamp - 0 Hours, 00 Minutes, 00.960000 Seconds.jpg\n"
     ]
    },
    {
     "name": "stderr",
     "output_type": "stream",
     "text": [
      "0: 384x640 1 capsized_boat, 267.0ms\n",
      "Speed: 5.0ms preprocess, 267.0ms inference, 5.0ms postprocess per image at shape (1, 3, 384, 640)\n",
      "\n"
     ]
    },
    {
     "name": "stdout",
     "output_type": "stream",
     "text": [
      "Saved frame: C:\\Users\\HP\\runs\\detect\\predict3\\Migrant boat capsize off Libyan coast caught on camera.mp4\\Timestamp - 0 Hours, 00 Minutes, 01 Seconds.jpg\n"
     ]
    },
    {
     "name": "stderr",
     "output_type": "stream",
     "text": [
      "0: 384x640 1 capsized_boat, 1 drowning_person, 264.0ms\n",
      "Speed: 4.0ms preprocess, 264.0ms inference, 5.0ms postprocess per image at shape (1, 3, 384, 640)\n",
      "\n"
     ]
    },
    {
     "name": "stdout",
     "output_type": "stream",
     "text": [
      "Saved frame: C:\\Users\\HP\\runs\\detect\\predict3\\Migrant boat capsize off Libyan coast caught on camera.mp4\\Timestamp - 0 Hours, 00 Minutes, 01.040000 Seconds.jpg\n",
      "Saved frame: C:\\Users\\HP\\runs\\detect\\predict3\\Migrant boat capsize off Libyan coast caught on camera.mp4\\Timestamp - 0 Hours, 00 Minutes, 01.040000 Seconds.jpg\n"
     ]
    },
    {
     "name": "stderr",
     "output_type": "stream",
     "text": [
      "0: 384x640 1 capsized_boat, 265.0ms\n",
      "Speed: 4.0ms preprocess, 265.0ms inference, 6.0ms postprocess per image at shape (1, 3, 384, 640)\n",
      "\n"
     ]
    },
    {
     "name": "stdout",
     "output_type": "stream",
     "text": [
      "Saved frame: C:\\Users\\HP\\runs\\detect\\predict3\\Migrant boat capsize off Libyan coast caught on camera.mp4\\Timestamp - 0 Hours, 00 Minutes, 01.080000 Seconds.jpg\n"
     ]
    },
    {
     "name": "stderr",
     "output_type": "stream",
     "text": [
      "0: 384x640 1 capsized_boat, 263.0ms\n",
      "Speed: 4.0ms preprocess, 263.0ms inference, 6.0ms postprocess per image at shape (1, 3, 384, 640)\n",
      "\n"
     ]
    },
    {
     "name": "stdout",
     "output_type": "stream",
     "text": [
      "Saved frame: C:\\Users\\HP\\runs\\detect\\predict3\\Migrant boat capsize off Libyan coast caught on camera.mp4\\Timestamp - 0 Hours, 00 Minutes, 01.120000 Seconds.jpg\n"
     ]
    },
    {
     "name": "stderr",
     "output_type": "stream",
     "text": [
      "0: 384x640 1 capsized_boat, 1 drowning_person, 263.0ms\n",
      "Speed: 4.0ms preprocess, 263.0ms inference, 6.0ms postprocess per image at shape (1, 3, 384, 640)\n",
      "\n"
     ]
    },
    {
     "name": "stdout",
     "output_type": "stream",
     "text": [
      "Saved frame: C:\\Users\\HP\\runs\\detect\\predict3\\Migrant boat capsize off Libyan coast caught on camera.mp4\\Timestamp - 0 Hours, 00 Minutes, 01.160000 Seconds.jpg\n",
      "Saved frame: C:\\Users\\HP\\runs\\detect\\predict3\\Migrant boat capsize off Libyan coast caught on camera.mp4\\Timestamp - 0 Hours, 00 Minutes, 01.160000 Seconds.jpg\n"
     ]
    },
    {
     "name": "stderr",
     "output_type": "stream",
     "text": [
      "0: 384x640 1 capsized_boat, 1 drowning_person, 264.0ms\n",
      "Speed: 5.0ms preprocess, 264.0ms inference, 7.0ms postprocess per image at shape (1, 3, 384, 640)\n",
      "\n"
     ]
    },
    {
     "name": "stdout",
     "output_type": "stream",
     "text": [
      "Saved frame: C:\\Users\\HP\\runs\\detect\\predict3\\Migrant boat capsize off Libyan coast caught on camera.mp4\\Timestamp - 0 Hours, 00 Minutes, 01.200000 Seconds.jpg\n",
      "Saved frame: C:\\Users\\HP\\runs\\detect\\predict3\\Migrant boat capsize off Libyan coast caught on camera.mp4\\Timestamp - 0 Hours, 00 Minutes, 01.200000 Seconds.jpg\n"
     ]
    },
    {
     "name": "stderr",
     "output_type": "stream",
     "text": [
      "0: 384x640 1 drowning_person, 265.0ms\n",
      "Speed: 4.0ms preprocess, 265.0ms inference, 7.0ms postprocess per image at shape (1, 3, 384, 640)\n",
      "\n"
     ]
    },
    {
     "name": "stdout",
     "output_type": "stream",
     "text": [
      "Saved frame: C:\\Users\\HP\\runs\\detect\\predict3\\Migrant boat capsize off Libyan coast caught on camera.mp4\\Timestamp - 0 Hours, 00 Minutes, 01.240000 Seconds.jpg\n"
     ]
    },
    {
     "name": "stderr",
     "output_type": "stream",
     "text": [
      "0: 384x640 (no detections), 263.0ms\n",
      "Speed: 4.0ms preprocess, 263.0ms inference, 4.0ms postprocess per image at shape (1, 3, 384, 640)\n",
      "\n",
      "0: 384x640 (no detections), 262.0ms\n",
      "Speed: 4.0ms preprocess, 262.0ms inference, 2.0ms postprocess per image at shape (1, 3, 384, 640)\n",
      "\n",
      "0: 384x640 1 capsized_boat, 264.0ms\n",
      "Speed: 6.0ms preprocess, 264.0ms inference, 6.0ms postprocess per image at shape (1, 3, 384, 640)\n",
      "\n"
     ]
    },
    {
     "name": "stdout",
     "output_type": "stream",
     "text": [
      "Saved frame: C:\\Users\\HP\\runs\\detect\\predict3\\Migrant boat capsize off Libyan coast caught on camera.mp4\\Timestamp - 0 Hours, 00 Minutes, 01.360000 Seconds.jpg\n"
     ]
    },
    {
     "name": "stderr",
     "output_type": "stream",
     "text": [
      "0: 384x640 1 capsized_boat, 266.0ms\n",
      "Speed: 5.0ms preprocess, 266.0ms inference, 6.0ms postprocess per image at shape (1, 3, 384, 640)\n",
      "\n"
     ]
    },
    {
     "name": "stdout",
     "output_type": "stream",
     "text": [
      "Saved frame: C:\\Users\\HP\\runs\\detect\\predict3\\Migrant boat capsize off Libyan coast caught on camera.mp4\\Timestamp - 0 Hours, 00 Minutes, 01.400000 Seconds.jpg\n"
     ]
    },
    {
     "name": "stderr",
     "output_type": "stream",
     "text": [
      "0: 384x640 1 capsized_boat, 263.0ms\n",
      "Speed: 4.0ms preprocess, 263.0ms inference, 6.0ms postprocess per image at shape (1, 3, 384, 640)\n",
      "\n"
     ]
    },
    {
     "name": "stdout",
     "output_type": "stream",
     "text": [
      "Saved frame: C:\\Users\\HP\\runs\\detect\\predict3\\Migrant boat capsize off Libyan coast caught on camera.mp4\\Timestamp - 0 Hours, 00 Minutes, 01.440000 Seconds.jpg\n"
     ]
    },
    {
     "name": "stderr",
     "output_type": "stream",
     "text": [
      "0: 384x640 (no detections), 264.0ms\n",
      "Speed: 4.0ms preprocess, 264.0ms inference, 3.0ms postprocess per image at shape (1, 3, 384, 640)\n",
      "\n",
      "0: 384x640 (no detections), 264.0ms\n",
      "Speed: 4.0ms preprocess, 264.0ms inference, 13.0ms postprocess per image at shape (1, 3, 384, 640)\n",
      "\n",
      "0: 384x640 (no detections), 263.0ms\n",
      "Speed: 6.0ms preprocess, 263.0ms inference, 2.0ms postprocess per image at shape (1, 3, 384, 640)\n",
      "\n",
      "0: 384x640 (no detections), 263.3ms\n",
      "Speed: 4.0ms preprocess, 263.3ms inference, 2.0ms postprocess per image at shape (1, 3, 384, 640)\n",
      "\n",
      "0: 384x640 1 capsized_boat, 262.0ms\n",
      "Speed: 4.0ms preprocess, 262.0ms inference, 4.0ms postprocess per image at shape (1, 3, 384, 640)\n",
      "\n"
     ]
    },
    {
     "name": "stdout",
     "output_type": "stream",
     "text": [
      "Saved frame: C:\\Users\\HP\\runs\\detect\\predict3\\Migrant boat capsize off Libyan coast caught on camera.mp4\\Timestamp - 0 Hours, 00 Minutes, 01.640000 Seconds.jpg\n"
     ]
    },
    {
     "name": "stderr",
     "output_type": "stream",
     "text": [
      "0: 384x640 1 capsized_boat, 263.0ms\n",
      "Speed: 5.0ms preprocess, 263.0ms inference, 5.0ms postprocess per image at shape (1, 3, 384, 640)\n",
      "\n"
     ]
    },
    {
     "name": "stdout",
     "output_type": "stream",
     "text": [
      "Saved frame: C:\\Users\\HP\\runs\\detect\\predict3\\Migrant boat capsize off Libyan coast caught on camera.mp4\\Timestamp - 0 Hours, 00 Minutes, 01.680000 Seconds.jpg\n"
     ]
    },
    {
     "name": "stderr",
     "output_type": "stream",
     "text": [
      "0: 384x640 1 capsized_boat, 263.0ms\n",
      "Speed: 4.0ms preprocess, 263.0ms inference, 5.0ms postprocess per image at shape (1, 3, 384, 640)\n",
      "\n"
     ]
    },
    {
     "name": "stdout",
     "output_type": "stream",
     "text": [
      "Saved frame: C:\\Users\\HP\\runs\\detect\\predict3\\Migrant boat capsize off Libyan coast caught on camera.mp4\\Timestamp - 0 Hours, 00 Minutes, 01.720000 Seconds.jpg\n"
     ]
    },
    {
     "name": "stderr",
     "output_type": "stream",
     "text": [
      "0: 384x640 (no detections), 263.0ms\n",
      "Speed: 3.0ms preprocess, 263.0ms inference, 3.0ms postprocess per image at shape (1, 3, 384, 640)\n",
      "\n",
      "0: 384x640 (no detections), 263.0ms\n",
      "Speed: 4.0ms preprocess, 263.0ms inference, 19.0ms postprocess per image at shape (1, 3, 384, 640)\n",
      "\n",
      "0: 384x640 1 capsized_boat, 266.0ms\n",
      "Speed: 4.0ms preprocess, 266.0ms inference, 7.0ms postprocess per image at shape (1, 3, 384, 640)\n",
      "\n"
     ]
    },
    {
     "name": "stdout",
     "output_type": "stream",
     "text": [
      "Saved frame: C:\\Users\\HP\\runs\\detect\\predict3\\Migrant boat capsize off Libyan coast caught on camera.mp4\\Timestamp - 0 Hours, 00 Minutes, 01.840000 Seconds.jpg\n"
     ]
    },
    {
     "name": "stderr",
     "output_type": "stream",
     "text": [
      "0: 384x640 (no detections), 264.0ms\n",
      "Speed: 5.0ms preprocess, 264.0ms inference, 5.0ms postprocess per image at shape (1, 3, 384, 640)\n",
      "\n",
      "0: 384x640 1 capsized_boat, 264.0ms\n",
      "Speed: 4.0ms preprocess, 264.0ms inference, 7.0ms postprocess per image at shape (1, 3, 384, 640)\n",
      "\n"
     ]
    },
    {
     "name": "stdout",
     "output_type": "stream",
     "text": [
      "Saved frame: C:\\Users\\HP\\runs\\detect\\predict3\\Migrant boat capsize off Libyan coast caught on camera.mp4\\Timestamp - 0 Hours, 00 Minutes, 01.920000 Seconds.jpg\n"
     ]
    },
    {
     "name": "stderr",
     "output_type": "stream",
     "text": [
      "0: 384x640 1 capsized_boat, 266.0ms\n",
      "Speed: 8.0ms preprocess, 266.0ms inference, 6.0ms postprocess per image at shape (1, 3, 384, 640)\n",
      "\n"
     ]
    },
    {
     "name": "stdout",
     "output_type": "stream",
     "text": [
      "Saved frame: C:\\Users\\HP\\runs\\detect\\predict3\\Migrant boat capsize off Libyan coast caught on camera.mp4\\Timestamp - 0 Hours, 00 Minutes, 01.960000 Seconds.jpg\n"
     ]
    },
    {
     "name": "stderr",
     "output_type": "stream",
     "text": [
      "0: 384x640 1 capsized_boat, 272.0ms\n",
      "Speed: 4.0ms preprocess, 272.0ms inference, 5.0ms postprocess per image at shape (1, 3, 384, 640)\n",
      "\n"
     ]
    },
    {
     "name": "stdout",
     "output_type": "stream",
     "text": [
      "Saved frame: C:\\Users\\HP\\runs\\detect\\predict3\\Migrant boat capsize off Libyan coast caught on camera.mp4\\Timestamp - 0 Hours, 00 Minutes, 02 Seconds.jpg\n"
     ]
    },
    {
     "name": "stderr",
     "output_type": "stream",
     "text": [
      "0: 384x640 (no detections), 267.0ms\n",
      "Speed: 3.0ms preprocess, 267.0ms inference, 3.0ms postprocess per image at shape (1, 3, 384, 640)\n",
      "\n",
      "0: 384x640 (no detections), 270.0ms\n",
      "Speed: 3.0ms preprocess, 270.0ms inference, 6.0ms postprocess per image at shape (1, 3, 384, 640)\n",
      "\n",
      "0: 384x640 (no detections), 264.0ms\n",
      "Speed: 4.0ms preprocess, 264.0ms inference, 3.0ms postprocess per image at shape (1, 3, 384, 640)\n",
      "\n",
      "0: 384x640 1 capsized_boat, 263.0ms\n",
      "Speed: 4.0ms preprocess, 263.0ms inference, 5.0ms postprocess per image at shape (1, 3, 384, 640)\n",
      "\n"
     ]
    },
    {
     "name": "stdout",
     "output_type": "stream",
     "text": [
      "Saved frame: C:\\Users\\HP\\runs\\detect\\predict3\\Migrant boat capsize off Libyan coast caught on camera.mp4\\Timestamp - 0 Hours, 00 Minutes, 02.160000 Seconds.jpg\n"
     ]
    },
    {
     "name": "stderr",
     "output_type": "stream",
     "text": [
      "0: 384x640 1 capsized_boat, 266.0ms\n",
      "Speed: 4.0ms preprocess, 266.0ms inference, 6.0ms postprocess per image at shape (1, 3, 384, 640)\n",
      "\n"
     ]
    },
    {
     "name": "stdout",
     "output_type": "stream",
     "text": [
      "Saved frame: C:\\Users\\HP\\runs\\detect\\predict3\\Migrant boat capsize off Libyan coast caught on camera.mp4\\Timestamp - 0 Hours, 00 Minutes, 02.200000 Seconds.jpg\n"
     ]
    },
    {
     "name": "stderr",
     "output_type": "stream",
     "text": [
      "0: 384x640 1 capsized_boat, 265.0ms\n",
      "Speed: 5.0ms preprocess, 265.0ms inference, 7.0ms postprocess per image at shape (1, 3, 384, 640)\n",
      "\n"
     ]
    },
    {
     "name": "stdout",
     "output_type": "stream",
     "text": [
      "Saved frame: C:\\Users\\HP\\runs\\detect\\predict3\\Migrant boat capsize off Libyan coast caught on camera.mp4\\Timestamp - 0 Hours, 00 Minutes, 02.240000 Seconds.jpg\n"
     ]
    },
    {
     "name": "stderr",
     "output_type": "stream",
     "text": [
      "0: 384x640 1 capsized_boat, 265.0ms\n",
      "Speed: 4.0ms preprocess, 265.0ms inference, 5.0ms postprocess per image at shape (1, 3, 384, 640)\n",
      "\n"
     ]
    },
    {
     "name": "stdout",
     "output_type": "stream",
     "text": [
      "Saved frame: C:\\Users\\HP\\runs\\detect\\predict3\\Migrant boat capsize off Libyan coast caught on camera.mp4\\Timestamp - 0 Hours, 00 Minutes, 02.280000 Seconds.jpg\n"
     ]
    },
    {
     "name": "stderr",
     "output_type": "stream",
     "text": [
      "0: 384x640 1 capsized_boat, 264.0ms\n",
      "Speed: 4.0ms preprocess, 264.0ms inference, 6.0ms postprocess per image at shape (1, 3, 384, 640)\n",
      "\n"
     ]
    },
    {
     "name": "stdout",
     "output_type": "stream",
     "text": [
      "Saved frame: C:\\Users\\HP\\runs\\detect\\predict3\\Migrant boat capsize off Libyan coast caught on camera.mp4\\Timestamp - 0 Hours, 00 Minutes, 02.320000 Seconds.jpg\n"
     ]
    },
    {
     "name": "stderr",
     "output_type": "stream",
     "text": [
      "0: 384x640 1 capsized_boat, 264.0ms\n",
      "Speed: 4.0ms preprocess, 264.0ms inference, 7.0ms postprocess per image at shape (1, 3, 384, 640)\n",
      "\n"
     ]
    },
    {
     "name": "stdout",
     "output_type": "stream",
     "text": [
      "Saved frame: C:\\Users\\HP\\runs\\detect\\predict3\\Migrant boat capsize off Libyan coast caught on camera.mp4\\Timestamp - 0 Hours, 00 Minutes, 02.360000 Seconds.jpg\n"
     ]
    },
    {
     "name": "stderr",
     "output_type": "stream",
     "text": [
      "0: 384x640 1 capsized_boat, 264.0ms\n",
      "Speed: 4.0ms preprocess, 264.0ms inference, 7.0ms postprocess per image at shape (1, 3, 384, 640)\n",
      "\n"
     ]
    },
    {
     "name": "stdout",
     "output_type": "stream",
     "text": [
      "Saved frame: C:\\Users\\HP\\runs\\detect\\predict3\\Migrant boat capsize off Libyan coast caught on camera.mp4\\Timestamp - 0 Hours, 00 Minutes, 02.400000 Seconds.jpg\n"
     ]
    },
    {
     "name": "stderr",
     "output_type": "stream",
     "text": [
      "0: 384x640 1 capsized_boat, 292.0ms\n",
      "Speed: 4.0ms preprocess, 292.0ms inference, 18.0ms postprocess per image at shape (1, 3, 384, 640)\n",
      "\n"
     ]
    },
    {
     "name": "stdout",
     "output_type": "stream",
     "text": [
      "Saved frame: C:\\Users\\HP\\runs\\detect\\predict3\\Migrant boat capsize off Libyan coast caught on camera.mp4\\Timestamp - 0 Hours, 00 Minutes, 02.440000 Seconds.jpg\n"
     ]
    },
    {
     "name": "stderr",
     "output_type": "stream",
     "text": [
      "0: 384x640 (no detections), 265.0ms\n",
      "Speed: 4.0ms preprocess, 265.0ms inference, 6.0ms postprocess per image at shape (1, 3, 384, 640)\n",
      "\n",
      "0: 384x640 1 capsized_boat, 1 drowning_person, 262.0ms\n",
      "Speed: 5.0ms preprocess, 262.0ms inference, 5.0ms postprocess per image at shape (1, 3, 384, 640)\n",
      "\n"
     ]
    },
    {
     "name": "stdout",
     "output_type": "stream",
     "text": [
      "Saved frame: C:\\Users\\HP\\runs\\detect\\predict3\\Migrant boat capsize off Libyan coast caught on camera.mp4\\Timestamp - 0 Hours, 00 Minutes, 02.520000 Seconds.jpg\n",
      "Saved frame: C:\\Users\\HP\\runs\\detect\\predict3\\Migrant boat capsize off Libyan coast caught on camera.mp4\\Timestamp - 0 Hours, 00 Minutes, 02.520000 Seconds.jpg\n"
     ]
    },
    {
     "name": "stderr",
     "output_type": "stream",
     "text": [
      "0: 384x640 1 drowning_person, 264.0ms\n",
      "Speed: 6.0ms preprocess, 264.0ms inference, 5.0ms postprocess per image at shape (1, 3, 384, 640)\n",
      "\n"
     ]
    },
    {
     "name": "stdout",
     "output_type": "stream",
     "text": [
      "Saved frame: C:\\Users\\HP\\runs\\detect\\predict3\\Migrant boat capsize off Libyan coast caught on camera.mp4\\Timestamp - 0 Hours, 00 Minutes, 02.560000 Seconds.jpg\n"
     ]
    },
    {
     "name": "stderr",
     "output_type": "stream",
     "text": [
      "0: 384x640 1 capsized_boat, 295.0ms\n",
      "Speed: 3.0ms preprocess, 295.0ms inference, 7.0ms postprocess per image at shape (1, 3, 384, 640)\n",
      "\n"
     ]
    },
    {
     "name": "stdout",
     "output_type": "stream",
     "text": [
      "Saved frame: C:\\Users\\HP\\runs\\detect\\predict3\\Migrant boat capsize off Libyan coast caught on camera.mp4\\Timestamp - 0 Hours, 00 Minutes, 02.600000 Seconds.jpg\n"
     ]
    },
    {
     "name": "stderr",
     "output_type": "stream",
     "text": [
      "0: 384x640 1 drowning_person, 262.0ms\n",
      "Speed: 4.0ms preprocess, 262.0ms inference, 6.0ms postprocess per image at shape (1, 3, 384, 640)\n",
      "\n"
     ]
    },
    {
     "name": "stdout",
     "output_type": "stream",
     "text": [
      "Saved frame: C:\\Users\\HP\\runs\\detect\\predict3\\Migrant boat capsize off Libyan coast caught on camera.mp4\\Timestamp - 0 Hours, 00 Minutes, 02.640000 Seconds.jpg\n"
     ]
    },
    {
     "name": "stderr",
     "output_type": "stream",
     "text": [
      "0: 384x640 (no detections), 265.0ms\n",
      "Speed: 5.0ms preprocess, 265.0ms inference, 5.0ms postprocess per image at shape (1, 3, 384, 640)\n",
      "\n",
      "0: 384x640 (no detections), 263.0ms\n",
      "Speed: 4.0ms preprocess, 263.0ms inference, 6.0ms postprocess per image at shape (1, 3, 384, 640)\n",
      "\n",
      "0: 384x640 1 capsized_boat, 264.0ms\n",
      "Speed: 5.0ms preprocess, 264.0ms inference, 10.0ms postprocess per image at shape (1, 3, 384, 640)\n",
      "\n"
     ]
    },
    {
     "name": "stdout",
     "output_type": "stream",
     "text": [
      "Saved frame: C:\\Users\\HP\\runs\\detect\\predict3\\Migrant boat capsize off Libyan coast caught on camera.mp4\\Timestamp - 0 Hours, 00 Minutes, 02.760000 Seconds.jpg\n"
     ]
    },
    {
     "name": "stderr",
     "output_type": "stream",
     "text": [
      "0: 384x640 1 drowning_person, 264.0ms\n",
      "Speed: 26.0ms preprocess, 264.0ms inference, 6.0ms postprocess per image at shape (1, 3, 384, 640)\n",
      "\n"
     ]
    },
    {
     "name": "stdout",
     "output_type": "stream",
     "text": [
      "Saved frame: C:\\Users\\HP\\runs\\detect\\predict3\\Migrant boat capsize off Libyan coast caught on camera.mp4\\Timestamp - 0 Hours, 00 Minutes, 02.800000 Seconds.jpg\n"
     ]
    },
    {
     "name": "stderr",
     "output_type": "stream",
     "text": [
      "0: 384x640 1 drowning_person, 271.0ms\n",
      "Speed: 3.0ms preprocess, 271.0ms inference, 7.0ms postprocess per image at shape (1, 3, 384, 640)\n",
      "\n"
     ]
    },
    {
     "name": "stdout",
     "output_type": "stream",
     "text": [
      "Saved frame: C:\\Users\\HP\\runs\\detect\\predict3\\Migrant boat capsize off Libyan coast caught on camera.mp4\\Timestamp - 0 Hours, 00 Minutes, 02.840000 Seconds.jpg\n"
     ]
    },
    {
     "name": "stderr",
     "output_type": "stream",
     "text": [
      "0: 384x640 1 drowning_person, 266.0ms\n",
      "Speed: 5.0ms preprocess, 266.0ms inference, 6.0ms postprocess per image at shape (1, 3, 384, 640)\n",
      "\n"
     ]
    },
    {
     "name": "stdout",
     "output_type": "stream",
     "text": [
      "Saved frame: C:\\Users\\HP\\runs\\detect\\predict3\\Migrant boat capsize off Libyan coast caught on camera.mp4\\Timestamp - 0 Hours, 00 Minutes, 02.880000 Seconds.jpg\n"
     ]
    },
    {
     "name": "stderr",
     "output_type": "stream",
     "text": [
      "0: 384x640 1 drowning_person, 265.0ms\n",
      "Speed: 4.0ms preprocess, 265.0ms inference, 6.0ms postprocess per image at shape (1, 3, 384, 640)\n",
      "\n"
     ]
    },
    {
     "name": "stdout",
     "output_type": "stream",
     "text": [
      "Saved frame: C:\\Users\\HP\\runs\\detect\\predict3\\Migrant boat capsize off Libyan coast caught on camera.mp4\\Timestamp - 0 Hours, 00 Minutes, 02.920000 Seconds.jpg\n"
     ]
    },
    {
     "name": "stderr",
     "output_type": "stream",
     "text": [
      "0: 384x640 1 drowning_person, 264.0ms\n",
      "Speed: 4.0ms preprocess, 264.0ms inference, 11.0ms postprocess per image at shape (1, 3, 384, 640)\n",
      "\n"
     ]
    },
    {
     "name": "stdout",
     "output_type": "stream",
     "text": [
      "Saved frame: C:\\Users\\HP\\runs\\detect\\predict3\\Migrant boat capsize off Libyan coast caught on camera.mp4\\Timestamp - 0 Hours, 00 Minutes, 02.960000 Seconds.jpg\n"
     ]
    },
    {
     "name": "stderr",
     "output_type": "stream",
     "text": [
      "0: 384x640 1 drowning_person, 264.0ms\n",
      "Speed: 4.0ms preprocess, 264.0ms inference, 7.0ms postprocess per image at shape (1, 3, 384, 640)\n",
      "\n"
     ]
    },
    {
     "name": "stdout",
     "output_type": "stream",
     "text": [
      "Saved frame: C:\\Users\\HP\\runs\\detect\\predict3\\Migrant boat capsize off Libyan coast caught on camera.mp4\\Timestamp - 0 Hours, 00 Minutes, 03 Seconds.jpg\n"
     ]
    },
    {
     "name": "stderr",
     "output_type": "stream",
     "text": [
      "0: 384x640 (no detections), 266.0ms\n",
      "Speed: 3.0ms preprocess, 266.0ms inference, 4.0ms postprocess per image at shape (1, 3, 384, 640)\n",
      "\n",
      "0: 384x640 1 drowning_person, 263.0ms\n",
      "Speed: 4.0ms preprocess, 263.0ms inference, 5.0ms postprocess per image at shape (1, 3, 384, 640)\n",
      "\n"
     ]
    },
    {
     "name": "stdout",
     "output_type": "stream",
     "text": [
      "Saved frame: C:\\Users\\HP\\runs\\detect\\predict3\\Migrant boat capsize off Libyan coast caught on camera.mp4\\Timestamp - 0 Hours, 00 Minutes, 03.080000 Seconds.jpg\n"
     ]
    },
    {
     "name": "stderr",
     "output_type": "stream",
     "text": [
      "0: 384x640 (no detections), 265.0ms\n",
      "Speed: 4.0ms preprocess, 265.0ms inference, 7.0ms postprocess per image at shape (1, 3, 384, 640)\n",
      "\n",
      "0: 384x640 (no detections), 289.0ms\n",
      "Speed: 5.0ms preprocess, 289.0ms inference, 4.0ms postprocess per image at shape (1, 3, 384, 640)\n",
      "\n",
      "0: 384x640 (no detections), 265.0ms\n",
      "Speed: 4.0ms preprocess, 265.0ms inference, 4.0ms postprocess per image at shape (1, 3, 384, 640)\n",
      "\n",
      "0: 384x640 (no detections), 263.0ms\n",
      "Speed: 5.0ms preprocess, 263.0ms inference, 3.0ms postprocess per image at shape (1, 3, 384, 640)\n",
      "\n",
      "0: 384x640 (no detections), 264.0ms\n",
      "Speed: 4.0ms preprocess, 264.0ms inference, 3.0ms postprocess per image at shape (1, 3, 384, 640)\n",
      "\n",
      "0: 384x640 1 capsized_boat, 264.0ms\n",
      "Speed: 4.0ms preprocess, 264.0ms inference, 5.0ms postprocess per image at shape (1, 3, 384, 640)\n",
      "\n"
     ]
    },
    {
     "name": "stdout",
     "output_type": "stream",
     "text": [
      "Saved frame: C:\\Users\\HP\\runs\\detect\\predict3\\Migrant boat capsize off Libyan coast caught on camera.mp4\\Timestamp - 0 Hours, 00 Minutes, 03.320000 Seconds.jpg\n"
     ]
    },
    {
     "name": "stderr",
     "output_type": "stream",
     "text": [
      "0: 384x640 2 capsized_boats, 264.0ms\n",
      "Speed: 4.0ms preprocess, 264.0ms inference, 6.0ms postprocess per image at shape (1, 3, 384, 640)\n",
      "\n"
     ]
    },
    {
     "name": "stdout",
     "output_type": "stream",
     "text": [
      "Saved frame: C:\\Users\\HP\\runs\\detect\\predict3\\Migrant boat capsize off Libyan coast caught on camera.mp4\\Timestamp - 0 Hours, 00 Minutes, 03.360000 Seconds.jpg\n",
      "Saved frame: C:\\Users\\HP\\runs\\detect\\predict3\\Migrant boat capsize off Libyan coast caught on camera.mp4\\Timestamp - 0 Hours, 00 Minutes, 03.360000 Seconds.jpg\n"
     ]
    },
    {
     "name": "stderr",
     "output_type": "stream",
     "text": [
      "0: 384x640 2 capsized_boats, 264.0ms\n",
      "Speed: 4.0ms preprocess, 264.0ms inference, 6.0ms postprocess per image at shape (1, 3, 384, 640)\n",
      "\n"
     ]
    },
    {
     "name": "stdout",
     "output_type": "stream",
     "text": [
      "Saved frame: C:\\Users\\HP\\runs\\detect\\predict3\\Migrant boat capsize off Libyan coast caught on camera.mp4\\Timestamp - 0 Hours, 00 Minutes, 03.400000 Seconds.jpg\n",
      "Saved frame: C:\\Users\\HP\\runs\\detect\\predict3\\Migrant boat capsize off Libyan coast caught on camera.mp4\\Timestamp - 0 Hours, 00 Minutes, 03.400000 Seconds.jpg\n"
     ]
    },
    {
     "name": "stderr",
     "output_type": "stream",
     "text": [
      "0: 384x640 2 capsized_boats, 264.0ms\n",
      "Speed: 4.0ms preprocess, 264.0ms inference, 7.0ms postprocess per image at shape (1, 3, 384, 640)\n",
      "\n"
     ]
    },
    {
     "name": "stdout",
     "output_type": "stream",
     "text": [
      "Saved frame: C:\\Users\\HP\\runs\\detect\\predict3\\Migrant boat capsize off Libyan coast caught on camera.mp4\\Timestamp - 0 Hours, 00 Minutes, 03.440000 Seconds.jpg\n",
      "Saved frame: C:\\Users\\HP\\runs\\detect\\predict3\\Migrant boat capsize off Libyan coast caught on camera.mp4\\Timestamp - 0 Hours, 00 Minutes, 03.440000 Seconds.jpg\n"
     ]
    },
    {
     "name": "stderr",
     "output_type": "stream",
     "text": [
      "0: 384x640 2 capsized_boats, 264.0ms\n",
      "Speed: 5.0ms preprocess, 264.0ms inference, 7.0ms postprocess per image at shape (1, 3, 384, 640)\n",
      "\n"
     ]
    },
    {
     "name": "stdout",
     "output_type": "stream",
     "text": [
      "Saved frame: C:\\Users\\HP\\runs\\detect\\predict3\\Migrant boat capsize off Libyan coast caught on camera.mp4\\Timestamp - 0 Hours, 00 Minutes, 03.480000 Seconds.jpg\n",
      "Saved frame: C:\\Users\\HP\\runs\\detect\\predict3\\Migrant boat capsize off Libyan coast caught on camera.mp4\\Timestamp - 0 Hours, 00 Minutes, 03.480000 Seconds.jpg\n"
     ]
    },
    {
     "name": "stderr",
     "output_type": "stream",
     "text": [
      "0: 384x640 2 capsized_boats, 265.0ms\n",
      "Speed: 4.0ms preprocess, 265.0ms inference, 39.0ms postprocess per image at shape (1, 3, 384, 640)\n",
      "\n"
     ]
    },
    {
     "name": "stdout",
     "output_type": "stream",
     "text": [
      "Saved frame: C:\\Users\\HP\\runs\\detect\\predict3\\Migrant boat capsize off Libyan coast caught on camera.mp4\\Timestamp - 0 Hours, 00 Minutes, 03.520000 Seconds.jpg\n",
      "Saved frame: C:\\Users\\HP\\runs\\detect\\predict3\\Migrant boat capsize off Libyan coast caught on camera.mp4\\Timestamp - 0 Hours, 00 Minutes, 03.520000 Seconds.jpg\n"
     ]
    },
    {
     "name": "stderr",
     "output_type": "stream",
     "text": [
      "0: 384x640 1 capsized_boat, 265.0ms\n",
      "Speed: 4.0ms preprocess, 265.0ms inference, 11.0ms postprocess per image at shape (1, 3, 384, 640)\n",
      "\n"
     ]
    },
    {
     "name": "stdout",
     "output_type": "stream",
     "text": [
      "Saved frame: C:\\Users\\HP\\runs\\detect\\predict3\\Migrant boat capsize off Libyan coast caught on camera.mp4\\Timestamp - 0 Hours, 00 Minutes, 03.560000 Seconds.jpg\n"
     ]
    },
    {
     "name": "stderr",
     "output_type": "stream",
     "text": [
      "0: 384x640 1 capsized_boat, 317.0ms\n",
      "Speed: 12.0ms preprocess, 317.0ms inference, 33.0ms postprocess per image at shape (1, 3, 384, 640)\n",
      "\n"
     ]
    },
    {
     "name": "stdout",
     "output_type": "stream",
     "text": [
      "Saved frame: C:\\Users\\HP\\runs\\detect\\predict3\\Migrant boat capsize off Libyan coast caught on camera.mp4\\Timestamp - 0 Hours, 00 Minutes, 03.600000 Seconds.jpg\n"
     ]
    },
    {
     "name": "stderr",
     "output_type": "stream",
     "text": [
      "0: 384x640 1 capsized_boat, 263.0ms\n",
      "Speed: 4.0ms preprocess, 263.0ms inference, 8.0ms postprocess per image at shape (1, 3, 384, 640)\n",
      "\n"
     ]
    },
    {
     "name": "stdout",
     "output_type": "stream",
     "text": [
      "Saved frame: C:\\Users\\HP\\runs\\detect\\predict3\\Migrant boat capsize off Libyan coast caught on camera.mp4\\Timestamp - 0 Hours, 00 Minutes, 03.640000 Seconds.jpg\n"
     ]
    },
    {
     "name": "stderr",
     "output_type": "stream",
     "text": [
      "0: 384x640 1 capsized_boat, 285.0ms\n",
      "Speed: 9.0ms preprocess, 285.0ms inference, 60.0ms postprocess per image at shape (1, 3, 384, 640)\n",
      "\n"
     ]
    },
    {
     "name": "stdout",
     "output_type": "stream",
     "text": [
      "Saved frame: C:\\Users\\HP\\runs\\detect\\predict3\\Migrant boat capsize off Libyan coast caught on camera.mp4\\Timestamp - 0 Hours, 00 Minutes, 03.680000 Seconds.jpg\n"
     ]
    },
    {
     "name": "stderr",
     "output_type": "stream",
     "text": [
      "0: 384x640 1 capsized_boat, 290.0ms\n",
      "Speed: 6.0ms preprocess, 290.0ms inference, 7.0ms postprocess per image at shape (1, 3, 384, 640)\n",
      "\n"
     ]
    },
    {
     "name": "stdout",
     "output_type": "stream",
     "text": [
      "Saved frame: C:\\Users\\HP\\runs\\detect\\predict3\\Migrant boat capsize off Libyan coast caught on camera.mp4\\Timestamp - 0 Hours, 00 Minutes, 03.720000 Seconds.jpg\n"
     ]
    },
    {
     "name": "stderr",
     "output_type": "stream",
     "text": [
      "0: 384x640 1 capsized_boat, 264.0ms\n",
      "Speed: 4.0ms preprocess, 264.0ms inference, 6.0ms postprocess per image at shape (1, 3, 384, 640)\n",
      "\n"
     ]
    },
    {
     "name": "stdout",
     "output_type": "stream",
     "text": [
      "Saved frame: C:\\Users\\HP\\runs\\detect\\predict3\\Migrant boat capsize off Libyan coast caught on camera.mp4\\Timestamp - 0 Hours, 00 Minutes, 03.760000 Seconds.jpg\n"
     ]
    },
    {
     "name": "stderr",
     "output_type": "stream",
     "text": [
      "0: 384x640 (no detections), 264.0ms\n",
      "Speed: 4.0ms preprocess, 264.0ms inference, 4.0ms postprocess per image at shape (1, 3, 384, 640)\n",
      "\n",
      "0: 384x640 1 capsized_boat, 263.0ms\n",
      "Speed: 18.0ms preprocess, 263.0ms inference, 6.0ms postprocess per image at shape (1, 3, 384, 640)\n",
      "\n"
     ]
    },
    {
     "name": "stdout",
     "output_type": "stream",
     "text": [
      "Saved frame: C:\\Users\\HP\\runs\\detect\\predict3\\Migrant boat capsize off Libyan coast caught on camera.mp4\\Timestamp - 0 Hours, 00 Minutes, 03.840000 Seconds.jpg\n"
     ]
    },
    {
     "name": "stderr",
     "output_type": "stream",
     "text": [
      "0: 384x640 (no detections), 264.0ms\n",
      "Speed: 4.0ms preprocess, 264.0ms inference, 4.0ms postprocess per image at shape (1, 3, 384, 640)\n",
      "\n",
      "0: 384x640 (no detections), 264.0ms\n",
      "Speed: 4.0ms preprocess, 264.0ms inference, 2.0ms postprocess per image at shape (1, 3, 384, 640)\n",
      "\n",
      "0: 384x640 1 capsized_boat, 265.0ms\n",
      "Speed: 4.0ms preprocess, 265.0ms inference, 9.0ms postprocess per image at shape (1, 3, 384, 640)\n",
      "\n"
     ]
    },
    {
     "name": "stdout",
     "output_type": "stream",
     "text": [
      "Saved frame: C:\\Users\\HP\\runs\\detect\\predict3\\Migrant boat capsize off Libyan coast caught on camera.mp4\\Timestamp - 0 Hours, 00 Minutes, 03.960000 Seconds.jpg\n"
     ]
    },
    {
     "name": "stderr",
     "output_type": "stream",
     "text": [
      "0: 384x640 (no detections), 265.0ms\n",
      "Speed: 5.0ms preprocess, 265.0ms inference, 3.0ms postprocess per image at shape (1, 3, 384, 640)\n",
      "\n",
      "0: 384x640 (no detections), 271.0ms\n",
      "Speed: 4.0ms preprocess, 271.0ms inference, 3.0ms postprocess per image at shape (1, 3, 384, 640)\n",
      "\n",
      "0: 384x640 (no detections), 264.0ms\n",
      "Speed: 4.0ms preprocess, 264.0ms inference, 2.0ms postprocess per image at shape (1, 3, 384, 640)\n",
      "\n",
      "0: 384x640 1 capsized_boat, 265.0ms\n",
      "Speed: 4.0ms preprocess, 265.0ms inference, 4.0ms postprocess per image at shape (1, 3, 384, 640)\n",
      "\n"
     ]
    },
    {
     "name": "stdout",
     "output_type": "stream",
     "text": [
      "Saved frame: C:\\Users\\HP\\runs\\detect\\predict3\\Migrant boat capsize off Libyan coast caught on camera.mp4\\Timestamp - 0 Hours, 00 Minutes, 04.120000 Seconds.jpg\n"
     ]
    },
    {
     "name": "stderr",
     "output_type": "stream",
     "text": [
      "0: 384x640 1 capsized_boat, 268.0ms\n",
      "Speed: 4.0ms preprocess, 268.0ms inference, 7.0ms postprocess per image at shape (1, 3, 384, 640)\n",
      "\n"
     ]
    },
    {
     "name": "stdout",
     "output_type": "stream",
     "text": [
      "Saved frame: C:\\Users\\HP\\runs\\detect\\predict3\\Migrant boat capsize off Libyan coast caught on camera.mp4\\Timestamp - 0 Hours, 00 Minutes, 04.160000 Seconds.jpg\n"
     ]
    },
    {
     "name": "stderr",
     "output_type": "stream",
     "text": [
      "0: 384x640 1 capsized_boat, 268.0ms\n",
      "Speed: 4.0ms preprocess, 268.0ms inference, 5.0ms postprocess per image at shape (1, 3, 384, 640)\n",
      "\n"
     ]
    },
    {
     "name": "stdout",
     "output_type": "stream",
     "text": [
      "Saved frame: C:\\Users\\HP\\runs\\detect\\predict3\\Migrant boat capsize off Libyan coast caught on camera.mp4\\Timestamp - 0 Hours, 00 Minutes, 04.200000 Seconds.jpg\n"
     ]
    },
    {
     "name": "stderr",
     "output_type": "stream",
     "text": [
      "0: 384x640 1 capsized_boat, 266.0ms\n",
      "Speed: 4.0ms preprocess, 266.0ms inference, 5.0ms postprocess per image at shape (1, 3, 384, 640)\n",
      "\n"
     ]
    },
    {
     "name": "stdout",
     "output_type": "stream",
     "text": [
      "Saved frame: C:\\Users\\HP\\runs\\detect\\predict3\\Migrant boat capsize off Libyan coast caught on camera.mp4\\Timestamp - 0 Hours, 00 Minutes, 04.240000 Seconds.jpg\n"
     ]
    },
    {
     "name": "stderr",
     "output_type": "stream",
     "text": [
      "0: 384x640 (no detections), 267.0ms\n",
      "Speed: 3.0ms preprocess, 267.0ms inference, 4.0ms postprocess per image at shape (1, 3, 384, 640)\n",
      "\n",
      "0: 384x640 (no detections), 268.0ms\n",
      "Speed: 4.0ms preprocess, 268.0ms inference, 4.0ms postprocess per image at shape (1, 3, 384, 640)\n",
      "\n",
      "0: 384x640 (no detections), 266.0ms\n",
      "Speed: 3.0ms preprocess, 266.0ms inference, 2.0ms postprocess per image at shape (1, 3, 384, 640)\n",
      "\n",
      "0: 384x640 (no detections), 265.0ms\n",
      "Speed: 3.0ms preprocess, 265.0ms inference, 2.0ms postprocess per image at shape (1, 3, 384, 640)\n",
      "\n",
      "0: 384x640 (no detections), 268.0ms\n",
      "Speed: 4.0ms preprocess, 268.0ms inference, 6.0ms postprocess per image at shape (1, 3, 384, 640)\n",
      "\n",
      "0: 384x640 (no detections), 267.0ms\n",
      "Speed: 6.0ms preprocess, 267.0ms inference, 2.0ms postprocess per image at shape (1, 3, 384, 640)\n",
      "\n",
      "0: 384x640 (no detections), 267.0ms\n",
      "Speed: 4.0ms preprocess, 267.0ms inference, 2.0ms postprocess per image at shape (1, 3, 384, 640)\n",
      "\n",
      "0: 384x640 (no detections), 266.0ms\n",
      "Speed: 4.0ms preprocess, 266.0ms inference, 2.0ms postprocess per image at shape (1, 3, 384, 640)\n",
      "\n",
      "0: 384x640 (no detections), 267.0ms\n",
      "Speed: 4.0ms preprocess, 267.0ms inference, 2.0ms postprocess per image at shape (1, 3, 384, 640)\n",
      "\n",
      "0: 384x640 (no detections), 266.0ms\n",
      "Speed: 4.0ms preprocess, 266.0ms inference, 2.0ms postprocess per image at shape (1, 3, 384, 640)\n",
      "\n",
      "0: 384x640 (no detections), 268.0ms\n",
      "Speed: 4.0ms preprocess, 268.0ms inference, 2.0ms postprocess per image at shape (1, 3, 384, 640)\n",
      "\n",
      "0: 384x640 (no detections), 268.0ms\n",
      "Speed: 3.0ms preprocess, 268.0ms inference, 2.0ms postprocess per image at shape (1, 3, 384, 640)\n",
      "\n",
      "0: 384x640 (no detections), 267.0ms\n",
      "Speed: 4.0ms preprocess, 267.0ms inference, 2.0ms postprocess per image at shape (1, 3, 384, 640)\n",
      "\n",
      "0: 384x640 (no detections), 267.0ms\n",
      "Speed: 3.0ms preprocess, 267.0ms inference, 2.0ms postprocess per image at shape (1, 3, 384, 640)\n",
      "\n",
      "0: 384x640 (no detections), 267.0ms\n",
      "Speed: 3.0ms preprocess, 267.0ms inference, 3.0ms postprocess per image at shape (1, 3, 384, 640)\n",
      "\n",
      "0: 384x640 (no detections), 268.0ms\n",
      "Speed: 5.0ms preprocess, 268.0ms inference, 2.0ms postprocess per image at shape (1, 3, 384, 640)\n",
      "\n",
      "0: 384x640 (no detections), 268.0ms\n",
      "Speed: 4.0ms preprocess, 268.0ms inference, 2.0ms postprocess per image at shape (1, 3, 384, 640)\n",
      "\n",
      "0: 384x640 (no detections), 267.0ms\n",
      "Speed: 4.0ms preprocess, 267.0ms inference, 3.0ms postprocess per image at shape (1, 3, 384, 640)\n",
      "\n",
      "0: 384x640 (no detections), 268.0ms\n",
      "Speed: 4.0ms preprocess, 268.0ms inference, 2.0ms postprocess per image at shape (1, 3, 384, 640)\n",
      "\n",
      "0: 384x640 (no detections), 267.0ms\n",
      "Speed: 4.0ms preprocess, 267.0ms inference, 2.0ms postprocess per image at shape (1, 3, 384, 640)\n",
      "\n",
      "0: 384x640 (no detections), 268.0ms\n",
      "Speed: 4.0ms preprocess, 268.0ms inference, 3.0ms postprocess per image at shape (1, 3, 384, 640)\n",
      "\n",
      "0: 384x640 1 capsized_boat, 268.0ms\n",
      "Speed: 4.0ms preprocess, 268.0ms inference, 7.0ms postprocess per image at shape (1, 3, 384, 640)\n",
      "\n"
     ]
    },
    {
     "name": "stdout",
     "output_type": "stream",
     "text": [
      "Saved frame: C:\\Users\\HP\\runs\\detect\\predict3\\Migrant boat capsize off Libyan coast caught on camera.mp4\\Timestamp - 0 Hours, 00 Minutes, 05.120000 Seconds.jpg\n"
     ]
    },
    {
     "name": "stderr",
     "output_type": "stream",
     "text": [
      "0: 384x640 1 capsized_boat, 268.0ms\n",
      "Speed: 4.0ms preprocess, 268.0ms inference, 8.0ms postprocess per image at shape (1, 3, 384, 640)\n",
      "\n"
     ]
    },
    {
     "name": "stdout",
     "output_type": "stream",
     "text": [
      "Saved frame: C:\\Users\\HP\\runs\\detect\\predict3\\Migrant boat capsize off Libyan coast caught on camera.mp4\\Timestamp - 0 Hours, 00 Minutes, 05.160000 Seconds.jpg\n"
     ]
    },
    {
     "name": "stderr",
     "output_type": "stream",
     "text": [
      "0: 384x640 1 capsized_boat, 269.0ms\n",
      "Speed: 4.0ms preprocess, 269.0ms inference, 8.0ms postprocess per image at shape (1, 3, 384, 640)\n",
      "\n"
     ]
    },
    {
     "name": "stdout",
     "output_type": "stream",
     "text": [
      "Saved frame: C:\\Users\\HP\\runs\\detect\\predict3\\Migrant boat capsize off Libyan coast caught on camera.mp4\\Timestamp - 0 Hours, 00 Minutes, 05.200000 Seconds.jpg\n"
     ]
    },
    {
     "name": "stderr",
     "output_type": "stream",
     "text": [
      "0: 384x640 1 capsized_boat, 269.0ms\n",
      "Speed: 4.0ms preprocess, 269.0ms inference, 6.0ms postprocess per image at shape (1, 3, 384, 640)\n",
      "\n"
     ]
    },
    {
     "name": "stdout",
     "output_type": "stream",
     "text": [
      "Saved frame: C:\\Users\\HP\\runs\\detect\\predict3\\Migrant boat capsize off Libyan coast caught on camera.mp4\\Timestamp - 0 Hours, 00 Minutes, 05.240000 Seconds.jpg\n"
     ]
    },
    {
     "name": "stderr",
     "output_type": "stream",
     "text": [
      "0: 384x640 1 drowning_person, 269.0ms\n",
      "Speed: 3.0ms preprocess, 269.0ms inference, 6.0ms postprocess per image at shape (1, 3, 384, 640)\n",
      "\n"
     ]
    },
    {
     "name": "stdout",
     "output_type": "stream",
     "text": [
      "Saved frame: C:\\Users\\HP\\runs\\detect\\predict3\\Migrant boat capsize off Libyan coast caught on camera.mp4\\Timestamp - 0 Hours, 00 Minutes, 05.280000 Seconds.jpg\n"
     ]
    },
    {
     "name": "stderr",
     "output_type": "stream",
     "text": [
      "0: 384x640 (no detections), 268.0ms\n",
      "Speed: 3.0ms preprocess, 268.0ms inference, 35.0ms postprocess per image at shape (1, 3, 384, 640)\n",
      "\n",
      "0: 384x640 1 drowning_person, 269.0ms\n",
      "Speed: 4.0ms preprocess, 269.0ms inference, 5.0ms postprocess per image at shape (1, 3, 384, 640)\n",
      "\n"
     ]
    },
    {
     "name": "stdout",
     "output_type": "stream",
     "text": [
      "Saved frame: C:\\Users\\HP\\runs\\detect\\predict3\\Migrant boat capsize off Libyan coast caught on camera.mp4\\Timestamp - 0 Hours, 00 Minutes, 05.360000 Seconds.jpg\n"
     ]
    },
    {
     "name": "stderr",
     "output_type": "stream",
     "text": [
      "0: 384x640 (no detections), 304.0ms\n",
      "Speed: 7.0ms preprocess, 304.0ms inference, 17.0ms postprocess per image at shape (1, 3, 384, 640)\n",
      "\n",
      "0: 384x640 1 capsized_boat, 1 drowning_person, 270.0ms\n",
      "Speed: 3.0ms preprocess, 270.0ms inference, 6.0ms postprocess per image at shape (1, 3, 384, 640)\n",
      "\n"
     ]
    },
    {
     "name": "stdout",
     "output_type": "stream",
     "text": [
      "Saved frame: C:\\Users\\HP\\runs\\detect\\predict3\\Migrant boat capsize off Libyan coast caught on camera.mp4\\Timestamp - 0 Hours, 00 Minutes, 05.440000 Seconds.jpg\n",
      "Saved frame: C:\\Users\\HP\\runs\\detect\\predict3\\Migrant boat capsize off Libyan coast caught on camera.mp4\\Timestamp - 0 Hours, 00 Minutes, 05.440000 Seconds.jpg\n"
     ]
    },
    {
     "name": "stderr",
     "output_type": "stream",
     "text": [
      "0: 384x640 1 capsized_boat, 1 drowning_person, 270.0ms\n",
      "Speed: 4.0ms preprocess, 270.0ms inference, 6.0ms postprocess per image at shape (1, 3, 384, 640)\n",
      "\n"
     ]
    },
    {
     "name": "stdout",
     "output_type": "stream",
     "text": [
      "Saved frame: C:\\Users\\HP\\runs\\detect\\predict3\\Migrant boat capsize off Libyan coast caught on camera.mp4\\Timestamp - 0 Hours, 00 Minutes, 05.480000 Seconds.jpg\n",
      "Saved frame: C:\\Users\\HP\\runs\\detect\\predict3\\Migrant boat capsize off Libyan coast caught on camera.mp4\\Timestamp - 0 Hours, 00 Minutes, 05.480000 Seconds.jpg\n"
     ]
    },
    {
     "name": "stderr",
     "output_type": "stream",
     "text": [
      "0: 384x640 1 capsized_boat, 269.0ms\n",
      "Speed: 4.0ms preprocess, 269.0ms inference, 6.0ms postprocess per image at shape (1, 3, 384, 640)\n",
      "\n"
     ]
    },
    {
     "name": "stdout",
     "output_type": "stream",
     "text": [
      "Saved frame: C:\\Users\\HP\\runs\\detect\\predict3\\Migrant boat capsize off Libyan coast caught on camera.mp4\\Timestamp - 0 Hours, 00 Minutes, 05.520000 Seconds.jpg\n"
     ]
    },
    {
     "name": "stderr",
     "output_type": "stream",
     "text": [
      "0: 384x640 1 capsized_boat, 272.0ms\n",
      "Speed: 4.0ms preprocess, 272.0ms inference, 6.0ms postprocess per image at shape (1, 3, 384, 640)\n",
      "\n"
     ]
    },
    {
     "name": "stdout",
     "output_type": "stream",
     "text": [
      "Saved frame: C:\\Users\\HP\\runs\\detect\\predict3\\Migrant boat capsize off Libyan coast caught on camera.mp4\\Timestamp - 0 Hours, 00 Minutes, 05.560000 Seconds.jpg\n"
     ]
    },
    {
     "name": "stderr",
     "output_type": "stream",
     "text": [
      "0: 384x640 1 capsized_boat, 269.0ms\n",
      "Speed: 4.0ms preprocess, 269.0ms inference, 7.0ms postprocess per image at shape (1, 3, 384, 640)\n",
      "\n"
     ]
    },
    {
     "name": "stdout",
     "output_type": "stream",
     "text": [
      "Saved frame: C:\\Users\\HP\\runs\\detect\\predict3\\Migrant boat capsize off Libyan coast caught on camera.mp4\\Timestamp - 0 Hours, 00 Minutes, 05.600000 Seconds.jpg\n"
     ]
    },
    {
     "name": "stderr",
     "output_type": "stream",
     "text": [
      "0: 384x640 3 capsized_boats, 276.0ms\n",
      "Speed: 3.0ms preprocess, 276.0ms inference, 9.0ms postprocess per image at shape (1, 3, 384, 640)\n",
      "\n"
     ]
    },
    {
     "name": "stdout",
     "output_type": "stream",
     "text": [
      "Saved frame: C:\\Users\\HP\\runs\\detect\\predict3\\Migrant boat capsize off Libyan coast caught on camera.mp4\\Timestamp - 0 Hours, 00 Minutes, 05.640000 Seconds.jpg\n",
      "Saved frame: C:\\Users\\HP\\runs\\detect\\predict3\\Migrant boat capsize off Libyan coast caught on camera.mp4\\Timestamp - 0 Hours, 00 Minutes, 05.640000 Seconds.jpg\n",
      "Saved frame: C:\\Users\\HP\\runs\\detect\\predict3\\Migrant boat capsize off Libyan coast caught on camera.mp4\\Timestamp - 0 Hours, 00 Minutes, 05.640000 Seconds.jpg\n"
     ]
    },
    {
     "name": "stderr",
     "output_type": "stream",
     "text": [
      "0: 384x640 2 capsized_boats, 270.0ms\n",
      "Speed: 5.0ms preprocess, 270.0ms inference, 6.0ms postprocess per image at shape (1, 3, 384, 640)\n",
      "\n"
     ]
    },
    {
     "name": "stdout",
     "output_type": "stream",
     "text": [
      "Saved frame: C:\\Users\\HP\\runs\\detect\\predict3\\Migrant boat capsize off Libyan coast caught on camera.mp4\\Timestamp - 0 Hours, 00 Minutes, 05.680000 Seconds.jpg\n",
      "Saved frame: C:\\Users\\HP\\runs\\detect\\predict3\\Migrant boat capsize off Libyan coast caught on camera.mp4\\Timestamp - 0 Hours, 00 Minutes, 05.680000 Seconds.jpg\n"
     ]
    },
    {
     "name": "stderr",
     "output_type": "stream",
     "text": [
      "0: 384x640 1 capsized_boat, 268.0ms\n",
      "Speed: 4.0ms preprocess, 268.0ms inference, 7.0ms postprocess per image at shape (1, 3, 384, 640)\n",
      "\n"
     ]
    },
    {
     "name": "stdout",
     "output_type": "stream",
     "text": [
      "Saved frame: C:\\Users\\HP\\runs\\detect\\predict3\\Migrant boat capsize off Libyan coast caught on camera.mp4\\Timestamp - 0 Hours, 00 Minutes, 05.720000 Seconds.jpg\n"
     ]
    },
    {
     "name": "stderr",
     "output_type": "stream",
     "text": [
      "0: 384x640 1 capsized_boat, 269.0ms\n",
      "Speed: 4.0ms preprocess, 269.0ms inference, 6.0ms postprocess per image at shape (1, 3, 384, 640)\n",
      "\n"
     ]
    },
    {
     "name": "stdout",
     "output_type": "stream",
     "text": [
      "Saved frame: C:\\Users\\HP\\runs\\detect\\predict3\\Migrant boat capsize off Libyan coast caught on camera.mp4\\Timestamp - 0 Hours, 00 Minutes, 05.760000 Seconds.jpg\n"
     ]
    },
    {
     "name": "stderr",
     "output_type": "stream",
     "text": [
      "0: 384x640 1 capsized_boat, 269.0ms\n",
      "Speed: 4.0ms preprocess, 269.0ms inference, 5.0ms postprocess per image at shape (1, 3, 384, 640)\n",
      "\n"
     ]
    },
    {
     "name": "stdout",
     "output_type": "stream",
     "text": [
      "Saved frame: C:\\Users\\HP\\runs\\detect\\predict3\\Migrant boat capsize off Libyan coast caught on camera.mp4\\Timestamp - 0 Hours, 00 Minutes, 05.800000 Seconds.jpg\n"
     ]
    },
    {
     "name": "stderr",
     "output_type": "stream",
     "text": [
      "0: 384x640 1 capsized_boat, 269.0ms\n",
      "Speed: 5.0ms preprocess, 269.0ms inference, 5.0ms postprocess per image at shape (1, 3, 384, 640)\n",
      "\n"
     ]
    },
    {
     "name": "stdout",
     "output_type": "stream",
     "text": [
      "Saved frame: C:\\Users\\HP\\runs\\detect\\predict3\\Migrant boat capsize off Libyan coast caught on camera.mp4\\Timestamp - 0 Hours, 00 Minutes, 05.840000 Seconds.jpg\n"
     ]
    },
    {
     "name": "stderr",
     "output_type": "stream",
     "text": [
      "0: 384x640 1 capsized_boat, 270.0ms\n",
      "Speed: 5.0ms preprocess, 270.0ms inference, 6.0ms postprocess per image at shape (1, 3, 384, 640)\n",
      "\n"
     ]
    },
    {
     "name": "stdout",
     "output_type": "stream",
     "text": [
      "Saved frame: C:\\Users\\HP\\runs\\detect\\predict3\\Migrant boat capsize off Libyan coast caught on camera.mp4\\Timestamp - 0 Hours, 00 Minutes, 05.880000 Seconds.jpg\n"
     ]
    },
    {
     "name": "stderr",
     "output_type": "stream",
     "text": [
      "0: 384x640 1 capsized_boat, 270.0ms\n",
      "Speed: 4.0ms preprocess, 270.0ms inference, 14.0ms postprocess per image at shape (1, 3, 384, 640)\n",
      "\n"
     ]
    },
    {
     "name": "stdout",
     "output_type": "stream",
     "text": [
      "Saved frame: C:\\Users\\HP\\runs\\detect\\predict3\\Migrant boat capsize off Libyan coast caught on camera.mp4\\Timestamp - 0 Hours, 00 Minutes, 05.920000 Seconds.jpg\n"
     ]
    },
    {
     "name": "stderr",
     "output_type": "stream",
     "text": [
      "0: 384x640 1 capsized_boat, 269.0ms\n",
      "Speed: 5.0ms preprocess, 269.0ms inference, 10.0ms postprocess per image at shape (1, 3, 384, 640)\n",
      "\n"
     ]
    },
    {
     "name": "stdout",
     "output_type": "stream",
     "text": [
      "Saved frame: C:\\Users\\HP\\runs\\detect\\predict3\\Migrant boat capsize off Libyan coast caught on camera.mp4\\Timestamp - 0 Hours, 00 Minutes, 05.960000 Seconds.jpg\n"
     ]
    },
    {
     "name": "stderr",
     "output_type": "stream",
     "text": [
      "0: 384x640 1 capsized_boat, 270.0ms\n",
      "Speed: 5.0ms preprocess, 270.0ms inference, 7.0ms postprocess per image at shape (1, 3, 384, 640)\n",
      "\n"
     ]
    },
    {
     "name": "stdout",
     "output_type": "stream",
     "text": [
      "Saved frame: C:\\Users\\HP\\runs\\detect\\predict3\\Migrant boat capsize off Libyan coast caught on camera.mp4\\Timestamp - 0 Hours, 00 Minutes, 06 Seconds.jpg\n"
     ]
    },
    {
     "name": "stderr",
     "output_type": "stream",
     "text": [
      "0: 384x640 1 capsized_boat, 271.0ms\n",
      "Speed: 4.0ms preprocess, 271.0ms inference, 16.0ms postprocess per image at shape (1, 3, 384, 640)\n",
      "\n"
     ]
    },
    {
     "name": "stdout",
     "output_type": "stream",
     "text": [
      "Saved frame: C:\\Users\\HP\\runs\\detect\\predict3\\Migrant boat capsize off Libyan coast caught on camera.mp4\\Timestamp - 0 Hours, 00 Minutes, 06.040000 Seconds.jpg\n"
     ]
    },
    {
     "name": "stderr",
     "output_type": "stream",
     "text": [
      "0: 384x640 1 capsized_boat, 271.0ms\n",
      "Speed: 4.0ms preprocess, 271.0ms inference, 7.0ms postprocess per image at shape (1, 3, 384, 640)\n",
      "\n"
     ]
    },
    {
     "name": "stdout",
     "output_type": "stream",
     "text": [
      "Saved frame: C:\\Users\\HP\\runs\\detect\\predict3\\Migrant boat capsize off Libyan coast caught on camera.mp4\\Timestamp - 0 Hours, 00 Minutes, 06.080000 Seconds.jpg\n"
     ]
    },
    {
     "name": "stderr",
     "output_type": "stream",
     "text": [
      "0: 384x640 1 capsized_boat, 270.0ms\n",
      "Speed: 3.0ms preprocess, 270.0ms inference, 9.0ms postprocess per image at shape (1, 3, 384, 640)\n",
      "\n"
     ]
    },
    {
     "name": "stdout",
     "output_type": "stream",
     "text": [
      "Saved frame: C:\\Users\\HP\\runs\\detect\\predict3\\Migrant boat capsize off Libyan coast caught on camera.mp4\\Timestamp - 0 Hours, 00 Minutes, 06.120000 Seconds.jpg\n"
     ]
    },
    {
     "name": "stderr",
     "output_type": "stream",
     "text": [
      "0: 384x640 (no detections), 270.0ms\n",
      "Speed: 4.0ms preprocess, 270.0ms inference, 4.0ms postprocess per image at shape (1, 3, 384, 640)\n",
      "\n",
      "0: 384x640 1 capsized_boat, 288.0ms\n",
      "Speed: 4.0ms preprocess, 288.0ms inference, 5.0ms postprocess per image at shape (1, 3, 384, 640)\n",
      "\n"
     ]
    },
    {
     "name": "stdout",
     "output_type": "stream",
     "text": [
      "Saved frame: C:\\Users\\HP\\runs\\detect\\predict3\\Migrant boat capsize off Libyan coast caught on camera.mp4\\Timestamp - 0 Hours, 00 Minutes, 06.200000 Seconds.jpg\n"
     ]
    },
    {
     "name": "stderr",
     "output_type": "stream",
     "text": [
      "0: 384x640 1 capsized_boat, 269.0ms\n",
      "Speed: 5.0ms preprocess, 269.0ms inference, 8.0ms postprocess per image at shape (1, 3, 384, 640)\n",
      "\n"
     ]
    },
    {
     "name": "stdout",
     "output_type": "stream",
     "text": [
      "Saved frame: C:\\Users\\HP\\runs\\detect\\predict3\\Migrant boat capsize off Libyan coast caught on camera.mp4\\Timestamp - 0 Hours, 00 Minutes, 06.240000 Seconds.jpg\n"
     ]
    },
    {
     "name": "stderr",
     "output_type": "stream",
     "text": [
      "0: 384x640 1 capsized_boat, 270.0ms\n",
      "Speed: 4.0ms preprocess, 270.0ms inference, 8.0ms postprocess per image at shape (1, 3, 384, 640)\n",
      "\n"
     ]
    },
    {
     "name": "stdout",
     "output_type": "stream",
     "text": [
      "Saved frame: C:\\Users\\HP\\runs\\detect\\predict3\\Migrant boat capsize off Libyan coast caught on camera.mp4\\Timestamp - 0 Hours, 00 Minutes, 06.280000 Seconds.jpg\n"
     ]
    },
    {
     "name": "stderr",
     "output_type": "stream",
     "text": [
      "0: 384x640 1 capsized_boat, 269.0ms\n",
      "Speed: 4.0ms preprocess, 269.0ms inference, 6.0ms postprocess per image at shape (1, 3, 384, 640)\n",
      "\n"
     ]
    },
    {
     "name": "stdout",
     "output_type": "stream",
     "text": [
      "Saved frame: C:\\Users\\HP\\runs\\detect\\predict3\\Migrant boat capsize off Libyan coast caught on camera.mp4\\Timestamp - 0 Hours, 00 Minutes, 06.320000 Seconds.jpg\n"
     ]
    },
    {
     "name": "stderr",
     "output_type": "stream",
     "text": [
      "0: 384x640 1 capsized_boat, 269.0ms\n",
      "Speed: 4.0ms preprocess, 269.0ms inference, 6.0ms postprocess per image at shape (1, 3, 384, 640)\n",
      "\n"
     ]
    },
    {
     "name": "stdout",
     "output_type": "stream",
     "text": [
      "Saved frame: C:\\Users\\HP\\runs\\detect\\predict3\\Migrant boat capsize off Libyan coast caught on camera.mp4\\Timestamp - 0 Hours, 00 Minutes, 06.360000 Seconds.jpg\n"
     ]
    },
    {
     "name": "stderr",
     "output_type": "stream",
     "text": [
      "0: 384x640 1 capsized_boat, 273.0ms\n",
      "Speed: 3.0ms preprocess, 273.0ms inference, 82.0ms postprocess per image at shape (1, 3, 384, 640)\n",
      "\n"
     ]
    },
    {
     "name": "stdout",
     "output_type": "stream",
     "text": [
      "Saved frame: C:\\Users\\HP\\runs\\detect\\predict3\\Migrant boat capsize off Libyan coast caught on camera.mp4\\Timestamp - 0 Hours, 00 Minutes, 06.400000 Seconds.jpg\n"
     ]
    },
    {
     "name": "stderr",
     "output_type": "stream",
     "text": [
      "0: 384x640 1 capsized_boat, 315.0ms\n",
      "Speed: 7.0ms preprocess, 315.0ms inference, 7.0ms postprocess per image at shape (1, 3, 384, 640)\n",
      "\n"
     ]
    },
    {
     "name": "stdout",
     "output_type": "stream",
     "text": [
      "Saved frame: C:\\Users\\HP\\runs\\detect\\predict3\\Migrant boat capsize off Libyan coast caught on camera.mp4\\Timestamp - 0 Hours, 00 Minutes, 06.440000 Seconds.jpg\n"
     ]
    },
    {
     "name": "stderr",
     "output_type": "stream",
     "text": [
      "0: 384x640 1 capsized_boat, 274.0ms\n",
      "Speed: 5.0ms preprocess, 274.0ms inference, 9.0ms postprocess per image at shape (1, 3, 384, 640)\n",
      "\n"
     ]
    },
    {
     "name": "stdout",
     "output_type": "stream",
     "text": [
      "Saved frame: C:\\Users\\HP\\runs\\detect\\predict3\\Migrant boat capsize off Libyan coast caught on camera.mp4\\Timestamp - 0 Hours, 00 Minutes, 06.480000 Seconds.jpg\n"
     ]
    },
    {
     "name": "stderr",
     "output_type": "stream",
     "text": [
      "0: 384x640 1 capsized_boat, 269.0ms\n",
      "Speed: 4.0ms preprocess, 269.0ms inference, 14.0ms postprocess per image at shape (1, 3, 384, 640)\n",
      "\n"
     ]
    },
    {
     "name": "stdout",
     "output_type": "stream",
     "text": [
      "Saved frame: C:\\Users\\HP\\runs\\detect\\predict3\\Migrant boat capsize off Libyan coast caught on camera.mp4\\Timestamp - 0 Hours, 00 Minutes, 06.520000 Seconds.jpg\n"
     ]
    },
    {
     "name": "stderr",
     "output_type": "stream",
     "text": [
      "0: 384x640 1 capsized_boat, 270.0ms\n",
      "Speed: 4.0ms preprocess, 270.0ms inference, 5.0ms postprocess per image at shape (1, 3, 384, 640)\n",
      "\n"
     ]
    },
    {
     "name": "stdout",
     "output_type": "stream",
     "text": [
      "Saved frame: C:\\Users\\HP\\runs\\detect\\predict3\\Migrant boat capsize off Libyan coast caught on camera.mp4\\Timestamp - 0 Hours, 00 Minutes, 06.560000 Seconds.jpg\n"
     ]
    },
    {
     "name": "stderr",
     "output_type": "stream",
     "text": [
      "0: 384x640 1 capsized_boat, 269.0ms\n",
      "Speed: 4.0ms preprocess, 269.0ms inference, 10.0ms postprocess per image at shape (1, 3, 384, 640)\n",
      "\n"
     ]
    },
    {
     "name": "stdout",
     "output_type": "stream",
     "text": [
      "Saved frame: C:\\Users\\HP\\runs\\detect\\predict3\\Migrant boat capsize off Libyan coast caught on camera.mp4\\Timestamp - 0 Hours, 00 Minutes, 06.600000 Seconds.jpg\n"
     ]
    },
    {
     "name": "stderr",
     "output_type": "stream",
     "text": [
      "0: 384x640 1 capsized_boat, 270.0ms\n",
      "Speed: 4.0ms preprocess, 270.0ms inference, 16.0ms postprocess per image at shape (1, 3, 384, 640)\n",
      "\n"
     ]
    },
    {
     "name": "stdout",
     "output_type": "stream",
     "text": [
      "Saved frame: C:\\Users\\HP\\runs\\detect\\predict3\\Migrant boat capsize off Libyan coast caught on camera.mp4\\Timestamp - 0 Hours, 00 Minutes, 06.640000 Seconds.jpg\n"
     ]
    },
    {
     "name": "stderr",
     "output_type": "stream",
     "text": [
      "0: 384x640 1 capsized_boat, 283.0ms\n",
      "Speed: 5.0ms preprocess, 283.0ms inference, 8.0ms postprocess per image at shape (1, 3, 384, 640)\n",
      "\n"
     ]
    },
    {
     "name": "stdout",
     "output_type": "stream",
     "text": [
      "Saved frame: C:\\Users\\HP\\runs\\detect\\predict3\\Migrant boat capsize off Libyan coast caught on camera.mp4\\Timestamp - 0 Hours, 00 Minutes, 06.680000 Seconds.jpg\n"
     ]
    },
    {
     "name": "stderr",
     "output_type": "stream",
     "text": [
      "0: 384x640 1 capsized_boat, 270.0ms\n",
      "Speed: 26.0ms preprocess, 270.0ms inference, 7.0ms postprocess per image at shape (1, 3, 384, 640)\n",
      "\n"
     ]
    },
    {
     "name": "stdout",
     "output_type": "stream",
     "text": [
      "Saved frame: C:\\Users\\HP\\runs\\detect\\predict3\\Migrant boat capsize off Libyan coast caught on camera.mp4\\Timestamp - 0 Hours, 00 Minutes, 06.720000 Seconds.jpg\n"
     ]
    },
    {
     "name": "stderr",
     "output_type": "stream",
     "text": [
      "0: 384x640 1 capsized_boat, 270.0ms\n",
      "Speed: 4.0ms preprocess, 270.0ms inference, 18.0ms postprocess per image at shape (1, 3, 384, 640)\n",
      "\n"
     ]
    },
    {
     "name": "stdout",
     "output_type": "stream",
     "text": [
      "Saved frame: C:\\Users\\HP\\runs\\detect\\predict3\\Migrant boat capsize off Libyan coast caught on camera.mp4\\Timestamp - 0 Hours, 00 Minutes, 06.760000 Seconds.jpg\n"
     ]
    },
    {
     "name": "stderr",
     "output_type": "stream",
     "text": [
      "0: 384x640 1 capsized_boat, 269.0ms\n",
      "Speed: 4.0ms preprocess, 269.0ms inference, 6.0ms postprocess per image at shape (1, 3, 384, 640)\n",
      "\n"
     ]
    },
    {
     "name": "stdout",
     "output_type": "stream",
     "text": [
      "Saved frame: C:\\Users\\HP\\runs\\detect\\predict3\\Migrant boat capsize off Libyan coast caught on camera.mp4\\Timestamp - 0 Hours, 00 Minutes, 06.800000 Seconds.jpg\n"
     ]
    },
    {
     "name": "stderr",
     "output_type": "stream",
     "text": [
      "0: 384x640 1 capsized_boat, 269.0ms\n",
      "Speed: 5.0ms preprocess, 269.0ms inference, 10.0ms postprocess per image at shape (1, 3, 384, 640)\n",
      "\n"
     ]
    },
    {
     "name": "stdout",
     "output_type": "stream",
     "text": [
      "Saved frame: C:\\Users\\HP\\runs\\detect\\predict3\\Migrant boat capsize off Libyan coast caught on camera.mp4\\Timestamp - 0 Hours, 00 Minutes, 06.840000 Seconds.jpg\n"
     ]
    },
    {
     "name": "stderr",
     "output_type": "stream",
     "text": [
      "0: 384x640 1 capsized_boat, 270.0ms\n",
      "Speed: 3.0ms preprocess, 270.0ms inference, 6.0ms postprocess per image at shape (1, 3, 384, 640)\n",
      "\n"
     ]
    },
    {
     "name": "stdout",
     "output_type": "stream",
     "text": [
      "Saved frame: C:\\Users\\HP\\runs\\detect\\predict3\\Migrant boat capsize off Libyan coast caught on camera.mp4\\Timestamp - 0 Hours, 00 Minutes, 06.880000 Seconds.jpg\n"
     ]
    },
    {
     "name": "stderr",
     "output_type": "stream",
     "text": [
      "0: 384x640 1 capsized_boat, 270.0ms\n",
      "Speed: 4.0ms preprocess, 270.0ms inference, 8.0ms postprocess per image at shape (1, 3, 384, 640)\n",
      "\n"
     ]
    },
    {
     "name": "stdout",
     "output_type": "stream",
     "text": [
      "Saved frame: C:\\Users\\HP\\runs\\detect\\predict3\\Migrant boat capsize off Libyan coast caught on camera.mp4\\Timestamp - 0 Hours, 00 Minutes, 06.920000 Seconds.jpg\n"
     ]
    },
    {
     "name": "stderr",
     "output_type": "stream",
     "text": [
      "0: 384x640 1 capsized_boat, 269.0ms\n",
      "Speed: 4.0ms preprocess, 269.0ms inference, 6.0ms postprocess per image at shape (1, 3, 384, 640)\n",
      "\n"
     ]
    },
    {
     "name": "stdout",
     "output_type": "stream",
     "text": [
      "Saved frame: C:\\Users\\HP\\runs\\detect\\predict3\\Migrant boat capsize off Libyan coast caught on camera.mp4\\Timestamp - 0 Hours, 00 Minutes, 06.960000 Seconds.jpg\n"
     ]
    },
    {
     "name": "stderr",
     "output_type": "stream",
     "text": [
      "0: 384x640 1 capsized_boat, 270.0ms\n",
      "Speed: 4.0ms preprocess, 270.0ms inference, 8.0ms postprocess per image at shape (1, 3, 384, 640)\n",
      "\n"
     ]
    },
    {
     "name": "stdout",
     "output_type": "stream",
     "text": [
      "Saved frame: C:\\Users\\HP\\runs\\detect\\predict3\\Migrant boat capsize off Libyan coast caught on camera.mp4\\Timestamp - 0 Hours, 00 Minutes, 07 Seconds.jpg\n"
     ]
    },
    {
     "name": "stderr",
     "output_type": "stream",
     "text": [
      "0: 384x640 1 capsized_boat, 270.0ms\n",
      "Speed: 4.0ms preprocess, 270.0ms inference, 7.0ms postprocess per image at shape (1, 3, 384, 640)\n",
      "\n"
     ]
    },
    {
     "name": "stdout",
     "output_type": "stream",
     "text": [
      "Saved frame: C:\\Users\\HP\\runs\\detect\\predict3\\Migrant boat capsize off Libyan coast caught on camera.mp4\\Timestamp - 0 Hours, 00 Minutes, 07.040000 Seconds.jpg\n"
     ]
    },
    {
     "name": "stderr",
     "output_type": "stream",
     "text": [
      "0: 384x640 1 capsized_boat, 269.0ms\n",
      "Speed: 4.0ms preprocess, 269.0ms inference, 7.0ms postprocess per image at shape (1, 3, 384, 640)\n",
      "\n"
     ]
    },
    {
     "name": "stdout",
     "output_type": "stream",
     "text": [
      "Saved frame: C:\\Users\\HP\\runs\\detect\\predict3\\Migrant boat capsize off Libyan coast caught on camera.mp4\\Timestamp - 0 Hours, 00 Minutes, 07.080000 Seconds.jpg\n"
     ]
    },
    {
     "name": "stderr",
     "output_type": "stream",
     "text": [
      "0: 384x640 1 capsized_boat, 274.0ms\n",
      "Speed: 5.0ms preprocess, 274.0ms inference, 11.0ms postprocess per image at shape (1, 3, 384, 640)\n",
      "\n"
     ]
    },
    {
     "name": "stdout",
     "output_type": "stream",
     "text": [
      "Saved frame: C:\\Users\\HP\\runs\\detect\\predict3\\Migrant boat capsize off Libyan coast caught on camera.mp4\\Timestamp - 0 Hours, 00 Minutes, 07.120000 Seconds.jpg\n"
     ]
    },
    {
     "name": "stderr",
     "output_type": "stream",
     "text": [
      "0: 384x640 1 capsized_boat, 270.0ms\n",
      "Speed: 4.0ms preprocess, 270.0ms inference, 8.0ms postprocess per image at shape (1, 3, 384, 640)\n",
      "\n"
     ]
    },
    {
     "name": "stdout",
     "output_type": "stream",
     "text": [
      "Saved frame: C:\\Users\\HP\\runs\\detect\\predict3\\Migrant boat capsize off Libyan coast caught on camera.mp4\\Timestamp - 0 Hours, 00 Minutes, 07.160000 Seconds.jpg\n"
     ]
    },
    {
     "name": "stderr",
     "output_type": "stream",
     "text": [
      "0: 384x640 1 capsized_boat, 280.0ms\n",
      "Speed: 4.0ms preprocess, 280.0ms inference, 8.0ms postprocess per image at shape (1, 3, 384, 640)\n",
      "\n"
     ]
    },
    {
     "name": "stdout",
     "output_type": "stream",
     "text": [
      "Saved frame: C:\\Users\\HP\\runs\\detect\\predict3\\Migrant boat capsize off Libyan coast caught on camera.mp4\\Timestamp - 0 Hours, 00 Minutes, 07.200000 Seconds.jpg\n"
     ]
    },
    {
     "name": "stderr",
     "output_type": "stream",
     "text": [
      "0: 384x640 1 capsized_boat, 277.0ms\n",
      "Speed: 4.0ms preprocess, 277.0ms inference, 8.0ms postprocess per image at shape (1, 3, 384, 640)\n",
      "\n"
     ]
    },
    {
     "name": "stdout",
     "output_type": "stream",
     "text": [
      "Saved frame: C:\\Users\\HP\\runs\\detect\\predict3\\Migrant boat capsize off Libyan coast caught on camera.mp4\\Timestamp - 0 Hours, 00 Minutes, 07.240000 Seconds.jpg\n"
     ]
    },
    {
     "name": "stderr",
     "output_type": "stream",
     "text": [
      "0: 384x640 1 capsized_boat, 275.0ms\n",
      "Speed: 7.0ms preprocess, 275.0ms inference, 11.0ms postprocess per image at shape (1, 3, 384, 640)\n",
      "\n"
     ]
    },
    {
     "name": "stdout",
     "output_type": "stream",
     "text": [
      "Saved frame: C:\\Users\\HP\\runs\\detect\\predict3\\Migrant boat capsize off Libyan coast caught on camera.mp4\\Timestamp - 0 Hours, 00 Minutes, 07.280000 Seconds.jpg\n"
     ]
    },
    {
     "name": "stderr",
     "output_type": "stream",
     "text": [
      "0: 384x640 1 capsized_boat, 273.0ms\n",
      "Speed: 4.0ms preprocess, 273.0ms inference, 8.0ms postprocess per image at shape (1, 3, 384, 640)\n",
      "\n"
     ]
    },
    {
     "name": "stdout",
     "output_type": "stream",
     "text": [
      "Saved frame: C:\\Users\\HP\\runs\\detect\\predict3\\Migrant boat capsize off Libyan coast caught on camera.mp4\\Timestamp - 0 Hours, 00 Minutes, 07.320000 Seconds.jpg\n"
     ]
    },
    {
     "name": "stderr",
     "output_type": "stream",
     "text": [
      "0: 384x640 1 capsized_boat, 273.0ms\n",
      "Speed: 4.0ms preprocess, 273.0ms inference, 7.0ms postprocess per image at shape (1, 3, 384, 640)\n",
      "\n"
     ]
    },
    {
     "name": "stdout",
     "output_type": "stream",
     "text": [
      "Saved frame: C:\\Users\\HP\\runs\\detect\\predict3\\Migrant boat capsize off Libyan coast caught on camera.mp4\\Timestamp - 0 Hours, 00 Minutes, 07.360000 Seconds.jpg\n"
     ]
    },
    {
     "name": "stderr",
     "output_type": "stream",
     "text": [
      "0: 384x640 1 capsized_boat, 283.0ms\n",
      "Speed: 4.0ms preprocess, 283.0ms inference, 8.0ms postprocess per image at shape (1, 3, 384, 640)\n",
      "\n"
     ]
    },
    {
     "name": "stdout",
     "output_type": "stream",
     "text": [
      "Saved frame: C:\\Users\\HP\\runs\\detect\\predict3\\Migrant boat capsize off Libyan coast caught on camera.mp4\\Timestamp - 0 Hours, 00 Minutes, 07.400000 Seconds.jpg\n"
     ]
    },
    {
     "name": "stderr",
     "output_type": "stream",
     "text": [
      "0: 384x640 1 capsized_boat, 281.0ms\n",
      "Speed: 4.0ms preprocess, 281.0ms inference, 13.0ms postprocess per image at shape (1, 3, 384, 640)\n",
      "\n"
     ]
    },
    {
     "name": "stdout",
     "output_type": "stream",
     "text": [
      "Saved frame: C:\\Users\\HP\\runs\\detect\\predict3\\Migrant boat capsize off Libyan coast caught on camera.mp4\\Timestamp - 0 Hours, 00 Minutes, 07.440000 Seconds.jpg\n"
     ]
    },
    {
     "name": "stderr",
     "output_type": "stream",
     "text": [
      "0: 384x640 1 capsized_boat, 277.0ms\n",
      "Speed: 4.0ms preprocess, 277.0ms inference, 15.0ms postprocess per image at shape (1, 3, 384, 640)\n",
      "\n"
     ]
    },
    {
     "name": "stdout",
     "output_type": "stream",
     "text": [
      "Saved frame: C:\\Users\\HP\\runs\\detect\\predict3\\Migrant boat capsize off Libyan coast caught on camera.mp4\\Timestamp - 0 Hours, 00 Minutes, 07.480000 Seconds.jpg\n"
     ]
    },
    {
     "name": "stderr",
     "output_type": "stream",
     "text": [
      "0: 384x640 1 capsized_boat, 281.0ms\n",
      "Speed: 15.0ms preprocess, 281.0ms inference, 7.0ms postprocess per image at shape (1, 3, 384, 640)\n",
      "\n"
     ]
    },
    {
     "name": "stdout",
     "output_type": "stream",
     "text": [
      "Saved frame: C:\\Users\\HP\\runs\\detect\\predict3\\Migrant boat capsize off Libyan coast caught on camera.mp4\\Timestamp - 0 Hours, 00 Minutes, 07.520000 Seconds.jpg\n"
     ]
    },
    {
     "name": "stderr",
     "output_type": "stream",
     "text": [
      "0: 384x640 1 capsized_boat, 275.0ms\n",
      "Speed: 6.0ms preprocess, 275.0ms inference, 8.0ms postprocess per image at shape (1, 3, 384, 640)\n",
      "\n"
     ]
    },
    {
     "name": "stdout",
     "output_type": "stream",
     "text": [
      "Saved frame: C:\\Users\\HP\\runs\\detect\\predict3\\Migrant boat capsize off Libyan coast caught on camera.mp4\\Timestamp - 0 Hours, 00 Minutes, 07.560000 Seconds.jpg\n"
     ]
    },
    {
     "name": "stderr",
     "output_type": "stream",
     "text": [
      "0: 384x640 1 capsized_boat, 275.0ms\n",
      "Speed: 4.0ms preprocess, 275.0ms inference, 6.0ms postprocess per image at shape (1, 3, 384, 640)\n",
      "\n"
     ]
    },
    {
     "name": "stdout",
     "output_type": "stream",
     "text": [
      "Saved frame: C:\\Users\\HP\\runs\\detect\\predict3\\Migrant boat capsize off Libyan coast caught on camera.mp4\\Timestamp - 0 Hours, 00 Minutes, 07.600000 Seconds.jpg\n"
     ]
    },
    {
     "name": "stderr",
     "output_type": "stream",
     "text": [
      "0: 384x640 1 capsized_boat, 275.0ms\n",
      "Speed: 37.0ms preprocess, 275.0ms inference, 8.0ms postprocess per image at shape (1, 3, 384, 640)\n",
      "\n"
     ]
    },
    {
     "name": "stdout",
     "output_type": "stream",
     "text": [
      "Saved frame: C:\\Users\\HP\\runs\\detect\\predict3\\Migrant boat capsize off Libyan coast caught on camera.mp4\\Timestamp - 0 Hours, 00 Minutes, 07.640000 Seconds.jpg\n"
     ]
    },
    {
     "name": "stderr",
     "output_type": "stream",
     "text": [
      "0: 384x640 1 capsized_boat, 281.0ms\n",
      "Speed: 4.0ms preprocess, 281.0ms inference, 8.0ms postprocess per image at shape (1, 3, 384, 640)\n",
      "\n"
     ]
    },
    {
     "name": "stdout",
     "output_type": "stream",
     "text": [
      "Saved frame: C:\\Users\\HP\\runs\\detect\\predict3\\Migrant boat capsize off Libyan coast caught on camera.mp4\\Timestamp - 0 Hours, 00 Minutes, 07.680000 Seconds.jpg\n"
     ]
    },
    {
     "name": "stderr",
     "output_type": "stream",
     "text": [
      "0: 384x640 1 capsized_boat, 304.0ms\n",
      "Speed: 9.0ms preprocess, 304.0ms inference, 8.0ms postprocess per image at shape (1, 3, 384, 640)\n",
      "\n"
     ]
    },
    {
     "name": "stdout",
     "output_type": "stream",
     "text": [
      "Saved frame: C:\\Users\\HP\\runs\\detect\\predict3\\Migrant boat capsize off Libyan coast caught on camera.mp4\\Timestamp - 0 Hours, 00 Minutes, 07.720000 Seconds.jpg\n"
     ]
    },
    {
     "name": "stderr",
     "output_type": "stream",
     "text": [
      "0: 384x640 1 capsized_boat, 275.0ms\n",
      "Speed: 5.0ms preprocess, 275.0ms inference, 28.0ms postprocess per image at shape (1, 3, 384, 640)\n",
      "\n"
     ]
    },
    {
     "name": "stdout",
     "output_type": "stream",
     "text": [
      "Saved frame: C:\\Users\\HP\\runs\\detect\\predict3\\Migrant boat capsize off Libyan coast caught on camera.mp4\\Timestamp - 0 Hours, 00 Minutes, 07.760000 Seconds.jpg\n"
     ]
    },
    {
     "name": "stderr",
     "output_type": "stream",
     "text": [
      "0: 384x640 1 capsized_boat, 278.0ms\n",
      "Speed: 4.0ms preprocess, 278.0ms inference, 9.0ms postprocess per image at shape (1, 3, 384, 640)\n",
      "\n"
     ]
    },
    {
     "name": "stdout",
     "output_type": "stream",
     "text": [
      "Saved frame: C:\\Users\\HP\\runs\\detect\\predict3\\Migrant boat capsize off Libyan coast caught on camera.mp4\\Timestamp - 0 Hours, 00 Minutes, 07.800000 Seconds.jpg\n"
     ]
    },
    {
     "name": "stderr",
     "output_type": "stream",
     "text": [
      "0: 384x640 1 capsized_boat, 282.0ms\n",
      "Speed: 5.0ms preprocess, 282.0ms inference, 6.0ms postprocess per image at shape (1, 3, 384, 640)\n",
      "\n"
     ]
    },
    {
     "name": "stdout",
     "output_type": "stream",
     "text": [
      "Saved frame: C:\\Users\\HP\\runs\\detect\\predict3\\Migrant boat capsize off Libyan coast caught on camera.mp4\\Timestamp - 0 Hours, 00 Minutes, 07.840000 Seconds.jpg\n"
     ]
    },
    {
     "name": "stderr",
     "output_type": "stream",
     "text": [
      "0: 384x640 1 capsized_boat, 271.0ms\n",
      "Speed: 10.0ms preprocess, 271.0ms inference, 6.0ms postprocess per image at shape (1, 3, 384, 640)\n",
      "\n"
     ]
    },
    {
     "name": "stdout",
     "output_type": "stream",
     "text": [
      "Saved frame: C:\\Users\\HP\\runs\\detect\\predict3\\Migrant boat capsize off Libyan coast caught on camera.mp4\\Timestamp - 0 Hours, 00 Minutes, 07.880000 Seconds.jpg\n"
     ]
    },
    {
     "name": "stderr",
     "output_type": "stream",
     "text": [
      "0: 384x640 1 capsized_boat, 271.0ms\n",
      "Speed: 5.0ms preprocess, 271.0ms inference, 6.0ms postprocess per image at shape (1, 3, 384, 640)\n",
      "\n"
     ]
    },
    {
     "name": "stdout",
     "output_type": "stream",
     "text": [
      "Saved frame: C:\\Users\\HP\\runs\\detect\\predict3\\Migrant boat capsize off Libyan coast caught on camera.mp4\\Timestamp - 0 Hours, 00 Minutes, 07.920000 Seconds.jpg\n"
     ]
    },
    {
     "name": "stderr",
     "output_type": "stream",
     "text": [
      "0: 384x640 1 capsized_boat, 271.0ms\n",
      "Speed: 4.0ms preprocess, 271.0ms inference, 7.0ms postprocess per image at shape (1, 3, 384, 640)\n",
      "\n"
     ]
    },
    {
     "name": "stdout",
     "output_type": "stream",
     "text": [
      "Saved frame: C:\\Users\\HP\\runs\\detect\\predict3\\Migrant boat capsize off Libyan coast caught on camera.mp4\\Timestamp - 0 Hours, 00 Minutes, 07.960000 Seconds.jpg\n"
     ]
    },
    {
     "name": "stderr",
     "output_type": "stream",
     "text": [
      "0: 384x640 1 capsized_boat, 272.0ms\n",
      "Speed: 4.0ms preprocess, 272.0ms inference, 6.0ms postprocess per image at shape (1, 3, 384, 640)\n",
      "\n"
     ]
    },
    {
     "name": "stdout",
     "output_type": "stream",
     "text": [
      "Saved frame: C:\\Users\\HP\\runs\\detect\\predict3\\Migrant boat capsize off Libyan coast caught on camera.mp4\\Timestamp - 0 Hours, 00 Minutes, 08 Seconds.jpg\n"
     ]
    },
    {
     "name": "stderr",
     "output_type": "stream",
     "text": [
      "0: 384x640 1 capsized_boat, 284.0ms\n",
      "Speed: 4.0ms preprocess, 284.0ms inference, 9.0ms postprocess per image at shape (1, 3, 384, 640)\n",
      "\n"
     ]
    },
    {
     "name": "stdout",
     "output_type": "stream",
     "text": [
      "Saved frame: C:\\Users\\HP\\runs\\detect\\predict3\\Migrant boat capsize off Libyan coast caught on camera.mp4\\Timestamp - 0 Hours, 00 Minutes, 08.040000 Seconds.jpg\n"
     ]
    },
    {
     "name": "stderr",
     "output_type": "stream",
     "text": [
      "0: 384x640 1 capsized_boat, 300.0ms\n",
      "Speed: 4.0ms preprocess, 300.0ms inference, 9.0ms postprocess per image at shape (1, 3, 384, 640)\n",
      "\n"
     ]
    },
    {
     "name": "stdout",
     "output_type": "stream",
     "text": [
      "Saved frame: C:\\Users\\HP\\runs\\detect\\predict3\\Migrant boat capsize off Libyan coast caught on camera.mp4\\Timestamp - 0 Hours, 00 Minutes, 08.080000 Seconds.jpg\n"
     ]
    },
    {
     "name": "stderr",
     "output_type": "stream",
     "text": [
      "0: 384x640 1 capsized_boat, 273.0ms\n",
      "Speed: 3.0ms preprocess, 273.0ms inference, 6.0ms postprocess per image at shape (1, 3, 384, 640)\n",
      "\n"
     ]
    },
    {
     "name": "stdout",
     "output_type": "stream",
     "text": [
      "Saved frame: C:\\Users\\HP\\runs\\detect\\predict3\\Migrant boat capsize off Libyan coast caught on camera.mp4\\Timestamp - 0 Hours, 00 Minutes, 08.120000 Seconds.jpg\n"
     ]
    },
    {
     "name": "stderr",
     "output_type": "stream",
     "text": [
      "0: 384x640 1 capsized_boat, 273.0ms\n",
      "Speed: 3.0ms preprocess, 273.0ms inference, 7.0ms postprocess per image at shape (1, 3, 384, 640)\n",
      "\n"
     ]
    },
    {
     "name": "stdout",
     "output_type": "stream",
     "text": [
      "Saved frame: C:\\Users\\HP\\runs\\detect\\predict3\\Migrant boat capsize off Libyan coast caught on camera.mp4\\Timestamp - 0 Hours, 00 Minutes, 08.160000 Seconds.jpg\n"
     ]
    },
    {
     "name": "stderr",
     "output_type": "stream",
     "text": [
      "0: 384x640 1 capsized_boat, 274.0ms\n",
      "Speed: 4.0ms preprocess, 274.0ms inference, 7.0ms postprocess per image at shape (1, 3, 384, 640)\n",
      "\n"
     ]
    },
    {
     "name": "stdout",
     "output_type": "stream",
     "text": [
      "Saved frame: C:\\Users\\HP\\runs\\detect\\predict3\\Migrant boat capsize off Libyan coast caught on camera.mp4\\Timestamp - 0 Hours, 00 Minutes, 08.200000 Seconds.jpg\n"
     ]
    },
    {
     "name": "stderr",
     "output_type": "stream",
     "text": [
      "0: 384x640 1 capsized_boat, 273.0ms\n",
      "Speed: 5.0ms preprocess, 273.0ms inference, 6.0ms postprocess per image at shape (1, 3, 384, 640)\n",
      "\n"
     ]
    },
    {
     "name": "stdout",
     "output_type": "stream",
     "text": [
      "Saved frame: C:\\Users\\HP\\runs\\detect\\predict3\\Migrant boat capsize off Libyan coast caught on camera.mp4\\Timestamp - 0 Hours, 00 Minutes, 08.240000 Seconds.jpg\n"
     ]
    },
    {
     "name": "stderr",
     "output_type": "stream",
     "text": [
      "0: 384x640 1 capsized_boat, 271.0ms\n",
      "Speed: 4.0ms preprocess, 271.0ms inference, 8.0ms postprocess per image at shape (1, 3, 384, 640)\n",
      "\n"
     ]
    },
    {
     "name": "stdout",
     "output_type": "stream",
     "text": [
      "Saved frame: C:\\Users\\HP\\runs\\detect\\predict3\\Migrant boat capsize off Libyan coast caught on camera.mp4\\Timestamp - 0 Hours, 00 Minutes, 08.280000 Seconds.jpg\n"
     ]
    },
    {
     "name": "stderr",
     "output_type": "stream",
     "text": [
      "0: 384x640 1 capsized_boat, 287.0ms\n",
      "Speed: 4.0ms preprocess, 287.0ms inference, 7.0ms postprocess per image at shape (1, 3, 384, 640)\n",
      "\n"
     ]
    },
    {
     "name": "stdout",
     "output_type": "stream",
     "text": [
      "Saved frame: C:\\Users\\HP\\runs\\detect\\predict3\\Migrant boat capsize off Libyan coast caught on camera.mp4\\Timestamp - 0 Hours, 00 Minutes, 08.320000 Seconds.jpg\n"
     ]
    },
    {
     "name": "stderr",
     "output_type": "stream",
     "text": [
      "0: 384x640 1 capsized_boat, 277.0ms\n",
      "Speed: 5.0ms preprocess, 277.0ms inference, 7.0ms postprocess per image at shape (1, 3, 384, 640)\n",
      "\n"
     ]
    },
    {
     "name": "stdout",
     "output_type": "stream",
     "text": [
      "Saved frame: C:\\Users\\HP\\runs\\detect\\predict3\\Migrant boat capsize off Libyan coast caught on camera.mp4\\Timestamp - 0 Hours, 00 Minutes, 08.360000 Seconds.jpg\n"
     ]
    },
    {
     "name": "stderr",
     "output_type": "stream",
     "text": [
      "0: 384x640 1 capsized_boat, 273.0ms\n",
      "Speed: 4.0ms preprocess, 273.0ms inference, 6.0ms postprocess per image at shape (1, 3, 384, 640)\n",
      "\n"
     ]
    },
    {
     "name": "stdout",
     "output_type": "stream",
     "text": [
      "Saved frame: C:\\Users\\HP\\runs\\detect\\predict3\\Migrant boat capsize off Libyan coast caught on camera.mp4\\Timestamp - 0 Hours, 00 Minutes, 08.400000 Seconds.jpg\n"
     ]
    },
    {
     "name": "stderr",
     "output_type": "stream",
     "text": [
      "0: 384x640 1 capsized_boat, 273.0ms\n",
      "Speed: 4.0ms preprocess, 273.0ms inference, 9.0ms postprocess per image at shape (1, 3, 384, 640)\n",
      "\n"
     ]
    },
    {
     "name": "stdout",
     "output_type": "stream",
     "text": [
      "Saved frame: C:\\Users\\HP\\runs\\detect\\predict3\\Migrant boat capsize off Libyan coast caught on camera.mp4\\Timestamp - 0 Hours, 00 Minutes, 08.440000 Seconds.jpg\n"
     ]
    },
    {
     "name": "stderr",
     "output_type": "stream",
     "text": [
      "0: 384x640 1 capsized_boat, 273.0ms\n",
      "Speed: 3.0ms preprocess, 273.0ms inference, 7.0ms postprocess per image at shape (1, 3, 384, 640)\n",
      "\n"
     ]
    },
    {
     "name": "stdout",
     "output_type": "stream",
     "text": [
      "Saved frame: C:\\Users\\HP\\runs\\detect\\predict3\\Migrant boat capsize off Libyan coast caught on camera.mp4\\Timestamp - 0 Hours, 00 Minutes, 08.480000 Seconds.jpg\n"
     ]
    },
    {
     "name": "stderr",
     "output_type": "stream",
     "text": [
      "0: 384x640 1 capsized_boat, 274.0ms\n",
      "Speed: 6.0ms preprocess, 274.0ms inference, 8.0ms postprocess per image at shape (1, 3, 384, 640)\n",
      "\n"
     ]
    },
    {
     "name": "stdout",
     "output_type": "stream",
     "text": [
      "Saved frame: C:\\Users\\HP\\runs\\detect\\predict3\\Migrant boat capsize off Libyan coast caught on camera.mp4\\Timestamp - 0 Hours, 00 Minutes, 08.520000 Seconds.jpg\n"
     ]
    },
    {
     "name": "stderr",
     "output_type": "stream",
     "text": [
      "0: 384x640 1 capsized_boat, 272.0ms\n",
      "Speed: 5.0ms preprocess, 272.0ms inference, 6.0ms postprocess per image at shape (1, 3, 384, 640)\n",
      "\n"
     ]
    },
    {
     "name": "stdout",
     "output_type": "stream",
     "text": [
      "Saved frame: C:\\Users\\HP\\runs\\detect\\predict3\\Migrant boat capsize off Libyan coast caught on camera.mp4\\Timestamp - 0 Hours, 00 Minutes, 08.560000 Seconds.jpg\n"
     ]
    },
    {
     "name": "stderr",
     "output_type": "stream",
     "text": [
      "0: 384x640 1 capsized_boat, 277.0ms\n",
      "Speed: 5.0ms preprocess, 277.0ms inference, 7.0ms postprocess per image at shape (1, 3, 384, 640)\n",
      "\n"
     ]
    },
    {
     "name": "stdout",
     "output_type": "stream",
     "text": [
      "Saved frame: C:\\Users\\HP\\runs\\detect\\predict3\\Migrant boat capsize off Libyan coast caught on camera.mp4\\Timestamp - 0 Hours, 00 Minutes, 08.600000 Seconds.jpg\n"
     ]
    },
    {
     "name": "stderr",
     "output_type": "stream",
     "text": [
      "0: 384x640 1 capsized_boat, 272.0ms\n",
      "Speed: 4.0ms preprocess, 272.0ms inference, 5.0ms postprocess per image at shape (1, 3, 384, 640)\n",
      "\n"
     ]
    },
    {
     "name": "stdout",
     "output_type": "stream",
     "text": [
      "Saved frame: C:\\Users\\HP\\runs\\detect\\predict3\\Migrant boat capsize off Libyan coast caught on camera.mp4\\Timestamp - 0 Hours, 00 Minutes, 08.640000 Seconds.jpg\n"
     ]
    },
    {
     "name": "stderr",
     "output_type": "stream",
     "text": [
      "0: 384x640 1 capsized_boat, 273.0ms\n",
      "Speed: 4.0ms preprocess, 273.0ms inference, 7.0ms postprocess per image at shape (1, 3, 384, 640)\n",
      "\n"
     ]
    },
    {
     "name": "stdout",
     "output_type": "stream",
     "text": [
      "Saved frame: C:\\Users\\HP\\runs\\detect\\predict3\\Migrant boat capsize off Libyan coast caught on camera.mp4\\Timestamp - 0 Hours, 00 Minutes, 08.680000 Seconds.jpg\n"
     ]
    },
    {
     "name": "stderr",
     "output_type": "stream",
     "text": [
      "0: 384x640 1 capsized_boat, 273.0ms\n",
      "Speed: 25.0ms preprocess, 273.0ms inference, 6.0ms postprocess per image at shape (1, 3, 384, 640)\n",
      "\n"
     ]
    },
    {
     "name": "stdout",
     "output_type": "stream",
     "text": [
      "Saved frame: C:\\Users\\HP\\runs\\detect\\predict3\\Migrant boat capsize off Libyan coast caught on camera.mp4\\Timestamp - 0 Hours, 00 Minutes, 08.720000 Seconds.jpg\n"
     ]
    },
    {
     "name": "stderr",
     "output_type": "stream",
     "text": [
      "0: 384x640 1 capsized_boat, 319.0ms\n",
      "Speed: 3.0ms preprocess, 319.0ms inference, 6.0ms postprocess per image at shape (1, 3, 384, 640)\n",
      "\n"
     ]
    },
    {
     "name": "stdout",
     "output_type": "stream",
     "text": [
      "Saved frame: C:\\Users\\HP\\runs\\detect\\predict3\\Migrant boat capsize off Libyan coast caught on camera.mp4\\Timestamp - 0 Hours, 00 Minutes, 08.760000 Seconds.jpg\n"
     ]
    },
    {
     "name": "stderr",
     "output_type": "stream",
     "text": [
      "0: 384x640 1 capsized_boat, 282.0ms\n",
      "Speed: 4.0ms preprocess, 282.0ms inference, 6.0ms postprocess per image at shape (1, 3, 384, 640)\n",
      "\n"
     ]
    },
    {
     "name": "stdout",
     "output_type": "stream",
     "text": [
      "Saved frame: C:\\Users\\HP\\runs\\detect\\predict3\\Migrant boat capsize off Libyan coast caught on camera.mp4\\Timestamp - 0 Hours, 00 Minutes, 08.800000 Seconds.jpg\n"
     ]
    },
    {
     "name": "stderr",
     "output_type": "stream",
     "text": [
      "0: 384x640 1 capsized_boat, 297.0ms\n",
      "Speed: 3.0ms preprocess, 297.0ms inference, 13.0ms postprocess per image at shape (1, 3, 384, 640)\n",
      "\n"
     ]
    },
    {
     "name": "stdout",
     "output_type": "stream",
     "text": [
      "Saved frame: C:\\Users\\HP\\runs\\detect\\predict3\\Migrant boat capsize off Libyan coast caught on camera.mp4\\Timestamp - 0 Hours, 00 Minutes, 08.840000 Seconds.jpg\n"
     ]
    },
    {
     "name": "stderr",
     "output_type": "stream",
     "text": [
      "0: 384x640 1 capsized_boat, 281.0ms\n",
      "Speed: 43.0ms preprocess, 281.0ms inference, 10.0ms postprocess per image at shape (1, 3, 384, 640)\n",
      "\n"
     ]
    },
    {
     "name": "stdout",
     "output_type": "stream",
     "text": [
      "Saved frame: C:\\Users\\HP\\runs\\detect\\predict3\\Migrant boat capsize off Libyan coast caught on camera.mp4\\Timestamp - 0 Hours, 00 Minutes, 08.880000 Seconds.jpg\n"
     ]
    },
    {
     "name": "stderr",
     "output_type": "stream",
     "text": [
      "0: 384x640 1 capsized_boat, 278.0ms\n",
      "Speed: 4.0ms preprocess, 278.0ms inference, 8.0ms postprocess per image at shape (1, 3, 384, 640)\n",
      "\n"
     ]
    },
    {
     "name": "stdout",
     "output_type": "stream",
     "text": [
      "Saved frame: C:\\Users\\HP\\runs\\detect\\predict3\\Migrant boat capsize off Libyan coast caught on camera.mp4\\Timestamp - 0 Hours, 00 Minutes, 08.920000 Seconds.jpg\n"
     ]
    },
    {
     "name": "stderr",
     "output_type": "stream",
     "text": [
      "0: 384x640 1 capsized_boat, 273.0ms\n",
      "Speed: 4.0ms preprocess, 273.0ms inference, 9.0ms postprocess per image at shape (1, 3, 384, 640)\n",
      "\n"
     ]
    },
    {
     "name": "stdout",
     "output_type": "stream",
     "text": [
      "Saved frame: C:\\Users\\HP\\runs\\detect\\predict3\\Migrant boat capsize off Libyan coast caught on camera.mp4\\Timestamp - 0 Hours, 00 Minutes, 08.960000 Seconds.jpg\n"
     ]
    },
    {
     "name": "stderr",
     "output_type": "stream",
     "text": [
      "0: 384x640 1 capsized_boat, 274.0ms\n",
      "Speed: 4.0ms preprocess, 274.0ms inference, 4.0ms postprocess per image at shape (1, 3, 384, 640)\n",
      "\n"
     ]
    },
    {
     "name": "stdout",
     "output_type": "stream",
     "text": [
      "Saved frame: C:\\Users\\HP\\runs\\detect\\predict3\\Migrant boat capsize off Libyan coast caught on camera.mp4\\Timestamp - 0 Hours, 00 Minutes, 09 Seconds.jpg\n"
     ]
    },
    {
     "name": "stderr",
     "output_type": "stream",
     "text": [
      "0: 384x640 1 capsized_boat, 273.0ms\n",
      "Speed: 6.0ms preprocess, 273.0ms inference, 7.0ms postprocess per image at shape (1, 3, 384, 640)\n",
      "\n"
     ]
    },
    {
     "name": "stdout",
     "output_type": "stream",
     "text": [
      "Saved frame: C:\\Users\\HP\\runs\\detect\\predict3\\Migrant boat capsize off Libyan coast caught on camera.mp4\\Timestamp - 0 Hours, 00 Minutes, 09.040000 Seconds.jpg\n"
     ]
    },
    {
     "name": "stderr",
     "output_type": "stream",
     "text": [
      "0: 384x640 1 capsized_boat, 273.0ms\n",
      "Speed: 5.0ms preprocess, 273.0ms inference, 8.0ms postprocess per image at shape (1, 3, 384, 640)\n",
      "\n"
     ]
    },
    {
     "name": "stdout",
     "output_type": "stream",
     "text": [
      "Saved frame: C:\\Users\\HP\\runs\\detect\\predict3\\Migrant boat capsize off Libyan coast caught on camera.mp4\\Timestamp - 0 Hours, 00 Minutes, 09.080000 Seconds.jpg\n"
     ]
    },
    {
     "name": "stderr",
     "output_type": "stream",
     "text": [
      "0: 384x640 1 capsized_boat, 273.0ms\n",
      "Speed: 4.0ms preprocess, 273.0ms inference, 7.0ms postprocess per image at shape (1, 3, 384, 640)\n",
      "\n"
     ]
    },
    {
     "name": "stdout",
     "output_type": "stream",
     "text": [
      "Saved frame: C:\\Users\\HP\\runs\\detect\\predict3\\Migrant boat capsize off Libyan coast caught on camera.mp4\\Timestamp - 0 Hours, 00 Minutes, 09.120000 Seconds.jpg\n"
     ]
    },
    {
     "name": "stderr",
     "output_type": "stream",
     "text": [
      "0: 384x640 1 capsized_boat, 273.0ms\n",
      "Speed: 5.0ms preprocess, 273.0ms inference, 5.0ms postprocess per image at shape (1, 3, 384, 640)\n",
      "\n"
     ]
    },
    {
     "name": "stdout",
     "output_type": "stream",
     "text": [
      "Saved frame: C:\\Users\\HP\\runs\\detect\\predict3\\Migrant boat capsize off Libyan coast caught on camera.mp4\\Timestamp - 0 Hours, 00 Minutes, 09.160000 Seconds.jpg\n"
     ]
    },
    {
     "name": "stderr",
     "output_type": "stream",
     "text": [
      "0: 384x640 1 capsized_boat, 272.0ms\n",
      "Speed: 6.0ms preprocess, 272.0ms inference, 6.0ms postprocess per image at shape (1, 3, 384, 640)\n",
      "\n"
     ]
    },
    {
     "name": "stdout",
     "output_type": "stream",
     "text": [
      "Saved frame: C:\\Users\\HP\\runs\\detect\\predict3\\Migrant boat capsize off Libyan coast caught on camera.mp4\\Timestamp - 0 Hours, 00 Minutes, 09.200000 Seconds.jpg\n"
     ]
    },
    {
     "name": "stderr",
     "output_type": "stream",
     "text": [
      "0: 384x640 1 capsized_boat, 277.0ms\n",
      "Speed: 4.0ms preprocess, 277.0ms inference, 8.0ms postprocess per image at shape (1, 3, 384, 640)\n",
      "\n"
     ]
    },
    {
     "name": "stdout",
     "output_type": "stream",
     "text": [
      "Saved frame: C:\\Users\\HP\\runs\\detect\\predict3\\Migrant boat capsize off Libyan coast caught on camera.mp4\\Timestamp - 0 Hours, 00 Minutes, 09.240000 Seconds.jpg\n"
     ]
    },
    {
     "name": "stderr",
     "output_type": "stream",
     "text": [
      "0: 384x640 1 capsized_boat, 274.0ms\n",
      "Speed: 4.0ms preprocess, 274.0ms inference, 7.0ms postprocess per image at shape (1, 3, 384, 640)\n",
      "\n"
     ]
    },
    {
     "name": "stdout",
     "output_type": "stream",
     "text": [
      "Saved frame: C:\\Users\\HP\\runs\\detect\\predict3\\Migrant boat capsize off Libyan coast caught on camera.mp4\\Timestamp - 0 Hours, 00 Minutes, 09.280000 Seconds.jpg\n"
     ]
    },
    {
     "name": "stderr",
     "output_type": "stream",
     "text": [
      "0: 384x640 1 capsized_boat, 288.0ms\n",
      "Speed: 5.0ms preprocess, 288.0ms inference, 38.0ms postprocess per image at shape (1, 3, 384, 640)\n",
      "\n"
     ]
    },
    {
     "name": "stdout",
     "output_type": "stream",
     "text": [
      "Saved frame: C:\\Users\\HP\\runs\\detect\\predict3\\Migrant boat capsize off Libyan coast caught on camera.mp4\\Timestamp - 0 Hours, 00 Minutes, 09.320000 Seconds.jpg\n"
     ]
    },
    {
     "name": "stderr",
     "output_type": "stream",
     "text": [
      "0: 384x640 1 capsized_boat, 273.0ms\n",
      "Speed: 4.0ms preprocess, 273.0ms inference, 5.0ms postprocess per image at shape (1, 3, 384, 640)\n",
      "\n"
     ]
    },
    {
     "name": "stdout",
     "output_type": "stream",
     "text": [
      "Saved frame: C:\\Users\\HP\\runs\\detect\\predict3\\Migrant boat capsize off Libyan coast caught on camera.mp4\\Timestamp - 0 Hours, 00 Minutes, 09.360000 Seconds.jpg\n"
     ]
    },
    {
     "name": "stderr",
     "output_type": "stream",
     "text": [
      "0: 384x640 1 capsized_boat, 273.0ms\n",
      "Speed: 4.0ms preprocess, 273.0ms inference, 8.0ms postprocess per image at shape (1, 3, 384, 640)\n",
      "\n"
     ]
    },
    {
     "name": "stdout",
     "output_type": "stream",
     "text": [
      "Saved frame: C:\\Users\\HP\\runs\\detect\\predict3\\Migrant boat capsize off Libyan coast caught on camera.mp4\\Timestamp - 0 Hours, 00 Minutes, 09.400000 Seconds.jpg\n"
     ]
    },
    {
     "name": "stderr",
     "output_type": "stream",
     "text": [
      "0: 384x640 1 capsized_boat, 272.0ms\n",
      "Speed: 4.0ms preprocess, 272.0ms inference, 7.0ms postprocess per image at shape (1, 3, 384, 640)\n",
      "\n"
     ]
    },
    {
     "name": "stdout",
     "output_type": "stream",
     "text": [
      "Saved frame: C:\\Users\\HP\\runs\\detect\\predict3\\Migrant boat capsize off Libyan coast caught on camera.mp4\\Timestamp - 0 Hours, 00 Minutes, 09.440000 Seconds.jpg\n"
     ]
    },
    {
     "name": "stderr",
     "output_type": "stream",
     "text": [
      "0: 384x640 1 capsized_boat, 278.0ms\n",
      "Speed: 4.0ms preprocess, 278.0ms inference, 10.0ms postprocess per image at shape (1, 3, 384, 640)\n",
      "\n"
     ]
    },
    {
     "name": "stdout",
     "output_type": "stream",
     "text": [
      "Saved frame: C:\\Users\\HP\\runs\\detect\\predict3\\Migrant boat capsize off Libyan coast caught on camera.mp4\\Timestamp - 0 Hours, 00 Minutes, 09.480000 Seconds.jpg\n"
     ]
    },
    {
     "name": "stderr",
     "output_type": "stream",
     "text": [
      "0: 384x640 1 capsized_boat, 329.0ms\n",
      "Speed: 6.0ms preprocess, 329.0ms inference, 7.0ms postprocess per image at shape (1, 3, 384, 640)\n",
      "\n"
     ]
    },
    {
     "name": "stdout",
     "output_type": "stream",
     "text": [
      "Saved frame: C:\\Users\\HP\\runs\\detect\\predict3\\Migrant boat capsize off Libyan coast caught on camera.mp4\\Timestamp - 0 Hours, 00 Minutes, 09.520000 Seconds.jpg\n"
     ]
    },
    {
     "name": "stderr",
     "output_type": "stream",
     "text": [
      "0: 384x640 1 capsized_boat, 279.0ms\n",
      "Speed: 3.0ms preprocess, 279.0ms inference, 7.0ms postprocess per image at shape (1, 3, 384, 640)\n",
      "\n"
     ]
    },
    {
     "name": "stdout",
     "output_type": "stream",
     "text": [
      "Saved frame: C:\\Users\\HP\\runs\\detect\\predict3\\Migrant boat capsize off Libyan coast caught on camera.mp4\\Timestamp - 0 Hours, 00 Minutes, 09.560000 Seconds.jpg\n"
     ]
    },
    {
     "name": "stderr",
     "output_type": "stream",
     "text": [
      "0: 384x640 1 capsized_boat, 294.0ms\n",
      "Speed: 4.0ms preprocess, 294.0ms inference, 7.0ms postprocess per image at shape (1, 3, 384, 640)\n",
      "\n"
     ]
    },
    {
     "name": "stdout",
     "output_type": "stream",
     "text": [
      "Saved frame: C:\\Users\\HP\\runs\\detect\\predict3\\Migrant boat capsize off Libyan coast caught on camera.mp4\\Timestamp - 0 Hours, 00 Minutes, 09.600000 Seconds.jpg\n"
     ]
    },
    {
     "name": "stderr",
     "output_type": "stream",
     "text": [
      "0: 384x640 1 capsized_boat, 274.0ms\n",
      "Speed: 5.0ms preprocess, 274.0ms inference, 10.0ms postprocess per image at shape (1, 3, 384, 640)\n",
      "\n"
     ]
    },
    {
     "name": "stdout",
     "output_type": "stream",
     "text": [
      "Saved frame: C:\\Users\\HP\\runs\\detect\\predict3\\Migrant boat capsize off Libyan coast caught on camera.mp4\\Timestamp - 0 Hours, 00 Minutes, 09.640000 Seconds.jpg\n"
     ]
    },
    {
     "name": "stderr",
     "output_type": "stream",
     "text": [
      "0: 384x640 1 capsized_boat, 275.0ms\n",
      "Speed: 4.0ms preprocess, 275.0ms inference, 10.0ms postprocess per image at shape (1, 3, 384, 640)\n",
      "\n"
     ]
    },
    {
     "name": "stdout",
     "output_type": "stream",
     "text": [
      "Saved frame: C:\\Users\\HP\\runs\\detect\\predict3\\Migrant boat capsize off Libyan coast caught on camera.mp4\\Timestamp - 0 Hours, 00 Minutes, 09.680000 Seconds.jpg\n"
     ]
    },
    {
     "name": "stderr",
     "output_type": "stream",
     "text": [
      "0: 384x640 1 capsized_boat, 274.0ms\n",
      "Speed: 5.0ms preprocess, 274.0ms inference, 9.0ms postprocess per image at shape (1, 3, 384, 640)\n",
      "\n"
     ]
    },
    {
     "name": "stdout",
     "output_type": "stream",
     "text": [
      "Saved frame: C:\\Users\\HP\\runs\\detect\\predict3\\Migrant boat capsize off Libyan coast caught on camera.mp4\\Timestamp - 0 Hours, 00 Minutes, 09.720000 Seconds.jpg\n"
     ]
    },
    {
     "name": "stderr",
     "output_type": "stream",
     "text": [
      "0: 384x640 1 capsized_boat, 274.0ms\n",
      "Speed: 4.0ms preprocess, 274.0ms inference, 15.0ms postprocess per image at shape (1, 3, 384, 640)\n",
      "\n"
     ]
    },
    {
     "name": "stdout",
     "output_type": "stream",
     "text": [
      "Saved frame: C:\\Users\\HP\\runs\\detect\\predict3\\Migrant boat capsize off Libyan coast caught on camera.mp4\\Timestamp - 0 Hours, 00 Minutes, 09.760000 Seconds.jpg\n"
     ]
    },
    {
     "name": "stderr",
     "output_type": "stream",
     "text": [
      "0: 384x640 1 capsized_boat, 301.0ms\n",
      "Speed: 5.0ms preprocess, 301.0ms inference, 15.0ms postprocess per image at shape (1, 3, 384, 640)\n",
      "\n"
     ]
    },
    {
     "name": "stdout",
     "output_type": "stream",
     "text": [
      "Saved frame: C:\\Users\\HP\\runs\\detect\\predict3\\Migrant boat capsize off Libyan coast caught on camera.mp4\\Timestamp - 0 Hours, 00 Minutes, 09.800000 Seconds.jpg\n"
     ]
    },
    {
     "name": "stderr",
     "output_type": "stream",
     "text": [
      "0: 384x640 1 capsized_boat, 273.0ms\n",
      "Speed: 4.0ms preprocess, 273.0ms inference, 11.0ms postprocess per image at shape (1, 3, 384, 640)\n",
      "\n"
     ]
    },
    {
     "name": "stdout",
     "output_type": "stream",
     "text": [
      "Saved frame: C:\\Users\\HP\\runs\\detect\\predict3\\Migrant boat capsize off Libyan coast caught on camera.mp4\\Timestamp - 0 Hours, 00 Minutes, 09.840000 Seconds.jpg\n"
     ]
    },
    {
     "name": "stderr",
     "output_type": "stream",
     "text": [
      "0: 384x640 1 capsized_boat, 278.0ms\n",
      "Speed: 4.0ms preprocess, 278.0ms inference, 7.0ms postprocess per image at shape (1, 3, 384, 640)\n",
      "\n"
     ]
    },
    {
     "name": "stdout",
     "output_type": "stream",
     "text": [
      "Saved frame: C:\\Users\\HP\\runs\\detect\\predict3\\Migrant boat capsize off Libyan coast caught on camera.mp4\\Timestamp - 0 Hours, 00 Minutes, 09.880000 Seconds.jpg\n"
     ]
    },
    {
     "ename": "KeyboardInterrupt",
     "evalue": "",
     "output_type": "error",
     "traceback": [
      "\u001b[1;31m---------------------------------------------------------------------------\u001b[0m",
      "\u001b[1;31mKeyboardInterrupt\u001b[0m                         Traceback (most recent call last)",
      "Cell \u001b[1;32mIn[8], line 30\u001b[0m\n\u001b[0;32m     28\u001b[0m \u001b[38;5;66;03m# Only process the frame if it is within the downsampling rate\u001b[39;00m\n\u001b[0;32m     29\u001b[0m \u001b[38;5;28;01mif\u001b[39;00m frame_counter \u001b[38;5;241m%\u001b[39m downsampling_rate \u001b[38;5;241m==\u001b[39m \u001b[38;5;241m0\u001b[39m:\n\u001b[1;32m---> 30\u001b[0m     result \u001b[38;5;241m=\u001b[39m \u001b[43mmodel\u001b[49m\u001b[43m(\u001b[49m\u001b[43mcurr_frame\u001b[49m\u001b[43m)\u001b[49m\n\u001b[0;32m     31\u001b[0m     \u001b[38;5;28;01mfor\u001b[39;00m res \u001b[38;5;129;01min\u001b[39;00m result:\n\u001b[0;32m     32\u001b[0m         boxes \u001b[38;5;241m=\u001b[39m res\u001b[38;5;241m.\u001b[39mboxes\u001b[38;5;241m.\u001b[39mcpu()\u001b[38;5;241m.\u001b[39mnumpy()\n",
      "File \u001b[1;32m~\\AppData\\Local\\Programs\\Python\\Python310\\lib\\site-packages\\ultralytics\\yolo\\engine\\model.py:111\u001b[0m, in \u001b[0;36mYOLO.__call__\u001b[1;34m(self, source, stream, **kwargs)\u001b[0m\n\u001b[0;32m    109\u001b[0m \u001b[38;5;28;01mdef\u001b[39;00m \u001b[38;5;21m__call__\u001b[39m(\u001b[38;5;28mself\u001b[39m, source\u001b[38;5;241m=\u001b[39m\u001b[38;5;28;01mNone\u001b[39;00m, stream\u001b[38;5;241m=\u001b[39m\u001b[38;5;28;01mFalse\u001b[39;00m, \u001b[38;5;241m*\u001b[39m\u001b[38;5;241m*\u001b[39mkwargs):\n\u001b[0;32m    110\u001b[0m \u001b[38;5;250m    \u001b[39m\u001b[38;5;124;03m\"\"\"Calls the 'predict' function with given arguments to perform object detection.\"\"\"\u001b[39;00m\n\u001b[1;32m--> 111\u001b[0m     \u001b[38;5;28;01mreturn\u001b[39;00m \u001b[38;5;28mself\u001b[39m\u001b[38;5;241m.\u001b[39mpredict(source, stream, \u001b[38;5;241m*\u001b[39m\u001b[38;5;241m*\u001b[39mkwargs)\n",
      "File \u001b[1;32m~\\AppData\\Local\\Programs\\Python\\Python310\\lib\\site-packages\\torch\\utils\\_contextlib.py:115\u001b[0m, in \u001b[0;36mcontext_decorator.<locals>.decorate_context\u001b[1;34m(*args, **kwargs)\u001b[0m\n\u001b[0;32m    112\u001b[0m \u001b[38;5;129m@functools\u001b[39m\u001b[38;5;241m.\u001b[39mwraps(func)\n\u001b[0;32m    113\u001b[0m \u001b[38;5;28;01mdef\u001b[39;00m \u001b[38;5;21mdecorate_context\u001b[39m(\u001b[38;5;241m*\u001b[39margs, \u001b[38;5;241m*\u001b[39m\u001b[38;5;241m*\u001b[39mkwargs):\n\u001b[0;32m    114\u001b[0m     \u001b[38;5;28;01mwith\u001b[39;00m ctx_factory():\n\u001b[1;32m--> 115\u001b[0m         \u001b[38;5;28;01mreturn\u001b[39;00m func(\u001b[38;5;241m*\u001b[39margs, \u001b[38;5;241m*\u001b[39m\u001b[38;5;241m*\u001b[39mkwargs)\n",
      "File \u001b[1;32m~\\AppData\\Local\\Programs\\Python\\Python310\\lib\\site-packages\\ultralytics\\yolo\\engine\\model.py:255\u001b[0m, in \u001b[0;36mYOLO.predict\u001b[1;34m(self, source, stream, **kwargs)\u001b[0m\n\u001b[0;32m    253\u001b[0m     \u001b[38;5;28;01mif\u001b[39;00m \u001b[38;5;124m'\u001b[39m\u001b[38;5;124mproject\u001b[39m\u001b[38;5;124m'\u001b[39m \u001b[38;5;129;01min\u001b[39;00m overrides \u001b[38;5;129;01mor\u001b[39;00m \u001b[38;5;124m'\u001b[39m\u001b[38;5;124mname\u001b[39m\u001b[38;5;124m'\u001b[39m \u001b[38;5;129;01min\u001b[39;00m overrides:\n\u001b[0;32m    254\u001b[0m         \u001b[38;5;28mself\u001b[39m\u001b[38;5;241m.\u001b[39mpredictor\u001b[38;5;241m.\u001b[39msave_dir \u001b[38;5;241m=\u001b[39m \u001b[38;5;28mself\u001b[39m\u001b[38;5;241m.\u001b[39mpredictor\u001b[38;5;241m.\u001b[39mget_save_dir()\n\u001b[1;32m--> 255\u001b[0m \u001b[38;5;28;01mreturn\u001b[39;00m \u001b[38;5;28mself\u001b[39m\u001b[38;5;241m.\u001b[39mpredictor\u001b[38;5;241m.\u001b[39mpredict_cli(source\u001b[38;5;241m=\u001b[39msource) \u001b[38;5;28;01mif\u001b[39;00m is_cli \u001b[38;5;28;01melse\u001b[39;00m \u001b[38;5;28;43mself\u001b[39;49m\u001b[38;5;241;43m.\u001b[39;49m\u001b[43mpredictor\u001b[49m\u001b[43m(\u001b[49m\u001b[43msource\u001b[49m\u001b[38;5;241;43m=\u001b[39;49m\u001b[43msource\u001b[49m\u001b[43m,\u001b[49m\u001b[43m \u001b[49m\u001b[43mstream\u001b[49m\u001b[38;5;241;43m=\u001b[39;49m\u001b[43mstream\u001b[49m\u001b[43m)\u001b[49m\n",
      "File \u001b[1;32m~\\AppData\\Local\\Programs\\Python\\Python310\\lib\\site-packages\\ultralytics\\yolo\\engine\\predictor.py:190\u001b[0m, in \u001b[0;36mBasePredictor.__call__\u001b[1;34m(self, source, model, stream)\u001b[0m\n\u001b[0;32m    188\u001b[0m     \u001b[38;5;28;01mreturn\u001b[39;00m \u001b[38;5;28mself\u001b[39m\u001b[38;5;241m.\u001b[39mstream_inference(source, model)\n\u001b[0;32m    189\u001b[0m \u001b[38;5;28;01melse\u001b[39;00m:\n\u001b[1;32m--> 190\u001b[0m     \u001b[38;5;28;01mreturn\u001b[39;00m \u001b[38;5;28;43mlist\u001b[39;49m\u001b[43m(\u001b[49m\u001b[38;5;28;43mself\u001b[39;49m\u001b[38;5;241;43m.\u001b[39;49m\u001b[43mstream_inference\u001b[49m\u001b[43m(\u001b[49m\u001b[43msource\u001b[49m\u001b[43m,\u001b[49m\u001b[43m \u001b[49m\u001b[43mmodel\u001b[49m\u001b[43m)\u001b[49m\u001b[43m)\u001b[49m\n",
      "File \u001b[1;32m~\\AppData\\Local\\Programs\\Python\\Python310\\lib\\site-packages\\torch\\utils\\_contextlib.py:35\u001b[0m, in \u001b[0;36m_wrap_generator.<locals>.generator_context\u001b[1;34m(*args, **kwargs)\u001b[0m\n\u001b[0;32m     32\u001b[0m \u001b[38;5;28;01mtry\u001b[39;00m:\n\u001b[0;32m     33\u001b[0m     \u001b[38;5;66;03m# Issuing `None` to a generator fires it up\u001b[39;00m\n\u001b[0;32m     34\u001b[0m     \u001b[38;5;28;01mwith\u001b[39;00m ctx_factory():\n\u001b[1;32m---> 35\u001b[0m         response \u001b[38;5;241m=\u001b[39m \u001b[43mgen\u001b[49m\u001b[38;5;241;43m.\u001b[39;49m\u001b[43msend\u001b[49m\u001b[43m(\u001b[49m\u001b[38;5;28;43;01mNone\u001b[39;49;00m\u001b[43m)\u001b[49m\n\u001b[0;32m     37\u001b[0m     \u001b[38;5;28;01mwhile\u001b[39;00m \u001b[38;5;28;01mTrue\u001b[39;00m:\n\u001b[0;32m     38\u001b[0m         \u001b[38;5;28;01mtry\u001b[39;00m:\n\u001b[0;32m     39\u001b[0m             \u001b[38;5;66;03m# Forward the response to our caller and get its next request\u001b[39;00m\n",
      "File \u001b[1;32m~\\AppData\\Local\\Programs\\Python\\Python310\\lib\\site-packages\\ultralytics\\yolo\\engine\\predictor.py:247\u001b[0m, in \u001b[0;36mBasePredictor.stream_inference\u001b[1;34m(self, source, model)\u001b[0m\n\u001b[0;32m    244\u001b[0m     im \u001b[38;5;241m=\u001b[39m \u001b[38;5;28mself\u001b[39m\u001b[38;5;241m.\u001b[39mpreprocess(im0s)\n\u001b[0;32m    246\u001b[0m \u001b[38;5;66;03m# Inference\u001b[39;00m\n\u001b[1;32m--> 247\u001b[0m \u001b[38;5;28;01mwith\u001b[39;00m profilers[\u001b[38;5;241m1\u001b[39m]:\n\u001b[0;32m    248\u001b[0m     preds \u001b[38;5;241m=\u001b[39m \u001b[38;5;28mself\u001b[39m\u001b[38;5;241m.\u001b[39mmodel(im, augment\u001b[38;5;241m=\u001b[39m\u001b[38;5;28mself\u001b[39m\u001b[38;5;241m.\u001b[39margs\u001b[38;5;241m.\u001b[39maugment, visualize\u001b[38;5;241m=\u001b[39mvisualize)\n\u001b[0;32m    250\u001b[0m \u001b[38;5;66;03m# Postprocess\u001b[39;00m\n",
      "File \u001b[1;32m~\\AppData\\Local\\Programs\\Python\\Python310\\lib\\site-packages\\ultralytics\\yolo\\utils\\ops.py:46\u001b[0m, in \u001b[0;36mProfile.__exit__\u001b[1;34m(self, type, value, traceback)\u001b[0m\n\u001b[0;32m     42\u001b[0m \u001b[38;5;28;01mdef\u001b[39;00m \u001b[38;5;21m__exit__\u001b[39m(\u001b[38;5;28mself\u001b[39m, \u001b[38;5;28mtype\u001b[39m, value, traceback):\n\u001b[0;32m     43\u001b[0m \u001b[38;5;250m    \u001b[39m\u001b[38;5;124;03m\"\"\"\u001b[39;00m\n\u001b[0;32m     44\u001b[0m \u001b[38;5;124;03m    Stop timing.\u001b[39;00m\n\u001b[0;32m     45\u001b[0m \u001b[38;5;124;03m    \"\"\"\u001b[39;00m\n\u001b[1;32m---> 46\u001b[0m     \u001b[38;5;28mself\u001b[39m\u001b[38;5;241m.\u001b[39mdt \u001b[38;5;241m=\u001b[39m \u001b[38;5;28;43mself\u001b[39;49m\u001b[38;5;241;43m.\u001b[39;49m\u001b[43mtime\u001b[49m\u001b[43m(\u001b[49m\u001b[43m)\u001b[49m \u001b[38;5;241m-\u001b[39m \u001b[38;5;28mself\u001b[39m\u001b[38;5;241m.\u001b[39mstart  \u001b[38;5;66;03m# delta-time\u001b[39;00m\n\u001b[0;32m     47\u001b[0m     \u001b[38;5;28mself\u001b[39m\u001b[38;5;241m.\u001b[39mt \u001b[38;5;241m+\u001b[39m\u001b[38;5;241m=\u001b[39m \u001b[38;5;28mself\u001b[39m\u001b[38;5;241m.\u001b[39mdt\n",
      "File \u001b[1;32m~\\AppData\\Local\\Programs\\Python\\Python310\\lib\\site-packages\\ultralytics\\yolo\\utils\\ops.py:54\u001b[0m, in \u001b[0;36mProfile.time\u001b[1;34m(self)\u001b[0m\n\u001b[0;32m     50\u001b[0m \u001b[38;5;250m\u001b[39m\u001b[38;5;124;03m\"\"\"\u001b[39;00m\n\u001b[0;32m     51\u001b[0m \u001b[38;5;124;03mGet current time.\u001b[39;00m\n\u001b[0;32m     52\u001b[0m \u001b[38;5;124;03m\"\"\"\u001b[39;00m\n\u001b[0;32m     53\u001b[0m \u001b[38;5;28;01mif\u001b[39;00m \u001b[38;5;28mself\u001b[39m\u001b[38;5;241m.\u001b[39mcuda:\n\u001b[1;32m---> 54\u001b[0m     \u001b[43mtorch\u001b[49m\u001b[38;5;241;43m.\u001b[39;49m\u001b[43mcuda\u001b[49m\u001b[38;5;241;43m.\u001b[39;49m\u001b[43msynchronize\u001b[49m\u001b[43m(\u001b[49m\u001b[43m)\u001b[49m\n\u001b[0;32m     55\u001b[0m \u001b[38;5;28;01mreturn\u001b[39;00m time\u001b[38;5;241m.\u001b[39mtime()\n",
      "File \u001b[1;32m~\\AppData\\Local\\Programs\\Python\\Python310\\lib\\site-packages\\torch\\cuda\\__init__.py:687\u001b[0m, in \u001b[0;36msynchronize\u001b[1;34m(device)\u001b[0m\n\u001b[0;32m    679\u001b[0m \u001b[38;5;250m\u001b[39m\u001b[38;5;124mr\u001b[39m\u001b[38;5;124;03m\"\"\"Waits for all kernels in all streams on a CUDA device to complete.\u001b[39;00m\n\u001b[0;32m    680\u001b[0m \n\u001b[0;32m    681\u001b[0m \u001b[38;5;124;03mArgs:\u001b[39;00m\n\u001b[1;32m   (...)\u001b[0m\n\u001b[0;32m    684\u001b[0m \u001b[38;5;124;03m        if :attr:`device` is ``None`` (default).\u001b[39;00m\n\u001b[0;32m    685\u001b[0m \u001b[38;5;124;03m\"\"\"\u001b[39;00m\n\u001b[0;32m    686\u001b[0m _lazy_init()\n\u001b[1;32m--> 687\u001b[0m \u001b[38;5;28;01mwith\u001b[39;00m torch\u001b[38;5;241m.\u001b[39mcuda\u001b[38;5;241m.\u001b[39mdevice(device):\n\u001b[0;32m    688\u001b[0m     \u001b[38;5;28;01mreturn\u001b[39;00m torch\u001b[38;5;241m.\u001b[39m_C\u001b[38;5;241m.\u001b[39m_cuda_synchronize()\n",
      "File \u001b[1;32m~\\AppData\\Local\\Programs\\Python\\Python310\\lib\\site-packages\\torch\\cuda\\__init__.py:318\u001b[0m, in \u001b[0;36mdevice.__exit__\u001b[1;34m(self, type, value, traceback)\u001b[0m\n\u001b[0;32m    315\u001b[0m \u001b[38;5;28;01mdef\u001b[39;00m \u001b[38;5;21m__enter__\u001b[39m(\u001b[38;5;28mself\u001b[39m):\n\u001b[0;32m    316\u001b[0m     \u001b[38;5;28mself\u001b[39m\u001b[38;5;241m.\u001b[39mprev_idx \u001b[38;5;241m=\u001b[39m torch\u001b[38;5;241m.\u001b[39mcuda\u001b[38;5;241m.\u001b[39m_exchange_device(\u001b[38;5;28mself\u001b[39m\u001b[38;5;241m.\u001b[39midx)\n\u001b[1;32m--> 318\u001b[0m \u001b[38;5;28;01mdef\u001b[39;00m \u001b[38;5;21m__exit__\u001b[39m(\u001b[38;5;28mself\u001b[39m, \u001b[38;5;28mtype\u001b[39m: Any, value: Any, traceback: Any):\n\u001b[0;32m    319\u001b[0m     torch\u001b[38;5;241m.\u001b[39mcuda\u001b[38;5;241m.\u001b[39m_exchange_device(\u001b[38;5;28mself\u001b[39m\u001b[38;5;241m.\u001b[39mprev_idx)\n\u001b[0;32m    320\u001b[0m     \u001b[38;5;28;01mreturn\u001b[39;00m \u001b[38;5;28;01mFalse\u001b[39;00m\n",
      "\u001b[1;31mKeyboardInterrupt\u001b[0m: "
     ]
    }
   ],
   "source": [
    "from ultralytics import YOLO\n",
    "import cv2\n",
    "import os\n",
    "import datetime\n",
    "\n",
    "model = YOLO(r'C:\\Users\\HP\\Desktop\\bestd.pt')\n",
    "source = r'C:\\Users\\HP\\Desktop\\Migrant boat capsize off Libyan coast caught on camera.mp4'\n",
    "cap = cv2.VideoCapture(source)\n",
    "path = r'C:\\Users\\HP\\runs\\detect\\predict3'\n",
    "frame_no = 0\n",
    "video_name = source.split(\"\\\\\")[-1]\n",
    "if not os.path.exists(os.path.join(path, video_name)):\n",
    "    os.mkdir(os.path.join(path, video_name))\n",
    "\n",
    "# Set the desired downsampling rate (e.g., process every 5th frame)\n",
    "downsampling_rate =1 # cap.get(cv2.CAP_PROP_FPS)\n",
    "frame_counter = 0\n",
    "\n",
    "# Get the video's frames per second (fps)\n",
    "fps = cap.get(cv2.CAP_PROP_FPS)\n",
    "fps_multiplier = 1.0 / 1.0 #fps\n",
    "\n",
    "while cap.isOpened():\n",
    "    ret, curr_frame = cap.read()\n",
    "    if not ret:\n",
    "        break\n",
    "\n",
    "    # Only process the frame if it is within the downsampling rate\n",
    "    if frame_counter % downsampling_rate == 0:\n",
    "        result = model(curr_frame)\n",
    "        for res in result:\n",
    "            boxes = res.boxes.cpu().numpy()\n",
    "            for i, box in enumerate(boxes):\n",
    "                if box.conf[0]:\n",
    "                    res_plotted = res[0].plot(conf=False)\n",
    "                    current_frame_timestamp = cap.get(cv2.CAP_PROP_POS_MSEC) * fps_multiplier / 1000\n",
    "                    timedelta_obj = str(datetime.timedelta(seconds=(current_frame_timestamp)))\n",
    "                    x = timedelta_obj.split(':')\n",
    "                    hh, mm, ss = x[0], x[1], x[2]\n",
    "                    filename = f\"Timestamp - {hh} Hours, {mm} Minutes, {ss} Seconds.jpg\"\n",
    "                    filename = os.path.join(path, video_name, filename)\n",
    "                    cv2.imwrite(filename, res_plotted)\n",
    "                    print(\"Saved frame:\", filename)\n",
    "\n",
    "    # Increment the frame counter\n",
    "    frame_counter += 1\n",
    "\n",
    "cap.release()"
   ]
  },
  {
   "cell_type": "code",
   "execution_count": null,
   "id": "e6750f3c",
   "metadata": {},
   "outputs": [],
   "source": []
  }
 ],
 "metadata": {
  "environment": {
   "kernel": "python3",
   "name": "tf2-gpu.2-11.m109",
   "type": "gcloud",
   "uri": "gcr.io/deeplearning-platform-release/tf2-gpu.2-11:m109"
  },
  "kernelspec": {
   "display_name": "Python 3",
   "language": "python",
   "name": "python3"
  },
  "language_info": {
   "codemirror_mode": {
    "name": "ipython",
    "version": 3
   },
   "file_extension": ".py",
   "mimetype": "text/x-python",
   "name": "python",
   "nbconvert_exporter": "python",
   "pygments_lexer": "ipython3",
   "version": "3.10.0"
  }
 },
 "nbformat": 4,
 "nbformat_minor": 5
}
